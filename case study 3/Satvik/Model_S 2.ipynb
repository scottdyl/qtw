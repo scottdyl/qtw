{
 "cells": [
  {
   "cell_type": "code",
   "execution_count": 1,
   "metadata": {},
   "outputs": [],
   "source": [
    "import numpy as np\n",
    "import pandas as pd\n",
    "import email\n",
    "from html.parser import HTMLParser\n",
    "from bs4 import BeautifulSoup\n",
    "import nltk\n",
    "from nltk.corpus import stopwords\n",
    "from nltk.tokenize import word_tokenize\n",
    "from sklearn.model_selection import train_test_split\n",
    "from sklearn.feature_extraction.text import CountVectorizer\n",
    "from sklearn.naive_bayes import MultinomialNB\n",
    "from sklearn.metrics import accuracy_score\n",
    "from sklearn.metrics import classification_report\n",
    "from email.parser import BytesParser\n",
    "from email.policy import default\n",
    "import csv\n",
    "import os\n",
    "import pathlib\n",
    "import pprint\n",
    "from os.path import dirname, abspath\n"
   ]
  },
  {
   "cell_type": "code",
   "execution_count": 2,
   "metadata": {},
   "outputs": [],
   "source": [
    "# d = dirname(dirname(abspath('__file__')))"
   ]
  },
  {
   "cell_type": "code",
   "execution_count": 3,
   "metadata": {},
   "outputs": [],
   "source": [
    "#location = f\"{d}/case study 3/\""
   ]
  },
  {
   "cell_type": "code",
   "execution_count": 4,
   "metadata": {},
   "outputs": [],
   "source": [
    "# emails = {\"index\":[]}\n",
    "# for path, subdirectories, filelist in os.walk(os.path.join(d,\"SpamAssassinMessages\")):\n",
    "#     for f in filelist:\n",
    "        \n",
    "#         label = 0 if \"ham\" in path.lower() else 1\n",
    "#         with open(os.path.join(path, f), \"rb\") as fp:\n",
    "#             msg = BytesParser(policy=default).parse(fp)\n",
    "#             with open(os.path.join(path, f), \"r\",encoding= 'utf-8', errors='ignore') as new_f:\n",
    "#                 msg = email.message_from_file(new_f)\n",
    "#                 for part in msg.walk():\n",
    "#                     if part.get_content_type() == 'text/plain':\n",
    "#                         body = part.get_payload()  # decode\n",
    "#                 emails[\"index\"].append({\n",
    "#                     \"Subject\": msg.get(\"Subject\"),\n",
    "#                     \"From\": msg.get(\"from\"),\n",
    "#                     \"Body\": body,\n",
    "#                     \"isSpam\": label,\n",
    "#                     \"FileID\": f\n",
    "#                 })\n",
    "\n",
    "# df = pd.DataFrame.from_dict(emails[\"index\"])"
   ]
  },
  {
   "cell_type": "code",
   "execution_count": 5,
   "metadata": {},
   "outputs": [],
   "source": [
    "# df.to_csv(\"spam_train.csv\", index=False)"
   ]
  },
  {
   "cell_type": "code",
   "execution_count": 6,
   "metadata": {
    "scrolled": true
   },
   "outputs": [],
   "source": [
    "df = pd.read_csv(\"spam_train.csv\")"
   ]
  },
  {
   "cell_type": "code",
   "execution_count": 7,
   "metadata": {
    "scrolled": false
   },
   "outputs": [
    {
     "data": {
      "text/plain": [
       "0    6954\n",
       "1    2400\n",
       "Name: isSpam, dtype: int64"
      ]
     },
     "execution_count": 7,
     "metadata": {},
     "output_type": "execute_result"
    }
   ],
   "source": [
    "df[\"isSpam\"].value_counts()"
   ]
  },
  {
   "cell_type": "code",
   "execution_count": 8,
   "metadata": {
    "scrolled": true
   },
   "outputs": [
    {
     "data": {
      "text/plain": [
       "Subject    26\n",
       "From        7\n",
       "Body        8\n",
       "isSpam      0\n",
       "FileID      0\n",
       "dtype: int64"
      ]
     },
     "execution_count": 8,
     "metadata": {},
     "output_type": "execute_result"
    }
   ],
   "source": [
    "df.isnull().sum()"
   ]
  },
  {
   "cell_type": "code",
   "execution_count": 9,
   "metadata": {},
   "outputs": [],
   "source": [
    "df = df.dropna()"
   ]
  },
  {
   "cell_type": "code",
   "execution_count": 10,
   "metadata": {},
   "outputs": [],
   "source": [
    "df.reset_index(inplace=True, drop=True)"
   ]
  },
  {
   "cell_type": "code",
   "execution_count": 11,
   "metadata": {},
   "outputs": [
    {
     "data": {
      "text/html": [
       "<div>\n",
       "<style scoped>\n",
       "    .dataframe tbody tr th:only-of-type {\n",
       "        vertical-align: middle;\n",
       "    }\n",
       "\n",
       "    .dataframe tbody tr th {\n",
       "        vertical-align: top;\n",
       "    }\n",
       "\n",
       "    .dataframe thead th {\n",
       "        text-align: right;\n",
       "    }\n",
       "</style>\n",
       "<table border=\"1\" class=\"dataframe\">\n",
       "  <thead>\n",
       "    <tr style=\"text-align: right;\">\n",
       "      <th></th>\n",
       "      <th>Subject</th>\n",
       "      <th>From</th>\n",
       "      <th>Body</th>\n",
       "      <th>isSpam</th>\n",
       "      <th>FileID</th>\n",
       "    </tr>\n",
       "  </thead>\n",
       "  <tbody>\n",
       "    <tr>\n",
       "      <th>0</th>\n",
       "      <td>Let us find the right mortgage lender for you ...</td>\n",
       "      <td>pamela4701@eudoramail.com</td>\n",
       "      <td>Dear Homeowner,\\n \\nInterest Rates are at thei...</td>\n",
       "      <td>1</td>\n",
       "      <td>00249.5f45607c1bffe89f60ba1ec9f878039a</td>\n",
       "    </tr>\n",
       "    <tr>\n",
       "      <th>1</th>\n",
       "      <td>Friend, Copy ANY DVD or Playstation Game with ...</td>\n",
       "      <td>CopyYourDVD &lt;atomica2020@hotmail.com&gt;</td>\n",
       "      <td>Friend,Now you can copy DVD's and Games\\nhttp:...</td>\n",
       "      <td>1</td>\n",
       "      <td>0355.94ebf637e4bd3db8a81c8ce68ecf681d</td>\n",
       "    </tr>\n",
       "    <tr>\n",
       "      <th>2</th>\n",
       "      <td>5% Guaranteed for Eight Years</td>\n",
       "      <td>\"IQ - Safe Harbor\" &lt;sh@insiq.us&gt;</td>\n",
       "      <td>Pocket the newest 8 year annuity!\\t Pocket th...</td>\n",
       "      <td>1</td>\n",
       "      <td>0395.bb934e8b4c39d5eab38f828a26f760b4</td>\n",
       "    </tr>\n",
       "  </tbody>\n",
       "</table>\n",
       "</div>"
      ],
      "text/plain": [
       "                                             Subject  \\\n",
       "0  Let us find the right mortgage lender for you ...   \n",
       "1  Friend, Copy ANY DVD or Playstation Game with ...   \n",
       "2                      5% Guaranteed for Eight Years   \n",
       "\n",
       "                                    From  \\\n",
       "0              pamela4701@eudoramail.com   \n",
       "1  CopyYourDVD <atomica2020@hotmail.com>   \n",
       "2       \"IQ - Safe Harbor\" <sh@insiq.us>   \n",
       "\n",
       "                                                Body  isSpam  \\\n",
       "0  Dear Homeowner,\\n \\nInterest Rates are at thei...       1   \n",
       "1  Friend,Now you can copy DVD's and Games\\nhttp:...       1   \n",
       "2   Pocket the newest 8 year annuity!\\t Pocket th...       1   \n",
       "\n",
       "                                   FileID  \n",
       "0  00249.5f45607c1bffe89f60ba1ec9f878039a  \n",
       "1   0355.94ebf637e4bd3db8a81c8ce68ecf681d  \n",
       "2   0395.bb934e8b4c39d5eab38f828a26f760b4  "
      ]
     },
     "execution_count": 11,
     "metadata": {},
     "output_type": "execute_result"
    }
   ],
   "source": [
    "df.head(3)"
   ]
  },
  {
   "cell_type": "code",
   "execution_count": 12,
   "metadata": {
    "scrolled": true
   },
   "outputs": [
    {
     "data": {
      "text/plain": [
       "0    6941\n",
       "1    2379\n",
       "Name: isSpam, dtype: int64"
      ]
     },
     "execution_count": 12,
     "metadata": {},
     "output_type": "execute_result"
    }
   ],
   "source": [
    "df[\"isSpam\"].value_counts()"
   ]
  },
  {
   "cell_type": "markdown",
   "metadata": {},
   "source": [
    "Build a spam classifier using naive Bayes and clustering. You will have to create your own dataset from the input messages. Be sure to document how you created your dataset."
   ]
  },
  {
   "cell_type": "code",
   "execution_count": 13,
   "metadata": {},
   "outputs": [],
   "source": [
    "#remove new lines and such\n",
    "df = df.replace(r'\\n',' ', regex=True)\n",
    "df = df.replace(r'\\t',' ', regex=True)\n",
    "df = df.replace(r'b\\'',' ', regex=True)\n",
    "df = df.replace(r'b\\\"',' ', regex=True)\n"
   ]
  },
  {
   "cell_type": "code",
   "execution_count": 14,
   "metadata": {},
   "outputs": [
    {
     "data": {
      "text/html": [
       "<div>\n",
       "<style scoped>\n",
       "    .dataframe tbody tr th:only-of-type {\n",
       "        vertical-align: middle;\n",
       "    }\n",
       "\n",
       "    .dataframe tbody tr th {\n",
       "        vertical-align: top;\n",
       "    }\n",
       "\n",
       "    .dataframe thead th {\n",
       "        text-align: right;\n",
       "    }\n",
       "</style>\n",
       "<table border=\"1\" class=\"dataframe\">\n",
       "  <thead>\n",
       "    <tr style=\"text-align: right;\">\n",
       "      <th></th>\n",
       "      <th>Subject</th>\n",
       "      <th>From</th>\n",
       "      <th>Body</th>\n",
       "      <th>isSpam</th>\n",
       "      <th>FileID</th>\n",
       "    </tr>\n",
       "  </thead>\n",
       "  <tbody>\n",
       "    <tr>\n",
       "      <th>0</th>\n",
       "      <td>Let us find the right mortgage lender for you ...</td>\n",
       "      <td>pamela4701@eudoramail.com</td>\n",
       "      <td>Dear Homeowner,   Interest Rates are at their ...</td>\n",
       "      <td>1</td>\n",
       "      <td>00249.5f45607c1bffe89f60ba1ec9f878039a</td>\n",
       "    </tr>\n",
       "    <tr>\n",
       "      <th>1</th>\n",
       "      <td>Friend, Copy ANY DVD or Playstation Game with ...</td>\n",
       "      <td>CopyYourDVD &lt;atomica2020@hotmail.com&gt;</td>\n",
       "      <td>Friend,Now you can copy DVD's and Games http:/...</td>\n",
       "      <td>1</td>\n",
       "      <td>0355.94ebf637e4bd3db8a81c8ce68ecf681d</td>\n",
       "    </tr>\n",
       "  </tbody>\n",
       "</table>\n",
       "</div>"
      ],
      "text/plain": [
       "                                             Subject  \\\n",
       "0  Let us find the right mortgage lender for you ...   \n",
       "1  Friend, Copy ANY DVD or Playstation Game with ...   \n",
       "\n",
       "                                    From  \\\n",
       "0              pamela4701@eudoramail.com   \n",
       "1  CopyYourDVD <atomica2020@hotmail.com>   \n",
       "\n",
       "                                                Body  isSpam  \\\n",
       "0  Dear Homeowner,   Interest Rates are at their ...       1   \n",
       "1  Friend,Now you can copy DVD's and Games http:/...       1   \n",
       "\n",
       "                                   FileID  \n",
       "0  00249.5f45607c1bffe89f60ba1ec9f878039a  \n",
       "1   0355.94ebf637e4bd3db8a81c8ce68ecf681d  "
      ]
     },
     "execution_count": 14,
     "metadata": {},
     "output_type": "execute_result"
    }
   ],
   "source": [
    "df.head(2)"
   ]
  },
  {
   "cell_type": "code",
   "execution_count": 15,
   "metadata": {},
   "outputs": [],
   "source": [
    "pd.set_option('display.max_colwidth', None)"
   ]
  },
  {
   "cell_type": "code",
   "execution_count": 16,
   "metadata": {},
   "outputs": [],
   "source": [
    "df = df.replace(r'<',' ', regex=True)\n",
    "df = df.replace(r'>',' ', regex=True)"
   ]
  },
  {
   "cell_type": "code",
   "execution_count": 17,
   "metadata": {},
   "outputs": [],
   "source": [
    "df[\"Body\"] = df['Body'].str.lower()"
   ]
  },
  {
   "cell_type": "code",
   "execution_count": 18,
   "metadata": {},
   "outputs": [],
   "source": [
    "df[\"Subject\"] = df['Subject'].str.lower()"
   ]
  },
  {
   "cell_type": "code",
   "execution_count": 19,
   "metadata": {},
   "outputs": [],
   "source": [
    "df[\"From\"] = df['From'].str.lower()"
   ]
  },
  {
   "cell_type": "code",
   "execution_count": 20,
   "metadata": {},
   "outputs": [],
   "source": [
    "X = df.drop([\"isSpam\",\"FileID\"], axis=1).copy()"
   ]
  },
  {
   "cell_type": "code",
   "execution_count": 21,
   "metadata": {
    "scrolled": true
   },
   "outputs": [
    {
     "data": {
      "text/html": [
       "<div>\n",
       "<style scoped>\n",
       "    .dataframe tbody tr th:only-of-type {\n",
       "        vertical-align: middle;\n",
       "    }\n",
       "\n",
       "    .dataframe tbody tr th {\n",
       "        vertical-align: top;\n",
       "    }\n",
       "\n",
       "    .dataframe thead th {\n",
       "        text-align: right;\n",
       "    }\n",
       "</style>\n",
       "<table border=\"1\" class=\"dataframe\">\n",
       "  <thead>\n",
       "    <tr style=\"text-align: right;\">\n",
       "      <th></th>\n",
       "      <th>Subject</th>\n",
       "      <th>From</th>\n",
       "      <th>Body</th>\n",
       "    </tr>\n",
       "  </thead>\n",
       "  <tbody>\n",
       "    <tr>\n",
       "      <th>0</th>\n",
       "      <td>let us find the right mortgage lender for you      afpe</td>\n",
       "      <td>pamela4701@eudoramail.com</td>\n",
       "      <td>dear homeowner,   interest rates are at their lowest point in 40 years!  we help you find the best rate for your situation by matching your needs with hundreds of lenders!  home improvement, refinance, second mortgage, home equity loans, and more! even with less than perfect credit!  this service is 100% free to home owners and new home buyers without any obligation.   just fill out a quick, simple form and jump-start your future plans today!   visit http://61.145.116.186/user0201/index.asp?afft=qm10       to unsubscribe, please visit:  http://61.145.116.186/light/watch.asp</td>\n",
       "    </tr>\n",
       "    <tr>\n",
       "      <th>1</th>\n",
       "      <td>friend, copy any dvd or playstation game with this software......</td>\n",
       "      <td>copyyourdvd  atomica2020@hotmail.com</td>\n",
       "      <td>friend,now you can copy dvd's and games http://www.terra.es/personal9/iop1008/  backup dvd video's with your cd-r burner  with 321 studio's software, you can now copy any dvd and playstation game.  never buy another  backup dvd movie again.  just copy it!  this is the first time this software is being made available to the public. all the software you need  to burn your own dvd video, is included in 321 studio's  software package dvd copy plus!  the movies will play  in a standard dvd player. with detailed, easy to follow,  step-by-step instructions, you can burn your own dvd  video using nothing more than your dvd-rom  and cd-r drives. purchase a copy! click below.  http://www.terra.es/personal9/iop1008/  order today and receive!  *step by step interactive instructions *all software tools included on cd *no dvd burner required *free live technical support *30 day risk free trial available  with dvd copy plus you can backup your dvd movies with  the same 74min or 80min cd-r's you've used in the past  to create audio cd's. our software compresses the large  dvd files on your standard dvd to vcd, svcd, and divx  much the same way the popular mp3 format compresses audio.   order today and start burning http://www.terra.es/personal9/iop1008/  thank you,  copymydvd   http://inglesa.net/unsub.php?client=atomicdot    we take your privacy very seriously and it is our policy never to send unwanted email messages. this message has been sent to zzzz@example.com because you originally joined one of our member sites or you signed up with a party that has contracted with atomicdot. please http://tilw.net/unsub.php?client=atomicdot&amp;msgid=17090200005 to unsubscribe (replying to this email will not unsubscribe you).       trck:atomicdot;mp*qhwqrwhlqf!frp;8;</td>\n",
       "    </tr>\n",
       "    <tr>\n",
       "      <th>2</th>\n",
       "      <td>5% guaranteed for eight years</td>\n",
       "      <td>\"iq - safe harbor\"  sh@insiq.us</td>\n",
       "      <td>pocket the newest 8 year annuity!  pocket the newest 8 year annuity!     ...from safe harbor financial    5% guaranteed for 8 years (effective yield)     8 year surrender period     please fax back contracts with a copy of your insurance license to 215-564-0155. click here to contract  http://iiq.us/images/sh/0903/sh_mony_app.pdf       issued to age 90     a rated company     alternative 10 year guaranteed plan    call today for more information!   - or -  please fill out the form below for more information   name:       address:     city:        state:       zip:    phone:        fax:    e-mail:                  we don't want anyone to receive our mailings who does not wish to receive them. this is a professional communication sent to insurance professionals. to be removed from this mailing list, do not reply to this message. instead, go here: http://www.insuranceiq.com/optout  http://www.insuranceiq.com/optout/    legal notice  http://www.insiq.com/legal.htm</td>\n",
       "    </tr>\n",
       "    <tr>\n",
       "      <th>3</th>\n",
       "      <td>congratulations! you get a free handheld organizer!</td>\n",
       "      <td>customer service  greatoffers@sendgreatoffers.com</td>\n",
       "      <td>pocket the newest 8 year annuity!  pocket the newest 8 year annuity!     ...from safe harbor financial    5% guaranteed for 8 years (effective yield)     8 year surrender period     please fax back contracts with a copy of your insurance license to 215-564-0155. click here to contract  http://iiq.us/images/sh/0903/sh_mony_app.pdf       issued to age 90     a rated company     alternative 10 year guaranteed plan    call today for more information!   - or -  please fill out the form below for more information   name:       address:     city:        state:       zip:    phone:        fax:    e-mail:                  we don't want anyone to receive our mailings who does not wish to receive them. this is a professional communication sent to insurance professionals. to be removed from this mailing list, do not reply to this message. instead, go here: http://www.insuranceiq.com/optout  http://www.insuranceiq.com/optout/    legal notice  http://www.insiq.com/legal.htm</td>\n",
       "    </tr>\n",
       "    <tr>\n",
       "      <th>4</th>\n",
       "      <td>protect your information and your computer</td>\n",
       "      <td>\"don\"  apf@wu-wien.ac.at</td>\n",
       "      <td>attention: this is a must for all computer users!!!  *new-special package deal!*  norton systemworks 2002 software suite -professional edition-  includes six - yes 6! - feature-packed utilities all for 1 special low price!  this software will: - protect your computer from unwanted and hazardous viruses - help secure your private &amp; valuable information - allow you to transfer files and send e-mails safely - backup your all your data quick and easily - improve your pc's performance w/superior integral diagnostics!  6 feature-packed utilities...1 great price! a $300+ combined retail value!  yours for only $29.99!   includes free shipping!   don't fall prey to destructive viruses or hackers! protect  your computer and your valuable information!   so don't delay...get your copy today!   http://euro.specialdiscounts4u.com/ ++++++++++++++++++++++++++++++++++++++++++++++++++++++++++++++++++++++++++++ this email has been screened and filtered by our in house \"\"opt-out\"\" system in  compliance with state laws. if you wish to \"opt-out\" from this mailing as well  as the lists of thousands  of other email providers please visit    http://dvd.specialdiscounts4u.com/optoutd.html ++++++++++++++++++++++++++++++++++++++++++++++++++++++++++++++++++++++++++++</td>\n",
       "    </tr>\n",
       "  </tbody>\n",
       "</table>\n",
       "</div>"
      ],
      "text/plain": [
       "                                                             Subject  \\\n",
       "0            let us find the right mortgage lender for you      afpe   \n",
       "1  friend, copy any dvd or playstation game with this software......   \n",
       "2                                      5% guaranteed for eight years   \n",
       "3                congratulations! you get a free handheld organizer!   \n",
       "4                         protect your information and your computer   \n",
       "\n",
       "                                                 From  \\\n",
       "0                           pamela4701@eudoramail.com   \n",
       "1               copyyourdvd  atomica2020@hotmail.com    \n",
       "2                    \"iq - safe harbor\"  sh@insiq.us    \n",
       "3  customer service  greatoffers@sendgreatoffers.com    \n",
       "4                           \"don\"  apf@wu-wien.ac.at    \n",
       "\n",
       "                                                                                                                                                                                                                                                                                                                                                                                                                                                                                                                                                                                                                                                                                                                                                                                                                                                                                                                                                                                                                                                                                                                                                                                                                                                                                                                                                                                                                                                                                                                                                                                                                                                                                                                                                                                                                                            Body  \n",
       "0                                                                                                                                                                                                                                                                                                                                                                                                                                                                                                                                                                                                                                                                                                                                                                                                                                                                                                                                                                                                                                                                                                                                                                                                                                        dear homeowner,   interest rates are at their lowest point in 40 years!  we help you find the best rate for your situation by matching your needs with hundreds of lenders!  home improvement, refinance, second mortgage, home equity loans, and more! even with less than perfect credit!  this service is 100% free to home owners and new home buyers without any obligation.   just fill out a quick, simple form and jump-start your future plans today!   visit http://61.145.116.186/user0201/index.asp?afft=qm10       to unsubscribe, please visit:  http://61.145.116.186/light/watch.asp     \n",
       "1  friend,now you can copy dvd's and games http://www.terra.es/personal9/iop1008/  backup dvd video's with your cd-r burner  with 321 studio's software, you can now copy any dvd and playstation game.  never buy another  backup dvd movie again.  just copy it!  this is the first time this software is being made available to the public. all the software you need  to burn your own dvd video, is included in 321 studio's  software package dvd copy plus!  the movies will play  in a standard dvd player. with detailed, easy to follow,  step-by-step instructions, you can burn your own dvd  video using nothing more than your dvd-rom  and cd-r drives. purchase a copy! click below.  http://www.terra.es/personal9/iop1008/  order today and receive!  *step by step interactive instructions *all software tools included on cd *no dvd burner required *free live technical support *30 day risk free trial available  with dvd copy plus you can backup your dvd movies with  the same 74min or 80min cd-r's you've used in the past  to create audio cd's. our software compresses the large  dvd files on your standard dvd to vcd, svcd, and divx  much the same way the popular mp3 format compresses audio.   order today and start burning http://www.terra.es/personal9/iop1008/  thank you,  copymydvd   http://inglesa.net/unsub.php?client=atomicdot    we take your privacy very seriously and it is our policy never to send unwanted email messages. this message has been sent to zzzz@example.com because you originally joined one of our member sites or you signed up with a party that has contracted with atomicdot. please http://tilw.net/unsub.php?client=atomicdot&msgid=17090200005 to unsubscribe (replying to this email will not unsubscribe you).       trck:atomicdot;mp*qhwqrwhlqf!frp;8;     \n",
       "2                                                                                                                                                                                                                                                                                                                                                                                                                                                                                                                                                                                                                                                                                                                                                                                                                              pocket the newest 8 year annuity!  pocket the newest 8 year annuity!     ...from safe harbor financial    5% guaranteed for 8 years (effective yield)     8 year surrender period     please fax back contracts with a copy of your insurance license to 215-564-0155. click here to contract  http://iiq.us/images/sh/0903/sh_mony_app.pdf       issued to age 90     a rated company     alternative 10 year guaranteed plan    call today for more information!   - or -  please fill out the form below for more information   name:       address:     city:        state:       zip:    phone:        fax:    e-mail:                  we don't want anyone to receive our mailings who does not wish to receive them. this is a professional communication sent to insurance professionals. to be removed from this mailing list, do not reply to this message. instead, go here: http://www.insuranceiq.com/optout  http://www.insuranceiq.com/optout/    legal notice  http://www.insiq.com/legal.htm     \n",
       "3                                                                                                                                                                                                                                                                                                                                                                                                                                                                                                                                                                                                                                                                                                                                                                                                                              pocket the newest 8 year annuity!  pocket the newest 8 year annuity!     ...from safe harbor financial    5% guaranteed for 8 years (effective yield)     8 year surrender period     please fax back contracts with a copy of your insurance license to 215-564-0155. click here to contract  http://iiq.us/images/sh/0903/sh_mony_app.pdf       issued to age 90     a rated company     alternative 10 year guaranteed plan    call today for more information!   - or -  please fill out the form below for more information   name:       address:     city:        state:       zip:    phone:        fax:    e-mail:                  we don't want anyone to receive our mailings who does not wish to receive them. this is a professional communication sent to insurance professionals. to be removed from this mailing list, do not reply to this message. instead, go here: http://www.insuranceiq.com/optout  http://www.insuranceiq.com/optout/    legal notice  http://www.insiq.com/legal.htm     \n",
       "4                                                                                                                                                                                                                                                                                                                                                                                                                                                                                                                                  attention: this is a must for all computer users!!!  *new-special package deal!*  norton systemworks 2002 software suite -professional edition-  includes six - yes 6! - feature-packed utilities all for 1 special low price!  this software will: - protect your computer from unwanted and hazardous viruses - help secure your private & valuable information - allow you to transfer files and send e-mails safely - backup your all your data quick and easily - improve your pc's performance w/superior integral diagnostics!  6 feature-packed utilities...1 great price! a $300+ combined retail value!  yours for only $29.99!   includes free shipping!   don't fall prey to destructive viruses or hackers! protect  your computer and your valuable information!   so don't delay...get your copy today!   http://euro.specialdiscounts4u.com/ ++++++++++++++++++++++++++++++++++++++++++++++++++++++++++++++++++++++++++++ this email has been screened and filtered by our in house \"\"opt-out\"\" system in  compliance with state laws. if you wish to \"opt-out\" from this mailing as well  as the lists of thousands  of other email providers please visit    http://dvd.specialdiscounts4u.com/optoutd.html ++++++++++++++++++++++++++++++++++++++++++++++++++++++++++++++++++++++++++++     "
      ]
     },
     "execution_count": 21,
     "metadata": {},
     "output_type": "execute_result"
    }
   ],
   "source": [
    "X.head()"
   ]
  },
  {
   "cell_type": "code",
   "execution_count": 22,
   "metadata": {},
   "outputs": [],
   "source": [
    "X[\"Email\"] = X[\"Subject\"] +\" \"+ X[\"From\"] +\" \"+ X[\"Body\"]"
   ]
  },
  {
   "cell_type": "code",
   "execution_count": 23,
   "metadata": {},
   "outputs": [
    {
     "data": {
      "text/html": [
       "<div>\n",
       "<style scoped>\n",
       "    .dataframe tbody tr th:only-of-type {\n",
       "        vertical-align: middle;\n",
       "    }\n",
       "\n",
       "    .dataframe tbody tr th {\n",
       "        vertical-align: top;\n",
       "    }\n",
       "\n",
       "    .dataframe thead th {\n",
       "        text-align: right;\n",
       "    }\n",
       "</style>\n",
       "<table border=\"1\" class=\"dataframe\">\n",
       "  <thead>\n",
       "    <tr style=\"text-align: right;\">\n",
       "      <th></th>\n",
       "      <th>Subject</th>\n",
       "      <th>From</th>\n",
       "      <th>Body</th>\n",
       "      <th>Email</th>\n",
       "    </tr>\n",
       "  </thead>\n",
       "  <tbody>\n",
       "    <tr>\n",
       "      <th>0</th>\n",
       "      <td>let us find the right mortgage lender for you      afpe</td>\n",
       "      <td>pamela4701@eudoramail.com</td>\n",
       "      <td>dear homeowner,   interest rates are at their lowest point in 40 years!  we help you find the best rate for your situation by matching your needs with hundreds of lenders!  home improvement, refinance, second mortgage, home equity loans, and more! even with less than perfect credit!  this service is 100% free to home owners and new home buyers without any obligation.   just fill out a quick, simple form and jump-start your future plans today!   visit http://61.145.116.186/user0201/index.asp?afft=qm10       to unsubscribe, please visit:  http://61.145.116.186/light/watch.asp</td>\n",
       "      <td>let us find the right mortgage lender for you      afpe pamela4701@eudoramail.com dear homeowner,   interest rates are at their lowest point in 40 years!  we help you find the best rate for your situation by matching your needs with hundreds of lenders!  home improvement, refinance, second mortgage, home equity loans, and more! even with less than perfect credit!  this service is 100% free to home owners and new home buyers without any obligation.   just fill out a quick, simple form and jump-start your future plans today!   visit http://61.145.116.186/user0201/index.asp?afft=qm10       to unsubscribe, please visit:  http://61.145.116.186/light/watch.asp</td>\n",
       "    </tr>\n",
       "    <tr>\n",
       "      <th>1</th>\n",
       "      <td>friend, copy any dvd or playstation game with this software......</td>\n",
       "      <td>copyyourdvd  atomica2020@hotmail.com</td>\n",
       "      <td>friend,now you can copy dvd's and games http://www.terra.es/personal9/iop1008/  backup dvd video's with your cd-r burner  with 321 studio's software, you can now copy any dvd and playstation game.  never buy another  backup dvd movie again.  just copy it!  this is the first time this software is being made available to the public. all the software you need  to burn your own dvd video, is included in 321 studio's  software package dvd copy plus!  the movies will play  in a standard dvd player. with detailed, easy to follow,  step-by-step instructions, you can burn your own dvd  video using nothing more than your dvd-rom  and cd-r drives. purchase a copy! click below.  http://www.terra.es/personal9/iop1008/  order today and receive!  *step by step interactive instructions *all software tools included on cd *no dvd burner required *free live technical support *30 day risk free trial available  with dvd copy plus you can backup your dvd movies with  the same 74min or 80min cd-r's you've used in the past  to create audio cd's. our software compresses the large  dvd files on your standard dvd to vcd, svcd, and divx  much the same way the popular mp3 format compresses audio.   order today and start burning http://www.terra.es/personal9/iop1008/  thank you,  copymydvd   http://inglesa.net/unsub.php?client=atomicdot    we take your privacy very seriously and it is our policy never to send unwanted email messages. this message has been sent to zzzz@example.com because you originally joined one of our member sites or you signed up with a party that has contracted with atomicdot. please http://tilw.net/unsub.php?client=atomicdot&amp;msgid=17090200005 to unsubscribe (replying to this email will not unsubscribe you).       trck:atomicdot;mp*qhwqrwhlqf!frp;8;</td>\n",
       "      <td>friend, copy any dvd or playstation game with this software...... copyyourdvd  atomica2020@hotmail.com  friend,now you can copy dvd's and games http://www.terra.es/personal9/iop1008/  backup dvd video's with your cd-r burner  with 321 studio's software, you can now copy any dvd and playstation game.  never buy another  backup dvd movie again.  just copy it!  this is the first time this software is being made available to the public. all the software you need  to burn your own dvd video, is included in 321 studio's  software package dvd copy plus!  the movies will play  in a standard dvd player. with detailed, easy to follow,  step-by-step instructions, you can burn your own dvd  video using nothing more than your dvd-rom  and cd-r drives. purchase a copy! click below.  http://www.terra.es/personal9/iop1008/  order today and receive!  *step by step interactive instructions *all software tools included on cd *no dvd burner required *free live technical support *30 day risk free trial available  with dvd copy plus you can backup your dvd movies with  the same 74min or 80min cd-r's you've used in the past  to create audio cd's. our software compresses the large  dvd files on your standard dvd to vcd, svcd, and divx  much the same way the popular mp3 format compresses audio.   order today and start burning http://www.terra.es/personal9/iop1008/  thank you,  copymydvd   http://inglesa.net/unsub.php?client=atomicdot    we take your privacy very seriously and it is our policy never to send unwanted email messages. this message has been sent to zzzz@example.com because you originally joined one of our member sites or you signed up with a party that has contracted with atomicdot. please http://tilw.net/unsub.php?client=atomicdot&amp;msgid=17090200005 to unsubscribe (replying to this email will not unsubscribe you).       trck:atomicdot;mp*qhwqrwhlqf!frp;8;</td>\n",
       "    </tr>\n",
       "  </tbody>\n",
       "</table>\n",
       "</div>"
      ],
      "text/plain": [
       "                                                             Subject  \\\n",
       "0            let us find the right mortgage lender for you      afpe   \n",
       "1  friend, copy any dvd or playstation game with this software......   \n",
       "\n",
       "                                    From  \\\n",
       "0              pamela4701@eudoramail.com   \n",
       "1  copyyourdvd  atomica2020@hotmail.com    \n",
       "\n",
       "                                                                                                                                                                                                                                                                                                                                                                                                                                                                                                                                                                                                                                                                                                                                                                                                                                                                                                                                                                                                                                                                                                                                                                                                                                                                                                                                                                                                                                                                                                                                                                                                                                                                                                                                                                                                                                            Body  \\\n",
       "0                                                                                                                                                                                                                                                                                                                                                                                                                                                                                                                                                                                                                                                                                                                                                                                                                                                                                                                                                                                                                                                                                                                                                                                                                                        dear homeowner,   interest rates are at their lowest point in 40 years!  we help you find the best rate for your situation by matching your needs with hundreds of lenders!  home improvement, refinance, second mortgage, home equity loans, and more! even with less than perfect credit!  this service is 100% free to home owners and new home buyers without any obligation.   just fill out a quick, simple form and jump-start your future plans today!   visit http://61.145.116.186/user0201/index.asp?afft=qm10       to unsubscribe, please visit:  http://61.145.116.186/light/watch.asp      \n",
       "1  friend,now you can copy dvd's and games http://www.terra.es/personal9/iop1008/  backup dvd video's with your cd-r burner  with 321 studio's software, you can now copy any dvd and playstation game.  never buy another  backup dvd movie again.  just copy it!  this is the first time this software is being made available to the public. all the software you need  to burn your own dvd video, is included in 321 studio's  software package dvd copy plus!  the movies will play  in a standard dvd player. with detailed, easy to follow,  step-by-step instructions, you can burn your own dvd  video using nothing more than your dvd-rom  and cd-r drives. purchase a copy! click below.  http://www.terra.es/personal9/iop1008/  order today and receive!  *step by step interactive instructions *all software tools included on cd *no dvd burner required *free live technical support *30 day risk free trial available  with dvd copy plus you can backup your dvd movies with  the same 74min or 80min cd-r's you've used in the past  to create audio cd's. our software compresses the large  dvd files on your standard dvd to vcd, svcd, and divx  much the same way the popular mp3 format compresses audio.   order today and start burning http://www.terra.es/personal9/iop1008/  thank you,  copymydvd   http://inglesa.net/unsub.php?client=atomicdot    we take your privacy very seriously and it is our policy never to send unwanted email messages. this message has been sent to zzzz@example.com because you originally joined one of our member sites or you signed up with a party that has contracted with atomicdot. please http://tilw.net/unsub.php?client=atomicdot&msgid=17090200005 to unsubscribe (replying to this email will not unsubscribe you).       trck:atomicdot;mp*qhwqrwhlqf!frp;8;      \n",
       "\n",
       "                                                                                                                                                                                                                                                                                                                                                                                                                                                                                                                                                                                                                                                                                                                                                                                                                                                                                                                                                                                                                                                                                                                                                                                                                                                                                                                                                                                                                                                                                                                                                                                                                                                                                                                                                                                                                                                                                                                                                   Email  \n",
       "0                                                                                                                                                                                                                                                                                                                                                                                                                                                                                                                                                                                                                                                                                                                                                                                                                                                                                                                                                                                                                                                                                                                                                                                                                                                              let us find the right mortgage lender for you      afpe pamela4701@eudoramail.com dear homeowner,   interest rates are at their lowest point in 40 years!  we help you find the best rate for your situation by matching your needs with hundreds of lenders!  home improvement, refinance, second mortgage, home equity loans, and more! even with less than perfect credit!  this service is 100% free to home owners and new home buyers without any obligation.   just fill out a quick, simple form and jump-start your future plans today!   visit http://61.145.116.186/user0201/index.asp?afft=qm10       to unsubscribe, please visit:  http://61.145.116.186/light/watch.asp     \n",
       "1  friend, copy any dvd or playstation game with this software...... copyyourdvd  atomica2020@hotmail.com  friend,now you can copy dvd's and games http://www.terra.es/personal9/iop1008/  backup dvd video's with your cd-r burner  with 321 studio's software, you can now copy any dvd and playstation game.  never buy another  backup dvd movie again.  just copy it!  this is the first time this software is being made available to the public. all the software you need  to burn your own dvd video, is included in 321 studio's  software package dvd copy plus!  the movies will play  in a standard dvd player. with detailed, easy to follow,  step-by-step instructions, you can burn your own dvd  video using nothing more than your dvd-rom  and cd-r drives. purchase a copy! click below.  http://www.terra.es/personal9/iop1008/  order today and receive!  *step by step interactive instructions *all software tools included on cd *no dvd burner required *free live technical support *30 day risk free trial available  with dvd copy plus you can backup your dvd movies with  the same 74min or 80min cd-r's you've used in the past  to create audio cd's. our software compresses the large  dvd files on your standard dvd to vcd, svcd, and divx  much the same way the popular mp3 format compresses audio.   order today and start burning http://www.terra.es/personal9/iop1008/  thank you,  copymydvd   http://inglesa.net/unsub.php?client=atomicdot    we take your privacy very seriously and it is our policy never to send unwanted email messages. this message has been sent to zzzz@example.com because you originally joined one of our member sites or you signed up with a party that has contracted with atomicdot. please http://tilw.net/unsub.php?client=atomicdot&msgid=17090200005 to unsubscribe (replying to this email will not unsubscribe you).       trck:atomicdot;mp*qhwqrwhlqf!frp;8;     "
      ]
     },
     "execution_count": 23,
     "metadata": {},
     "output_type": "execute_result"
    }
   ],
   "source": [
    "X.head(2)"
   ]
  },
  {
   "cell_type": "code",
   "execution_count": 24,
   "metadata": {},
   "outputs": [],
   "source": [
    "X = X.drop(columns=[\"Body\",\"From\",\"Subject\"], axis=1)"
   ]
  },
  {
   "cell_type": "code",
   "execution_count": 25,
   "metadata": {},
   "outputs": [],
   "source": [
    "X.reset_index(inplace=True,drop=True)"
   ]
  },
  {
   "cell_type": "code",
   "execution_count": 26,
   "metadata": {},
   "outputs": [
    {
     "data": {
      "text/plain": [
       "array([1, 1, 1, ..., 0, 0, 0])"
      ]
     },
     "execution_count": 26,
     "metadata": {},
     "output_type": "execute_result"
    }
   ],
   "source": [
    "y = df[\"isSpam\"].values\n",
    "y"
   ]
  },
  {
   "cell_type": "code",
   "execution_count": 27,
   "metadata": {},
   "outputs": [],
   "source": [
    "from sklearn.feature_extraction.text import CountVectorizer\n",
    "from sklearn.feature_extraction.text import TfidfVectorizer\n",
    "\n",
    "c_vect = CountVectorizer(stop_words=\"english\")\n",
    "X = c_vect.fit_transform(X[\"Email\"])\n",
    "\n",
    "# tfidf = TfidfVectorizer()"
   ]
  },
  {
   "cell_type": "code",
   "execution_count": 28,
   "metadata": {},
   "outputs": [
    {
     "data": {
      "text/plain": [
       "<9320x70542 sparse matrix of type '<class 'numpy.int64'>'\n",
       "\twith 1105422 stored elements in Compressed Sparse Row format>"
      ]
     },
     "execution_count": 28,
     "metadata": {},
     "output_type": "execute_result"
    }
   ],
   "source": [
    "X"
   ]
  },
  {
   "cell_type": "code",
   "execution_count": 29,
   "metadata": {},
   "outputs": [],
   "source": [
    "df_X = pd.DataFrame(X.todense(), columns = c_vect.get_feature_names_out())"
   ]
  },
  {
   "cell_type": "code",
   "execution_count": 30,
   "metadata": {
    "scrolled": false
   },
   "outputs": [
    {
     "data": {
      "text/html": [
       "<div>\n",
       "<style scoped>\n",
       "    .dataframe tbody tr th:only-of-type {\n",
       "        vertical-align: middle;\n",
       "    }\n",
       "\n",
       "    .dataframe tbody tr th {\n",
       "        vertical-align: top;\n",
       "    }\n",
       "\n",
       "    .dataframe thead th {\n",
       "        text-align: right;\n",
       "    }\n",
       "</style>\n",
       "<table border=\"1\" class=\"dataframe\">\n",
       "  <thead>\n",
       "    <tr style=\"text-align: right;\">\n",
       "      <th></th>\n",
       "      <th>00</th>\n",
       "      <th>000</th>\n",
       "      <th>0000</th>\n",
       "      <th>00000</th>\n",
       "      <th>000000</th>\n",
       "      <th>00000000</th>\n",
       "      <th>000000000</th>\n",
       "      <th>00000002</th>\n",
       "      <th>00000004</th>\n",
       "      <th>0000001</th>\n",
       "      <th>...</th>\n",
       "      <th>帳θ</th>\n",
       "      <th>汾ϵйэաκⱥʱʮ</th>\n",
       "      <th>磺塢չ塢</th>\n",
       "      <th>隊x</th>\n",
       "      <th>죺ʹҵʾչ</th>\n",
       "      <th>줽ǥx</th>\n",
       "      <th>쵥λ</th>\n",
       "      <th>ﵽvawry</th>\n",
       "      <th>𬣡b</th>\n",
       "      <th>𬣤jӡa</th>\n",
       "    </tr>\n",
       "  </thead>\n",
       "  <tbody>\n",
       "    <tr>\n",
       "      <th>0</th>\n",
       "      <td>0</td>\n",
       "      <td>0</td>\n",
       "      <td>0</td>\n",
       "      <td>0</td>\n",
       "      <td>0</td>\n",
       "      <td>0</td>\n",
       "      <td>0</td>\n",
       "      <td>0</td>\n",
       "      <td>0</td>\n",
       "      <td>0</td>\n",
       "      <td>...</td>\n",
       "      <td>0</td>\n",
       "      <td>0</td>\n",
       "      <td>0</td>\n",
       "      <td>0</td>\n",
       "      <td>0</td>\n",
       "      <td>0</td>\n",
       "      <td>0</td>\n",
       "      <td>0</td>\n",
       "      <td>0</td>\n",
       "      <td>0</td>\n",
       "    </tr>\n",
       "    <tr>\n",
       "      <th>1</th>\n",
       "      <td>0</td>\n",
       "      <td>0</td>\n",
       "      <td>0</td>\n",
       "      <td>0</td>\n",
       "      <td>0</td>\n",
       "      <td>0</td>\n",
       "      <td>0</td>\n",
       "      <td>0</td>\n",
       "      <td>0</td>\n",
       "      <td>0</td>\n",
       "      <td>...</td>\n",
       "      <td>0</td>\n",
       "      <td>0</td>\n",
       "      <td>0</td>\n",
       "      <td>0</td>\n",
       "      <td>0</td>\n",
       "      <td>0</td>\n",
       "      <td>0</td>\n",
       "      <td>0</td>\n",
       "      <td>0</td>\n",
       "      <td>0</td>\n",
       "    </tr>\n",
       "    <tr>\n",
       "      <th>2</th>\n",
       "      <td>0</td>\n",
       "      <td>0</td>\n",
       "      <td>0</td>\n",
       "      <td>0</td>\n",
       "      <td>0</td>\n",
       "      <td>0</td>\n",
       "      <td>0</td>\n",
       "      <td>0</td>\n",
       "      <td>0</td>\n",
       "      <td>0</td>\n",
       "      <td>...</td>\n",
       "      <td>0</td>\n",
       "      <td>0</td>\n",
       "      <td>0</td>\n",
       "      <td>0</td>\n",
       "      <td>0</td>\n",
       "      <td>0</td>\n",
       "      <td>0</td>\n",
       "      <td>0</td>\n",
       "      <td>0</td>\n",
       "      <td>0</td>\n",
       "    </tr>\n",
       "    <tr>\n",
       "      <th>3</th>\n",
       "      <td>0</td>\n",
       "      <td>0</td>\n",
       "      <td>0</td>\n",
       "      <td>0</td>\n",
       "      <td>0</td>\n",
       "      <td>0</td>\n",
       "      <td>0</td>\n",
       "      <td>0</td>\n",
       "      <td>0</td>\n",
       "      <td>0</td>\n",
       "      <td>...</td>\n",
       "      <td>0</td>\n",
       "      <td>0</td>\n",
       "      <td>0</td>\n",
       "      <td>0</td>\n",
       "      <td>0</td>\n",
       "      <td>0</td>\n",
       "      <td>0</td>\n",
       "      <td>0</td>\n",
       "      <td>0</td>\n",
       "      <td>0</td>\n",
       "    </tr>\n",
       "    <tr>\n",
       "      <th>4</th>\n",
       "      <td>0</td>\n",
       "      <td>0</td>\n",
       "      <td>0</td>\n",
       "      <td>0</td>\n",
       "      <td>0</td>\n",
       "      <td>0</td>\n",
       "      <td>0</td>\n",
       "      <td>0</td>\n",
       "      <td>0</td>\n",
       "      <td>0</td>\n",
       "      <td>...</td>\n",
       "      <td>0</td>\n",
       "      <td>0</td>\n",
       "      <td>0</td>\n",
       "      <td>0</td>\n",
       "      <td>0</td>\n",
       "      <td>0</td>\n",
       "      <td>0</td>\n",
       "      <td>0</td>\n",
       "      <td>0</td>\n",
       "      <td>0</td>\n",
       "    </tr>\n",
       "    <tr>\n",
       "      <th>...</th>\n",
       "      <td>...</td>\n",
       "      <td>...</td>\n",
       "      <td>...</td>\n",
       "      <td>...</td>\n",
       "      <td>...</td>\n",
       "      <td>...</td>\n",
       "      <td>...</td>\n",
       "      <td>...</td>\n",
       "      <td>...</td>\n",
       "      <td>...</td>\n",
       "      <td>...</td>\n",
       "      <td>...</td>\n",
       "      <td>...</td>\n",
       "      <td>...</td>\n",
       "      <td>...</td>\n",
       "      <td>...</td>\n",
       "      <td>...</td>\n",
       "      <td>...</td>\n",
       "      <td>...</td>\n",
       "      <td>...</td>\n",
       "      <td>...</td>\n",
       "    </tr>\n",
       "    <tr>\n",
       "      <th>9315</th>\n",
       "      <td>0</td>\n",
       "      <td>2</td>\n",
       "      <td>0</td>\n",
       "      <td>0</td>\n",
       "      <td>0</td>\n",
       "      <td>0</td>\n",
       "      <td>0</td>\n",
       "      <td>0</td>\n",
       "      <td>0</td>\n",
       "      <td>0</td>\n",
       "      <td>...</td>\n",
       "      <td>0</td>\n",
       "      <td>0</td>\n",
       "      <td>0</td>\n",
       "      <td>0</td>\n",
       "      <td>0</td>\n",
       "      <td>0</td>\n",
       "      <td>0</td>\n",
       "      <td>0</td>\n",
       "      <td>0</td>\n",
       "      <td>0</td>\n",
       "    </tr>\n",
       "    <tr>\n",
       "      <th>9316</th>\n",
       "      <td>0</td>\n",
       "      <td>0</td>\n",
       "      <td>0</td>\n",
       "      <td>0</td>\n",
       "      <td>0</td>\n",
       "      <td>0</td>\n",
       "      <td>0</td>\n",
       "      <td>0</td>\n",
       "      <td>0</td>\n",
       "      <td>0</td>\n",
       "      <td>...</td>\n",
       "      <td>0</td>\n",
       "      <td>0</td>\n",
       "      <td>0</td>\n",
       "      <td>0</td>\n",
       "      <td>0</td>\n",
       "      <td>0</td>\n",
       "      <td>0</td>\n",
       "      <td>0</td>\n",
       "      <td>0</td>\n",
       "      <td>0</td>\n",
       "    </tr>\n",
       "    <tr>\n",
       "      <th>9317</th>\n",
       "      <td>0</td>\n",
       "      <td>0</td>\n",
       "      <td>0</td>\n",
       "      <td>0</td>\n",
       "      <td>0</td>\n",
       "      <td>0</td>\n",
       "      <td>0</td>\n",
       "      <td>0</td>\n",
       "      <td>0</td>\n",
       "      <td>0</td>\n",
       "      <td>...</td>\n",
       "      <td>0</td>\n",
       "      <td>0</td>\n",
       "      <td>0</td>\n",
       "      <td>0</td>\n",
       "      <td>0</td>\n",
       "      <td>0</td>\n",
       "      <td>0</td>\n",
       "      <td>0</td>\n",
       "      <td>0</td>\n",
       "      <td>0</td>\n",
       "    </tr>\n",
       "    <tr>\n",
       "      <th>9318</th>\n",
       "      <td>1</td>\n",
       "      <td>0</td>\n",
       "      <td>0</td>\n",
       "      <td>0</td>\n",
       "      <td>0</td>\n",
       "      <td>0</td>\n",
       "      <td>0</td>\n",
       "      <td>0</td>\n",
       "      <td>0</td>\n",
       "      <td>0</td>\n",
       "      <td>...</td>\n",
       "      <td>0</td>\n",
       "      <td>0</td>\n",
       "      <td>0</td>\n",
       "      <td>0</td>\n",
       "      <td>0</td>\n",
       "      <td>0</td>\n",
       "      <td>0</td>\n",
       "      <td>0</td>\n",
       "      <td>0</td>\n",
       "      <td>0</td>\n",
       "    </tr>\n",
       "    <tr>\n",
       "      <th>9319</th>\n",
       "      <td>0</td>\n",
       "      <td>0</td>\n",
       "      <td>0</td>\n",
       "      <td>0</td>\n",
       "      <td>0</td>\n",
       "      <td>0</td>\n",
       "      <td>0</td>\n",
       "      <td>0</td>\n",
       "      <td>0</td>\n",
       "      <td>0</td>\n",
       "      <td>...</td>\n",
       "      <td>0</td>\n",
       "      <td>0</td>\n",
       "      <td>0</td>\n",
       "      <td>0</td>\n",
       "      <td>0</td>\n",
       "      <td>0</td>\n",
       "      <td>0</td>\n",
       "      <td>0</td>\n",
       "      <td>0</td>\n",
       "      <td>0</td>\n",
       "    </tr>\n",
       "  </tbody>\n",
       "</table>\n",
       "<p>9320 rows × 70542 columns</p>\n",
       "</div>"
      ],
      "text/plain": [
       "      00  000  0000  00000  000000  00000000  000000000  00000002  00000004  \\\n",
       "0      0    0     0      0       0         0          0         0         0   \n",
       "1      0    0     0      0       0         0          0         0         0   \n",
       "2      0    0     0      0       0         0          0         0         0   \n",
       "3      0    0     0      0       0         0          0         0         0   \n",
       "4      0    0     0      0       0         0          0         0         0   \n",
       "...   ..  ...   ...    ...     ...       ...        ...       ...       ...   \n",
       "9315   0    2     0      0       0         0          0         0         0   \n",
       "9316   0    0     0      0       0         0          0         0         0   \n",
       "9317   0    0     0      0       0         0          0         0         0   \n",
       "9318   1    0     0      0       0         0          0         0         0   \n",
       "9319   0    0     0      0       0         0          0         0         0   \n",
       "\n",
       "      0000001  ...  帳θ  汾ϵйэաκⱥʱʮ  磺塢չ塢  隊x  죺ʹҵʾչ  줽ǥx  쵥λ  ﵽvawry  𬣡b  𬣤jӡa  \n",
       "0           0  ...   0          0     0   0      0    0   0       0   0     0  \n",
       "1           0  ...   0          0     0   0      0    0   0       0   0     0  \n",
       "2           0  ...   0          0     0   0      0    0   0       0   0     0  \n",
       "3           0  ...   0          0     0   0      0    0   0       0   0     0  \n",
       "4           0  ...   0          0     0   0      0    0   0       0   0     0  \n",
       "...       ...  ...  ..        ...   ...  ..    ...  ...  ..     ...  ..   ...  \n",
       "9315        0  ...   0          0     0   0      0    0   0       0   0     0  \n",
       "9316        0  ...   0          0     0   0      0    0   0       0   0     0  \n",
       "9317        0  ...   0          0     0   0      0    0   0       0   0     0  \n",
       "9318        0  ...   0          0     0   0      0    0   0       0   0     0  \n",
       "9319        0  ...   0          0     0   0      0    0   0       0   0     0  \n",
       "\n",
       "[9320 rows x 70542 columns]"
      ]
     },
     "execution_count": 30,
     "metadata": {},
     "output_type": "execute_result"
    }
   ],
   "source": [
    "df_X"
   ]
  },
  {
   "cell_type": "markdown",
   "metadata": {},
   "source": [
    "# Baseline test for Naive Bayes with No Clustering"
   ]
  },
  {
   "cell_type": "code",
   "execution_count": 31,
   "metadata": {
    "scrolled": true
   },
   "outputs": [
    {
     "name": "stdout",
     "output_type": "stream",
     "text": [
      "====Iteration 0  ====\n",
      "Accuracy: 0.990343347639485\n",
      "====Iteration 1  ====\n",
      "Accuracy: 0.9914163090128756\n",
      "====Iteration 2  ====\n",
      "Accuracy: 0.9957081545064378\n",
      "====Iteration 3  ====\n",
      "Accuracy: 0.9935622317596566\n",
      "====Iteration 4  ====\n",
      "Accuracy: 0.9914163090128756\n",
      "====Iteration 5  ====\n",
      "Accuracy: 0.9935622317596566\n",
      "====Iteration 6  ====\n",
      "Accuracy: 0.990343347639485\n",
      "====Iteration 7  ====\n",
      "Accuracy: 0.9967811158798283\n",
      "====Iteration 8  ====\n",
      "Accuracy: 0.9881974248927039\n",
      "====Iteration 9  ====\n",
      "Accuracy: 0.9892703862660944\n",
      "CPU times: user 82.2 ms, sys: 22.8 ms, total: 105 ms\n",
      "Wall time: 103 ms\n"
     ]
    }
   ],
   "source": [
    "%%time\n",
    "from sklearn.model_selection import StratifiedKFold\n",
    "from sklearn.naive_bayes import MultinomialNB\n",
    "from sklearn import metrics as mt\n",
    "import time\n",
    "\n",
    "skf = StratifiedKFold(random_state=42, n_splits=10,shuffle=True)\n",
    "nb = MultinomialNB()\n",
    "\n",
    "acc_scores = []\n",
    "\n",
    "iter_num=0\n",
    "\n",
    "for train_indices, test_indices in skf.split(X,y): \n",
    "    X_train = X[train_indices]\n",
    "    y_train = y[train_indices]\n",
    "    \n",
    "    X_test = X[test_indices]\n",
    "    y_test = y[test_indices]\n",
    "    nb.fit(X_train,y_train)  # train object\n",
    "\n",
    "    y_hat = nb.predict(X_test) # get test set predictions\n",
    "    print(\"====Iteration\",iter_num,\" ====\")\n",
    "    acc = mt.accuracy_score(y_test,y_hat)\n",
    "    acc_scores.append(acc)\n",
    "    print('Accuracy:', acc)\n",
    "    iter_num+=1"
   ]
  },
  {
   "cell_type": "markdown",
   "metadata": {},
   "source": [
    "## Elbow Plot\n",
    "We see that there are about two clusters using the elbow plot. So will append that to the dataframe for training and testing."
   ]
  },
  {
   "cell_type": "code",
   "execution_count": 32,
   "metadata": {
    "scrolled": true
   },
   "outputs": [
    {
     "data": {
      "image/png": "[encoded data removed]",
      "text/plain": [
       "<Figure size 432x288 with 1 Axes>"
      ]
     },
     "metadata": {
      "needs_background": "light"
     },
     "output_type": "display_data"
    }
   ],
   "source": [
    "import matplotlib.pyplot as plt\n",
    "from sklearn.cluster import KMeans\n",
    "# k means determine k\n",
    "inertia = []\n",
    "K = range(1,10)\n",
    "for k in K:\n",
    "    kmeanModel = KMeans(n_clusters=k).fit(X)\n",
    "    kmeanModel.fit(X)\n",
    "    inertia.append(kmeanModel.inertia_)\n",
    "\n",
    "# Plot the elbow\n",
    "plt.plot(K, inertia, 'bx-')\n",
    "plt.xlabel('k')\n",
    "plt.ylabel('Inertia')\n",
    "plt.title('The Elbow Method showing the optimal k')\n",
    "plt.show()"
   ]
  },
  {
   "cell_type": "code",
   "execution_count": 33,
   "metadata": {},
   "outputs": [
    {
     "data": {
      "text/plain": [
       "array([0, 0, 0, ..., 0, 0, 0], dtype=int32)"
      ]
     },
     "execution_count": 33,
     "metadata": {},
     "output_type": "execute_result"
    }
   ],
   "source": [
    "kmeans = KMeans(n_clusters=3).fit(X)\n",
    "kmeans.fit(X)\n",
    "kmeans.labels_"
   ]
  },
  {
   "cell_type": "code",
   "execution_count": 34,
   "metadata": {},
   "outputs": [
    {
     "data": {
      "text/plain": [
       "9320"
      ]
     },
     "execution_count": 34,
     "metadata": {},
     "output_type": "execute_result"
    }
   ],
   "source": [
    "len(kmeans.labels_)"
   ]
  },
  {
   "cell_type": "code",
   "execution_count": 35,
   "metadata": {},
   "outputs": [],
   "source": [
    "df_X[\"Kmeans_Three\"] = kmeans.labels_"
   ]
  },
  {
   "cell_type": "code",
   "execution_count": 36,
   "metadata": {},
   "outputs": [
    {
     "data": {
      "text/plain": [
       "0    9317\n",
       "1       2\n",
       "2       1\n",
       "Name: Kmeans_Three, dtype: int64"
      ]
     },
     "execution_count": 36,
     "metadata": {},
     "output_type": "execute_result"
    }
   ],
   "source": [
    "df_X[\"Kmeans_Three\"].value_counts()"
   ]
  },
  {
   "cell_type": "markdown",
   "metadata": {},
   "source": [
    "# Added the Kmeans labels into a new column"
   ]
  },
  {
   "cell_type": "code",
   "execution_count": 37,
   "metadata": {},
   "outputs": [
    {
     "data": {
      "text/plain": [
       "<9320x70543 sparse matrix of type '<class 'numpy.int64'>'\n",
       "\twith 1105425 stored elements in Compressed Sparse Row format>"
      ]
     },
     "execution_count": 37,
     "metadata": {},
     "output_type": "execute_result"
    }
   ],
   "source": [
    "from scipy.sparse import csr_matrix\n",
    "new_X = csr_matrix(df_X.values)\n",
    "new_X"
   ]
  },
  {
   "cell_type": "code",
   "execution_count": 38,
   "metadata": {},
   "outputs": [
    {
     "name": "stdout",
     "output_type": "stream",
     "text": [
      "====Iteration 0  ====\n",
      "Accuracy: 0.990343347639485\n",
      "====Iteration 1  ====\n",
      "Accuracy: 0.9914163090128756\n",
      "====Iteration 2  ====\n",
      "Accuracy: 0.9957081545064378\n",
      "====Iteration 3  ====\n",
      "Accuracy: 0.9935622317596566\n",
      "====Iteration 4  ====\n",
      "Accuracy: 0.9914163090128756\n",
      "====Iteration 5  ====\n",
      "Accuracy: 0.9935622317596566\n",
      "====Iteration 6  ====\n",
      "Accuracy: 0.990343347639485\n",
      "====Iteration 7  ====\n",
      "Accuracy: 0.9967811158798283\n",
      "====Iteration 8  ====\n",
      "Accuracy: 0.9881974248927039\n",
      "====Iteration 9  ====\n",
      "Accuracy: 0.9892703862660944\n",
      "CPU times: user 61.4 ms, sys: 15.1 ms, total: 76.6 ms\n",
      "Wall time: 75.4 ms\n"
     ]
    }
   ],
   "source": [
    "%%time\n",
    "from sklearn.model_selection import StratifiedKFold\n",
    "from sklearn.naive_bayes import MultinomialNB\n",
    "from sklearn import metrics as mt\n",
    "import time\n",
    "\n",
    "skf = StratifiedKFold(random_state=42, n_splits=10,shuffle=True)\n",
    "nb = MultinomialNB()\n",
    "\n",
    "acc_scores = []\n",
    "\n",
    "iter_num=0\n",
    "\n",
    "for train_indices, test_indices in skf.split(new_X,y): \n",
    "    X_train = new_X[train_indices]\n",
    "    y_train = y[train_indices]\n",
    "    \n",
    "    X_test = new_X[test_indices]\n",
    "    y_test = y[test_indices]\n",
    "    nb.fit(X_train,y_train)  # train object\n",
    "\n",
    "    y_hat = nb.predict(X_test) # get test set predictions\n",
    "    print(\"====Iteration\",iter_num,\" ====\")\n",
    "    acc = mt.accuracy_score(y_test,y_hat)\n",
    "    acc_scores.append(acc)\n",
    "    print('Accuracy:', acc)\n",
    "    iter_num+=1"
   ]
  },
  {
   "cell_type": "code",
   "execution_count": null,
   "metadata": {},
   "outputs": [],
   "source": [
    "params = []\n",
    "\n",
    "for eps in [0.1, 0.125, 0.15]:\n",
    "    for mpts in range(5,10):\n",
    "\n",
    "        # append on the clustering\n",
    "        cls1_dbscn = DBSCAN(eps=eps, min_samples=mpts)\n",
    "        cls1_dbscn.fit(X1)\n",
    "        newfeature_1 = cls1_dbscn.labels_ # the labels from kmeans clustering\n",
    "\n",
    "        original_X = X_us.drop(['stays_in_week_nights','stays_in_weekend_nights'], axis=1)\n",
    "        final_X = np.column_stack((original_X,pd.get_dummies(newfeature_1)))\n",
    "\n",
    "        acc = cross_val_score(clf,final_X,y=y_us,cv=cv)\n",
    "        params.append((eps,mpts,acc.mean()*100,acc.std()*100))\n",
    "\n",
    "        print(\"For Eps\", eps, \"For min pts\",mpts,\"The average accuracy = \", acc.mean()*100, \"+-\", acc.std()*100)"
   ]
  },
  {
   "cell_type": "code",
   "execution_count": null,
   "metadata": {},
   "outputs": [],
   "source": [
    "params = []\n",
    "\n",
    "\n",
    "# append on the clustering\n",
    "cls1_dbscn = DBSCAN(eps=0.1, min_samples=5)\n",
    "cls1_dbscn.fit(X1)\n",
    "newfeature_1 = cls1_dbscn.labels_ # the labels from kmeans clustering\n",
    "\n",
    "original_X = X_us.drop(['stays_in_week_nights','stays_in_weekend_nights'], axis=1)\n",
    "final_X = np.column_stack((original_X,pd.get_dummies(newfeature_1)))\n",
    "\n",
    "acc = cross_val_score(clf,final_X,y=y_us,cv=cv)\n",
    "params.append((eps,mpts,acc.mean()*100,acc.std()*100))\n",
    "\n",
    "print(\"For Eps\", eps, \"For min pts\",mpts,\"The average accuracy = \", acc.mean()*100, \"+-\", acc.std()*100)"
   ]
  }
 ],
 "metadata": {
  "interpreter": {
   "hash": "d5e22e80c5a5049300fcd1222e380e7a80cada809ed3c1dbd59a10e881ec2acb"
  },
  "kernelspec": {
   "display_name": "Python 3 (ipykernel)",
   "language": "python",
   "name": "python3"
  },
  "language_info": {
   "codemirror_mode": {
    "name": "ipython",
    "version": 3
   },
   "file_extension": ".py",
   "mimetype": "text/x-python",
   "name": "python",
   "nbconvert_exporter": "python",
   "pygments_lexer": "ipython3",
   "version": "3.9.7"
  }
 },
 "nbformat": 4,
 "nbformat_minor": 2
}
