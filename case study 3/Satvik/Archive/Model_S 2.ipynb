{
 "cells": [
  {
   "cell_type": "code",
   "execution_count": 39,
   "metadata": {},
   "outputs": [],
   "source": [
    "import numpy as np\n",
    "import pandas as pd\n",
    "import email\n",
    "from html.parser import HTMLParser\n",
    "from bs4 import BeautifulSoup\n",
    "import nltk\n",
    "from nltk.corpus import stopwords\n",
    "from nltk.tokenize import word_tokenize\n",
    "from sklearn.model_selection import train_test_split\n",
    "from sklearn.feature_extraction.text import CountVectorizer\n",
    "from sklearn.naive_bayes import MultinomialNB\n",
    "from sklearn.metrics import accuracy_score\n",
    "from sklearn.metrics import classification_report\n",
    "from email.parser import BytesParser\n",
    "from email.policy import default\n",
    "import csv\n",
    "import os\n",
    "import pathlib\n",
    "import pprint\n",
    "from os.path import dirname, abspath\n"
   ]
  },
  {
   "cell_type": "code",
   "execution_count": 40,
   "metadata": {},
   "outputs": [],
   "source": [
    "# d = dirname(dirname(abspath('__file__')))"
   ]
  },
  {
   "cell_type": "code",
   "execution_count": 41,
   "metadata": {},
   "outputs": [],
   "source": [
    "#location = f\"{d}/case study 3/\""
   ]
  },
  {
   "cell_type": "code",
   "execution_count": 42,
   "metadata": {},
   "outputs": [],
   "source": [
    "# emails = {\"index\":[]}\n",
    "# for path, subdirectories, filelist in os.walk(os.path.join(d,\"SpamAssassinMessages\")):\n",
    "#     for f in filelist:\n",
    "        \n",
    "#         label = 0 if \"ham\" in path.lower() else 1\n",
    "#         with open(os.path.join(path, f), \"rb\") as fp:\n",
    "#             msg = BytesParser(policy=default).parse(fp)\n",
    "#             with open(os.path.join(path, f), \"r\",encoding= 'utf-8', errors='ignore') as new_f:\n",
    "#                 msg = email.message_from_file(new_f)\n",
    "#                 for part in msg.walk():\n",
    "#                     if part.get_content_type() == 'text/plain':\n",
    "#                         body = part.get_payload()  # decode\n",
    "#                 emails[\"index\"].append({\n",
    "#                     \"Subject\": msg.get(\"Subject\"),\n",
    "#                     \"From\": msg.get(\"from\"),\n",
    "#                     \"Body\": body,\n",
    "#                     \"isSpam\": label,\n",
    "#                     \"FileID\": f\n",
    "#                 })\n",
    "\n",
    "# df = pd.DataFrame.from_dict(emails[\"index\"])"
   ]
  },
  {
   "cell_type": "code",
   "execution_count": 43,
   "metadata": {},
   "outputs": [],
   "source": [
    "# df.to_csv(\"spam_train.csv\", index=False)"
   ]
  },
  {
   "cell_type": "code",
   "execution_count": 44,
   "metadata": {
    "scrolled": true
   },
   "outputs": [],
   "source": [
    "df = pd.read_csv(\"spam_train.csv\")"
   ]
  },
  {
   "cell_type": "code",
   "execution_count": 45,
   "metadata": {
    "scrolled": false
   },
   "outputs": [
    {
     "data": {
      "text/plain": [
       "0    6954\n",
       "1    2400\n",
       "Name: isSpam, dtype: int64"
      ]
     },
     "execution_count": 45,
     "metadata": {},
     "output_type": "execute_result"
    }
   ],
   "source": [
    "df[\"isSpam\"].value_counts()"
   ]
  },
  {
   "cell_type": "code",
   "execution_count": 46,
   "metadata": {
    "scrolled": false
   },
   "outputs": [
    {
     "data": {
      "text/plain": [
       "Subject    26\n",
       "From        7\n",
       "Body        8\n",
       "isSpam      0\n",
       "FileID      0\n",
       "dtype: int64"
      ]
     },
     "execution_count": 46,
     "metadata": {},
     "output_type": "execute_result"
    }
   ],
   "source": [
    "df.isnull().sum()"
   ]
  },
  {
   "cell_type": "code",
   "execution_count": 47,
   "metadata": {},
   "outputs": [],
   "source": [
    "df = df.dropna()"
   ]
  },
  {
   "cell_type": "code",
   "execution_count": 48,
   "metadata": {},
   "outputs": [],
   "source": [
    "df.reset_index(inplace=True, drop=True)"
   ]
  },
  {
   "cell_type": "code",
   "execution_count": 50,
   "metadata": {
    "scrolled": true
   },
   "outputs": [
    {
     "data": {
      "text/plain": [
       "0    6941\n",
       "1    2379\n",
       "Name: isSpam, dtype: int64"
      ]
     },
     "execution_count": 50,
     "metadata": {},
     "output_type": "execute_result"
    }
   ],
   "source": [
    "df[\"isSpam\"].value_counts()"
   ]
  },
  {
   "cell_type": "markdown",
   "metadata": {},
   "source": [
    "Build a spam classifier using naive Bayes and clustering. You will have to create your own dataset from the input messages. Be sure to document how you created your dataset."
   ]
  },
  {
   "cell_type": "code",
   "execution_count": 51,
   "metadata": {},
   "outputs": [],
   "source": [
    "#remove new lines and such\n",
    "df = df.replace(r'\\n',' ', regex=True)\n",
    "df = df.replace(r'\\t',' ', regex=True)\n",
    "df = df.replace(r'b\\'',' ', regex=True)\n",
    "df = df.replace(r'b\\\"',' ', regex=True)"
   ]
  },
  {
   "cell_type": "code",
   "execution_count": 54,
   "metadata": {},
   "outputs": [],
   "source": [
    "df = df.replace(r'<',' ', regex=True)\n",
    "df = df.replace(r'>',' ', regex=True)"
   ]
  },
  {
   "cell_type": "code",
   "execution_count": 55,
   "metadata": {},
   "outputs": [],
   "source": [
    "df[\"Body\"] = df['Body'].str.lower()"
   ]
  },
  {
   "cell_type": "code",
   "execution_count": 56,
   "metadata": {},
   "outputs": [],
   "source": [
    "df[\"Subject\"] = df['Subject'].str.lower()"
   ]
  },
  {
   "cell_type": "code",
   "execution_count": 57,
   "metadata": {},
   "outputs": [],
   "source": [
    "df[\"From\"] = df['From'].str.lower()"
   ]
  },
  {
   "cell_type": "code",
   "execution_count": 58,
   "metadata": {},
   "outputs": [],
   "source": [
    "X = df.drop([\"isSpam\",\"FileID\"], axis=1).copy()"
   ]
  },
  {
   "cell_type": "code",
   "execution_count": 60,
   "metadata": {},
   "outputs": [],
   "source": [
    "X[\"Email\"] = X[\"Subject\"] +\" \"+ X[\"From\"] +\" \"+ X[\"Body\"]"
   ]
  },
  {
   "cell_type": "code",
   "execution_count": 62,
   "metadata": {},
   "outputs": [],
   "source": [
    "X = X.drop(columns=[\"Body\",\"From\",\"Subject\"], axis=1)"
   ]
  },
  {
   "cell_type": "code",
   "execution_count": 63,
   "metadata": {},
   "outputs": [],
   "source": [
    "X.reset_index(inplace=True,drop=True)"
   ]
  },
  {
   "cell_type": "code",
   "execution_count": 65,
   "metadata": {},
   "outputs": [],
   "source": [
    "from sklearn.feature_extraction.text import CountVectorizer\n",
    "\n",
    "c_vect = CountVectorizer(stop_words=\"english\")\n",
    "X = c_vect.fit_transform(X[\"Email\"])"
   ]
  },
  {
   "cell_type": "code",
   "execution_count": 66,
   "metadata": {},
   "outputs": [
    {
     "data": {
      "text/plain": [
       "<9320x70542 sparse matrix of type '<class 'numpy.int64'>'\n",
       "\twith 1105422 stored elements in Compressed Sparse Row format>"
      ]
     },
     "execution_count": 66,
     "metadata": {},
     "output_type": "execute_result"
    }
   ],
   "source": [
    "X"
   ]
  },
  {
   "cell_type": "code",
   "execution_count": 64,
   "metadata": {},
   "outputs": [
    {
     "data": {
      "text/plain": [
       "array([1, 1, 1, ..., 0, 0, 0])"
      ]
     },
     "execution_count": 64,
     "metadata": {},
     "output_type": "execute_result"
    }
   ],
   "source": [
    "y = df[\"isSpam\"].values\n",
    "y"
   ]
  },
  {
   "cell_type": "code",
   "execution_count": 67,
   "metadata": {},
   "outputs": [],
   "source": [
    "df_X = pd.DataFrame(X.todense(), columns = c_vect.get_feature_names_out())"
   ]
  },
  {
   "cell_type": "code",
   "execution_count": 115,
   "metadata": {
    "scrolled": false
   },
   "outputs": [],
   "source": [
    "X_dense = df_X.copy()\n",
    "X_agg = df_X.copy()"
   ]
  },
  {
   "cell_type": "markdown",
   "metadata": {},
   "source": [
    "# Baseline test for Naive Bayes with No Clustering"
   ]
  },
  {
   "cell_type": "code",
   "execution_count": 74,
   "metadata": {
    "scrolled": true
   },
   "outputs": [
    {
     "name": "stdout",
     "output_type": "stream",
     "text": [
      "====Iteration 0  ====\n",
      "Accuracy: 0.990343347639485\n",
      "====Iteration 1  ====\n",
      "Accuracy: 0.9914163090128756\n",
      "====Iteration 2  ====\n",
      "Accuracy: 0.9957081545064378\n",
      "====Iteration 3  ====\n",
      "Accuracy: 0.9935622317596566\n",
      "====Iteration 4  ====\n",
      "Accuracy: 0.9914163090128756\n",
      "====Iteration 5  ====\n",
      "Accuracy: 0.9935622317596566\n",
      "====Iteration 6  ====\n",
      "Accuracy: 0.990343347639485\n",
      "====Iteration 7  ====\n",
      "Accuracy: 0.9967811158798283\n",
      "====Iteration 8  ====\n",
      "Accuracy: 0.9881974248927039\n",
      "====Iteration 9  ====\n",
      "Accuracy: 0.9892703862660944\n",
      "~~~~~~~~~~~~~~~~~~~~~~~~~~~~~~~~~~~\n",
      "Mean Accuracy: 0.9920600858369099\n",
      "CPU times: user 82.3 ms, sys: 22.1 ms, total: 104 ms\n",
      "Wall time: 105 ms\n"
     ]
    }
   ],
   "source": [
    "%%time\n",
    "from sklearn.model_selection import StratifiedKFold\n",
    "from sklearn.naive_bayes import MultinomialNB\n",
    "from sklearn import metrics as mt\n",
    "import time\n",
    "\n",
    "skf = StratifiedKFold(random_state=42, n_splits=10,shuffle=True)\n",
    "nb = MultinomialNB()\n",
    "\n",
    "acc_scores = []\n",
    "\n",
    "iter_num=0\n",
    "\n",
    "for train_indices, test_indices in skf.split(X,y): \n",
    "    X_train = X[train_indices]\n",
    "    y_train = y[train_indices]\n",
    "    \n",
    "    X_test = X[test_indices]\n",
    "    y_test = y[test_indices]\n",
    "    nb.fit(X_train,y_train)  # train object\n",
    "\n",
    "    y_hat = nb.predict(X_test) # get test set predictions\n",
    "    print(\"====Iteration\",iter_num,\" ====\")\n",
    "    acc = mt.accuracy_score(y_test,y_hat)\n",
    "    acc_scores.append(acc)\n",
    "    print('Accuracy:', acc)\n",
    "    iter_num+=1\n",
    "print(\"~~~~~~~~~~~~~~~~~~~~~~~~~~~~~~~~~~~\")   \n",
    "print('Mean Accuracy:', np.mean(acc_scores))"
   ]
  },
  {
   "cell_type": "markdown",
   "metadata": {},
   "source": [
    "## Elbow Plot\n",
    "We see that there are about two clusters using the elbow plot. So will append that to the dataframe for training and testing."
   ]
  },
  {
   "cell_type": "code",
   "execution_count": 116,
   "metadata": {
    "scrolled": true
   },
   "outputs": [
    {
     "data": {
      "image/png": "[encoded data removed]",
      "text/plain": [
       "<Figure size 432x288 with 1 Axes>"
      ]
     },
     "metadata": {
      "needs_background": "light"
     },
     "output_type": "display_data"
    }
   ],
   "source": [
    "import matplotlib.pyplot as plt\n",
    "from sklearn.cluster import KMeans\n",
    "# k means determine k\n",
    "inertia = []\n",
    "K = range(1,10)\n",
    "for k in K:\n",
    "    kmeanModel = KMeans(n_clusters=k).fit(X)\n",
    "    kmeanModel.fit(X)\n",
    "    inertia.append(kmeanModel.inertia_)\n",
    "\n",
    "# Plot the elbow\n",
    "plt.plot(K, inertia, 'bx-')\n",
    "plt.xlabel('k')\n",
    "plt.ylabel('Inertia')\n",
    "plt.title('The Elbow Method showing the optimal k')\n",
    "plt.show()"
   ]
  },
  {
   "cell_type": "markdown",
   "metadata": {},
   "source": [
    "# K-Means Clustering - 2 Clusters"
   ]
  },
  {
   "cell_type": "code",
   "execution_count": 117,
   "metadata": {},
   "outputs": [
    {
     "data": {
      "text/plain": [
       "array([0, 0, 0, ..., 0, 0, 0], dtype=int32)"
      ]
     },
     "execution_count": 117,
     "metadata": {},
     "output_type": "execute_result"
    }
   ],
   "source": [
    "kmeans = KMeans(n_clusters=2).fit(X)\n",
    "kmeans.fit(X)\n",
    "kmeans.labels_"
   ]
  },
  {
   "cell_type": "code",
   "execution_count": 118,
   "metadata": {},
   "outputs": [],
   "source": [
    "X_dense[\"Kmeans_Two\"] = kmeans.labels_"
   ]
  },
  {
   "cell_type": "code",
   "execution_count": 119,
   "metadata": {},
   "outputs": [
    {
     "data": {
      "text/plain": [
       "0    9318\n",
       "1       2\n",
       "Name: Kmeans_Two, dtype: int64"
      ]
     },
     "execution_count": 119,
     "metadata": {},
     "output_type": "execute_result"
    }
   ],
   "source": [
    "X_dense[\"Kmeans_Two\"].value_counts()"
   ]
  },
  {
   "cell_type": "code",
   "execution_count": 120,
   "metadata": {},
   "outputs": [
    {
     "data": {
      "text/plain": [
       "<9320x70543 sparse matrix of type '<class 'numpy.int64'>'\n",
       "\twith 1105424 stored elements in Compressed Sparse Row format>"
      ]
     },
     "execution_count": 120,
     "metadata": {},
     "output_type": "execute_result"
    }
   ],
   "source": [
    "from scipy.sparse import csr_matrix\n",
    "new_X = csr_matrix(X_dense.values)\n",
    "new_X"
   ]
  },
  {
   "cell_type": "markdown",
   "metadata": {},
   "source": [
    "### Adding K-mean cluster labels as a feature and testing the model"
   ]
  },
  {
   "cell_type": "code",
   "execution_count": 121,
   "metadata": {
    "scrolled": true
   },
   "outputs": [
    {
     "name": "stdout",
     "output_type": "stream",
     "text": [
      "====Iteration 0  ====\n",
      "Accuracy: 0.990343347639485\n",
      "====Iteration 1  ====\n",
      "Accuracy: 0.9914163090128756\n",
      "====Iteration 2  ====\n",
      "Accuracy: 0.9957081545064378\n",
      "====Iteration 3  ====\n",
      "Accuracy: 0.9935622317596566\n",
      "====Iteration 4  ====\n",
      "Accuracy: 0.9914163090128756\n",
      "====Iteration 5  ====\n",
      "Accuracy: 0.9935622317596566\n",
      "====Iteration 6  ====\n",
      "Accuracy: 0.990343347639485\n",
      "====Iteration 7  ====\n",
      "Accuracy: 0.9967811158798283\n",
      "====Iteration 8  ====\n",
      "Accuracy: 0.9881974248927039\n",
      "====Iteration 9  ====\n",
      "Accuracy: 0.9892703862660944\n",
      "~~~~~~~~~~~~~~~~~~~~~~~~~~~~~~~~~~~\n",
      "Mean Accuracy: 0.9920600858369099\n",
      "CPU times: user 63.4 ms, sys: 20 ms, total: 83.4 ms\n",
      "Wall time: 82.8 ms\n"
     ]
    }
   ],
   "source": [
    "%%time\n",
    "from sklearn.model_selection import StratifiedKFold\n",
    "from sklearn.naive_bayes import MultinomialNB\n",
    "from sklearn import metrics as mt\n",
    "import time\n",
    "\n",
    "skf = StratifiedKFold(random_state=42, n_splits=10,shuffle=True)\n",
    "nb = MultinomialNB()\n",
    "\n",
    "acc_scores = []\n",
    "\n",
    "iter_num=0\n",
    "\n",
    "for train_indices, test_indices in skf.split(new_X,y): \n",
    "    X_train = new_X[train_indices]\n",
    "    y_train = y[train_indices]\n",
    "    \n",
    "    X_test = new_X[test_indices]\n",
    "    y_test = y[test_indices]\n",
    "    nb.fit(X_train,y_train)  # train object\n",
    "\n",
    "    y_hat = nb.predict(X_test) # get test set predictions\n",
    "    print(\"====Iteration\",iter_num,\" ====\")\n",
    "    acc = mt.accuracy_score(y_test,y_hat)\n",
    "    acc_scores.append(acc)\n",
    "    print('Accuracy:', acc)\n",
    "    iter_num+=1\n",
    "print(\"~~~~~~~~~~~~~~~~~~~~~~~~~~~~~~~~~~~\")   \n",
    "print('Mean Accuracy:', np.mean(acc_scores))"
   ]
  },
  {
   "cell_type": "markdown",
   "metadata": {},
   "source": [
    "# Agglomerative Clustering - 3 Clusters"
   ]
  },
  {
   "cell_type": "code",
   "execution_count": 110,
   "metadata": {},
   "outputs": [
    {
     "data": {
      "text/plain": [
       "AgglomerativeClustering(n_clusters=3)"
      ]
     },
     "execution_count": 110,
     "metadata": {},
     "output_type": "execute_result"
    }
   ],
   "source": [
    "%%time\n",
    "from sklearn.cluster import AgglomerativeClustering\n",
    "agg = AgglomerativeClustering(n_clusters=3)\n",
    "agg.fit(X.toarray())"
   ]
  },
  {
   "cell_type": "code",
   "execution_count": 111,
   "metadata": {},
   "outputs": [],
   "source": [
    "X_agg[\"agg\"] = agg.labels_"
   ]
  },
  {
   "cell_type": "code",
   "execution_count": 112,
   "metadata": {},
   "outputs": [
    {
     "data": {
      "text/plain": [
       "0    9314\n",
       "2       4\n",
       "1       2\n",
       "Name: agg, dtype: int64"
      ]
     },
     "execution_count": 112,
     "metadata": {},
     "output_type": "execute_result"
    }
   ],
   "source": [
    "X_agg[\"agg\"].value_counts()"
   ]
  },
  {
   "cell_type": "code",
   "execution_count": 113,
   "metadata": {},
   "outputs": [
    {
     "data": {
      "text/plain": [
       "<9320x70543 sparse matrix of type '<class 'numpy.int64'>'\n",
       "\twith 1105428 stored elements in Compressed Sparse Row format>"
      ]
     },
     "execution_count": 113,
     "metadata": {},
     "output_type": "execute_result"
    }
   ],
   "source": [
    "X_agg = csr_matrix(X_agg.values)\n",
    "X_agg"
   ]
  },
  {
   "cell_type": "markdown",
   "metadata": {},
   "source": [
    "### Adding Agglomerative cluster labels as a feature and testing the model"
   ]
  },
  {
   "cell_type": "code",
   "execution_count": 114,
   "metadata": {},
   "outputs": [
    {
     "name": "stdout",
     "output_type": "stream",
     "text": [
      "====Iteration 0  ====\n",
      "Accuracy: 0.990343347639485\n",
      "====Iteration 1  ====\n",
      "Accuracy: 0.9914163090128756\n",
      "====Iteration 2  ====\n",
      "Accuracy: 0.9957081545064378\n",
      "====Iteration 3  ====\n",
      "Accuracy: 0.9935622317596566\n",
      "====Iteration 4  ====\n",
      "Accuracy: 0.9914163090128756\n",
      "====Iteration 5  ====\n",
      "Accuracy: 0.9935622317596566\n",
      "====Iteration 6  ====\n",
      "Accuracy: 0.990343347639485\n",
      "====Iteration 7  ====\n",
      "Accuracy: 0.9967811158798283\n",
      "====Iteration 8  ====\n",
      "Accuracy: 0.9881974248927039\n",
      "====Iteration 9  ====\n",
      "Accuracy: 0.9892703862660944\n",
      "~~~~~~~~~~~~~~~~~~~~~~~~~~~~~~~~~~~\n",
      "Mean Accuracy: 0.9920600858369099\n",
      "CPU times: user 77.4 ms, sys: 24.9 ms, total: 102 ms\n",
      "Wall time: 100 ms\n"
     ]
    }
   ],
   "source": [
    "%%time\n",
    "from sklearn.model_selection import StratifiedKFold\n",
    "from sklearn.naive_bayes import MultinomialNB\n",
    "from sklearn import metrics as mt\n",
    "import time\n",
    "\n",
    "skf = StratifiedKFold(random_state=42, n_splits=10,shuffle=True)\n",
    "nb = MultinomialNB()\n",
    "\n",
    "acc_scores = []\n",
    "\n",
    "iter_num=0\n",
    "\n",
    "for train_indices, test_indices in skf.split(X_agg,y): \n",
    "    X_train = X_agg[train_indices]\n",
    "    y_train = y[train_indices]\n",
    "    \n",
    "    X_test = X_agg[test_indices]\n",
    "    y_test = y[test_indices]\n",
    "    nb.fit(X_train,y_train)  # train object\n",
    "\n",
    "    y_hat = nb.predict(X_test) # get test set predictions\n",
    "    print(\"====Iteration\",iter_num,\" ====\")\n",
    "    acc = mt.accuracy_score(y_test,y_hat)\n",
    "    acc_scores.append(acc)\n",
    "    print('Accuracy:', acc)\n",
    "    iter_num+=1\n",
    "print(\"~~~~~~~~~~~~~~~~~~~~~~~~~~~~~~~~~~~\")   \n",
    "print('Mean Accuracy:', np.mean(acc_scores))"
   ]
  },
  {
   "cell_type": "code",
   "execution_count": null,
   "metadata": {},
   "outputs": [],
   "source": []
  }
 ],
 "metadata": {
  "interpreter": {
   "hash": "d5e22e80c5a5049300fcd1222e380e7a80cada809ed3c1dbd59a10e881ec2acb"
  },
  "kernelspec": {
   "display_name": "Python 3 (ipykernel)",
   "language": "python",
   "name": "python3"
  },
  "language_info": {
   "codemirror_mode": {
    "name": "ipython",
    "version": 3
   },
   "file_extension": ".py",
   "mimetype": "text/x-python",
   "name": "python",
   "nbconvert_exporter": "python",
   "pygments_lexer": "ipython3",
   "version": "3.9.7"
  }
 },
 "nbformat": 4,
 "nbformat_minor": 2
}
