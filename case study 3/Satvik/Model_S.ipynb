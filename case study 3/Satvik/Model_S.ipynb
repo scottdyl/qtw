{
 "cells": [
  {
   "cell_type": "code",
   "execution_count": 1,
   "metadata": {},
   "outputs": [],
   "source": [
    "import numpy as np\n",
    "import pandas as pd\n",
    "import email\n",
    "from html.parser import HTMLParser\n",
    "from bs4 import BeautifulSoup\n",
    "import nltk\n",
    "from nltk.corpus import stopwords\n",
    "from nltk.tokenize import word_tokenize\n",
    "from sklearn.model_selection import train_test_split\n",
    "from sklearn.feature_extraction.text import CountVectorizer\n",
    "from sklearn.naive_bayes import MultinomialNB\n",
    "from sklearn.metrics import accuracy_score\n",
    "from sklearn.metrics import classification_report"
   ]
  },
  {
   "cell_type": "code",
   "execution_count": 2,
   "metadata": {},
   "outputs": [],
   "source": [
    "from email.parser import BytesParser\n",
    "from email.policy import default\n",
    "\n",
    "import csv\n",
    "import os\n",
    "import pathlib\n",
    "import pprint"
   ]
  },
  {
   "cell_type": "code",
   "execution_count": 22,
   "metadata": {},
   "outputs": [],
   "source": [
    "__file__ = \"/Users/satvikajmera/Documents/SMU MSDS Course Material/05-Summer 2022/DS 7333 - QtW/Case Studies - on file/Case Study 03/Satvik/\"\n",
    "\n",
    "emails = {\"index\":[]}\n",
    "for path, subdirectories, filelist in os.walk(pathlib.Path(__file__) / \"SpamAssassinMessages\"):\n",
    "    for f in filelist:\n",
    "        \n",
    "        label = 0 if \"ham\" in path.lower() else 1\n",
    "        with open(os.path.join(path, f), \"rb\") as fp:\n",
    "            msg = BytesParser(policy=default).parse(fp)\n",
    "            with open(os.path.join(path, f), \"r\",encoding= 'utf-8', errors='ignore') as new_f:\n",
    "                msg = email.message_from_file(new_f)\n",
    "                for part in msg.walk():\n",
    "                    if part.get_content_type() == 'text/plain':\n",
    "                        body = part.get_payload()  # decode\n",
    "                emails[\"index\"].append({\n",
    "                    \"Subject\": msg.get(\"Subject\"),\n",
    "                    \"From\": msg.get(\"from\"),\n",
    "                    \"Body\": body,\n",
    "                    \"isSpam\": label,\n",
    "                    \"FileID\": f\n",
    "                })\n",
    "cols = [\"Subject\", \"From\", \"Body\", \"isSpam\", \"FileID\"]\n",
    "try:\n",
    "    with open(pathlib.Path(__file__).parent / \"test.csv\", 'w', encoding=\"utf-8\") as csvfile:\n",
    "        writer = csv.DictWriter(csvfile, fieldnames=[\"Subject\",\"From\",\"Body\",\"isSpam\",\"FileID\"])\n",
    "        writer.writeheader()\n",
    "        for data in emails[\"index\"]:\n",
    "            writer.writerow(data)\n",
    "except IOError:\n",
    "    print(\"I/O error\")"
   ]
  },
  {
   "cell_type": "code",
   "execution_count": 23,
   "metadata": {},
   "outputs": [],
   "source": [
    "pd.set_option('display.max_colwidth', None)"
   ]
  },
  {
   "cell_type": "code",
   "execution_count": 24,
   "metadata": {},
   "outputs": [],
   "source": [
    "df = pd.read_csv(\"../test.csv\", header=0)"
   ]
  },
  {
   "cell_type": "code",
   "execution_count": 25,
   "metadata": {},
   "outputs": [
    {
     "data": {
      "text/html": [
       "<div>\n",
       "<style scoped>\n",
       "    .dataframe tbody tr th:only-of-type {\n",
       "        vertical-align: middle;\n",
       "    }\n",
       "\n",
       "    .dataframe tbody tr th {\n",
       "        vertical-align: top;\n",
       "    }\n",
       "\n",
       "    .dataframe thead th {\n",
       "        text-align: right;\n",
       "    }\n",
       "</style>\n",
       "<table border=\"1\" class=\"dataframe\">\n",
       "  <thead>\n",
       "    <tr style=\"text-align: right;\">\n",
       "      <th></th>\n",
       "      <th>Subject</th>\n",
       "      <th>From</th>\n",
       "      <th>Body</th>\n",
       "      <th>isSpam</th>\n",
       "      <th>FileID</th>\n",
       "    </tr>\n",
       "  </thead>\n",
       "  <tbody>\n",
       "    <tr>\n",
       "      <th>0</th>\n",
       "      <td>NaN</td>\n",
       "      <td>NaN</td>\n",
       "      <td>NaN</td>\n",
       "      <td>1</td>\n",
       "      <td>.DS_Store</td>\n",
       "    </tr>\n",
       "    <tr>\n",
       "      <th>1</th>\n",
       "      <td>Let us find the right mortgage lender for you      AFPE</td>\n",
       "      <td>pamela4701@eudoramail.com</td>\n",
       "      <td>Dear Homeowner,\\n \\nInterest Rates are at their lowest point in 40 years!\\n\\nWe help you find the best rate for your situation by\\nmatching your needs with hundreds of lenders!\\n\\nHome Improvement, Refinance, Second Mortgage,\\nHome Equity Loans, and More! Even with less than\\nperfect credit!\\n\\nThis service is 100% FREE to home owners and new\\nhome buyers without any obligation. \\n\\nJust fill out a quick, simple form and jump-start\\nyour future plans today!\\n\\n\\nVisit http://61.145.116.186/user0201/index.asp?Afft=QM10\\n\\n\\n\\n\\n\\n\\nTo unsubscribe, please visit:\\n\\nhttp://61.145.116.186/light/watch.asp\\n\\n\\n</td>\n",
       "      <td>1</td>\n",
       "      <td>00249.5f45607c1bffe89f60ba1ec9f878039a</td>\n",
       "    </tr>\n",
       "    <tr>\n",
       "      <th>2</th>\n",
       "      <td>Friend, Copy ANY DVD or Playstation Game with this software......</td>\n",
       "      <td>CopyYourDVD &lt;atomica2020@hotmail.com&gt;</td>\n",
       "      <td>Friend,Now you can copy DVD's and Games\\nhttp://www.terra.es/personal9/iop1008/\\n\\nBACKUP DVD VIDEO's WITH YOUR CD-R BURNER\\n\\nWith 321 studio's software, you can now copy\\nany DVD and Playstation Game.  Never buy another \\nbackup DVD movie again.  Just copy it!\\n\\nThis is the first time this software is being made\\navailable to the public. All the software you need \\nto burn your own DVD Video, is included in 321 Studio's \\nsoftware package DVD Copy Plus!  The movies will play \\nin a standard DVD player. With detailed, easy to follow, \\nstep-by-step instructions, you can BURN your own DVD \\nVideo using nothing more than your DVD-ROM \\nand CD-R drives. Purchase a copy! Click below.\\n\\nhttp://www.terra.es/personal9/iop1008/\\n\\nOrder today and receive!\\n\\n*Step by Step Interactive Instructions\\n*All Software Tools Included On CD\\n*No DVD Burner Required\\n*FREE Live Technical Support\\n*30 Day Risk Free Trial Available\\n\\nWith DVD Copy Plus you can backup Your DVD Movies with \\nthe same 74min or 80min CD-R's you've used in the past \\nto create audio CD's. Our software compresses the large \\nDVD files on your standard DVD to VCD, SVCD, and DivX \\nmuch the same way the popular MP3 format compresses audio.  \\nOrder today and start burning\\nhttp://www.terra.es/personal9/iop1008/\\n\\nThank You,\\n\\nCopymyDVD\\n\\n\\nhttp://inglesa.net/unsub.php?client=atomicDOT\\n\\n\\n\\nWe take your privacy very seriously and it is our policy never to send\\nunwanted email messages. This message has been sent to zzzz@example.com\\nbecause you originally joined one of our member sites or you signed up\\nwith a party that has contracted with atomicDOT. Please\\nhttp://tilw.net/unsub.php?client=atomicDOT&amp;msgid=17090200005\\nto Unsubscribe (replying to this email WILL NOT unsubscribe you). \\n\\n\\n\\n\\n\\nTRCK:atomicDOT;mp*qhwqrwhlqf!frp;8;\\n\\n\\n</td>\n",
       "      <td>1</td>\n",
       "      <td>0355.94ebf637e4bd3db8a81c8ce68ecf681d</td>\n",
       "    </tr>\n",
       "    <tr>\n",
       "      <th>3</th>\n",
       "      <td>5% Guaranteed for Eight Years</td>\n",
       "      <td>\"IQ - Safe Harbor\" &lt;sh@insiq.us&gt;</td>\n",
       "      <td>Pocket the newest 8 year annuity!\\t Pocket the newest 8 year\\nannuity!\\t\\n \\t ...from Safe Harbor Financial\\t\\n \\t5% Guaranteed for 8 Years (effective yield)\\t \\n \\t8 Year Surrender Period\\t  \\t Please fax back contracts with\\na copy of your insurance\\nlicense to 215-564-0155.\\nClick Here to Contract &lt;http://iiq.us/images/sh/0903/sh_mony_app.pdf&gt;  \\t\\n \\tIssued to Age 90\\t \\n \\tA Rated Company\\t \\n \\tAlternative 10 Year Guaranteed Plan\\t \\n\\nCall today for more information!\\n \\n- or -\\n\\nPlease fill out the form below for more information\\t \\nName:\\t \\t  \\t\\nAddress:\\t \\t \\nCity:\\t       State:       Zip:  \\t\\nPhone:\\t       Fax:  \\t\\nE-mail:\\t \\t \\n \\t    \\t\\n \\n  \\nWe don't want anyone to receive our mailings who does not wish to\\nreceive them. This is a professional communication sent to insurance\\nprofessionals. To be removed from this mailing list, DO NOT REPLY to\\nthis message. Instead, go here: http://www.insuranceiq.com/optout\\n&lt;http://www.insuranceiq.com/optout/&gt; \\n\\nLegal Notice &lt;http://www.insiq.com/legal.htm&gt; \\n</td>\n",
       "      <td>1</td>\n",
       "      <td>0395.bb934e8b4c39d5eab38f828a26f760b4</td>\n",
       "    </tr>\n",
       "    <tr>\n",
       "      <th>4</th>\n",
       "      <td>Congratulations! You Get a Free Handheld Organizer!</td>\n",
       "      <td>Customer Service &lt;greatoffers@sendgreatoffers.com&gt;</td>\n",
       "      <td>Pocket the newest 8 year annuity!\\t Pocket the newest 8 year\\nannuity!\\t\\n \\t ...from Safe Harbor Financial\\t\\n \\t5% Guaranteed for 8 Years (effective yield)\\t \\n \\t8 Year Surrender Period\\t  \\t Please fax back contracts with\\na copy of your insurance\\nlicense to 215-564-0155.\\nClick Here to Contract &lt;http://iiq.us/images/sh/0903/sh_mony_app.pdf&gt;  \\t\\n \\tIssued to Age 90\\t \\n \\tA Rated Company\\t \\n \\tAlternative 10 Year Guaranteed Plan\\t \\n\\nCall today for more information!\\n \\n- or -\\n\\nPlease fill out the form below for more information\\t \\nName:\\t \\t  \\t\\nAddress:\\t \\t \\nCity:\\t       State:       Zip:  \\t\\nPhone:\\t       Fax:  \\t\\nE-mail:\\t \\t \\n \\t    \\t\\n \\n  \\nWe don't want anyone to receive our mailings who does not wish to\\nreceive them. This is a professional communication sent to insurance\\nprofessionals. To be removed from this mailing list, DO NOT REPLY to\\nthis message. Instead, go here: http://www.insuranceiq.com/optout\\n&lt;http://www.insuranceiq.com/optout/&gt; \\n\\nLegal Notice &lt;http://www.insiq.com/legal.htm&gt; \\n</td>\n",
       "      <td>1</td>\n",
       "      <td>0485.9021367278833179285091e5201f5854</td>\n",
       "    </tr>\n",
       "    <tr>\n",
       "      <th>...</th>\n",
       "      <td>...</td>\n",
       "      <td>...</td>\n",
       "      <td>...</td>\n",
       "      <td>...</td>\n",
       "      <td>...</td>\n",
       "    </tr>\n",
       "    <tr>\n",
       "      <th>9349</th>\n",
       "      <td>RE: [Razor-users] What's wrong with the Razor servers now?</td>\n",
       "      <td>\"Rose, Bobby\" &lt;brose@med.wayne.edu&gt;</td>\n",
       "      <td>I'm one of the 30,000 but it's not working very well this week with the\\nTES updates and servers not syncing.  \\n\\n-----Original Message-----\\nFrom: Jordan Ritter [mailto:jpr5@darkridge.com] \\nSent: Thursday, August 08, 2002 4:45 PM\\nTo: razor-users@example.sourceforge.net\\nSubject: Re: [Razor-users] What's wrong with the Razor servers now?\\n\\n\\nOn Thu, Aug 08, 2002 at 01:36:15PM -0700, Craig R.Hughes wrote:\\n\\n# Razor2 seems to have been a long time in coming, [...] and doesn't #\\ncurrently work.\\n\\nQuite a strong statement, Craig, one which over 30,000 active users a\\nday would strongly disagree with.\\n\\n\\n--jordan\\n\\n\\n-------------------------------------------------------\\nThis sf.net email is sponsored by:ThinkGeek\\nWelcome to geek heaven.\\nhttp://thinkgeek.com/sf\\n_______________________________________________\\nRazor-users mailing list\\nRazor-users@lists.sourceforge.net\\nhttps://lists.sourceforge.net/lists/listinfo/razor-users\\n\\n\\n</td>\n",
       "      <td>0</td>\n",
       "      <td>00609.dd49926ce94a1ea328cce9b62825bc97</td>\n",
       "    </tr>\n",
       "    <tr>\n",
       "      <th>9350</th>\n",
       "      <td>Re: W3C approves HTML 4 'emotitags' [...]</td>\n",
       "      <td>harley@argote.ch (Robert Harley)</td>\n",
       "      <td>Damien Morton quoted:\\n&gt;W3C approves HTML 4 'emotitags' - Now you'll be able to say it with feeling\\n\\n&gt;&gt;From The Rockall Times (http://www.therockalltimes.co.uk/), definitely\\nthe source of much funniness.\\n\\n\\nR\\nhttp://xent.com/mailman/listinfo/fork\\n\\n\\n</td>\n",
       "      <td>0</td>\n",
       "      <td>00957.e0b56b117f3ec5f85e432a9d2a47801f</td>\n",
       "    </tr>\n",
       "    <tr>\n",
       "      <th>9351</th>\n",
       "      <td>Re: Ximian apt repos?</td>\n",
       "      <td>Mark Derricutt &lt;mark@talios.com&gt;</td>\n",
       "      <td>On Mon, 2002-07-22 at 06:50, che wrote:\\n\\n&gt; thats the correct lines to be added to sources.list for the repository\\n&gt; i just did a apt-get install gnome-session its still progressing :)\\n\\nExcellent - might give it a bash tonight :)\\n\\n\\n_______________________________________________\\nRPM-List mailing list &lt;RPM-List@freshrpms.net&gt;\\nhttp://lists.freshrpms.net/mailman/listinfo/rpm-list\\n\\n\\n</td>\n",
       "      <td>0</td>\n",
       "      <td>01127.841233b48eceb74a825417d8d918abf8</td>\n",
       "    </tr>\n",
       "    <tr>\n",
       "      <th>9352</th>\n",
       "      <td>Re: Installing RPM</td>\n",
       "      <td>Matthias Saou &lt;matthias@egwn.net&gt;</td>\n",
       "      <td>Once upon a time, Manfred wrote :\\n\\n&gt; I would like to install RPM itself. I have tried to get the information\\n&gt; by visiting www.rpm.org &lt;http://www.rpm.org&gt;  and the related links they\\n&gt; give but they all seems to assume that RPM already is installed.\\n&gt; I have a firewall based on linux-2.2.20 (Smoothwall) for private use.\\n&gt; I would like to install the RPM package/program but there is no\\n&gt; information how to do this from scratch.\\n&gt; Found this site and hopefully some have the knowledge.\\n&gt; Best regards Manfred Grobosch\\n\\nWell, you can simply use an rpm tarball (or extract one from a source rpm\\non a machine that has rpm scripts install \"rpm2cpio &lt;file.src.rpm&gt; | cpio\\n-dimv\" and \"./configure &amp;&amp; make &amp;&amp; make install\" as usual. You need db3 or\\ndb4 development files at least, and once everything installed you'll need\\nto initialize your rpm database.\\n\\nIf you need more help, I suggest you join the rpm-list@redhat.com by\\nsubscribing at https://listman.redhat.com/\\n\\nMatthias\\n\\n-- \\nMatthias Saou                                World Trade Center\\n-------------                                Edificio Norte 4 Planta\\nSystem and Network Engineer                  08039 Barcelona, Spain\\nElectronic Group Interactive                 Phone : +34 936 00 23 23\\n\\n_______________________________________________\\nRPM-List mailing list &lt;RPM-List@freshrpms.net&gt;\\nhttp://lists.freshrpms.net/mailman/listinfo/rpm-list\\n\\n\\n</td>\n",
       "      <td>0</td>\n",
       "      <td>01178.5c977dff972cd6eef64d4173b90307f0</td>\n",
       "    </tr>\n",
       "    <tr>\n",
       "      <th>9353</th>\n",
       "      <td>scan bug: no update after Pick's \"New FTOC\"</td>\n",
       "      <td>Brent Welch &lt;welch@panasas.com&gt;</td>\n",
       "      <td>If you run Pick, and then use the \"New FTOC\" button to show only\\nthose messages selected by pick, then the ftoc display was considered\\n\"invalid\" in the old code.  This prevented the display from being cached,\\nand it meant that you could get back to the full folder display by\\nclicking on the folder lablel.  That doesn't work anymore.  You have\\nto resort to Rescan Folder.  In fact, when you change folders you\\ncontinue to have the Pick results, not the new folder contents.\\nIf you go to a any folder and do Rescan, then it heals itself.\\n--\\nBrent Welch\\nSoftware Architect, Panasas Inc\\nPioneering the World's Most Scalable and Agile Storage Network\\nwww.panasas.com\\nwelch@panasas.com\\n\\n\\n\\n\\n_______________________________________________\\nExmh-workers mailing list\\nExmh-workers@redhat.com\\nhttps://listman.redhat.com/mailman/listinfo/exmh-workers\\n\\n\\n</td>\n",
       "      <td>0</td>\n",
       "      <td>00747.352d424267d36975a7b40b85ffd0885e</td>\n",
       "    </tr>\n",
       "  </tbody>\n",
       "</table>\n",
       "<p>9354 rows × 5 columns</p>\n",
       "</div>"
      ],
      "text/plain": [
       "                                                                Subject  \\\n",
       "0                                                                   NaN   \n",
       "1               Let us find the right mortgage lender for you      AFPE   \n",
       "2     Friend, Copy ANY DVD or Playstation Game with this software......   \n",
       "3                                         5% Guaranteed for Eight Years   \n",
       "4                   Congratulations! You Get a Free Handheld Organizer!   \n",
       "...                                                                 ...   \n",
       "9349         RE: [Razor-users] What's wrong with the Razor servers now?   \n",
       "9350                          Re: W3C approves HTML 4 'emotitags' [...]   \n",
       "9351                                              Re: Ximian apt repos?   \n",
       "9352                                                 Re: Installing RPM   \n",
       "9353                        scan bug: no update after Pick's \"New FTOC\"   \n",
       "\n",
       "                                                    From  \\\n",
       "0                                                    NaN   \n",
       "1                              pamela4701@eudoramail.com   \n",
       "2                  CopyYourDVD <atomica2020@hotmail.com>   \n",
       "3                       \"IQ - Safe Harbor\" <sh@insiq.us>   \n",
       "4     Customer Service <greatoffers@sendgreatoffers.com>   \n",
       "...                                                  ...   \n",
       "9349                 \"Rose, Bobby\" <brose@med.wayne.edu>   \n",
       "9350                    harley@argote.ch (Robert Harley)   \n",
       "9351                    Mark Derricutt <mark@talios.com>   \n",
       "9352                   Matthias Saou <matthias@egwn.net>   \n",
       "9353                     Brent Welch <welch@panasas.com>   \n",
       "\n",
       "                                                                                                                                                                                                                                                                                                                                                                                                                                                                                                                                                                                                                                                                                                                                                                                                                                                                                                                                                                                                                                                                                                                                                                                                                                                                                                                                                                                                                                                                                                                                                                                                                                                                                                                                                                                                                                                                                                          Body  \\\n",
       "0                                                                                                                                                                                                                                                                                                                                                                                                                                                                                                                                                                                                                                                                                                                                                                                                                                                                                                                                                                                                                                                                                                                                                                                                                                                                                                                                                                                                                                                                                                                                                                                                                                                                                                                                                                                                                                                                                                          NaN   \n",
       "1                                                                                                                                                                                                                                                                                                                                                                                                                                                                                                                                                                                                                                                                                                                                                                                                                                                                                                                                                                                                                                                                                                                                                                                                                                                                        Dear Homeowner,\\n \\nInterest Rates are at their lowest point in 40 years!\\n\\nWe help you find the best rate for your situation by\\nmatching your needs with hundreds of lenders!\\n\\nHome Improvement, Refinance, Second Mortgage,\\nHome Equity Loans, and More! Even with less than\\nperfect credit!\\n\\nThis service is 100% FREE to home owners and new\\nhome buyers without any obligation. \\n\\nJust fill out a quick, simple form and jump-start\\nyour future plans today!\\n\\n\\nVisit http://61.145.116.186/user0201/index.asp?Afft=QM10\\n\\n\\n\\n\\n\\n\\nTo unsubscribe, please visit:\\n\\nhttp://61.145.116.186/light/watch.asp\\n\\n\\n   \n",
       "2     Friend,Now you can copy DVD's and Games\\nhttp://www.terra.es/personal9/iop1008/\\n\\nBACKUP DVD VIDEO's WITH YOUR CD-R BURNER\\n\\nWith 321 studio's software, you can now copy\\nany DVD and Playstation Game.  Never buy another \\nbackup DVD movie again.  Just copy it!\\n\\nThis is the first time this software is being made\\navailable to the public. All the software you need \\nto burn your own DVD Video, is included in 321 Studio's \\nsoftware package DVD Copy Plus!  The movies will play \\nin a standard DVD player. With detailed, easy to follow, \\nstep-by-step instructions, you can BURN your own DVD \\nVideo using nothing more than your DVD-ROM \\nand CD-R drives. Purchase a copy! Click below.\\n\\nhttp://www.terra.es/personal9/iop1008/\\n\\nOrder today and receive!\\n\\n*Step by Step Interactive Instructions\\n*All Software Tools Included On CD\\n*No DVD Burner Required\\n*FREE Live Technical Support\\n*30 Day Risk Free Trial Available\\n\\nWith DVD Copy Plus you can backup Your DVD Movies with \\nthe same 74min or 80min CD-R's you've used in the past \\nto create audio CD's. Our software compresses the large \\nDVD files on your standard DVD to VCD, SVCD, and DivX \\nmuch the same way the popular MP3 format compresses audio.  \\nOrder today and start burning\\nhttp://www.terra.es/personal9/iop1008/\\n\\nThank You,\\n\\nCopymyDVD\\n\\n\\nhttp://inglesa.net/unsub.php?client=atomicDOT\\n\\n\\n\\nWe take your privacy very seriously and it is our policy never to send\\nunwanted email messages. This message has been sent to zzzz@example.com\\nbecause you originally joined one of our member sites or you signed up\\nwith a party that has contracted with atomicDOT. Please\\nhttp://tilw.net/unsub.php?client=atomicDOT&msgid=17090200005\\nto Unsubscribe (replying to this email WILL NOT unsubscribe you). \\n\\n\\n\\n\\n\\nTRCK:atomicDOT;mp*qhwqrwhlqf!frp;8;\\n\\n\\n   \n",
       "3                                                                                                                                                                                                                                                                                                                                                                                                                                                                                                                                                                                                                                                                                                                                                                                                                              Pocket the newest 8 year annuity!\\t Pocket the newest 8 year\\nannuity!\\t\\n \\t ...from Safe Harbor Financial\\t\\n \\t5% Guaranteed for 8 Years (effective yield)\\t \\n \\t8 Year Surrender Period\\t  \\t Please fax back contracts with\\na copy of your insurance\\nlicense to 215-564-0155.\\nClick Here to Contract <http://iiq.us/images/sh/0903/sh_mony_app.pdf>  \\t\\n \\tIssued to Age 90\\t \\n \\tA Rated Company\\t \\n \\tAlternative 10 Year Guaranteed Plan\\t \\n\\nCall today for more information!\\n \\n- or -\\n\\nPlease fill out the form below for more information\\t \\nName:\\t \\t  \\t\\nAddress:\\t \\t \\nCity:\\t       State:       Zip:  \\t\\nPhone:\\t       Fax:  \\t\\nE-mail:\\t \\t \\n \\t    \\t\\n \\n  \\nWe don't want anyone to receive our mailings who does not wish to\\nreceive them. This is a professional communication sent to insurance\\nprofessionals. To be removed from this mailing list, DO NOT REPLY to\\nthis message. Instead, go here: http://www.insuranceiq.com/optout\\n<http://www.insuranceiq.com/optout/> \\n\\nLegal Notice <http://www.insiq.com/legal.htm> \\n   \n",
       "4                                                                                                                                                                                                                                                                                                                                                                                                                                                                                                                                                                                                                                                                                                                                                                                                                              Pocket the newest 8 year annuity!\\t Pocket the newest 8 year\\nannuity!\\t\\n \\t ...from Safe Harbor Financial\\t\\n \\t5% Guaranteed for 8 Years (effective yield)\\t \\n \\t8 Year Surrender Period\\t  \\t Please fax back contracts with\\na copy of your insurance\\nlicense to 215-564-0155.\\nClick Here to Contract <http://iiq.us/images/sh/0903/sh_mony_app.pdf>  \\t\\n \\tIssued to Age 90\\t \\n \\tA Rated Company\\t \\n \\tAlternative 10 Year Guaranteed Plan\\t \\n\\nCall today for more information!\\n \\n- or -\\n\\nPlease fill out the form below for more information\\t \\nName:\\t \\t  \\t\\nAddress:\\t \\t \\nCity:\\t       State:       Zip:  \\t\\nPhone:\\t       Fax:  \\t\\nE-mail:\\t \\t \\n \\t    \\t\\n \\n  \\nWe don't want anyone to receive our mailings who does not wish to\\nreceive them. This is a professional communication sent to insurance\\nprofessionals. To be removed from this mailing list, DO NOT REPLY to\\nthis message. Instead, go here: http://www.insuranceiq.com/optout\\n<http://www.insuranceiq.com/optout/> \\n\\nLegal Notice <http://www.insiq.com/legal.htm> \\n   \n",
       "...                                                                                                                                                                                                                                                                                                                                                                                                                                                                                                                                                                                                                                                                                                                                                                                                                                                                                                                                                                                                                                                                                                                                                                                                                                                                                                                                                                                                                                                                                                                                                                                                                                                                                                                                                                                                                                                                                                        ...   \n",
       "9349                                                                                                                                                                                                                                                                                                                                                                                                                                                                                                                                                                                                                                                                                                                                                                                                                                                                                                                I'm one of the 30,000 but it's not working very well this week with the\\nTES updates and servers not syncing.  \\n\\n-----Original Message-----\\nFrom: Jordan Ritter [mailto:jpr5@darkridge.com] \\nSent: Thursday, August 08, 2002 4:45 PM\\nTo: razor-users@example.sourceforge.net\\nSubject: Re: [Razor-users] What's wrong with the Razor servers now?\\n\\n\\nOn Thu, Aug 08, 2002 at 01:36:15PM -0700, Craig R.Hughes wrote:\\n\\n# Razor2 seems to have been a long time in coming, [...] and doesn't #\\ncurrently work.\\n\\nQuite a strong statement, Craig, one which over 30,000 active users a\\nday would strongly disagree with.\\n\\n\\n--jordan\\n\\n\\n-------------------------------------------------------\\nThis sf.net email is sponsored by:ThinkGeek\\nWelcome to geek heaven.\\nhttp://thinkgeek.com/sf\\n_______________________________________________\\nRazor-users mailing list\\nRazor-users@lists.sourceforge.net\\nhttps://lists.sourceforge.net/lists/listinfo/razor-users\\n\\n\\n   \n",
       "9350                                                                                                                                                                                                                                                                                                                                                                                                                                                                                                                                                                                                                                                                                                                                                                                                                                                                                                                                                                                                                                                                                                                                                                                                                                                                                                                                                                                                                                                                                                                                                                                                                                        Damien Morton quoted:\\n>W3C approves HTML 4 'emotitags' - Now you'll be able to say it with feeling\\n\\n>>From The Rockall Times (http://www.therockalltimes.co.uk/), definitely\\nthe source of much funniness.\\n\\n\\nR\\nhttp://xent.com/mailman/listinfo/fork\\n\\n\\n   \n",
       "9351                                                                                                                                                                                                                                                                                                                                                                                                                                                                                                                                                                                                                                                                                                                                                                                                                                                                                                                                                                                                                                                                                                                                                                                                                                                                                                                                                                                                                                                                                                On Mon, 2002-07-22 at 06:50, che wrote:\\n\\n> thats the correct lines to be added to sources.list for the repository\\n> i just did a apt-get install gnome-session its still progressing :)\\n\\nExcellent - might give it a bash tonight :)\\n\\n\\n_______________________________________________\\nRPM-List mailing list <RPM-List@freshrpms.net>\\nhttp://lists.freshrpms.net/mailman/listinfo/rpm-list\\n\\n\\n   \n",
       "9352                                                                                                                                                                                                                                                                                                                                                                                                               Once upon a time, Manfred wrote :\\n\\n> I would like to install RPM itself. I have tried to get the information\\n> by visiting www.rpm.org <http://www.rpm.org>  and the related links they\\n> give but they all seems to assume that RPM already is installed.\\n> I have a firewall based on linux-2.2.20 (Smoothwall) for private use.\\n> I would like to install the RPM package/program but there is no\\n> information how to do this from scratch.\\n> Found this site and hopefully some have the knowledge.\\n> Best regards Manfred Grobosch\\n\\nWell, you can simply use an rpm tarball (or extract one from a source rpm\\non a machine that has rpm scripts install \"rpm2cpio <file.src.rpm> | cpio\\n-dimv\" and \"./configure && make && make install\" as usual. You need db3 or\\ndb4 development files at least, and once everything installed you'll need\\nto initialize your rpm database.\\n\\nIf you need more help, I suggest you join the rpm-list@redhat.com by\\nsubscribing at https://listman.redhat.com/\\n\\nMatthias\\n\\n-- \\nMatthias Saou                                World Trade Center\\n-------------                                Edificio Norte 4 Planta\\nSystem and Network Engineer                  08039 Barcelona, Spain\\nElectronic Group Interactive                 Phone : +34 936 00 23 23\\n\\n_______________________________________________\\nRPM-List mailing list <RPM-List@freshrpms.net>\\nhttp://lists.freshrpms.net/mailman/listinfo/rpm-list\\n\\n\\n   \n",
       "9353                                                                                                                                                                                                                                                                                                                                                                                                                                                                                                                                                                                                                                                                                                                                                                                                                                                                                                                                                                                                       If you run Pick, and then use the \"New FTOC\" button to show only\\nthose messages selected by pick, then the ftoc display was considered\\n\"invalid\" in the old code.  This prevented the display from being cached,\\nand it meant that you could get back to the full folder display by\\nclicking on the folder lablel.  That doesn't work anymore.  You have\\nto resort to Rescan Folder.  In fact, when you change folders you\\ncontinue to have the Pick results, not the new folder contents.\\nIf you go to a any folder and do Rescan, then it heals itself.\\n--\\nBrent Welch\\nSoftware Architect, Panasas Inc\\nPioneering the World's Most Scalable and Agile Storage Network\\nwww.panasas.com\\nwelch@panasas.com\\n\\n\\n\\n\\n_______________________________________________\\nExmh-workers mailing list\\nExmh-workers@redhat.com\\nhttps://listman.redhat.com/mailman/listinfo/exmh-workers\\n\\n\\n   \n",
       "\n",
       "      isSpam                                  FileID  \n",
       "0          1                               .DS_Store  \n",
       "1          1  00249.5f45607c1bffe89f60ba1ec9f878039a  \n",
       "2          1   0355.94ebf637e4bd3db8a81c8ce68ecf681d  \n",
       "3          1   0395.bb934e8b4c39d5eab38f828a26f760b4  \n",
       "4          1   0485.9021367278833179285091e5201f5854  \n",
       "...      ...                                     ...  \n",
       "9349       0  00609.dd49926ce94a1ea328cce9b62825bc97  \n",
       "9350       0  00957.e0b56b117f3ec5f85e432a9d2a47801f  \n",
       "9351       0  01127.841233b48eceb74a825417d8d918abf8  \n",
       "9352       0  01178.5c977dff972cd6eef64d4173b90307f0  \n",
       "9353       0  00747.352d424267d36975a7b40b85ffd0885e  \n",
       "\n",
       "[9354 rows x 5 columns]"
      ]
     },
     "execution_count": 25,
     "metadata": {},
     "output_type": "execute_result"
    }
   ],
   "source": [
    "df"
   ]
  },
  {
   "cell_type": "code",
   "execution_count": 3,
   "metadata": {},
   "outputs": [],
   "source": [
    "pd.set_option('display.max_rows', 200)\n",
    "pd.set_option('display.max_columns', 200)"
   ]
  },
  {
   "cell_type": "markdown",
   "metadata": {},
   "source": [
    "Build a spam classifier using naive Bayes and clustering. You will have to create your own dataset from the input messages. Be sure to document how you created your dataset."
   ]
  },
  {
   "cell_type": "code",
   "execution_count": 4,
   "metadata": {},
   "outputs": [],
   "source": [
    "df = pd.read_csv(\"../test.csv\", header=0)"
   ]
  },
  {
   "cell_type": "code",
   "execution_count": 5,
   "metadata": {},
   "outputs": [
    {
     "data": {
      "text/plain": [
       "0    6954\n",
       "1    2399\n",
       "Name: isSpam, dtype: int64"
      ]
     },
     "execution_count": 5,
     "metadata": {},
     "output_type": "execute_result"
    }
   ],
   "source": [
    "df[\"isSpam\"].value_counts()"
   ]
  },
  {
   "cell_type": "code",
   "execution_count": 6,
   "metadata": {
    "scrolled": true
   },
   "outputs": [
    {
     "data": {
      "text/plain": [
       "Subject    25\n",
       "From        6\n",
       "Body        0\n",
       "isSpam      0\n",
       "FileID      0\n",
       "dtype: int64"
      ]
     },
     "execution_count": 6,
     "metadata": {},
     "output_type": "execute_result"
    }
   ],
   "source": [
    "df.isna().sum()"
   ]
  },
  {
   "cell_type": "code",
   "execution_count": 10,
   "metadata": {},
   "outputs": [
    {
     "data": {
      "text/html": [
       "<div>\n",
       "<style scoped>\n",
       "    .dataframe tbody tr th:only-of-type {\n",
       "        vertical-align: middle;\n",
       "    }\n",
       "\n",
       "    .dataframe tbody tr th {\n",
       "        vertical-align: top;\n",
       "    }\n",
       "\n",
       "    .dataframe thead th {\n",
       "        text-align: right;\n",
       "    }\n",
       "</style>\n",
       "<table border=\"1\" class=\"dataframe\">\n",
       "  <thead>\n",
       "    <tr style=\"text-align: right;\">\n",
       "      <th></th>\n",
       "      <th>Subject</th>\n",
       "      <th>From</th>\n",
       "      <th>Body</th>\n",
       "      <th>isSpam</th>\n",
       "      <th>FileID</th>\n",
       "    </tr>\n",
       "  </thead>\n",
       "  <tbody>\n",
       "    <tr>\n",
       "      <th>0</th>\n",
       "      <td>Let us find the right mortgage lender for you      AFPE</td>\n",
       "      <td>pamela4701@eudoramail.com</td>\n",
       "      <td>b'Dear Homeowner,\\n \\nInterest Rates are at their lowest point in 40 years!\\n\\nWe help you find the best rate for your situation by\\nmatching your needs with hundreds of lenders!\\n\\nHome Improvement, Refinance, Second Mortgage,\\nHome Equity Loans, and More! Even with less than\\nperfect credit!\\n\\nThis service is 100% FREE to home owners and new\\nhome buyers without any obligation. \\n\\nJust fill out a quick, simple form and jump-start\\nyour future plans today!\\n\\n\\nVisit http://61.145.116.186/user0201/index.asp?Afft=QM10\\n\\n\\n\\n\\n\\n\\nTo unsubscribe, please visit:\\n\\nhttp://61.145.116.186/light/watch.asp\\n\\n\\n'</td>\n",
       "      <td>1</td>\n",
       "      <td>00249.5f45607c1bffe89f60ba1ec9f878039a</td>\n",
       "    </tr>\n",
       "    <tr>\n",
       "      <th>1</th>\n",
       "      <td>Friend, Copy ANY DVD or Playstation Game with this software......</td>\n",
       "      <td>CopyYourDVD &lt;atomica2020@hotmail.com&gt;</td>\n",
       "      <td>b\"Friend,Now you can copy DVD's and Games\\nhttp://www.terra.es/personal9/iop1008/\\n\\nBACKUP DVD VIDEO's WITH YOUR CD-R BURNER\\n\\nWith 321 studio's software, you can now copy\\nany DVD and Playstation Game.  Never buy another \\nbackup DVD movie again.  Just copy it!\\n\\nThis is the first time this software is being made\\navailable to the public. All the software you need \\nto burn your own DVD Video, is included in 321 Studio's \\nsoftware package DVD Copy Plus!  The movies will play \\nin a standard DVD player. With detailed, easy to follow, \\nstep-by-step instructions, you can BURN your own DVD \\nVideo using nothing more than your DVD-ROM \\nand CD-R drives. Purchase a copy! Click below.\\n\\nhttp://www.terra.es/personal9/iop1008/\\n\\nOrder today and receive!\\n\\n*Step by Step Interactive Instructions\\n*All Software Tools Included On CD\\n*No DVD Burner Required\\n*FREE Live Technical Support\\n*30 Day Risk Free Trial Available\\n\\nWith DVD Copy Plus you can backup Your DVD Movies with \\nthe same 74min or 80min CD-R's you've used in the past \\nto create audio CD's. Our software compresses the large \\nDVD files on your standard DVD to VCD, SVCD, and DivX \\nmuch the same way the popular MP3 format compresses audio.  \\nOrder today and start burning\\nhttp://www.terra.es/personal9/iop1008/\\n\\nThank You,\\n\\nCopymyDVD\\n\\n\\nhttp://inglesa.net/unsub.php?client=atomicDOT\\n\\n\\n\\nWe take your privacy very seriously and it is our policy never to send\\nunwanted email messages. This message has been sent to zzzz@example.com\\nbecause you originally joined one of our member sites or you signed up\\nwith a party that has contracted with atomicDOT. Please\\nhttp://tilw.net/unsub.php?client=atomicDOT&amp;msgid=17090200005\\nto Unsubscribe (replying to this email WILL NOT unsubscribe you). \\n\\n\\n\\n\\n\\nTRCK:atomicDOT;mp*qhwqrwhlqf!frp;8;\\n\\n\\n\"</td>\n",
       "      <td>1</td>\n",
       "      <td>0355.94ebf637e4bd3db8a81c8ce68ecf681d</td>\n",
       "    </tr>\n",
       "    <tr>\n",
       "      <th>2</th>\n",
       "      <td>5% Guaranteed for Eight Years</td>\n",
       "      <td>IQ - Safe Harbor &lt;sh@insiq.us&gt;</td>\n",
       "      <td>b\" Pocket the newest 8 year annuity!\\t Pocket the newest 8 year\\nannuity!\\t\\n \\t ...from Safe Harbor Financial\\t\\n \\t5% Guaranteed for 8 Years (effective yield)\\t \\n \\t8 Year Surrender Period\\t  \\t Please fax back contracts with\\na copy of your insurance\\nlicense to 215-564-0155.\\nClick Here to Contract &lt;http://iiq.us/images/sh/0903/sh_mony_app.pdf&gt;  \\t\\n \\tIssued to Age 90\\t \\n \\tA Rated Company\\t \\n \\tAlternative 10 Year Guaranteed Plan\\t \\n\\nCall today for more information!\\n \\n- or -\\n\\nPlease fill out the form below for more information\\t \\nName:\\t \\t  \\t\\nAddress:\\t \\t \\nCity:\\t       State:       Zip:  \\t\\nPhone:\\t       Fax:  \\t\\nE-mail:\\t \\t \\n \\t    \\t\\n \\n  \\nWe don't want anyone to receive our mailings who does not wish to\\nreceive them. This is a professional communication sent to insurance\\nprofessionals. To be removed from this mailing list, DO NOT REPLY to\\nthis message. Instead, go here: http://www.insuranceiq.com/optout\\n&lt;http://www.insuranceiq.com/optout/&gt; \\n\\nLegal Notice &lt;http://www.insiq.com/legal.htm&gt; \\n\"</td>\n",
       "      <td>1</td>\n",
       "      <td>0395.bb934e8b4c39d5eab38f828a26f760b4</td>\n",
       "    </tr>\n",
       "    <tr>\n",
       "      <th>3</th>\n",
       "      <td>Congratulations! You Get a Free Handheld Organizer!</td>\n",
       "      <td>Customer Service &lt;greatoffers@sendgreatoffers.com&gt;</td>\n",
       "      <td>b'&lt;html&gt;&lt;head&gt;\\n&lt;title&gt;Congratulations! You Get a Free Handheld Organizer!&lt;/title&gt;\\n&lt;/head&gt;&lt;img src=\"http://www.ahamembership.com/cgi-bin/check_opens.cgi?acct_code=SG004\" width=1 height=1&gt;&lt;body bgcolor=\"#ffffff\" text=\"#000000\"&gt;\\n\\n&lt;center&gt;\\n\\n\\n&lt;table width=\"642\" border=\"0\" cellpadding=\"0\" cellspacing=\"0\"&gt;\\n&lt;tr&gt;&lt;td colspan=\"3\"&gt;&lt;img src=\"http://www.ahamembership.com/assoc_images/7.3-header-PDA.gif\" hspace=\"0\"\\n     &gt;&lt;/td&gt;&lt;/tr&gt;&lt;tr&gt;&lt;td width=\"4\" background=\"http://www.ahamembership.com/assoc_images/red-vertical.gif\"&gt;\\n&lt;/td&gt;&lt;td width=\"600\"&gt;\\n\\n\\n\\n&lt;table border=\"0\" width=\"600\" cellpadding=\"0\" cellspacing=\"10\"&gt;\\n&lt;tr&gt;\\n            &lt;td valign=\"top\"&gt; &lt;A href=\"http://theadmanager.com/server/c.asp?ad_key=IAMVQXAAASEN&amp;ext=1\" &gt;\\n              &lt;/A&gt; &lt;font face=\"arial,helvetica\" size=\"2\"&gt;\\n              &lt;p&gt;Dear Friend,\\n              &lt;p&gt;I have your Personal Digital Organizer. It\\'s FREE, but I need to know where to send it. &lt;A href=\"http://theadmanager.com/server/c.asp?ad_key=IAMVQXAAASEN&amp;ext=1\" &gt;Click\\n                Here&lt;/A&gt; and complete the form.\\n              &lt;p&gt;        Organize your life and keep track of\\n            appointments, names and numbers with this modern digital organizer.\\n            Store up to 100 important text notes and 100 names/numbers.\\n            Features easy to use, touch-screen technology, 10 digit calculator,\\n            currency and metric converters, alarm clock and password\\n            protection.&lt;BR&gt;&lt;BR&gt;Plus you can try all of our money-saving benefits\\n            FREE for 30 days. &lt;A\\n            href=\"http://theadmanager.com/server/c.asp?ad_key=IAMVQXAAASEN&amp;ext=1\"&gt;Act\\n            Now!&lt;/A&gt;\\n\\n\\n\\n\\n              &lt;/font&gt;&lt;/P&gt;&lt;/td&gt;\\n            &lt;td valign=\"top\"&gt; &lt;font face=\"arial,helvetica\" size=\"2\"&gt;\\n              &lt;p&gt;&lt;A href=\"http://theadmanager.com/server/c.asp?ad_key=IAMVQXAAASEN&amp;ext=1\" &gt;&lt;img src=\"http://www.ahamembership.com/assoc_images/pdaimage.gif\" border=\"0\"&gt;&lt;/A&gt;\\n              &lt;/font&gt;&lt;/P&gt;&lt;/td&gt;\\n          &lt;/tr&gt;&lt;tr&gt;&lt;td valign=\"top\" colspan=\"2\"&gt;\\n\\n&lt;center&gt;\\n&lt;table border=\"0\" width=\"590\" cellpadding=\"0\" cellspacing=\"0\"&gt;\\n&lt;tr&gt;&lt;td valign=\"top\"&gt;\\n&lt;font face=\"arial,helvetica\" size=\"2\"&gt;\\n&lt;p&gt;\\nYou also get a full subscription to HOME Magazine at no additional cost!\\n&lt;A href=\"http://theadmanager.com/server/c.asp?ad_key=IAMVQXAAASEN&amp;ext=1\" &gt;\\nThis offer is risk-free&lt;/A&gt;, registration only takes a minute and is completely secure.\\nIt\\'s that easy. Your satisfaction is guaranteed because our credibility is on the line.\\n&lt;p&gt;\\n&lt;A href=\"http://theadmanager.com/server/c.asp?ad_key=IAMVQXAAASEN&amp;ext=1\" &gt;P.S.:\\nThis offer is only valid for the next 48 hours, so Act Now!&lt;/A&gt; &lt;/p&gt;\\n\\n\\n&lt;center&gt;\\n&lt;A href=\"http://theadmanager.com/server/c.asp?ad_key=IAMVQXAAASEN&amp;ext=1\" &gt;\\n&lt;img src=\"http://www.ahamembership.com/assoc_images/red-button.gif\" width=\"186\" height=\"34\" border=\"0\"&gt;&lt;/A&gt;\\n&lt;p&gt;\\n&lt;font face=\"Arial, Helvetica, sans-serif\" size=\"1\"&gt;\\nCopyright 2002, American Homeowners Association (AHA). All rights reserved.&lt;/font&gt;\\n&lt;/center&gt;\\n&lt;/font&gt;&lt;/P&gt;&lt;/td&gt;&lt;/tr&gt;&lt;/table&gt;\\n&lt;/center&gt;&lt;/td&gt;&lt;/tr&gt;&lt;/table&gt;\\n\\n\\n&lt;/td&gt;&lt;td width=\"3\" background=\"http://www.ahamembership.com/assoc_images/red-vertical.gif\"&gt; &lt;/td&gt;&lt;/tr&gt;&lt;tr&gt;&lt;td colspan=\"3\"&gt;\\n&lt;img src=\"http://www.ahamembership.com/assoc_images/red-bottom.gif\" width=\"642\" height=\"43\"&gt;\\n&lt;/td&gt;&lt;/tr&gt;&lt;/table&gt;\\n\\n&lt;/center&gt;\\n\\n&lt;img src=\"http://admanmail.com/server/t.asp?ad_key=IAMVQXAAASEN\" width=\"1\" height=\"1\" hspace=\"0\" vspace=\"0\" border=\"0\" alt=\"T\"&gt;\\n&lt;hr size=\"1\" noshade&gt;\\n&lt;font face=\"Arial\" size=\"1\" color=\"#000000\"&gt;\\nYou are receiving this mailing because you are a\\nmember of SendGreatOffers.com and subscribed as:JM@NETNOTEINC.COM\\nTo unsubscribe &lt;a href=\"http://admanmail.com/subscription.asp?em=JM@NETNOTEINC.COM&amp;l=SGO\"&gt;\\n&lt;font face=\"arial\" size=\"1\" color=\"#000000\"&gt;Click Here&lt;/a&gt;\\n(http://admanmail.com/subscription.asp?em=JM@NETNOTEINC.COM&amp;l=SGO)\\nor reply to this email with REMOVE in the subject line - you must\\nalso include the body of this message to be unsubscribed. Any correspondence about\\nthe products/services should be directed to\\nthe company in the ad.\\n%EM%JM@NETNOTEINC.COM%/EM%\\n&lt;BR&gt;&lt;/FONT&gt; &lt;/body&gt; &lt;/html&gt;\\n\\n\\n'</td>\n",
       "      <td>1</td>\n",
       "      <td>0485.9021367278833179285091e5201f5854</td>\n",
       "    </tr>\n",
       "    <tr>\n",
       "      <th>4</th>\n",
       "      <td>PROTECT YOUR INFORMATION AND YOUR COMPUTER</td>\n",
       "      <td>don &lt;apf@wu-wien.ac.at&gt;</td>\n",
       "      <td>b'ATTENTION: This is a MUST for ALL Computer Users!!!\\n\\n*NEW-Special Package Deal!*\\n\\nNorton SystemWorks 2002 Software Suite -Professional Edition-\\n\\nIncludes Six - Yes 6! - Feature-Packed Utilities\\nALL For 1 Special LOW Price!\\n\\nThis Software Will:\\n- Protect your computer from unwanted and hazardous viruses\\n- Help secure your private &amp; valuable information\\n- Allow you to transfer files and send e-mails safely\\n- Backup your ALL your data quick and easily\\n- Improve your PC\\'s performance w/superior integral diagnostics!\\n\\n6 Feature-Packed Utilities...1 Great Price!\\nA $300+ Combined Retail Value!\\n\\nYOURS for Only $29.99!  &lt;Includes FREE Shipping!&gt;\\n\\nDon\\'t fall prey to destructive viruses or hackers!\\nProtect  your computer and your valuable information!\\n\\n\\nSo don\\'t delay...get your copy TODAY!\\n\\n\\nhttp://euro.specialdiscounts4u.com/\\n++++++++++++++++++++++++++++++++++++++++++++++++++++++++++++++++++++++++++++\\nThis email has been screened and filtered by our in house \"\"OPT-OUT\"\" system in \\ncompliance with state laws. If you wish to \"OPT-OUT\" from this mailing as well \\nas the lists of thousands  of other email providers please visit  \\n\\nhttp://dvd.specialdiscounts4u.com/optoutd.html\\n++++++++++++++++++++++++++++++++++++++++++++++++++++++++++++++++++++++++++++\\n\\n\\n'</td>\n",
       "      <td>1</td>\n",
       "      <td>00373.ebe8670ac56b04125c25100a36ab0510</td>\n",
       "    </tr>\n",
       "    <tr>\n",
       "      <th>...</th>\n",
       "      <td>...</td>\n",
       "      <td>...</td>\n",
       "      <td>...</td>\n",
       "      <td>...</td>\n",
       "      <td>...</td>\n",
       "    </tr>\n",
       "    <tr>\n",
       "      <th>9348</th>\n",
       "      <td>RE: [Razor-users] What's wrong with the Razor servers now?</td>\n",
       "      <td>\"Rose, Bobby\" &lt;brose@med.wayne.edu&gt;</td>\n",
       "      <td>b\"I'm one of the 30,000 but it's not working very well this week with the\\nTES updates and servers not syncing.  \\n\\n-----Original Message-----\\nFrom: Jordan Ritter [mailto:jpr5@darkridge.com] \\nSent: Thursday, August 08, 2002 4:45 PM\\nTo: razor-users@example.sourceforge.net\\nSubject: Re: [Razor-users] What's wrong with the Razor servers now?\\n\\n\\nOn Thu, Aug 08, 2002 at 01:36:15PM -0700, Craig R.Hughes wrote:\\n\\n# Razor2 seems to have been a long time in coming, [...] and doesn't #\\ncurrently work.\\n\\nQuite a strong statement, Craig, one which over 30,000 active users a\\nday would strongly disagree with.\\n\\n\\n--jordan\\n\\n\\n-------------------------------------------------------\\nThis sf.net email is sponsored by:ThinkGeek\\nWelcome to geek heaven.\\nhttp://thinkgeek.com/sf\\n_______________________________________________\\nRazor-users mailing list\\nRazor-users@lists.sourceforge.net\\nhttps://lists.sourceforge.net/lists/listinfo/razor-users\\n\\n\\n\"</td>\n",
       "      <td>0</td>\n",
       "      <td>00609.dd49926ce94a1ea328cce9b62825bc97</td>\n",
       "    </tr>\n",
       "    <tr>\n",
       "      <th>9349</th>\n",
       "      <td>Re: W3C approves HTML 4 'emotitags' [...]</td>\n",
       "      <td>harley@argote.ch</td>\n",
       "      <td>b\"Damien Morton quoted:\\n&gt;W3C approves HTML 4 'emotitags' - Now you'll be able to say it with feeling\\n\\n&gt;&gt;From The Rockall Times (http://www.therockalltimes.co.uk/), definitely\\nthe source of much funniness.\\n\\n\\nR\\nhttp://xent.com/mailman/listinfo/fork\\n\\n\\n\"</td>\n",
       "      <td>0</td>\n",
       "      <td>00957.e0b56b117f3ec5f85e432a9d2a47801f</td>\n",
       "    </tr>\n",
       "    <tr>\n",
       "      <th>9350</th>\n",
       "      <td>Re: Ximian apt repos?</td>\n",
       "      <td>Mark Derricutt &lt;mark@talios.com&gt;</td>\n",
       "      <td>b'On Mon, 2002-07-22 at 06:50, che wrote:\\n\\n&gt; thats the correct lines to be added to sources.list for the repository\\n&gt; i just did a apt-get install gnome-session its still progressing :)\\n\\nExcellent - might give it a bash tonight :)\\n\\n\\n_______________________________________________\\nRPM-List mailing list &lt;RPM-List@freshrpms.net&gt;\\nhttp://lists.freshrpms.net/mailman/listinfo/rpm-list\\n\\n\\n'</td>\n",
       "      <td>0</td>\n",
       "      <td>01127.841233b48eceb74a825417d8d918abf8</td>\n",
       "    </tr>\n",
       "    <tr>\n",
       "      <th>9351</th>\n",
       "      <td>Re: Installing RPM</td>\n",
       "      <td>Matthias Saou &lt;matthias@egwn.net&gt;</td>\n",
       "      <td>b'Once upon a time, Manfred wrote :\\n\\n&gt; I would like to install RPM itself. I have tried to get the information\\n&gt; by visiting www.rpm.org &lt;http://www.rpm.org&gt;  and the related links they\\n&gt; give but they all seems to assume that RPM already is installed.\\n&gt; I have a firewall based on linux-2.2.20 (Smoothwall) for private use.\\n&gt; I would like to install the RPM package/program but there is no\\n&gt; information how to do this from scratch.\\n&gt; Found this site and hopefully some have the knowledge.\\n&gt; Best regards Manfred Grobosch\\n\\nWell, you can simply use an rpm tarball (or extract one from a source rpm\\non a machine that has rpm scripts install \"rpm2cpio &lt;file.src.rpm&gt; | cpio\\n-dimv\" and \"./configure &amp;&amp; make &amp;&amp; make install\" as usual. You need db3 or\\ndb4 development files at least, and once everything installed you\\'ll need\\nto initialize your rpm database.\\n\\nIf you need more help, I suggest you join the rpm-list@redhat.com by\\nsubscribing at https://listman.redhat.com/\\n\\nMatthias\\n\\n-- \\nMatthias Saou                                World Trade Center\\n-------------                                Edificio Norte 4 Planta\\nSystem and Network Engineer                  08039 Barcelona, Spain\\nElectronic Group Interactive                 Phone : +34 936 00 23 23\\n\\n_______________________________________________\\nRPM-List mailing list &lt;RPM-List@freshrpms.net&gt;\\nhttp://lists.freshrpms.net/mailman/listinfo/rpm-list\\n\\n\\n'</td>\n",
       "      <td>0</td>\n",
       "      <td>01178.5c977dff972cd6eef64d4173b90307f0</td>\n",
       "    </tr>\n",
       "    <tr>\n",
       "      <th>9352</th>\n",
       "      <td>scan bug: no update after Pick's \"New FTOC\"</td>\n",
       "      <td>Brent Welch &lt;welch@panasas.com&gt;</td>\n",
       "      <td>b'If you run Pick, and then use the \"New FTOC\" button to show only\\nthose messages selected by pick, then the ftoc display was considered\\n\"invalid\" in the old code.  This prevented the display from being cached,\\nand it meant that you could get back to the full folder display by\\nclicking on the folder lablel.  That doesn\\'t work anymore.  You have\\nto resort to Rescan Folder.  In fact, when you change folders you\\ncontinue to have the Pick results, not the new folder contents.\\nIf you go to a any folder and do Rescan, then it heals itself.\\n--\\nBrent Welch\\nSoftware Architect, Panasas Inc\\nPioneering the World\\'s Most Scalable and Agile Storage Network\\nwww.panasas.com\\nwelch@panasas.com\\n\\n\\n\\n\\n_______________________________________________\\nExmh-workers mailing list\\nExmh-workers@redhat.com\\nhttps://listman.redhat.com/mailman/listinfo/exmh-workers\\n\\n\\n'</td>\n",
       "      <td>0</td>\n",
       "      <td>00747.352d424267d36975a7b40b85ffd0885e</td>\n",
       "    </tr>\n",
       "  </tbody>\n",
       "</table>\n",
       "<p>9353 rows × 5 columns</p>\n",
       "</div>"
      ],
      "text/plain": [
       "                                                                Subject  \\\n",
       "0               Let us find the right mortgage lender for you      AFPE   \n",
       "1     Friend, Copy ANY DVD or Playstation Game with this software......   \n",
       "2                                         5% Guaranteed for Eight Years   \n",
       "3                   Congratulations! You Get a Free Handheld Organizer!   \n",
       "4                            PROTECT YOUR INFORMATION AND YOUR COMPUTER   \n",
       "...                                                                 ...   \n",
       "9348         RE: [Razor-users] What's wrong with the Razor servers now?   \n",
       "9349                          Re: W3C approves HTML 4 'emotitags' [...]   \n",
       "9350                                              Re: Ximian apt repos?   \n",
       "9351                                                 Re: Installing RPM   \n",
       "9352                        scan bug: no update after Pick's \"New FTOC\"   \n",
       "\n",
       "                                                    From  \\\n",
       "0                              pamela4701@eudoramail.com   \n",
       "1                  CopyYourDVD <atomica2020@hotmail.com>   \n",
       "2                         IQ - Safe Harbor <sh@insiq.us>   \n",
       "3     Customer Service <greatoffers@sendgreatoffers.com>   \n",
       "4                                don <apf@wu-wien.ac.at>   \n",
       "...                                                  ...   \n",
       "9348                 \"Rose, Bobby\" <brose@med.wayne.edu>   \n",
       "9349                                    harley@argote.ch   \n",
       "9350                    Mark Derricutt <mark@talios.com>   \n",
       "9351                   Matthias Saou <matthias@egwn.net>   \n",
       "9352                     Brent Welch <welch@panasas.com>   \n",
       "\n",
       "                                                                                                                                                                                                                                                                                                                                                                                                                                                                                                                                                                                                                                                                                                                                                                                                                                                                                                                                                                                                                                                                                                                                                                                                                                                                                                                                                                                                                                                                                                                                                                                                                                                                                                                                                                                                                                                                                                                                                                                                                                                                                                                                                                                                                                                                                                                                                                                                                                                                                                                                                                                                                                                                                                                                                                                                                                                                                                                                                                                                                                                                                                                                                                                                                                                                                                                                                                                                                                                                                                                                                                                                                                                                                                                                                                                                                                                                                                                                                                                                                                                                                                                                                                                                                                                                                                 Body  \\\n",
       "0                                                                                                                                                                                                                                                                                                                                                                                                                                                                                                                                                                                                                                                                                                                                                                                                                                                                                                                                                                                                                                                                                                                                                                                                                                                                                                                                                                                                                                                                                                                                                                                                                                                                                                                                                                                                                                                                                                                                                                                                                                                                                                                                                                                                                                                                                                                                                                                                                                                                                                                                                                                                                                                                                                                                                                                                                                                                                                                                                                                                                                                                                                                                                                                                                                                                                                                                                                                                                                                                                                                                                                                                                                                            b'Dear Homeowner,\\n \\nInterest Rates are at their lowest point in 40 years!\\n\\nWe help you find the best rate for your situation by\\nmatching your needs with hundreds of lenders!\\n\\nHome Improvement, Refinance, Second Mortgage,\\nHome Equity Loans, and More! Even with less than\\nperfect credit!\\n\\nThis service is 100% FREE to home owners and new\\nhome buyers without any obligation. \\n\\nJust fill out a quick, simple form and jump-start\\nyour future plans today!\\n\\n\\nVisit http://61.145.116.186/user0201/index.asp?Afft=QM10\\n\\n\\n\\n\\n\\n\\nTo unsubscribe, please visit:\\n\\nhttp://61.145.116.186/light/watch.asp\\n\\n\\n'   \n",
       "1                                                                                                                                                                                                                                                                                                                                                                                                                                                                                                                                                                                                                                                                                                                                                                                                                                                                                                                                                                                                                                                                                                                                                                                                                                                                                                                                                                                                                                                                                                                                                                                                                                                                                                                                                                                                                                                                                                                                                                                                                                                                                                                                                                                                                                                                                                                                                                                         b\"Friend,Now you can copy DVD's and Games\\nhttp://www.terra.es/personal9/iop1008/\\n\\nBACKUP DVD VIDEO's WITH YOUR CD-R BURNER\\n\\nWith 321 studio's software, you can now copy\\nany DVD and Playstation Game.  Never buy another \\nbackup DVD movie again.  Just copy it!\\n\\nThis is the first time this software is being made\\navailable to the public. All the software you need \\nto burn your own DVD Video, is included in 321 Studio's \\nsoftware package DVD Copy Plus!  The movies will play \\nin a standard DVD player. With detailed, easy to follow, \\nstep-by-step instructions, you can BURN your own DVD \\nVideo using nothing more than your DVD-ROM \\nand CD-R drives. Purchase a copy! Click below.\\n\\nhttp://www.terra.es/personal9/iop1008/\\n\\nOrder today and receive!\\n\\n*Step by Step Interactive Instructions\\n*All Software Tools Included On CD\\n*No DVD Burner Required\\n*FREE Live Technical Support\\n*30 Day Risk Free Trial Available\\n\\nWith DVD Copy Plus you can backup Your DVD Movies with \\nthe same 74min or 80min CD-R's you've used in the past \\nto create audio CD's. Our software compresses the large \\nDVD files on your standard DVD to VCD, SVCD, and DivX \\nmuch the same way the popular MP3 format compresses audio.  \\nOrder today and start burning\\nhttp://www.terra.es/personal9/iop1008/\\n\\nThank You,\\n\\nCopymyDVD\\n\\n\\nhttp://inglesa.net/unsub.php?client=atomicDOT\\n\\n\\n\\nWe take your privacy very seriously and it is our policy never to send\\nunwanted email messages. This message has been sent to zzzz@example.com\\nbecause you originally joined one of our member sites or you signed up\\nwith a party that has contracted with atomicDOT. Please\\nhttp://tilw.net/unsub.php?client=atomicDOT&msgid=17090200005\\nto Unsubscribe (replying to this email WILL NOT unsubscribe you). \\n\\n\\n\\n\\n\\nTRCK:atomicDOT;mp*qhwqrwhlqf!frp;8;\\n\\n\\n\"   \n",
       "2                                                                                                                                                                                                                                                                                                                                                                                                                                                                                                                                                                                                                                                                                                                                                                                                                                                                                                                                                                                                                                                                                                                                                                                                                                                                                                                                                                                                                                                                                                                                                                                                                                                                                                                                                                                                                                                                                                                                                                                                                                                                                                                                                                                                                                                                                                                                                                                                                                                                                                                                                                                                                                                                                                                                                                                                                                                                                                                                                                                                                                                                                                                                                                                                                 b\" Pocket the newest 8 year annuity!\\t Pocket the newest 8 year\\nannuity!\\t\\n \\t ...from Safe Harbor Financial\\t\\n \\t5% Guaranteed for 8 Years (effective yield)\\t \\n \\t8 Year Surrender Period\\t  \\t Please fax back contracts with\\na copy of your insurance\\nlicense to 215-564-0155.\\nClick Here to Contract <http://iiq.us/images/sh/0903/sh_mony_app.pdf>  \\t\\n \\tIssued to Age 90\\t \\n \\tA Rated Company\\t \\n \\tAlternative 10 Year Guaranteed Plan\\t \\n\\nCall today for more information!\\n \\n- or -\\n\\nPlease fill out the form below for more information\\t \\nName:\\t \\t  \\t\\nAddress:\\t \\t \\nCity:\\t       State:       Zip:  \\t\\nPhone:\\t       Fax:  \\t\\nE-mail:\\t \\t \\n \\t    \\t\\n \\n  \\nWe don't want anyone to receive our mailings who does not wish to\\nreceive them. This is a professional communication sent to insurance\\nprofessionals. To be removed from this mailing list, DO NOT REPLY to\\nthis message. Instead, go here: http://www.insuranceiq.com/optout\\n<http://www.insuranceiq.com/optout/> \\n\\nLegal Notice <http://www.insiq.com/legal.htm> \\n\"   \n",
       "3     b'<html><head>\\n<title>Congratulations! You Get a Free Handheld Organizer!</title>\\n</head><img src=\"http://www.ahamembership.com/cgi-bin/check_opens.cgi?acct_code=SG004\" width=1 height=1><body bgcolor=\"#ffffff\" text=\"#000000\">\\n\\n<center>\\n\\n\\n<table width=\"642\" border=\"0\" cellpadding=\"0\" cellspacing=\"0\">\\n<tr><td colspan=\"3\"><img src=\"http://www.ahamembership.com/assoc_images/7.3-header-PDA.gif\" hspace=\"0\"\\n     ></td></tr><tr><td width=\"4\" background=\"http://www.ahamembership.com/assoc_images/red-vertical.gif\">\\n</td><td width=\"600\">\\n\\n\\n\\n<table border=\"0\" width=\"600\" cellpadding=\"0\" cellspacing=\"10\">\\n<tr>\\n            <td valign=\"top\"> <A href=\"http://theadmanager.com/server/c.asp?ad_key=IAMVQXAAASEN&ext=1\" >\\n              </A> <font face=\"arial,helvetica\" size=\"2\">\\n              <p>Dear Friend,\\n              <p>I have your Personal Digital Organizer. It\\'s FREE, but I need to know where to send it. <A href=\"http://theadmanager.com/server/c.asp?ad_key=IAMVQXAAASEN&ext=1\" >Click\\n                Here</A> and complete the form.\\n              <p>        Organize your life and keep track of\\n            appointments, names and numbers with this modern digital organizer.\\n            Store up to 100 important text notes and 100 names/numbers.\\n            Features easy to use, touch-screen technology, 10 digit calculator,\\n            currency and metric converters, alarm clock and password\\n            protection.<BR><BR>Plus you can try all of our money-saving benefits\\n            FREE for 30 days. <A\\n            href=\"http://theadmanager.com/server/c.asp?ad_key=IAMVQXAAASEN&ext=1\">Act\\n            Now!</A>\\n\\n\\n\\n\\n              </font></P></td>\\n            <td valign=\"top\"> <font face=\"arial,helvetica\" size=\"2\">\\n              <p><A href=\"http://theadmanager.com/server/c.asp?ad_key=IAMVQXAAASEN&ext=1\" ><img src=\"http://www.ahamembership.com/assoc_images/pdaimage.gif\" border=\"0\"></A>\\n              </font></P></td>\\n          </tr><tr><td valign=\"top\" colspan=\"2\">\\n\\n<center>\\n<table border=\"0\" width=\"590\" cellpadding=\"0\" cellspacing=\"0\">\\n<tr><td valign=\"top\">\\n<font face=\"arial,helvetica\" size=\"2\">\\n<p>\\nYou also get a full subscription to HOME Magazine at no additional cost!\\n<A href=\"http://theadmanager.com/server/c.asp?ad_key=IAMVQXAAASEN&ext=1\" >\\nThis offer is risk-free</A>, registration only takes a minute and is completely secure.\\nIt\\'s that easy. Your satisfaction is guaranteed because our credibility is on the line.\\n<p>\\n<A href=\"http://theadmanager.com/server/c.asp?ad_key=IAMVQXAAASEN&ext=1\" >P.S.:\\nThis offer is only valid for the next 48 hours, so Act Now!</A> </p>\\n\\n\\n<center>\\n<A href=\"http://theadmanager.com/server/c.asp?ad_key=IAMVQXAAASEN&ext=1\" >\\n<img src=\"http://www.ahamembership.com/assoc_images/red-button.gif\" width=\"186\" height=\"34\" border=\"0\"></A>\\n<p>\\n<font face=\"Arial, Helvetica, sans-serif\" size=\"1\">\\nCopyright 2002, American Homeowners Association (AHA). All rights reserved.</font>\\n</center>\\n</font></P></td></tr></table>\\n</center></td></tr></table>\\n\\n\\n</td><td width=\"3\" background=\"http://www.ahamembership.com/assoc_images/red-vertical.gif\"> </td></tr><tr><td colspan=\"3\">\\n<img src=\"http://www.ahamembership.com/assoc_images/red-bottom.gif\" width=\"642\" height=\"43\">\\n</td></tr></table>\\n\\n</center>\\n\\n<img src=\"http://admanmail.com/server/t.asp?ad_key=IAMVQXAAASEN\" width=\"1\" height=\"1\" hspace=\"0\" vspace=\"0\" border=\"0\" alt=\"T\">\\n<hr size=\"1\" noshade>\\n<font face=\"Arial\" size=\"1\" color=\"#000000\">\\nYou are receiving this mailing because you are a\\nmember of SendGreatOffers.com and subscribed as:JM@NETNOTEINC.COM\\nTo unsubscribe <a href=\"http://admanmail.com/subscription.asp?em=JM@NETNOTEINC.COM&l=SGO\">\\n<font face=\"arial\" size=\"1\" color=\"#000000\">Click Here</a>\\n(http://admanmail.com/subscription.asp?em=JM@NETNOTEINC.COM&l=SGO)\\nor reply to this email with REMOVE in the subject line - you must\\nalso include the body of this message to be unsubscribed. Any correspondence about\\nthe products/services should be directed to\\nthe company in the ad.\\n%EM%JM@NETNOTEINC.COM%/EM%\\n<BR></FONT> </body> </html>\\n\\n\\n'   \n",
       "4                                                                                                                                                                                                                                                                                                                                                                                                                                                                                                                                                                                                                                                                                                                                                                                                                                                                                                                                                                                                                                                                                                                                                                                                                                                                                                                                                                                                                                                                                                                                                                                                                                                                                                                                                                                                                                                                                                                                                                                                                                                                                                                                                                                                                                                                                                                                                                                                                                                                                                                                                                                                                                                                                                                                                                                                                                                                                                                                           b'ATTENTION: This is a MUST for ALL Computer Users!!!\\n\\n*NEW-Special Package Deal!*\\n\\nNorton SystemWorks 2002 Software Suite -Professional Edition-\\n\\nIncludes Six - Yes 6! - Feature-Packed Utilities\\nALL For 1 Special LOW Price!\\n\\nThis Software Will:\\n- Protect your computer from unwanted and hazardous viruses\\n- Help secure your private & valuable information\\n- Allow you to transfer files and send e-mails safely\\n- Backup your ALL your data quick and easily\\n- Improve your PC\\'s performance w/superior integral diagnostics!\\n\\n6 Feature-Packed Utilities...1 Great Price!\\nA $300+ Combined Retail Value!\\n\\nYOURS for Only $29.99!  <Includes FREE Shipping!>\\n\\nDon\\'t fall prey to destructive viruses or hackers!\\nProtect  your computer and your valuable information!\\n\\n\\nSo don\\'t delay...get your copy TODAY!\\n\\n\\nhttp://euro.specialdiscounts4u.com/\\n++++++++++++++++++++++++++++++++++++++++++++++++++++++++++++++++++++++++++++\\nThis email has been screened and filtered by our in house \"\"OPT-OUT\"\" system in \\ncompliance with state laws. If you wish to \"OPT-OUT\" from this mailing as well \\nas the lists of thousands  of other email providers please visit  \\n\\nhttp://dvd.specialdiscounts4u.com/optoutd.html\\n++++++++++++++++++++++++++++++++++++++++++++++++++++++++++++++++++++++++++++\\n\\n\\n'   \n",
       "...                                                                                                                                                                                                                                                                                                                                                                                                                                                                                                                                                                                                                                                                                                                                                                                                                                                                                                                                                                                                                                                                                                                                                                                                                                                                                                                                                                                                                                                                                                                                                                                                                                                                                                                                                                                                                                                                                                                                                                                                                                                                                                                                                                                                                                                                                                                                                                                                                                                                                                                                                                                                                                                                                                                                                                                                                                                                                                                                                                                                                                                                                                                                                                                                                                                                                                                                                                                                                                                                                                                                                                                                                                                                                                                                                                                                                                                                                                                                                                                                                                                                                                                                                                                                                                                                                               ...   \n",
       "9348                                                                                                                                                                                                                                                                                                                                                                                                                                                                                                                                                                                                                                                                                                                                                                                                                                                                                                                                                                                                                                                                                                                                                                                                                                                                                                                                                                                                                                                                                                                                                                                                                                                                                                                                                                                                                                                                                                                                                                                                                                                                                                                                                                                                                                                                                                                                                                                                                                                                                                                                                                                                                                                                                                                                                                                                                                                                                                                                                                                                                                                                                                                                                                                                                                                                                                    b\"I'm one of the 30,000 but it's not working very well this week with the\\nTES updates and servers not syncing.  \\n\\n-----Original Message-----\\nFrom: Jordan Ritter [mailto:jpr5@darkridge.com] \\nSent: Thursday, August 08, 2002 4:45 PM\\nTo: razor-users@example.sourceforge.net\\nSubject: Re: [Razor-users] What's wrong with the Razor servers now?\\n\\n\\nOn Thu, Aug 08, 2002 at 01:36:15PM -0700, Craig R.Hughes wrote:\\n\\n# Razor2 seems to have been a long time in coming, [...] and doesn't #\\ncurrently work.\\n\\nQuite a strong statement, Craig, one which over 30,000 active users a\\nday would strongly disagree with.\\n\\n\\n--jordan\\n\\n\\n-------------------------------------------------------\\nThis sf.net email is sponsored by:ThinkGeek\\nWelcome to geek heaven.\\nhttp://thinkgeek.com/sf\\n_______________________________________________\\nRazor-users mailing list\\nRazor-users@lists.sourceforge.net\\nhttps://lists.sourceforge.net/lists/listinfo/razor-users\\n\\n\\n\"   \n",
       "9349                                                                                                                                                                                                                                                                                                                                                                                                                                                                                                                                                                                                                                                                                                                                                                                                                                                                                                                                                                                                                                                                                                                                                                                                                                                                                                                                                                                                                                                                                                                                                                                                                                                                                                                                                                                                                                                                                                                                                                                                                                                                                                                                                                                                                                                                                                                                                                                                                                                                                                                                                                                                                                                                                                                                                                                                                                                                                                                                                                                                                                                                                                                                                                                                                                                                                                                                                                                                                                                                                                                                                                                                                                                                                                                                                                                                                                                                                                                                                                                                                            b\"Damien Morton quoted:\\n>W3C approves HTML 4 'emotitags' - Now you'll be able to say it with feeling\\n\\n>>From The Rockall Times (http://www.therockalltimes.co.uk/), definitely\\nthe source of much funniness.\\n\\n\\nR\\nhttp://xent.com/mailman/listinfo/fork\\n\\n\\n\"   \n",
       "9350                                                                                                                                                                                                                                                                                                                                                                                                                                                                                                                                                                                                                                                                                                                                                                                                                                                                                                                                                                                                                                                                                                                                                                                                                                                                                                                                                                                                                                                                                                                                                                                                                                                                                                                                                                                                                                                                                                                                                                                                                                                                                                                                                                                                                                                                                                                                                                                                                                                                                                                                                                                                                                                                                                                                                                                                                                                                                                                                                                                                                                                                                                                                                                                                                                                                                                                                                                                                                                                                                                                                                                                                                                                                                                                                                                                                                                                                                    b'On Mon, 2002-07-22 at 06:50, che wrote:\\n\\n> thats the correct lines to be added to sources.list for the repository\\n> i just did a apt-get install gnome-session its still progressing :)\\n\\nExcellent - might give it a bash tonight :)\\n\\n\\n_______________________________________________\\nRPM-List mailing list <RPM-List@freshrpms.net>\\nhttp://lists.freshrpms.net/mailman/listinfo/rpm-list\\n\\n\\n'   \n",
       "9351                                                                                                                                                                                                                                                                                                                                                                                                                                                                                                                                                                                                                                                                                                                                                                                                                                                                                                                                                                                                                                                                                                                                                                                                                                                                                                                                                                                                                                                                                                                                                                                                                                                                                                                                                                                                                                                                                                                                                                                                                                                                                                                                                                                                                                                                                                                                                                                                                                                                                                                                                                                                                                                                                                                                                                                                  b'Once upon a time, Manfred wrote :\\n\\n> I would like to install RPM itself. I have tried to get the information\\n> by visiting www.rpm.org <http://www.rpm.org>  and the related links they\\n> give but they all seems to assume that RPM already is installed.\\n> I have a firewall based on linux-2.2.20 (Smoothwall) for private use.\\n> I would like to install the RPM package/program but there is no\\n> information how to do this from scratch.\\n> Found this site and hopefully some have the knowledge.\\n> Best regards Manfred Grobosch\\n\\nWell, you can simply use an rpm tarball (or extract one from a source rpm\\non a machine that has rpm scripts install \"rpm2cpio <file.src.rpm> | cpio\\n-dimv\" and \"./configure && make && make install\" as usual. You need db3 or\\ndb4 development files at least, and once everything installed you\\'ll need\\nto initialize your rpm database.\\n\\nIf you need more help, I suggest you join the rpm-list@redhat.com by\\nsubscribing at https://listman.redhat.com/\\n\\nMatthias\\n\\n-- \\nMatthias Saou                                World Trade Center\\n-------------                                Edificio Norte 4 Planta\\nSystem and Network Engineer                  08039 Barcelona, Spain\\nElectronic Group Interactive                 Phone : +34 936 00 23 23\\n\\n_______________________________________________\\nRPM-List mailing list <RPM-List@freshrpms.net>\\nhttp://lists.freshrpms.net/mailman/listinfo/rpm-list\\n\\n\\n'   \n",
       "9352                                                                                                                                                                                                                                                                                                                                                                                                                                                                                                                                                                                                                                                                                                                                                                                                                                                                                                                                                                                                                                                                                                                                                                                                                                                                                                                                                                                                                                                                                                                                                                                                                                                                                                                                                                                                                                                                                                                                                                                                                                                                                                                                                                                                                                                                                                                                                                                                                                                                                                                                                                                                                                                                                                                                                                                                                                                                                                                                                                                                                                                                                                                                                                                                                                                                                                                                                                                         b'If you run Pick, and then use the \"New FTOC\" button to show only\\nthose messages selected by pick, then the ftoc display was considered\\n\"invalid\" in the old code.  This prevented the display from being cached,\\nand it meant that you could get back to the full folder display by\\nclicking on the folder lablel.  That doesn\\'t work anymore.  You have\\nto resort to Rescan Folder.  In fact, when you change folders you\\ncontinue to have the Pick results, not the new folder contents.\\nIf you go to a any folder and do Rescan, then it heals itself.\\n--\\nBrent Welch\\nSoftware Architect, Panasas Inc\\nPioneering the World\\'s Most Scalable and Agile Storage Network\\nwww.panasas.com\\nwelch@panasas.com\\n\\n\\n\\n\\n_______________________________________________\\nExmh-workers mailing list\\nExmh-workers@redhat.com\\nhttps://listman.redhat.com/mailman/listinfo/exmh-workers\\n\\n\\n'   \n",
       "\n",
       "      isSpam                                  FileID  \n",
       "0          1  00249.5f45607c1bffe89f60ba1ec9f878039a  \n",
       "1          1   0355.94ebf637e4bd3db8a81c8ce68ecf681d  \n",
       "2          1   0395.bb934e8b4c39d5eab38f828a26f760b4  \n",
       "3          1   0485.9021367278833179285091e5201f5854  \n",
       "4          1  00373.ebe8670ac56b04125c25100a36ab0510  \n",
       "...      ...                                     ...  \n",
       "9348       0  00609.dd49926ce94a1ea328cce9b62825bc97  \n",
       "9349       0  00957.e0b56b117f3ec5f85e432a9d2a47801f  \n",
       "9350       0  01127.841233b48eceb74a825417d8d918abf8  \n",
       "9351       0  01178.5c977dff972cd6eef64d4173b90307f0  \n",
       "9352       0  00747.352d424267d36975a7b40b85ffd0885e  \n",
       "\n",
       "[9353 rows x 5 columns]"
      ]
     },
     "execution_count": 10,
     "metadata": {},
     "output_type": "execute_result"
    }
   ],
   "source": [
    "df"
   ]
  },
  {
   "cell_type": "code",
   "execution_count": 12,
   "metadata": {},
   "outputs": [],
   "source": [
    "df = df.dropna(how='any',axis=0) "
   ]
  },
  {
   "cell_type": "code",
   "execution_count": 13,
   "metadata": {},
   "outputs": [
    {
     "data": {
      "text/plain": [
       "Subject    0\n",
       "From       0\n",
       "Body       0\n",
       "isSpam     0\n",
       "dtype: int64"
      ]
     },
     "execution_count": 13,
     "metadata": {},
     "output_type": "execute_result"
    }
   ],
   "source": [
    "df.isna().sum()"
   ]
  },
  {
   "cell_type": "code",
   "execution_count": 15,
   "metadata": {},
   "outputs": [
    {
     "data": {
      "text/plain": [
       "0    6944\n",
       "1    2383\n",
       "Name: isSpam, dtype: int64"
      ]
     },
     "execution_count": 15,
     "metadata": {},
     "output_type": "execute_result"
    }
   ],
   "source": [
    "df[\"isSpam\"].value_counts()"
   ]
  },
  {
   "cell_type": "code",
   "execution_count": 16,
   "metadata": {},
   "outputs": [
    {
     "data": {
      "text/html": [
       "<div>\n",
       "<style scoped>\n",
       "    .dataframe tbody tr th:only-of-type {\n",
       "        vertical-align: middle;\n",
       "    }\n",
       "\n",
       "    .dataframe tbody tr th {\n",
       "        vertical-align: top;\n",
       "    }\n",
       "\n",
       "    .dataframe thead th {\n",
       "        text-align: right;\n",
       "    }\n",
       "</style>\n",
       "<table border=\"1\" class=\"dataframe\">\n",
       "  <thead>\n",
       "    <tr style=\"text-align: right;\">\n",
       "      <th></th>\n",
       "      <th>Subject</th>\n",
       "      <th>From</th>\n",
       "      <th>Body</th>\n",
       "      <th>isSpam</th>\n",
       "    </tr>\n",
       "  </thead>\n",
       "  <tbody>\n",
       "    <tr>\n",
       "      <th>9349</th>\n",
       "      <td>RE: [Razor-users] What's wrong with the Razor ...</td>\n",
       "      <td>\"Rose, Bobby\" &lt;brose@med.wayne.edu&gt;</td>\n",
       "      <td>I'm one of the 30,000 but it's not working ve...</td>\n",
       "      <td>0</td>\n",
       "    </tr>\n",
       "    <tr>\n",
       "      <th>9350</th>\n",
       "      <td>Re: W3C approves HTML 4 'emotitags' [...]</td>\n",
       "      <td>harley@argote.ch</td>\n",
       "      <td>Damien Morton quoted: &gt;W3C approves HTML 4 'e...</td>\n",
       "      <td>0</td>\n",
       "    </tr>\n",
       "    <tr>\n",
       "      <th>9351</th>\n",
       "      <td>Re: Ximian apt repos?</td>\n",
       "      <td>Mark Derricutt &lt;mark@talios.com&gt;</td>\n",
       "      <td>On Mon, 2002-07-22 at 06:50, che wrote:  &gt; th...</td>\n",
       "      <td>0</td>\n",
       "    </tr>\n",
       "    <tr>\n",
       "      <th>9352</th>\n",
       "      <td>Re: Installing RPM</td>\n",
       "      <td>Matthias Saou &lt;matthias@egwn.net&gt;</td>\n",
       "      <td>Once upon a time, Manfred wrote :  &gt; I would ...</td>\n",
       "      <td>0</td>\n",
       "    </tr>\n",
       "    <tr>\n",
       "      <th>9353</th>\n",
       "      <td>scan bug: no update after Pick's \"New FTOC\"</td>\n",
       "      <td>Brent Welch &lt;welch@panasas.com&gt;</td>\n",
       "      <td>If you run Pick, and then use the \"New FTOC\" ...</td>\n",
       "      <td>0</td>\n",
       "    </tr>\n",
       "  </tbody>\n",
       "</table>\n",
       "</div>"
      ],
      "text/plain": [
       "                                                Subject  \\\n",
       "9349  RE: [Razor-users] What's wrong with the Razor ...   \n",
       "9350          Re: W3C approves HTML 4 'emotitags' [...]   \n",
       "9351                              Re: Ximian apt repos?   \n",
       "9352                                 Re: Installing RPM   \n",
       "9353        scan bug: no update after Pick's \"New FTOC\"   \n",
       "\n",
       "                                     From  \\\n",
       "9349  \"Rose, Bobby\" <brose@med.wayne.edu>   \n",
       "9350                     harley@argote.ch   \n",
       "9351     Mark Derricutt <mark@talios.com>   \n",
       "9352    Matthias Saou <matthias@egwn.net>   \n",
       "9353      Brent Welch <welch@panasas.com>   \n",
       "\n",
       "                                                   Body  isSpam  \n",
       "9349   I'm one of the 30,000 but it's not working ve...       0  \n",
       "9350   Damien Morton quoted: >W3C approves HTML 4 'e...       0  \n",
       "9351   On Mon, 2002-07-22 at 06:50, che wrote:  > th...       0  \n",
       "9352   Once upon a time, Manfred wrote :  > I would ...       0  \n",
       "9353   If you run Pick, and then use the \"New FTOC\" ...       0  "
      ]
     },
     "execution_count": 16,
     "metadata": {},
     "output_type": "execute_result"
    }
   ],
   "source": [
    "#remove new lines and such\n",
    "df = df.replace(r'\\\\n',' ', regex=True)\n",
    "df = df.replace(r'\\\\t',' ', regex=True)\n",
    "df = df.replace(r'b\\'',' ', regex=True)\n",
    "df = df.replace(r'b\\\"',' ', regex=True)\n"
   ]
  },
  {
   "cell_type": "code",
   "execution_count": 8,
   "metadata": {
    "scrolled": false
   },
   "outputs": [
    {
     "data": {
      "text/html": [
       "<div>\n",
       "<style scoped>\n",
       "    .dataframe tbody tr th:only-of-type {\n",
       "        vertical-align: middle;\n",
       "    }\n",
       "\n",
       "    .dataframe tbody tr th {\n",
       "        vertical-align: top;\n",
       "    }\n",
       "\n",
       "    .dataframe thead th {\n",
       "        text-align: right;\n",
       "    }\n",
       "</style>\n",
       "<table border=\"1\" class=\"dataframe\">\n",
       "  <thead>\n",
       "    <tr style=\"text-align: right;\">\n",
       "      <th></th>\n",
       "      <th>Subject</th>\n",
       "      <th>From</th>\n",
       "      <th>Body</th>\n",
       "      <th>isSpam</th>\n",
       "      <th>FileID</th>\n",
       "    </tr>\n",
       "  </thead>\n",
       "  <tbody>\n",
       "    <tr>\n",
       "      <th>0</th>\n",
       "      <td>Let us find the right mortgage lender for you ...</td>\n",
       "      <td>pamela4701@eudoramail.com</td>\n",
       "      <td>b'Dear Homeowner,\\n \\nInterest Rates are at th...</td>\n",
       "      <td>1</td>\n",
       "      <td>00249.5f45607c1bffe89f60ba1ec9f878039a</td>\n",
       "    </tr>\n",
       "    <tr>\n",
       "      <th>1</th>\n",
       "      <td>Friend, Copy ANY DVD or Playstation Game with ...</td>\n",
       "      <td>CopyYourDVD &lt;atomica2020@hotmail.com&gt;</td>\n",
       "      <td>b\"Friend,Now you can copy DVD's and Games\\nhtt...</td>\n",
       "      <td>1</td>\n",
       "      <td>0355.94ebf637e4bd3db8a81c8ce68ecf681d</td>\n",
       "    </tr>\n",
       "    <tr>\n",
       "      <th>2</th>\n",
       "      <td>5% Guaranteed for Eight Years</td>\n",
       "      <td>IQ - Safe Harbor &lt;sh@insiq.us&gt;</td>\n",
       "      <td>b\" Pocket the newest 8 year annuity!\\t Pocket ...</td>\n",
       "      <td>1</td>\n",
       "      <td>0395.bb934e8b4c39d5eab38f828a26f760b4</td>\n",
       "    </tr>\n",
       "    <tr>\n",
       "      <th>3</th>\n",
       "      <td>Congratulations! You Get a Free Handheld Organ...</td>\n",
       "      <td>Customer Service &lt;greatoffers@sendgreatoffers....</td>\n",
       "      <td>b'&lt;html&gt;&lt;head&gt;\\n&lt;title&gt;Congratulations! You Ge...</td>\n",
       "      <td>1</td>\n",
       "      <td>0485.9021367278833179285091e5201f5854</td>\n",
       "    </tr>\n",
       "    <tr>\n",
       "      <th>4</th>\n",
       "      <td>PROTECT YOUR INFORMATION AND YOUR COMPUTER</td>\n",
       "      <td>don &lt;apf@wu-wien.ac.at&gt;</td>\n",
       "      <td>b'ATTENTION: This is a MUST for ALL Computer U...</td>\n",
       "      <td>1</td>\n",
       "      <td>00373.ebe8670ac56b04125c25100a36ab0510</td>\n",
       "    </tr>\n",
       "    <tr>\n",
       "      <th>...</th>\n",
       "      <td>...</td>\n",
       "      <td>...</td>\n",
       "      <td>...</td>\n",
       "      <td>...</td>\n",
       "      <td>...</td>\n",
       "    </tr>\n",
       "    <tr>\n",
       "      <th>9348</th>\n",
       "      <td>RE: [Razor-users] What's wrong with the Razor ...</td>\n",
       "      <td>\"Rose, Bobby\" &lt;brose@med.wayne.edu&gt;</td>\n",
       "      <td>b\"I'm one of the 30,000 but it's not working v...</td>\n",
       "      <td>0</td>\n",
       "      <td>00609.dd49926ce94a1ea328cce9b62825bc97</td>\n",
       "    </tr>\n",
       "    <tr>\n",
       "      <th>9349</th>\n",
       "      <td>Re: W3C approves HTML 4 'emotitags' [...]</td>\n",
       "      <td>harley@argote.ch</td>\n",
       "      <td>b\"Damien Morton quoted:\\n&gt;W3C approves HTML 4 ...</td>\n",
       "      <td>0</td>\n",
       "      <td>00957.e0b56b117f3ec5f85e432a9d2a47801f</td>\n",
       "    </tr>\n",
       "    <tr>\n",
       "      <th>9350</th>\n",
       "      <td>Re: Ximian apt repos?</td>\n",
       "      <td>Mark Derricutt &lt;mark@talios.com&gt;</td>\n",
       "      <td>b'On Mon, 2002-07-22 at 06:50, che wrote:\\n\\n&gt;...</td>\n",
       "      <td>0</td>\n",
       "      <td>01127.841233b48eceb74a825417d8d918abf8</td>\n",
       "    </tr>\n",
       "    <tr>\n",
       "      <th>9351</th>\n",
       "      <td>Re: Installing RPM</td>\n",
       "      <td>Matthias Saou &lt;matthias@egwn.net&gt;</td>\n",
       "      <td>b'Once upon a time, Manfred wrote :\\n\\n&gt; I wou...</td>\n",
       "      <td>0</td>\n",
       "      <td>01178.5c977dff972cd6eef64d4173b90307f0</td>\n",
       "    </tr>\n",
       "    <tr>\n",
       "      <th>9352</th>\n",
       "      <td>scan bug: no update after Pick's \"New FTOC\"</td>\n",
       "      <td>Brent Welch &lt;welch@panasas.com&gt;</td>\n",
       "      <td>b'If you run Pick, and then use the \"New FTOC\"...</td>\n",
       "      <td>0</td>\n",
       "      <td>00747.352d424267d36975a7b40b85ffd0885e</td>\n",
       "    </tr>\n",
       "  </tbody>\n",
       "</table>\n",
       "<p>9353 rows × 5 columns</p>\n",
       "</div>"
      ],
      "text/plain": [
       "                                                Subject  \\\n",
       "0     Let us find the right mortgage lender for you ...   \n",
       "1     Friend, Copy ANY DVD or Playstation Game with ...   \n",
       "2                         5% Guaranteed for Eight Years   \n",
       "3     Congratulations! You Get a Free Handheld Organ...   \n",
       "4            PROTECT YOUR INFORMATION AND YOUR COMPUTER   \n",
       "...                                                 ...   \n",
       "9348  RE: [Razor-users] What's wrong with the Razor ...   \n",
       "9349          Re: W3C approves HTML 4 'emotitags' [...]   \n",
       "9350                              Re: Ximian apt repos?   \n",
       "9351                                 Re: Installing RPM   \n",
       "9352        scan bug: no update after Pick's \"New FTOC\"   \n",
       "\n",
       "                                                   From  \\\n",
       "0                             pamela4701@eudoramail.com   \n",
       "1                 CopyYourDVD <atomica2020@hotmail.com>   \n",
       "2                        IQ - Safe Harbor <sh@insiq.us>   \n",
       "3     Customer Service <greatoffers@sendgreatoffers....   \n",
       "4                               don <apf@wu-wien.ac.at>   \n",
       "...                                                 ...   \n",
       "9348                \"Rose, Bobby\" <brose@med.wayne.edu>   \n",
       "9349                                   harley@argote.ch   \n",
       "9350                   Mark Derricutt <mark@talios.com>   \n",
       "9351                  Matthias Saou <matthias@egwn.net>   \n",
       "9352                    Brent Welch <welch@panasas.com>   \n",
       "\n",
       "                                                   Body  isSpam  \\\n",
       "0     b'Dear Homeowner,\\n \\nInterest Rates are at th...       1   \n",
       "1     b\"Friend,Now you can copy DVD's and Games\\nhtt...       1   \n",
       "2     b\" Pocket the newest 8 year annuity!\\t Pocket ...       1   \n",
       "3     b'<html><head>\\n<title>Congratulations! You Ge...       1   \n",
       "4     b'ATTENTION: This is a MUST for ALL Computer U...       1   \n",
       "...                                                 ...     ...   \n",
       "9348  b\"I'm one of the 30,000 but it's not working v...       0   \n",
       "9349  b\"Damien Morton quoted:\\n>W3C approves HTML 4 ...       0   \n",
       "9350  b'On Mon, 2002-07-22 at 06:50, che wrote:\\n\\n>...       0   \n",
       "9351  b'Once upon a time, Manfred wrote :\\n\\n> I wou...       0   \n",
       "9352  b'If you run Pick, and then use the \"New FTOC\"...       0   \n",
       "\n",
       "                                      FileID  \n",
       "0     00249.5f45607c1bffe89f60ba1ec9f878039a  \n",
       "1      0355.94ebf637e4bd3db8a81c8ce68ecf681d  \n",
       "2      0395.bb934e8b4c39d5eab38f828a26f760b4  \n",
       "3      0485.9021367278833179285091e5201f5854  \n",
       "4     00373.ebe8670ac56b04125c25100a36ab0510  \n",
       "...                                      ...  \n",
       "9348  00609.dd49926ce94a1ea328cce9b62825bc97  \n",
       "9349  00957.e0b56b117f3ec5f85e432a9d2a47801f  \n",
       "9350  01127.841233b48eceb74a825417d8d918abf8  \n",
       "9351  01178.5c977dff972cd6eef64d4173b90307f0  \n",
       "9352  00747.352d424267d36975a7b40b85ffd0885e  \n",
       "\n",
       "[9353 rows x 5 columns]"
      ]
     },
     "execution_count": 8,
     "metadata": {},
     "output_type": "execute_result"
    }
   ],
   "source": [
    "df"
   ]
  },
  {
   "cell_type": "code",
   "execution_count": 39,
   "metadata": {},
   "outputs": [],
   "source": [
    "spam_df = df[df[\"isSpam\"] == 1]"
   ]
  },
  {
   "cell_type": "code",
   "execution_count": 42,
   "metadata": {},
   "outputs": [],
   "source": [
    "pd.set_option('display.max_colwidth', None)"
   ]
  },
  {
   "cell_type": "code",
   "execution_count": 34,
   "metadata": {},
   "outputs": [
    {
     "ename": "IndexError",
     "evalue": "single positional indexer is out-of-bounds",
     "output_type": "error",
     "traceback": [
      "\u001b[0;31m---------------------------------------------------------------------------\u001b[0m",
      "\u001b[0;31mIndexError\u001b[0m                                Traceback (most recent call last)",
      "\u001b[0;32m/var/folders/zl/4qqdwn7s6wv34lrr9sxt7tf40000gn/T/ipykernel_10157/1088111386.py\u001b[0m in \u001b[0;36m<module>\u001b[0;34m\u001b[0m\n\u001b[0;32m----> 1\u001b[0;31m \u001b[0mspam_df\u001b[0m\u001b[0;34m.\u001b[0m\u001b[0miloc\u001b[0m\u001b[0;34m[\u001b[0m\u001b[0;34m:\u001b[0m\u001b[0;34m,\u001b[0m\u001b[0;36m6991\u001b[0m\u001b[0;34m]\u001b[0m\u001b[0;34m\u001b[0m\u001b[0;34m\u001b[0m\u001b[0m\n\u001b[0m",
      "\u001b[0;32m~/miniforge3/envs/tensorflow/lib/python3.9/site-packages/pandas/core/indexing.py\u001b[0m in \u001b[0;36m__getitem__\u001b[0;34m(self, key)\u001b[0m\n\u001b[1;32m    923\u001b[0m                 \u001b[0;32mwith\u001b[0m \u001b[0msuppress\u001b[0m\u001b[0;34m(\u001b[0m\u001b[0mKeyError\u001b[0m\u001b[0;34m,\u001b[0m \u001b[0mIndexError\u001b[0m\u001b[0;34m)\u001b[0m\u001b[0;34m:\u001b[0m\u001b[0;34m\u001b[0m\u001b[0;34m\u001b[0m\u001b[0m\n\u001b[1;32m    924\u001b[0m                     \u001b[0;32mreturn\u001b[0m \u001b[0mself\u001b[0m\u001b[0;34m.\u001b[0m\u001b[0mobj\u001b[0m\u001b[0;34m.\u001b[0m\u001b[0m_get_value\u001b[0m\u001b[0;34m(\u001b[0m\u001b[0;34m*\u001b[0m\u001b[0mkey\u001b[0m\u001b[0;34m,\u001b[0m \u001b[0mtakeable\u001b[0m\u001b[0;34m=\u001b[0m\u001b[0mself\u001b[0m\u001b[0;34m.\u001b[0m\u001b[0m_takeable\u001b[0m\u001b[0;34m)\u001b[0m\u001b[0;34m\u001b[0m\u001b[0;34m\u001b[0m\u001b[0m\n\u001b[0;32m--> 925\u001b[0;31m             \u001b[0;32mreturn\u001b[0m \u001b[0mself\u001b[0m\u001b[0;34m.\u001b[0m\u001b[0m_getitem_tuple\u001b[0m\u001b[0;34m(\u001b[0m\u001b[0mkey\u001b[0m\u001b[0;34m)\u001b[0m\u001b[0;34m\u001b[0m\u001b[0;34m\u001b[0m\u001b[0m\n\u001b[0m\u001b[1;32m    926\u001b[0m         \u001b[0;32melse\u001b[0m\u001b[0;34m:\u001b[0m\u001b[0;34m\u001b[0m\u001b[0;34m\u001b[0m\u001b[0m\n\u001b[1;32m    927\u001b[0m             \u001b[0;31m# we by definition only have the 0th axis\u001b[0m\u001b[0;34m\u001b[0m\u001b[0;34m\u001b[0m\u001b[0m\n",
      "\u001b[0;32m~/miniforge3/envs/tensorflow/lib/python3.9/site-packages/pandas/core/indexing.py\u001b[0m in \u001b[0;36m_getitem_tuple\u001b[0;34m(self, tup)\u001b[0m\n\u001b[1;32m   1504\u001b[0m     \u001b[0;32mdef\u001b[0m \u001b[0m_getitem_tuple\u001b[0m\u001b[0;34m(\u001b[0m\u001b[0mself\u001b[0m\u001b[0;34m,\u001b[0m \u001b[0mtup\u001b[0m\u001b[0;34m:\u001b[0m \u001b[0mtuple\u001b[0m\u001b[0;34m)\u001b[0m\u001b[0;34m:\u001b[0m\u001b[0;34m\u001b[0m\u001b[0;34m\u001b[0m\u001b[0m\n\u001b[1;32m   1505\u001b[0m \u001b[0;34m\u001b[0m\u001b[0m\n\u001b[0;32m-> 1506\u001b[0;31m         \u001b[0mself\u001b[0m\u001b[0;34m.\u001b[0m\u001b[0m_has_valid_tuple\u001b[0m\u001b[0;34m(\u001b[0m\u001b[0mtup\u001b[0m\u001b[0;34m)\u001b[0m\u001b[0;34m\u001b[0m\u001b[0;34m\u001b[0m\u001b[0m\n\u001b[0m\u001b[1;32m   1507\u001b[0m         \u001b[0;32mwith\u001b[0m \u001b[0msuppress\u001b[0m\u001b[0;34m(\u001b[0m\u001b[0mIndexingError\u001b[0m\u001b[0;34m)\u001b[0m\u001b[0;34m:\u001b[0m\u001b[0;34m\u001b[0m\u001b[0;34m\u001b[0m\u001b[0m\n\u001b[1;32m   1508\u001b[0m             \u001b[0;32mreturn\u001b[0m \u001b[0mself\u001b[0m\u001b[0;34m.\u001b[0m\u001b[0m_getitem_lowerdim\u001b[0m\u001b[0;34m(\u001b[0m\u001b[0mtup\u001b[0m\u001b[0;34m)\u001b[0m\u001b[0;34m\u001b[0m\u001b[0;34m\u001b[0m\u001b[0m\n",
      "\u001b[0;32m~/miniforge3/envs/tensorflow/lib/python3.9/site-packages/pandas/core/indexing.py\u001b[0m in \u001b[0;36m_has_valid_tuple\u001b[0;34m(self, key)\u001b[0m\n\u001b[1;32m    752\u001b[0m         \u001b[0;32mfor\u001b[0m \u001b[0mi\u001b[0m\u001b[0;34m,\u001b[0m \u001b[0mk\u001b[0m \u001b[0;32min\u001b[0m \u001b[0menumerate\u001b[0m\u001b[0;34m(\u001b[0m\u001b[0mkey\u001b[0m\u001b[0;34m)\u001b[0m\u001b[0;34m:\u001b[0m\u001b[0;34m\u001b[0m\u001b[0;34m\u001b[0m\u001b[0m\n\u001b[1;32m    753\u001b[0m             \u001b[0;32mtry\u001b[0m\u001b[0;34m:\u001b[0m\u001b[0;34m\u001b[0m\u001b[0;34m\u001b[0m\u001b[0m\n\u001b[0;32m--> 754\u001b[0;31m                 \u001b[0mself\u001b[0m\u001b[0;34m.\u001b[0m\u001b[0m_validate_key\u001b[0m\u001b[0;34m(\u001b[0m\u001b[0mk\u001b[0m\u001b[0;34m,\u001b[0m \u001b[0mi\u001b[0m\u001b[0;34m)\u001b[0m\u001b[0;34m\u001b[0m\u001b[0;34m\u001b[0m\u001b[0m\n\u001b[0m\u001b[1;32m    755\u001b[0m             \u001b[0;32mexcept\u001b[0m \u001b[0mValueError\u001b[0m \u001b[0;32mas\u001b[0m \u001b[0merr\u001b[0m\u001b[0;34m:\u001b[0m\u001b[0;34m\u001b[0m\u001b[0;34m\u001b[0m\u001b[0m\n\u001b[1;32m    756\u001b[0m                 raise ValueError(\n",
      "\u001b[0;32m~/miniforge3/envs/tensorflow/lib/python3.9/site-packages/pandas/core/indexing.py\u001b[0m in \u001b[0;36m_validate_key\u001b[0;34m(self, key, axis)\u001b[0m\n\u001b[1;32m   1407\u001b[0m             \u001b[0;32mreturn\u001b[0m\u001b[0;34m\u001b[0m\u001b[0;34m\u001b[0m\u001b[0m\n\u001b[1;32m   1408\u001b[0m         \u001b[0;32melif\u001b[0m \u001b[0mis_integer\u001b[0m\u001b[0;34m(\u001b[0m\u001b[0mkey\u001b[0m\u001b[0;34m)\u001b[0m\u001b[0;34m:\u001b[0m\u001b[0;34m\u001b[0m\u001b[0;34m\u001b[0m\u001b[0m\n\u001b[0;32m-> 1409\u001b[0;31m             \u001b[0mself\u001b[0m\u001b[0;34m.\u001b[0m\u001b[0m_validate_integer\u001b[0m\u001b[0;34m(\u001b[0m\u001b[0mkey\u001b[0m\u001b[0;34m,\u001b[0m \u001b[0maxis\u001b[0m\u001b[0;34m)\u001b[0m\u001b[0;34m\u001b[0m\u001b[0;34m\u001b[0m\u001b[0m\n\u001b[0m\u001b[1;32m   1410\u001b[0m         \u001b[0;32melif\u001b[0m \u001b[0misinstance\u001b[0m\u001b[0;34m(\u001b[0m\u001b[0mkey\u001b[0m\u001b[0;34m,\u001b[0m \u001b[0mtuple\u001b[0m\u001b[0;34m)\u001b[0m\u001b[0;34m:\u001b[0m\u001b[0;34m\u001b[0m\u001b[0;34m\u001b[0m\u001b[0m\n\u001b[1;32m   1411\u001b[0m             \u001b[0;31m# a tuple should already have been caught by this point\u001b[0m\u001b[0;34m\u001b[0m\u001b[0;34m\u001b[0m\u001b[0m\n",
      "\u001b[0;32m~/miniforge3/envs/tensorflow/lib/python3.9/site-packages/pandas/core/indexing.py\u001b[0m in \u001b[0;36m_validate_integer\u001b[0;34m(self, key, axis)\u001b[0m\n\u001b[1;32m   1498\u001b[0m         \u001b[0mlen_axis\u001b[0m \u001b[0;34m=\u001b[0m \u001b[0mlen\u001b[0m\u001b[0;34m(\u001b[0m\u001b[0mself\u001b[0m\u001b[0;34m.\u001b[0m\u001b[0mobj\u001b[0m\u001b[0;34m.\u001b[0m\u001b[0m_get_axis\u001b[0m\u001b[0;34m(\u001b[0m\u001b[0maxis\u001b[0m\u001b[0;34m)\u001b[0m\u001b[0;34m)\u001b[0m\u001b[0;34m\u001b[0m\u001b[0;34m\u001b[0m\u001b[0m\n\u001b[1;32m   1499\u001b[0m         \u001b[0;32mif\u001b[0m \u001b[0mkey\u001b[0m \u001b[0;34m>=\u001b[0m \u001b[0mlen_axis\u001b[0m \u001b[0;32mor\u001b[0m \u001b[0mkey\u001b[0m \u001b[0;34m<\u001b[0m \u001b[0;34m-\u001b[0m\u001b[0mlen_axis\u001b[0m\u001b[0;34m:\u001b[0m\u001b[0;34m\u001b[0m\u001b[0;34m\u001b[0m\u001b[0m\n\u001b[0;32m-> 1500\u001b[0;31m             \u001b[0;32mraise\u001b[0m \u001b[0mIndexError\u001b[0m\u001b[0;34m(\u001b[0m\u001b[0;34m\"single positional indexer is out-of-bounds\"\u001b[0m\u001b[0;34m)\u001b[0m\u001b[0;34m\u001b[0m\u001b[0;34m\u001b[0m\u001b[0m\n\u001b[0m\u001b[1;32m   1501\u001b[0m \u001b[0;34m\u001b[0m\u001b[0m\n\u001b[1;32m   1502\u001b[0m     \u001b[0;31m# -------------------------------------------------------------------\u001b[0m\u001b[0;34m\u001b[0m\u001b[0;34m\u001b[0m\u001b[0m\n",
      "\u001b[0;31mIndexError\u001b[0m: single positional indexer is out-of-bounds"
     ]
    }
   ],
   "source": []
  },
  {
   "cell_type": "code",
   "execution_count": null,
   "metadata": {},
   "outputs": [],
   "source": []
  },
  {
   "cell_type": "code",
   "execution_count": null,
   "metadata": {},
   "outputs": [],
   "source": []
  },
  {
   "cell_type": "code",
   "execution_count": null,
   "metadata": {},
   "outputs": [],
   "source": []
  },
  {
   "cell_type": "code",
   "execution_count": null,
   "metadata": {},
   "outputs": [],
   "source": []
  },
  {
   "cell_type": "code",
   "execution_count": null,
   "metadata": {},
   "outputs": [],
   "source": []
  },
  {
   "cell_type": "code",
   "execution_count": 32,
   "metadata": {},
   "outputs": [],
   "source": [
    "spam_file = \"/Users/satvikajmera/Documents/SMU MSDS Course Material/05-Summer 2022/DS 7333 - QtW/Case Studies - on file/Case Study 03/Satvik/SpamAssassinMessages/easy_ham_2/00747.352d424267d36975a7b40b85ffd0885e\""
   ]
  },
  {
   "cell_type": "code",
   "execution_count": 24,
   "metadata": {},
   "outputs": [],
   "source": [
    "spam_filepath= \"/Users/satvikajmera/Documents/SMU MSDS Course Material/05-Summer 2022/DS 7333 - QtW/Case Studies - on file/Case Study 03/Satvik/SpamAssassinMessages/spam/\""
   ]
  },
  {
   "cell_type": "code",
   "execution_count": 41,
   "metadata": {
    "scrolled": true
   },
   "outputs": [],
   "source": [
    "with open(spam_file) as f:\n",
    "   soup = BeautifulSoup(f, \"html.parser\")"
   ]
  },
  {
   "cell_type": "code",
   "execution_count": null,
   "metadata": {},
   "outputs": [],
   "source": []
  },
  {
   "cell_type": "code",
   "execution_count": 40,
   "metadata": {},
   "outputs": [
    {
     "name": "stdout",
     "output_type": "stream",
     "text": [
      "None\n",
      "None\n",
      "None\n"
     ]
    }
   ],
   "source": [
    "from bs4 import BeautifulSoup\n",
    "\n",
    "with open(spam_file, 'r') as f:\n",
    "\n",
    "    contents = f.read()\n",
    "\n",
    "    soup = BeautifulSoup(contents, 'html')\n",
    "\n",
    "    print(soup.h2)\n",
    "    print(soup.head)\n",
    "    print(soup.li)"
   ]
  },
  {
   "cell_type": "code",
   "execution_count": 29,
   "metadata": {},
   "outputs": [
    {
     "name": "stdout",
     "output_type": "stream",
     "text": [
      "To: social@linux.ie\n",
      "From: Slim n Trim <yenene@mx2.1premio.com>\n",
      "Subject: [ILUG-Social] re: Guaranteed to lose 10-12 lbs in 30 days 10.148\n",
      "Body: None\n"
     ]
    }
   ],
   "source": [
    "with open(spam_file, 'rb') as fp:\n",
    "    msg = BytesParser(policy=default).parse(fp)\n",
    "\n",
    "# Now the header items can be accessed as a dictionary, and any non-ASCII will\n",
    "# be converted to unicode:\n",
    "print('To:', msg['to'])\n",
    "print('From:', msg['from'])\n",
    "print('Subject:', msg['subject'])\n",
    "print('Body:', msg['body'])"
   ]
  },
  {
   "cell_type": "code",
   "execution_count": 28,
   "metadata": {},
   "outputs": [
    {
     "data": {
      "text/plain": [
       "['Return-Path',\n",
       " 'Delivered-To',\n",
       " 'Received',\n",
       " 'Received',\n",
       " 'Received',\n",
       " 'Received',\n",
       " 'Received',\n",
       " 'X-Authentication-Warning',\n",
       " 'Received',\n",
       " 'From',\n",
       " 'To',\n",
       " 'Date',\n",
       " 'Message-Id',\n",
       " 'MIME-Version',\n",
       " 'Content-Type',\n",
       " 'Content-Transfer-Encoding',\n",
       " 'X-Mailer',\n",
       " 'Thread-Index',\n",
       " 'Content-Class',\n",
       " 'X-Mimeole',\n",
       " 'X-Originalarrivaltime',\n",
       " 'Subject',\n",
       " 'Sender',\n",
       " 'Errors-To',\n",
       " 'X-Mailman-Version',\n",
       " 'Precedence',\n",
       " 'List-Id',\n",
       " 'X-Beenthere']"
      ]
     },
     "execution_count": 28,
     "metadata": {},
     "output_type": "execute_result"
    }
   ],
   "source": [
    "msg.keys()"
   ]
  },
  {
   "cell_type": "code",
   "execution_count": null,
   "metadata": {},
   "outputs": [],
   "source": []
  },
  {
   "cell_type": "code",
   "execution_count": null,
   "metadata": {},
   "outputs": [],
   "source": []
  },
  {
   "cell_type": "code",
   "execution_count": null,
   "metadata": {},
   "outputs": [],
   "source": []
  },
  {
   "cell_type": "code",
   "execution_count": null,
   "metadata": {},
   "outputs": [],
   "source": []
  },
  {
   "cell_type": "code",
   "execution_count": null,
   "metadata": {},
   "outputs": [],
   "source": []
  },
  {
   "cell_type": "code",
   "execution_count": null,
   "metadata": {},
   "outputs": [],
   "source": []
  },
  {
   "cell_type": "code",
   "execution_count": null,
   "metadata": {},
   "outputs": [],
   "source": []
  },
  {
   "cell_type": "code",
   "execution_count": 39,
   "metadata": {},
   "outputs": [
    {
     "data": {
      "text/html": [
       "<div>\n",
       "<style scoped>\n",
       "    .dataframe tbody tr th:only-of-type {\n",
       "        vertical-align: middle;\n",
       "    }\n",
       "\n",
       "    .dataframe tbody tr th {\n",
       "        vertical-align: top;\n",
       "    }\n",
       "\n",
       "    .dataframe thead th {\n",
       "        text-align: right;\n",
       "    }\n",
       "</style>\n",
       "<table border=\"1\" class=\"dataframe\">\n",
       "  <thead>\n",
       "    <tr style=\"text-align: right;\">\n",
       "      <th></th>\n",
       "      <th>Subject</th>\n",
       "      <th>From</th>\n",
       "      <th>Body</th>\n",
       "      <th>isSpam</th>\n",
       "      <th>Clean_Body</th>\n",
       "    </tr>\n",
       "  </thead>\n",
       "  <tbody>\n",
       "    <tr>\n",
       "      <th>9348</th>\n",
       "      <td>Preferred Non-Smoker Rates for Smokers</td>\n",
       "      <td>IQ - TBA &lt;tba@insiq.us&gt;</td>\n",
       "      <td>Preferred Non-Smoker     Just what the doc...</td>\n",
       "      <td>1</td>\n",
       "      <td>Preferred Non-Smoker Just doctor ordered! Case...</td>\n",
       "    </tr>\n",
       "    <tr>\n",
       "      <th>9349</th>\n",
       "      <td>How to get 10,000 FREE hits per day to any web...</td>\n",
       "      <td>Mike &lt;raye@yahoo.lv&gt;</td>\n",
       "      <td>Dear Subscriber,  If I could show you a way t...</td>\n",
       "      <td>1</td>\n",
       "      <td>Dear Subscriber, If I could show way get 10,00...</td>\n",
       "    </tr>\n",
       "    <tr>\n",
       "      <th>9350</th>\n",
       "      <td>Cannabis Difference</td>\n",
       "      <td>\"Mr. Clean\" &lt;cweqx@dialix.oz.au&gt;</td>\n",
       "      <td>****Mid-Summer Customer Appreciation SALE!***...</td>\n",
       "      <td>1</td>\n",
       "      <td>****Mid-Summer Customer Appreciation SALE!****...</td>\n",
       "    </tr>\n",
       "    <tr>\n",
       "      <th>9351</th>\n",
       "      <td>[ILUG] WILSON  KAMELA</td>\n",
       "      <td>\"wilsonkamela400@netscape.net\" &lt;wilsonkamela50...</td>\n",
       "      <td>ATTN:SIR/MADAN                              S...</td>\n",
       "      <td>1</td>\n",
       "      <td>ATTN:SIR/MADAN STRICTLY CONFIDENTIAL. I please...</td>\n",
       "    </tr>\n",
       "    <tr>\n",
       "      <th>9352</th>\n",
       "      <td>NaN</td>\n",
       "      <td>NaN</td>\n",
       "      <td>mv 00001.317e78fa8ee2f54cd4890fdc09ba8176 000...</td>\n",
       "      <td>1</td>\n",
       "      <td>mv 00001.317e78fa8ee2f54cd4890fdc09ba8176 0000...</td>\n",
       "    </tr>\n",
       "  </tbody>\n",
       "</table>\n",
       "</div>"
      ],
      "text/plain": [
       "                                                Subject  \\\n",
       "9348             Preferred Non-Smoker Rates for Smokers   \n",
       "9349  How to get 10,000 FREE hits per day to any web...   \n",
       "9350                                Cannabis Difference   \n",
       "9351                              [ILUG] WILSON  KAMELA   \n",
       "9352                                                NaN   \n",
       "\n",
       "                                                   From  \\\n",
       "9348                            IQ - TBA <tba@insiq.us>   \n",
       "9349                               Mike <raye@yahoo.lv>   \n",
       "9350                   \"Mr. Clean\" <cweqx@dialix.oz.au>   \n",
       "9351  \"wilsonkamela400@netscape.net\" <wilsonkamela50...   \n",
       "9352                                                NaN   \n",
       "\n",
       "                                                   Body  isSpam  \\\n",
       "9348      Preferred Non-Smoker     Just what the doc...       1   \n",
       "9349   Dear Subscriber,  If I could show you a way t...       1   \n",
       "9350   ****Mid-Summer Customer Appreciation SALE!***...       1   \n",
       "9351   ATTN:SIR/MADAN                              S...       1   \n",
       "9352   mv 00001.317e78fa8ee2f54cd4890fdc09ba8176 000...       1   \n",
       "\n",
       "                                             Clean_Body  \n",
       "9348  Preferred Non-Smoker Just doctor ordered! Case...  \n",
       "9349  Dear Subscriber, If I could show way get 10,00...  \n",
       "9350  ****Mid-Summer Customer Appreciation SALE!****...  \n",
       "9351  ATTN:SIR/MADAN STRICTLY CONFIDENTIAL. I please...  \n",
       "9352  mv 00001.317e78fa8ee2f54cd4890fdc09ba8176 0000...  "
      ]
     },
     "execution_count": 39,
     "metadata": {},
     "output_type": "execute_result"
    }
   ],
   "source": [
    "target = df['isSpam']\n",
    "train = df[['Subject','From','Body']]\n",
    "stop = stopwords.words('english')\n",
    "df['Clean_Body'] = df['Body'].apply(lambda x: ' '.join([word for word in x.split() if word not in (stop)]))\n",
    "df.head()\n"
   ]
  },
  {
   "cell_type": "code",
   "execution_count": 40,
   "metadata": {},
   "outputs": [
    {
     "data": {
      "text/plain": [
       "True"
      ]
     },
     "execution_count": 40,
     "metadata": {},
     "output_type": "execute_result"
    }
   ],
   "source": [
    "len(target) == len(train)"
   ]
  },
  {
   "cell_type": "code",
   "execution_count": 41,
   "metadata": {},
   "outputs": [],
   "source": [
    "X_train, X_test, y_train, y_test = train_test_split(train, target,test_size=0.35, shuffle=True, random_state=42)"
   ]
  },
  {
   "cell_type": "code",
   "execution_count": 42,
   "metadata": {},
   "outputs": [],
   "source": [
    "cv = CountVectorizer()\n",
    "cv_data_train = cv.fit_transform(X_train)\n",
    "cv_data_test = cv.transform(X_test)\n",
    "model = MultinomialNB()\n",
    "model.fit(cv_data_train, y_train)\n",
    "cv_preds = model.predict(cv_data_test)"
   ]
  }
 ],
 "metadata": {
  "interpreter": {
   "hash": "d5e22e80c5a5049300fcd1222e380e7a80cada809ed3c1dbd59a10e881ec2acb"
  },
  "kernelspec": {
   "display_name": "Python 3 (ipykernel)",
   "language": "python",
   "name": "python3"
  },
  "language_info": {
   "codemirror_mode": {
    "name": "ipython",
    "version": 3
   },
   "file_extension": ".py",
   "mimetype": "text/x-python",
   "name": "python",
   "nbconvert_exporter": "python",
   "pygments_lexer": "ipython3",
   "version": "3.9.7"
  }
 },
 "nbformat": 4,
 "nbformat_minor": 2
}
