{
 "cells": [
  {
   "cell_type": "code",
   "execution_count": 18,
   "metadata": {},
   "outputs": [],
   "source": [
    "import numpy as np\n",
    "import pandas as pd\n",
    "import email\n",
    "from html.parser import HTMLParser\n",
    "from bs4 import BeautifulSoup\n",
    "import nltk\n",
    "from nltk.corpus import stopwords\n",
    "from nltk.tokenize import word_tokenize\n",
    "from sklearn.model_selection import train_test_split\n",
    "from sklearn.feature_extraction.text import CountVectorizer\n",
    "from sklearn.naive_bayes import MultinomialNB\n",
    "from sklearn.metrics import accuracy_score\n",
    "from sklearn.metrics import classification_report\n",
    "from email.parser import BytesParser\n",
    "from email.policy import default\n",
    "import csv\n",
    "import os\n",
    "import pathlib\n",
    "import pprint\n",
    "from os.path import dirname, abspath"
   ]
  },
  {
   "cell_type": "code",
   "execution_count": 29,
   "metadata": {},
   "outputs": [],
   "source": [
    "d = dirname(dirname(abspath(__file__)))"
   ]
  },
  {
   "cell_type": "code",
   "execution_count": 38,
   "metadata": {},
   "outputs": [],
   "source": [
    "location = f\"{d}/case study 3/\""
   ]
  },
  {
   "cell_type": "code",
   "execution_count": 44,
   "metadata": {},
   "outputs": [],
   "source": [
    "emails = {\"index\":[]}\n",
    "for path, subdirectories, filelist in os.walk(os.path.join(location,\"SpamAssassinMessages\")):\n",
    "    for f in filelist:\n",
    "        \n",
    "        label = 0 if \"ham\" in path.lower() else 1\n",
    "        with open(os.path.join(path, f), \"rb\") as fp:\n",
    "            msg = BytesParser(policy=default).parse(fp)\n",
    "            with open(os.path.join(path, f), \"r\",encoding= 'utf-8', errors='ignore') as new_f:\n",
    "                msg = email.message_from_file(new_f)\n",
    "                for part in msg.walk():\n",
    "                    if part.get_content_type() == 'text/plain':\n",
    "                        body = part.get_payload()  # decode\n",
    "                emails[\"index\"].append({\n",
    "                    \"Subject\": msg.get(\"Subject\"),\n",
    "                    \"From\": msg.get(\"from\"),\n",
    "                    \"Body\": body,\n",
    "                    \"isSpam\": label,\n",
    "                    \"FileID\": f\n",
    "                })\n",
    "\n",
    "df = pd.DataFrame.from_dict(emails[\"index\"])"
   ]
  },
  {
   "cell_type": "code",
   "execution_count": 45,
   "metadata": {},
   "outputs": [
    {
     "data": {
      "text/plain": [
       "0    6954\n",
       "1    2400\n",
       "Name: isSpam, dtype: int64"
      ]
     },
     "execution_count": 45,
     "metadata": {},
     "output_type": "execute_result"
    }
   ],
   "source": [
    "df[\"isSpam\"].value_counts()"
   ]
  },
  {
   "cell_type": "code",
   "execution_count": 29,
   "metadata": {},
   "outputs": [],
   "source": [
    "pd.set_option('display.max_rows', 9000)\n",
    "pd.set_option('display.max_columns', 200)"
   ]
  },
  {
   "cell_type": "markdown",
   "metadata": {},
   "source": [
    "Build a spam classifier using naive Bayes and clustering. You will have to create your own dataset from the input messages. Be sure to document how you created your dataset."
   ]
  },
  {
   "cell_type": "code",
   "execution_count": 28,
   "metadata": {},
   "outputs": [
    {
     "data": {
      "text/plain": [
       "0    6954\n",
       "1    2400\n",
       "Name: isSpam, dtype: int64"
      ]
     },
     "execution_count": 28,
     "metadata": {},
     "output_type": "execute_result"
    }
   ],
   "source": [
    "df[\"isSpam\"].value_counts()"
   ]
  },
  {
   "cell_type": "code",
   "execution_count": 6,
   "metadata": {
    "scrolled": true
   },
   "outputs": [
    {
     "data": {
      "text/plain": [
       "Subject    25\n",
       "From        6\n",
       "Body        0\n",
       "isSpam      0\n",
       "FileID      0\n",
       "dtype: int64"
      ]
     },
     "execution_count": 6,
     "metadata": {},
     "output_type": "execute_result"
    }
   ],
   "source": [
    "df.isna().sum()"
   ]
  },
  {
   "cell_type": "code",
   "execution_count": 31,
   "metadata": {},
   "outputs": [],
   "source": [
    "df.head(9000)"
   ]
  },
  {
   "cell_type": "code",
   "execution_count": 12,
   "metadata": {},
   "outputs": [],
   "source": [
    "df = df.dropna(how='any',axis=0) "
   ]
  },
  {
   "cell_type": "code",
   "execution_count": 13,
   "metadata": {},
   "outputs": [
    {
     "data": {
      "text/plain": [
       "Subject    0\n",
       "From       0\n",
       "Body       0\n",
       "isSpam     0\n",
       "dtype: int64"
      ]
     },
     "execution_count": 13,
     "metadata": {},
     "output_type": "execute_result"
    }
   ],
   "source": [
    "df.isna().sum()"
   ]
  },
  {
   "cell_type": "code",
   "execution_count": 15,
   "metadata": {},
   "outputs": [
    {
     "data": {
      "text/plain": [
       "0    6944\n",
       "1    2383\n",
       "Name: isSpam, dtype: int64"
      ]
     },
     "execution_count": 15,
     "metadata": {},
     "output_type": "execute_result"
    }
   ],
   "source": [
    "df[\"isSpam\"].value_counts()"
   ]
  },
  {
   "cell_type": "code",
   "execution_count": 16,
   "metadata": {},
   "outputs": [
    {
     "data": {
      "text/html": [
       "<div>\n",
       "<style scoped>\n",
       "    .dataframe tbody tr th:only-of-type {\n",
       "        vertical-align: middle;\n",
       "    }\n",
       "\n",
       "    .dataframe tbody tr th {\n",
       "        vertical-align: top;\n",
       "    }\n",
       "\n",
       "    .dataframe thead th {\n",
       "        text-align: right;\n",
       "    }\n",
       "</style>\n",
       "<table border=\"1\" class=\"dataframe\">\n",
       "  <thead>\n",
       "    <tr style=\"text-align: right;\">\n",
       "      <th></th>\n",
       "      <th>Subject</th>\n",
       "      <th>From</th>\n",
       "      <th>Body</th>\n",
       "      <th>isSpam</th>\n",
       "    </tr>\n",
       "  </thead>\n",
       "  <tbody>\n",
       "    <tr>\n",
       "      <th>9349</th>\n",
       "      <td>RE: [Razor-users] What's wrong with the Razor ...</td>\n",
       "      <td>\"Rose, Bobby\" &lt;brose@med.wayne.edu&gt;</td>\n",
       "      <td>I'm one of the 30,000 but it's not working ve...</td>\n",
       "      <td>0</td>\n",
       "    </tr>\n",
       "    <tr>\n",
       "      <th>9350</th>\n",
       "      <td>Re: W3C approves HTML 4 'emotitags' [...]</td>\n",
       "      <td>harley@argote.ch</td>\n",
       "      <td>Damien Morton quoted: &gt;W3C approves HTML 4 'e...</td>\n",
       "      <td>0</td>\n",
       "    </tr>\n",
       "    <tr>\n",
       "      <th>9351</th>\n",
       "      <td>Re: Ximian apt repos?</td>\n",
       "      <td>Mark Derricutt &lt;mark@talios.com&gt;</td>\n",
       "      <td>On Mon, 2002-07-22 at 06:50, che wrote:  &gt; th...</td>\n",
       "      <td>0</td>\n",
       "    </tr>\n",
       "    <tr>\n",
       "      <th>9352</th>\n",
       "      <td>Re: Installing RPM</td>\n",
       "      <td>Matthias Saou &lt;matthias@egwn.net&gt;</td>\n",
       "      <td>Once upon a time, Manfred wrote :  &gt; I would ...</td>\n",
       "      <td>0</td>\n",
       "    </tr>\n",
       "    <tr>\n",
       "      <th>9353</th>\n",
       "      <td>scan bug: no update after Pick's \"New FTOC\"</td>\n",
       "      <td>Brent Welch &lt;welch@panasas.com&gt;</td>\n",
       "      <td>If you run Pick, and then use the \"New FTOC\" ...</td>\n",
       "      <td>0</td>\n",
       "    </tr>\n",
       "  </tbody>\n",
       "</table>\n",
       "</div>"
      ],
      "text/plain": [
       "                                                Subject  \\\n",
       "9349  RE: [Razor-users] What's wrong with the Razor ...   \n",
       "9350          Re: W3C approves HTML 4 'emotitags' [...]   \n",
       "9351                              Re: Ximian apt repos?   \n",
       "9352                                 Re: Installing RPM   \n",
       "9353        scan bug: no update after Pick's \"New FTOC\"   \n",
       "\n",
       "                                     From  \\\n",
       "9349  \"Rose, Bobby\" <brose@med.wayne.edu>   \n",
       "9350                     harley@argote.ch   \n",
       "9351     Mark Derricutt <mark@talios.com>   \n",
       "9352    Matthias Saou <matthias@egwn.net>   \n",
       "9353      Brent Welch <welch@panasas.com>   \n",
       "\n",
       "                                                   Body  isSpam  \n",
       "9349   I'm one of the 30,000 but it's not working ve...       0  \n",
       "9350   Damien Morton quoted: >W3C approves HTML 4 'e...       0  \n",
       "9351   On Mon, 2002-07-22 at 06:50, che wrote:  > th...       0  \n",
       "9352   Once upon a time, Manfred wrote :  > I would ...       0  \n",
       "9353   If you run Pick, and then use the \"New FTOC\" ...       0  "
      ]
     },
     "execution_count": 16,
     "metadata": {},
     "output_type": "execute_result"
    }
   ],
   "source": [
    "#remove new lines and such\n",
    "df = df.replace(r'\\\\n',' ', regex=True)\n",
    "df = df.replace(r'\\\\t',' ', regex=True)\n",
    "df = df.replace(r'b\\'',' ', regex=True)\n",
    "df = df.replace(r'b\\\"',' ', regex=True)\n"
   ]
  }
 ],
 "metadata": {
  "interpreter": {
   "hash": "d5e22e80c5a5049300fcd1222e380e7a80cada809ed3c1dbd59a10e881ec2acb"
  },
  "kernelspec": {
   "display_name": "Python 3 (ipykernel)",
   "language": "python",
   "name": "python3"
  },
  "language_info": {
   "codemirror_mode": {
    "name": "ipython",
    "version": 3
   },
   "file_extension": ".py",
   "mimetype": "text/x-python",
   "name": "python",
   "nbconvert_exporter": "python",
   "pygments_lexer": "ipython3",
   "version": "3.9.7"
  }
 },
 "nbformat": 4,
 "nbformat_minor": 2
}
