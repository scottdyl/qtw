{
 "cells": [
  {
   "cell_type": "code",
   "execution_count": 3,
   "metadata": {},
   "outputs": [],
   "source": [
    "import numpy as np\n",
    "import pandas as pd\n",
    "import email\n",
    "from html.parser import HTMLParser\n",
    "from bs4 import BeautifulSoup\n",
    "import nltk\n",
    "from nltk.corpus import stopwords\n",
    "from nltk.tokenize import word_tokenize\n",
    "from sklearn.model_selection import train_test_split\n",
    "from sklearn.feature_extraction.text import CountVectorizer\n",
    "from sklearn.naive_bayes import MultinomialNB\n",
    "from sklearn.metrics import accuracy_score\n",
    "from sklearn.metrics import classification_report\n",
    "from email.parser import BytesParser\n",
    "from email.policy import default\n",
    "import csv\n",
    "import os\n",
    "import pathlib\n",
    "import pprint\n",
    "from os.path import dirname, abspath"
   ]
  },
  {
   "cell_type": "code",
   "execution_count": 4,
   "metadata": {},
   "outputs": [],
   "source": [
    "d = dirname(dirname(abspath('__file__')))"
   ]
  },
  {
   "cell_type": "code",
   "execution_count": 5,
   "metadata": {},
   "outputs": [],
   "source": [
    "location = f\"{d}/case study 3/\""
   ]
  },
  {
   "cell_type": "code",
   "execution_count": 6,
   "metadata": {},
   "outputs": [
    {
     "data": {
      "text/plain": [
       "'c:\\\\Users\\\\Dylan z4\\\\OneDrive\\\\Documents\\\\GitHub\\\\qtw\\\\case study 3/case study 3/'"
      ]
     },
     "execution_count": 6,
     "metadata": {},
     "output_type": "execute_result"
    }
   ],
   "source": [
    "location"
   ]
  },
  {
   "cell_type": "code",
   "execution_count": 7,
   "metadata": {},
   "outputs": [],
   "source": [
    "emails = {\"index\":[]}\n",
    "for path, subdirectories, filelist in os.walk(os.path.join(d,\"SpamAssassinMessages\")):\n",
    "    for f in filelist:\n",
    "        \n",
    "        label = 0 if \"ham\" in path.lower() else 1\n",
    "        with open(os.path.join(path, f), \"rb\") as fp:\n",
    "            msg = BytesParser(policy=default).parse(fp)\n",
    "            with open(os.path.join(path, f), \"r\",encoding= 'utf-8', errors='ignore') as new_f:\n",
    "                msg = email.message_from_file(new_f)\n",
    "                for part in msg.walk():\n",
    "                    if part.get_content_type() == 'text/plain':\n",
    "                        body = part.get_payload()  # decode\n",
    "                emails[\"index\"].append({\n",
    "                    \"Subject\": msg.get(\"Subject\"),\n",
    "                    \"From\": msg.get(\"from\"),\n",
    "                    \"Body\": body,\n",
    "                    \"isSpam\": label,\n",
    "                    \"FileID\": f\n",
    "                })\n",
    "\n",
    "df = pd.DataFrame.from_dict(emails[\"index\"])"
   ]
  },
  {
   "cell_type": "code",
   "execution_count": 8,
   "metadata": {},
   "outputs": [
    {
     "data": {
      "text/plain": [
       "0    6954\n",
       "1    2400\n",
       "Name: isSpam, dtype: int64"
      ]
     },
     "execution_count": 8,
     "metadata": {},
     "output_type": "execute_result"
    }
   ],
   "source": [
    "df[\"isSpam\"].value_counts()"
   ]
  },
  {
   "cell_type": "code",
   "execution_count": 9,
   "metadata": {},
   "outputs": [],
   "source": [
    "pd.set_option('display.max_rows', 9000)\n",
    "pd.set_option('display.max_columns', 200)"
   ]
  },
  {
   "cell_type": "markdown",
   "metadata": {},
   "source": [
    "Build a spam classifier using naive Bayes and clustering. You will have to create your own dataset from the input messages. Be sure to document how you created your dataset."
   ]
  },
  {
   "cell_type": "code",
   "execution_count": 10,
   "metadata": {},
   "outputs": [
    {
     "data": {
      "text/plain": [
       "0    6954\n",
       "1    2400\n",
       "Name: isSpam, dtype: int64"
      ]
     },
     "execution_count": 10,
     "metadata": {},
     "output_type": "execute_result"
    }
   ],
   "source": [
    "df[\"isSpam\"].value_counts()"
   ]
  },
  {
   "cell_type": "code",
   "execution_count": 11,
   "metadata": {
    "scrolled": true
   },
   "outputs": [
    {
     "data": {
      "text/plain": [
       "Subject    13\n",
       "From        6\n",
       "Body        0\n",
       "isSpam      0\n",
       "FileID      0\n",
       "dtype: int64"
      ]
     },
     "execution_count": 11,
     "metadata": {},
     "output_type": "execute_result"
    }
   ],
   "source": [
    "df.isna().sum()"
   ]
  },
  {
   "cell_type": "code",
   "execution_count": 12,
   "metadata": {},
   "outputs": [],
   "source": [
    "df = df.dropna(how='any',axis=0) "
   ]
  },
  {
   "cell_type": "code",
   "execution_count": 13,
   "metadata": {},
   "outputs": [
    {
     "data": {
      "text/plain": [
       "Subject    0\n",
       "From       0\n",
       "Body       0\n",
       "isSpam     0\n",
       "FileID     0\n",
       "dtype: int64"
      ]
     },
     "execution_count": 13,
     "metadata": {},
     "output_type": "execute_result"
    }
   ],
   "source": [
    "df.isna().sum()"
   ]
  },
  {
   "cell_type": "code",
   "execution_count": 14,
   "metadata": {},
   "outputs": [
    {
     "data": {
      "text/plain": [
       "0    6944\n",
       "1    2397\n",
       "Name: isSpam, dtype: int64"
      ]
     },
     "execution_count": 14,
     "metadata": {},
     "output_type": "execute_result"
    }
   ],
   "source": [
    "df[\"isSpam\"].value_counts()"
   ]
  },
  {
   "cell_type": "code",
   "execution_count": 15,
   "metadata": {},
   "outputs": [],
   "source": [
    "#remove new lines and such\n",
    "df = df.replace(r'\\\\n',' ', regex=True)\n",
    "df = df.replace(r'\\\\t',' ', regex=True)\n",
    "df = df.replace(r'b\\'',' ', regex=True)\n",
    "df = df.replace(r'b\\\"',' ', regex=True)\n"
   ]
  },
  {
   "cell_type": "code",
   "execution_count": 16,
   "metadata": {},
   "outputs": [
    {
     "data": {
      "text/html": [
       "<div>\n",
       "<style scoped>\n",
       "    .dataframe tbody tr th:only-of-type {\n",
       "        vertical-align: middle;\n",
       "    }\n",
       "\n",
       "    .dataframe tbody tr th {\n",
       "        vertical-align: top;\n",
       "    }\n",
       "\n",
       "    .dataframe thead th {\n",
       "        text-align: right;\n",
       "    }\n",
       "</style>\n",
       "<table border=\"1\" class=\"dataframe\">\n",
       "  <thead>\n",
       "    <tr style=\"text-align: right;\">\n",
       "      <th></th>\n",
       "      <th>Subject</th>\n",
       "      <th>From</th>\n",
       "      <th>Body</th>\n",
       "      <th>isSpam</th>\n",
       "      <th>FileID</th>\n",
       "    </tr>\n",
       "  </thead>\n",
       "  <tbody>\n",
       "    <tr>\n",
       "      <th>1</th>\n",
       "      <td>Re: New Sequences Window</td>\n",
       "      <td>Robert Elz &lt;kre@munnari.OZ.AU&gt;</td>\n",
       "      <td>Date:        Wed, 21 Aug 2002 10:54:46 -05...</td>\n",
       "      <td>0</td>\n",
       "      <td>00001.7c53336b37003a9286aba55d2945844c</td>\n",
       "    </tr>\n",
       "    <tr>\n",
       "      <th>2</th>\n",
       "      <td>[zzzzteana] RE: Alexander</td>\n",
       "      <td>Steve Burt &lt;Steve_Burt@cursor-system.com&gt;</td>\n",
       "      <td>Martin A posted:\\nTassos Papadopoulos, the Gre...</td>\n",
       "      <td>0</td>\n",
       "      <td>00002.9c4069e25e1ef370c078db7ee85ff9ac</td>\n",
       "    </tr>\n",
       "    <tr>\n",
       "      <th>3</th>\n",
       "      <td>[zzzzteana] Moscow bomber</td>\n",
       "      <td>\"Tim Chapman\" &lt;timc@2ubh.com&gt;</td>\n",
       "      <td>Man Threatens Explosion In Moscow \\n\\nThursday...</td>\n",
       "      <td>0</td>\n",
       "      <td>00003.860e3c3cee1b42ead714c5c874fe25f7</td>\n",
       "    </tr>\n",
       "    <tr>\n",
       "      <th>4</th>\n",
       "      <td>[IRR] Klez: The Virus That  Won't Die</td>\n",
       "      <td>Monty Solomon &lt;monty@roscom.com&gt;</td>\n",
       "      <td>Klez: The Virus That Won't Die\\n \\nAlready the...</td>\n",
       "      <td>0</td>\n",
       "      <td>00004.864220c5b6930b209cc287c361c99af1</td>\n",
       "    </tr>\n",
       "    <tr>\n",
       "      <th>5</th>\n",
       "      <td>Re: [zzzzteana] Nothing like mama used to make</td>\n",
       "      <td>Stewart Smith &lt;Stewart.Smith@ee.ed.ac.uk&gt;</td>\n",
       "      <td>&gt;  in adding cream to spaghetti carbonara, whi...</td>\n",
       "      <td>0</td>\n",
       "      <td>00005.bf27cdeaf0b8c4647ecd61b1d09da613</td>\n",
       "    </tr>\n",
       "  </tbody>\n",
       "</table>\n",
       "</div>"
      ],
      "text/plain": [
       "                                          Subject  \\\n",
       "1                        Re: New Sequences Window   \n",
       "2                       [zzzzteana] RE: Alexander   \n",
       "3                       [zzzzteana] Moscow bomber   \n",
       "4           [IRR] Klez: The Virus That  Won't Die   \n",
       "5  Re: [zzzzteana] Nothing like mama used to make   \n",
       "\n",
       "                                        From  \\\n",
       "1             Robert Elz <kre@munnari.OZ.AU>   \n",
       "2  Steve Burt <Steve_Burt@cursor-system.com>   \n",
       "3              \"Tim Chapman\" <timc@2ubh.com>   \n",
       "4           Monty Solomon <monty@roscom.com>   \n",
       "5  Stewart Smith <Stewart.Smith@ee.ed.ac.uk>   \n",
       "\n",
       "                                                Body  isSpam  \\\n",
       "1      Date:        Wed, 21 Aug 2002 10:54:46 -05...       0   \n",
       "2  Martin A posted:\\nTassos Papadopoulos, the Gre...       0   \n",
       "3  Man Threatens Explosion In Moscow \\n\\nThursday...       0   \n",
       "4  Klez: The Virus That Won't Die\\n \\nAlready the...       0   \n",
       "5  >  in adding cream to spaghetti carbonara, whi...       0   \n",
       "\n",
       "                                   FileID  \n",
       "1  00001.7c53336b37003a9286aba55d2945844c  \n",
       "2  00002.9c4069e25e1ef370c078db7ee85ff9ac  \n",
       "3  00003.860e3c3cee1b42ead714c5c874fe25f7  \n",
       "4  00004.864220c5b6930b209cc287c361c99af1  \n",
       "5  00005.bf27cdeaf0b8c4647ecd61b1d09da613  "
      ]
     },
     "execution_count": 16,
     "metadata": {},
     "output_type": "execute_result"
    }
   ],
   "source": [
    "df.head()"
   ]
  },
  {
   "cell_type": "code",
   "execution_count": 17,
   "metadata": {},
   "outputs": [],
   "source": [
    "target = df['isSpam']\n",
    "train = df.drop(['isSpam','FileID'],axis=1)"
   ]
  },
  {
   "cell_type": "code",
   "execution_count": 19,
   "metadata": {},
   "outputs": [
    {
     "name": "stderr",
     "output_type": "stream",
     "text": [
      "[nltk_data] Downloading package stopwords to C:\\Users\\Dylan\n",
      "[nltk_data]     z4\\AppData\\Roaming\\nltk_data...\n",
      "[nltk_data]   Unzipping corpora\\stopwords.zip.\n"
     ]
    },
    {
     "data": {
      "text/html": [
       "<div>\n",
       "<style scoped>\n",
       "    .dataframe tbody tr th:only-of-type {\n",
       "        vertical-align: middle;\n",
       "    }\n",
       "\n",
       "    .dataframe tbody tr th {\n",
       "        vertical-align: top;\n",
       "    }\n",
       "\n",
       "    .dataframe thead th {\n",
       "        text-align: right;\n",
       "    }\n",
       "</style>\n",
       "<table border=\"1\" class=\"dataframe\">\n",
       "  <thead>\n",
       "    <tr style=\"text-align: right;\">\n",
       "      <th></th>\n",
       "      <th>Subject</th>\n",
       "      <th>From</th>\n",
       "      <th>clean_body</th>\n",
       "    </tr>\n",
       "  </thead>\n",
       "  <tbody>\n",
       "    <tr>\n",
       "      <th>1</th>\n",
       "      <td>Re: New Sequences Window</td>\n",
       "      <td>Robert Elz &lt;kre@munnari.OZ.AU&gt;</td>\n",
       "      <td>Date: Wed, 21 Aug 2002 10:54:46 -0500 From: Ch...</td>\n",
       "    </tr>\n",
       "    <tr>\n",
       "      <th>2</th>\n",
       "      <td>[zzzzteana] RE: Alexander</td>\n",
       "      <td>Steve Burt &lt;Steve_Burt@cursor-system.com&gt;</td>\n",
       "      <td>Martin A posted: Tassos Papadopoulos, Greek sc...</td>\n",
       "    </tr>\n",
       "    <tr>\n",
       "      <th>3</th>\n",
       "      <td>[zzzzteana] Moscow bomber</td>\n",
       "      <td>\"Tim Chapman\" &lt;timc@2ubh.com&gt;</td>\n",
       "      <td>Man Threatens Explosion In Moscow Thursday Aug...</td>\n",
       "    </tr>\n",
       "    <tr>\n",
       "      <th>4</th>\n",
       "      <td>[IRR] Klez: The Virus That  Won't Die</td>\n",
       "      <td>Monty Solomon &lt;monty@roscom.com&gt;</td>\n",
       "      <td>Klez: The Virus That Won't Die Already prolifi...</td>\n",
       "    </tr>\n",
       "    <tr>\n",
       "      <th>5</th>\n",
       "      <td>Re: [zzzzteana] Nothing like mama used to make</td>\n",
       "      <td>Stewart Smith &lt;Stewart.Smith@ee.ed.ac.uk&gt;</td>\n",
       "      <td>&gt; adding cream spaghetti carbonara, effect pas...</td>\n",
       "    </tr>\n",
       "  </tbody>\n",
       "</table>\n",
       "</div>"
      ],
      "text/plain": [
       "                                          Subject  \\\n",
       "1                        Re: New Sequences Window   \n",
       "2                       [zzzzteana] RE: Alexander   \n",
       "3                       [zzzzteana] Moscow bomber   \n",
       "4           [IRR] Klez: The Virus That  Won't Die   \n",
       "5  Re: [zzzzteana] Nothing like mama used to make   \n",
       "\n",
       "                                        From  \\\n",
       "1             Robert Elz <kre@munnari.OZ.AU>   \n",
       "2  Steve Burt <Steve_Burt@cursor-system.com>   \n",
       "3              \"Tim Chapman\" <timc@2ubh.com>   \n",
       "4           Monty Solomon <monty@roscom.com>   \n",
       "5  Stewart Smith <Stewart.Smith@ee.ed.ac.uk>   \n",
       "\n",
       "                                          clean_body  \n",
       "1  Date: Wed, 21 Aug 2002 10:54:46 -0500 From: Ch...  \n",
       "2  Martin A posted: Tassos Papadopoulos, Greek sc...  \n",
       "3  Man Threatens Explosion In Moscow Thursday Aug...  \n",
       "4  Klez: The Virus That Won't Die Already prolifi...  \n",
       "5  > adding cream spaghetti carbonara, effect pas...  "
      ]
     },
     "execution_count": 19,
     "metadata": {},
     "output_type": "execute_result"
    }
   ],
   "source": [
    "from nltk.corpus import stopwords\n",
    "stop = stopwords.words('english')\n",
    "train['clean_body'] = train['Body'].apply(lambda x: ' '.join([word for word in x.split() if word not in (stop)]))\n",
    "train = train.drop(['Body'],axis=1)\n",
    "train.head()"
   ]
  },
  {
   "cell_type": "code",
   "execution_count": 20,
   "metadata": {},
   "outputs": [],
   "source": [
    "\n",
    "from sklearn.model_selection import train_test_split\n",
    "X_train, X_test, y_train, y_test = train_test_split(train, target, test_size=0.35, shuffle=True, random_state=45)"
   ]
  },
  {
   "cell_type": "code",
   "execution_count": 21,
   "metadata": {},
   "outputs": [],
   "source": [
    "from sklearn.feature_extraction.text import CountVectorizer\n",
    "cv = CountVectorizer()\n",
    "cv_data_train = cv.fit_transform(X_train)\n",
    "cv_data_test = cv.transform(X_test)"
   ]
  }
 ],
 "metadata": {
  "interpreter": {
   "hash": "23da7f6e05bebdaf2be04501d041eb61ba6729cc62c1234a73c5754dfe472642"
  },
  "kernelspec": {
   "display_name": "Python 3.10.4 64-bit (windows store)",
   "language": "python",
   "name": "python3"
  },
  "language_info": {
   "codemirror_mode": {
    "name": "ipython",
    "version": 3
   },
   "file_extension": ".py",
   "mimetype": "text/x-python",
   "name": "python",
   "nbconvert_exporter": "python",
   "pygments_lexer": "ipython3",
   "version": "3.10.4"
  }
 },
 "nbformat": 4,
 "nbformat_minor": 2
}
