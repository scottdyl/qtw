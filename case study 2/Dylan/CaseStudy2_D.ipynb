{
 "cells": [
  {
   "cell_type": "code",
   "execution_count": 285,
   "metadata": {},
   "outputs": [],
   "source": [
    "import pandas as pd\n",
    "import numpy as np\n",
    "import sklearn\n",
    "from sklearn.model_selection import KFold\n",
    "from sklearn.preprocessing import StandardScaler\n",
    "from sklearn.model_selection import cross_val_score\n",
    "import seaborn as sns\n",
    "import matplotlib.pyplot as plt\n",
    "from sklearn.metrics import mean_squared_error\n",
    "from sklearn.linear_model import Lasso\n",
    "from sklearn.linear_model import Ridge\n",
    "from sklearn.model_selection import cross_val_predict\n",
    "import matplotlib.pyplot as plt\n",
    "from sklearn.linear_model import LogisticRegression\n",
    "from sklearn.model_selection import train_test_split"
   ]
  },
  {
   "cell_type": "markdown",
   "metadata": {},
   "source": [
    "### Instructions\n",
    "\n",
    "Your case study is to build a classifier using logistic regression to predict hospital readmittance. \n",
    "There is missing data that must be imputed. Once again, discuss variable importances as part of your submission.\n",
    "\n",
    "### Team:\n",
    "- Dylan Scott\n",
    "- Jobin Joseph\n",
    "- Taylor Bonar\n",
    "- Satvik Ajmera"
   ]
  },
  {
   "cell_type": "code",
   "execution_count": 286,
   "metadata": {},
   "outputs": [
    {
     "data": {
      "text/html": [
       "<div>\n",
       "<style scoped>\n",
       "    .dataframe tbody tr th:only-of-type {\n",
       "        vertical-align: middle;\n",
       "    }\n",
       "\n",
       "    .dataframe tbody tr th {\n",
       "        vertical-align: top;\n",
       "    }\n",
       "\n",
       "    .dataframe thead th {\n",
       "        text-align: right;\n",
       "    }\n",
       "</style>\n",
       "<table border=\"1\" class=\"dataframe\">\n",
       "  <thead>\n",
       "    <tr style=\"text-align: right;\">\n",
       "      <th></th>\n",
       "      <th>encounter_id</th>\n",
       "      <th>patient_nbr</th>\n",
       "      <th>race</th>\n",
       "      <th>gender</th>\n",
       "      <th>age</th>\n",
       "      <th>weight</th>\n",
       "      <th>admission_type_id</th>\n",
       "      <th>discharge_disposition_id</th>\n",
       "      <th>admission_source_id</th>\n",
       "      <th>time_in_hospital</th>\n",
       "      <th>...</th>\n",
       "      <th>citoglipton</th>\n",
       "      <th>insulin</th>\n",
       "      <th>glyburide-metformin</th>\n",
       "      <th>glipizide-metformin</th>\n",
       "      <th>glimepiride-pioglitazone</th>\n",
       "      <th>metformin-rosiglitazone</th>\n",
       "      <th>metformin-pioglitazone</th>\n",
       "      <th>change</th>\n",
       "      <th>diabetesMed</th>\n",
       "      <th>readmitted</th>\n",
       "    </tr>\n",
       "  </thead>\n",
       "  <tbody>\n",
       "    <tr>\n",
       "      <th>0</th>\n",
       "      <td>2278392</td>\n",
       "      <td>8222157</td>\n",
       "      <td>Caucasian</td>\n",
       "      <td>Female</td>\n",
       "      <td>[0-10)</td>\n",
       "      <td>NaN</td>\n",
       "      <td>6</td>\n",
       "      <td>25</td>\n",
       "      <td>1</td>\n",
       "      <td>1</td>\n",
       "      <td>...</td>\n",
       "      <td>No</td>\n",
       "      <td>No</td>\n",
       "      <td>No</td>\n",
       "      <td>No</td>\n",
       "      <td>No</td>\n",
       "      <td>No</td>\n",
       "      <td>No</td>\n",
       "      <td>No</td>\n",
       "      <td>No</td>\n",
       "      <td>NO</td>\n",
       "    </tr>\n",
       "    <tr>\n",
       "      <th>1</th>\n",
       "      <td>149190</td>\n",
       "      <td>55629189</td>\n",
       "      <td>Caucasian</td>\n",
       "      <td>Female</td>\n",
       "      <td>[10-20)</td>\n",
       "      <td>NaN</td>\n",
       "      <td>1</td>\n",
       "      <td>1</td>\n",
       "      <td>7</td>\n",
       "      <td>3</td>\n",
       "      <td>...</td>\n",
       "      <td>No</td>\n",
       "      <td>Up</td>\n",
       "      <td>No</td>\n",
       "      <td>No</td>\n",
       "      <td>No</td>\n",
       "      <td>No</td>\n",
       "      <td>No</td>\n",
       "      <td>Ch</td>\n",
       "      <td>Yes</td>\n",
       "      <td>&gt;30</td>\n",
       "    </tr>\n",
       "    <tr>\n",
       "      <th>2</th>\n",
       "      <td>64410</td>\n",
       "      <td>86047875</td>\n",
       "      <td>AfricanAmerican</td>\n",
       "      <td>Female</td>\n",
       "      <td>[20-30)</td>\n",
       "      <td>NaN</td>\n",
       "      <td>1</td>\n",
       "      <td>1</td>\n",
       "      <td>7</td>\n",
       "      <td>2</td>\n",
       "      <td>...</td>\n",
       "      <td>No</td>\n",
       "      <td>No</td>\n",
       "      <td>No</td>\n",
       "      <td>No</td>\n",
       "      <td>No</td>\n",
       "      <td>No</td>\n",
       "      <td>No</td>\n",
       "      <td>No</td>\n",
       "      <td>Yes</td>\n",
       "      <td>NO</td>\n",
       "    </tr>\n",
       "    <tr>\n",
       "      <th>3</th>\n",
       "      <td>500364</td>\n",
       "      <td>82442376</td>\n",
       "      <td>Caucasian</td>\n",
       "      <td>Male</td>\n",
       "      <td>[30-40)</td>\n",
       "      <td>NaN</td>\n",
       "      <td>1</td>\n",
       "      <td>1</td>\n",
       "      <td>7</td>\n",
       "      <td>2</td>\n",
       "      <td>...</td>\n",
       "      <td>No</td>\n",
       "      <td>Up</td>\n",
       "      <td>No</td>\n",
       "      <td>No</td>\n",
       "      <td>No</td>\n",
       "      <td>No</td>\n",
       "      <td>No</td>\n",
       "      <td>Ch</td>\n",
       "      <td>Yes</td>\n",
       "      <td>NO</td>\n",
       "    </tr>\n",
       "    <tr>\n",
       "      <th>4</th>\n",
       "      <td>16680</td>\n",
       "      <td>42519267</td>\n",
       "      <td>Caucasian</td>\n",
       "      <td>Male</td>\n",
       "      <td>[40-50)</td>\n",
       "      <td>NaN</td>\n",
       "      <td>1</td>\n",
       "      <td>1</td>\n",
       "      <td>7</td>\n",
       "      <td>1</td>\n",
       "      <td>...</td>\n",
       "      <td>No</td>\n",
       "      <td>Steady</td>\n",
       "      <td>No</td>\n",
       "      <td>No</td>\n",
       "      <td>No</td>\n",
       "      <td>No</td>\n",
       "      <td>No</td>\n",
       "      <td>Ch</td>\n",
       "      <td>Yes</td>\n",
       "      <td>NO</td>\n",
       "    </tr>\n",
       "  </tbody>\n",
       "</table>\n",
       "<p>5 rows × 50 columns</p>\n",
       "</div>"
      ],
      "text/plain": [
       "   encounter_id  patient_nbr             race  gender      age weight  \\\n",
       "0       2278392      8222157        Caucasian  Female   [0-10)    NaN   \n",
       "1        149190     55629189        Caucasian  Female  [10-20)    NaN   \n",
       "2         64410     86047875  AfricanAmerican  Female  [20-30)    NaN   \n",
       "3        500364     82442376        Caucasian    Male  [30-40)    NaN   \n",
       "4         16680     42519267        Caucasian    Male  [40-50)    NaN   \n",
       "\n",
       "   admission_type_id  discharge_disposition_id  admission_source_id  \\\n",
       "0                  6                        25                    1   \n",
       "1                  1                         1                    7   \n",
       "2                  1                         1                    7   \n",
       "3                  1                         1                    7   \n",
       "4                  1                         1                    7   \n",
       "\n",
       "   time_in_hospital  ... citoglipton insulin  glyburide-metformin  \\\n",
       "0                 1  ...          No      No                   No   \n",
       "1                 3  ...          No      Up                   No   \n",
       "2                 2  ...          No      No                   No   \n",
       "3                 2  ...          No      Up                   No   \n",
       "4                 1  ...          No  Steady                   No   \n",
       "\n",
       "   glipizide-metformin  glimepiride-pioglitazone  metformin-rosiglitazone  \\\n",
       "0                   No                        No                       No   \n",
       "1                   No                        No                       No   \n",
       "2                   No                        No                       No   \n",
       "3                   No                        No                       No   \n",
       "4                   No                        No                       No   \n",
       "\n",
       "   metformin-pioglitazone  change diabetesMed readmitted  \n",
       "0                      No      No          No         NO  \n",
       "1                      No      Ch         Yes        >30  \n",
       "2                      No      No         Yes         NO  \n",
       "3                      No      Ch         Yes         NO  \n",
       "4                      No      Ch         Yes         NO  \n",
       "\n",
       "[5 rows x 50 columns]"
      ]
     },
     "execution_count": 286,
     "metadata": {},
     "output_type": "execute_result"
    }
   ],
   "source": [
    "#data\n",
    "diabetes_df = pd.read_csv(\"../dataset_diabetes/diabetic_data.csv\", header=0, na_values=\"?\", low_memory=False)\n",
    "diabetes_df.head()"
   ]
  },
  {
   "cell_type": "code",
   "execution_count": 287,
   "metadata": {},
   "outputs": [
    {
     "data": {
      "text/plain": [
       "Caucasian          76099\n",
       "AfricanAmerican    19210\n",
       "Hispanic            2037\n",
       "Other               1506\n",
       "Asian                641\n",
       "Name: race, dtype: int64"
      ]
     },
     "execution_count": 287,
     "metadata": {},
     "output_type": "execute_result"
    }
   ],
   "source": [
    "diabetes_df['race'].value_counts()"
   ]
  },
  {
   "cell_type": "code",
   "execution_count": 288,
   "metadata": {},
   "outputs": [
    {
     "data": {
      "text/plain": [
       "[70-80)     26068\n",
       "[60-70)     22483\n",
       "[50-60)     17256\n",
       "[80-90)     17197\n",
       "[40-50)      9685\n",
       "[30-40)      3775\n",
       "[90-100)     2793\n",
       "[20-30)      1657\n",
       "[10-20)       691\n",
       "[0-10)        161\n",
       "Name: age, dtype: int64"
      ]
     },
     "execution_count": 288,
     "metadata": {},
     "output_type": "execute_result"
    }
   ],
   "source": [
    "diabetes_df['age'].value_counts()"
   ]
  },
  {
   "cell_type": "code",
   "execution_count": 289,
   "metadata": {},
   "outputs": [],
   "source": [
    "age_values = list(diabetes_df['age'].unique())"
   ]
  },
  {
   "cell_type": "code",
   "execution_count": 290,
   "metadata": {},
   "outputs": [
    {
     "data": {
      "text/plain": [
       "Female             54708\n",
       "Male               47055\n",
       "Unknown/Invalid        3\n",
       "Name: gender, dtype: int64"
      ]
     },
     "execution_count": 290,
     "metadata": {},
     "output_type": "execute_result"
    }
   ],
   "source": [
    "diabetes_df['gender'].value_counts()"
   ]
  },
  {
   "cell_type": "code",
   "execution_count": 291,
   "metadata": {},
   "outputs": [
    {
     "data": {
      "text/html": [
       "<div>\n",
       "<style scoped>\n",
       "    .dataframe tbody tr th:only-of-type {\n",
       "        vertical-align: middle;\n",
       "    }\n",
       "\n",
       "    .dataframe tbody tr th {\n",
       "        vertical-align: top;\n",
       "    }\n",
       "\n",
       "    .dataframe thead th {\n",
       "        text-align: right;\n",
       "    }\n",
       "</style>\n",
       "<table border=\"1\" class=\"dataframe\">\n",
       "  <thead>\n",
       "    <tr style=\"text-align: right;\">\n",
       "      <th></th>\n",
       "      <th>encounter_id</th>\n",
       "      <th>patient_nbr</th>\n",
       "      <th>race</th>\n",
       "      <th>gender</th>\n",
       "      <th>age</th>\n",
       "      <th>weight</th>\n",
       "      <th>admission_type_id</th>\n",
       "      <th>discharge_disposition_id</th>\n",
       "      <th>admission_source_id</th>\n",
       "      <th>time_in_hospital</th>\n",
       "      <th>...</th>\n",
       "      <th>citoglipton</th>\n",
       "      <th>insulin</th>\n",
       "      <th>glyburide-metformin</th>\n",
       "      <th>glipizide-metformin</th>\n",
       "      <th>glimepiride-pioglitazone</th>\n",
       "      <th>metformin-rosiglitazone</th>\n",
       "      <th>metformin-pioglitazone</th>\n",
       "      <th>change</th>\n",
       "      <th>diabetesMed</th>\n",
       "      <th>readmitted</th>\n",
       "    </tr>\n",
       "  </thead>\n",
       "  <tbody>\n",
       "    <tr>\n",
       "      <th>0</th>\n",
       "      <td>2278392</td>\n",
       "      <td>8222157</td>\n",
       "      <td>0</td>\n",
       "      <td>0</td>\n",
       "      <td>0</td>\n",
       "      <td>NaN</td>\n",
       "      <td>6</td>\n",
       "      <td>25</td>\n",
       "      <td>1</td>\n",
       "      <td>1</td>\n",
       "      <td>...</td>\n",
       "      <td>No</td>\n",
       "      <td>No</td>\n",
       "      <td>No</td>\n",
       "      <td>No</td>\n",
       "      <td>No</td>\n",
       "      <td>No</td>\n",
       "      <td>No</td>\n",
       "      <td>No</td>\n",
       "      <td>No</td>\n",
       "      <td>NO</td>\n",
       "    </tr>\n",
       "    <tr>\n",
       "      <th>1</th>\n",
       "      <td>149190</td>\n",
       "      <td>55629189</td>\n",
       "      <td>0</td>\n",
       "      <td>0</td>\n",
       "      <td>1</td>\n",
       "      <td>NaN</td>\n",
       "      <td>1</td>\n",
       "      <td>1</td>\n",
       "      <td>7</td>\n",
       "      <td>3</td>\n",
       "      <td>...</td>\n",
       "      <td>No</td>\n",
       "      <td>Up</td>\n",
       "      <td>No</td>\n",
       "      <td>No</td>\n",
       "      <td>No</td>\n",
       "      <td>No</td>\n",
       "      <td>No</td>\n",
       "      <td>Ch</td>\n",
       "      <td>Yes</td>\n",
       "      <td>&gt;30</td>\n",
       "    </tr>\n",
       "    <tr>\n",
       "      <th>2</th>\n",
       "      <td>64410</td>\n",
       "      <td>86047875</td>\n",
       "      <td>1</td>\n",
       "      <td>0</td>\n",
       "      <td>2</td>\n",
       "      <td>NaN</td>\n",
       "      <td>1</td>\n",
       "      <td>1</td>\n",
       "      <td>7</td>\n",
       "      <td>2</td>\n",
       "      <td>...</td>\n",
       "      <td>No</td>\n",
       "      <td>No</td>\n",
       "      <td>No</td>\n",
       "      <td>No</td>\n",
       "      <td>No</td>\n",
       "      <td>No</td>\n",
       "      <td>No</td>\n",
       "      <td>No</td>\n",
       "      <td>Yes</td>\n",
       "      <td>NO</td>\n",
       "    </tr>\n",
       "    <tr>\n",
       "      <th>3</th>\n",
       "      <td>500364</td>\n",
       "      <td>82442376</td>\n",
       "      <td>0</td>\n",
       "      <td>1</td>\n",
       "      <td>3</td>\n",
       "      <td>NaN</td>\n",
       "      <td>1</td>\n",
       "      <td>1</td>\n",
       "      <td>7</td>\n",
       "      <td>2</td>\n",
       "      <td>...</td>\n",
       "      <td>No</td>\n",
       "      <td>Up</td>\n",
       "      <td>No</td>\n",
       "      <td>No</td>\n",
       "      <td>No</td>\n",
       "      <td>No</td>\n",
       "      <td>No</td>\n",
       "      <td>Ch</td>\n",
       "      <td>Yes</td>\n",
       "      <td>NO</td>\n",
       "    </tr>\n",
       "    <tr>\n",
       "      <th>4</th>\n",
       "      <td>16680</td>\n",
       "      <td>42519267</td>\n",
       "      <td>0</td>\n",
       "      <td>1</td>\n",
       "      <td>4</td>\n",
       "      <td>NaN</td>\n",
       "      <td>1</td>\n",
       "      <td>1</td>\n",
       "      <td>7</td>\n",
       "      <td>1</td>\n",
       "      <td>...</td>\n",
       "      <td>No</td>\n",
       "      <td>Steady</td>\n",
       "      <td>No</td>\n",
       "      <td>No</td>\n",
       "      <td>No</td>\n",
       "      <td>No</td>\n",
       "      <td>No</td>\n",
       "      <td>Ch</td>\n",
       "      <td>Yes</td>\n",
       "      <td>NO</td>\n",
       "    </tr>\n",
       "  </tbody>\n",
       "</table>\n",
       "<p>5 rows × 50 columns</p>\n",
       "</div>"
      ],
      "text/plain": [
       "   encounter_id  patient_nbr  race  gender  age weight  admission_type_id  \\\n",
       "0       2278392      8222157     0       0    0    NaN                  6   \n",
       "1        149190     55629189     0       0    1    NaN                  1   \n",
       "2         64410     86047875     1       0    2    NaN                  1   \n",
       "3        500364     82442376     0       1    3    NaN                  1   \n",
       "4         16680     42519267     0       1    4    NaN                  1   \n",
       "\n",
       "   discharge_disposition_id  admission_source_id  time_in_hospital  ...  \\\n",
       "0                        25                    1                 1  ...   \n",
       "1                         1                    7                 3  ...   \n",
       "2                         1                    7                 2  ...   \n",
       "3                         1                    7                 2  ...   \n",
       "4                         1                    7                 1  ...   \n",
       "\n",
       "  citoglipton insulin  glyburide-metformin  glipizide-metformin  \\\n",
       "0          No      No                   No                   No   \n",
       "1          No      Up                   No                   No   \n",
       "2          No      No                   No                   No   \n",
       "3          No      Up                   No                   No   \n",
       "4          No  Steady                   No                   No   \n",
       "\n",
       "   glimepiride-pioglitazone  metformin-rosiglitazone  metformin-pioglitazone  \\\n",
       "0                        No                       No                      No   \n",
       "1                        No                       No                      No   \n",
       "2                        No                       No                      No   \n",
       "3                        No                       No                      No   \n",
       "4                        No                       No                      No   \n",
       "\n",
       "   change diabetesMed readmitted  \n",
       "0      No          No         NO  \n",
       "1      Ch         Yes        >30  \n",
       "2      No         Yes         NO  \n",
       "3      Ch         Yes         NO  \n",
       "4      Ch         Yes         NO  \n",
       "\n",
       "[5 rows x 50 columns]"
      ]
     },
     "execution_count": 291,
     "metadata": {},
     "output_type": "execute_result"
    }
   ],
   "source": [
    "#value dictionaries\n",
    "Race = {'Caucasian':0, 'AfricanAmerican':1, 'Hispanic':2,'Other':3,'Asian':4, np.nan:5}\n",
    "Gender = {'Male': 1,'Female': 0,'Unknown/Invalid':3}\n",
    "Age = {}\n",
    "count = 0\n",
    "for i in range(len(age_values)):\n",
    "    Age[age_values[i]] = count\n",
    "    count+=1\n",
    "\n",
    "diabetes_df.race = [Race[item] for item in diabetes_df.race]\n",
    "diabetes_df.gender = [Gender[item] for item in diabetes_df.gender]\n",
    "diabetes_df.age = [Age[item] for item in diabetes_df.age]\n",
    "diabetes_df.head()"
   ]
  },
  {
   "cell_type": "code",
   "execution_count": 292,
   "metadata": {},
   "outputs": [
    {
     "data": {
      "text/plain": [
       "<function matplotlib.pyplot.show(close=None, block=None)>"
      ]
     },
     "execution_count": 292,
     "metadata": {},
     "output_type": "execute_result"
    },
    {
     "data": {
      "image/png": "[encoded data removed]",
      "text/plain": [
       "<Figure size 432x288 with 1 Axes>"
      ]
     },
     "metadata": {
      "needs_background": "light"
     },
     "output_type": "display_data"
    },
    {
     "data": {
      "text/plain": [
       "<Figure size 720x1800 with 0 Axes>"
      ]
     },
     "metadata": {},
     "output_type": "display_data"
    }
   ],
   "source": [
    "\n",
    "#iterate though all the columns and show all the possible vaules \n",
    "#next make sure to actually swap out the values\n",
    "#but first lets look at missing values\n",
    "missing = diabetes_df.isna().sum()\n",
    "missing = pd.DataFrame(missing, columns = ['missing'])\n",
    "missing = missing[(missing.T !=0).any()]\n",
    "missing = missing.sort_values('missing')\n",
    "\n",
    "missing.plot(kind = 'bar', legend = False)\n",
    "plt.ylabel('Missing Value Count', fontsize=18)\n",
    "plt.xlabel('Variables', fontsize=18)\n",
    "plt.xticks(rotation='90')\n",
    "for index,data in enumerate(missing['missing']):\n",
    "    plt.text(x=index , y =data+2 , s=f\"{data}\" , fontdict=dict(fontsize=15), ha='center')\n",
    "plt.figure(figsize=(10, 25))\n",
    "plt.show"
   ]
  },
  {
   "cell_type": "code",
   "execution_count": 293,
   "metadata": {},
   "outputs": [
    {
     "data": {
      "text/html": [
       "<div>\n",
       "<style scoped>\n",
       "    .dataframe tbody tr th:only-of-type {\n",
       "        vertical-align: middle;\n",
       "    }\n",
       "\n",
       "    .dataframe tbody tr th {\n",
       "        vertical-align: top;\n",
       "    }\n",
       "\n",
       "    .dataframe thead th {\n",
       "        text-align: right;\n",
       "    }\n",
       "</style>\n",
       "<table border=\"1\" class=\"dataframe\">\n",
       "  <thead>\n",
       "    <tr style=\"text-align: right;\">\n",
       "      <th></th>\n",
       "      <th>race</th>\n",
       "      <th>gender</th>\n",
       "      <th>age</th>\n",
       "      <th>admission_type_id</th>\n",
       "      <th>discharge_disposition_id</th>\n",
       "      <th>admission_source_id</th>\n",
       "      <th>time_in_hospital</th>\n",
       "      <th>num_lab_procedures</th>\n",
       "      <th>num_procedures</th>\n",
       "      <th>num_medications</th>\n",
       "      <th>...</th>\n",
       "      <th>citoglipton</th>\n",
       "      <th>insulin</th>\n",
       "      <th>glyburide-metformin</th>\n",
       "      <th>glipizide-metformin</th>\n",
       "      <th>glimepiride-pioglitazone</th>\n",
       "      <th>metformin-rosiglitazone</th>\n",
       "      <th>metformin-pioglitazone</th>\n",
       "      <th>change</th>\n",
       "      <th>diabetesMed</th>\n",
       "      <th>readmitted</th>\n",
       "    </tr>\n",
       "  </thead>\n",
       "  <tbody>\n",
       "    <tr>\n",
       "      <th>1</th>\n",
       "      <td>0</td>\n",
       "      <td>0</td>\n",
       "      <td>1</td>\n",
       "      <td>1</td>\n",
       "      <td>1</td>\n",
       "      <td>7</td>\n",
       "      <td>3</td>\n",
       "      <td>59</td>\n",
       "      <td>0</td>\n",
       "      <td>18</td>\n",
       "      <td>...</td>\n",
       "      <td>No</td>\n",
       "      <td>Up</td>\n",
       "      <td>No</td>\n",
       "      <td>No</td>\n",
       "      <td>No</td>\n",
       "      <td>No</td>\n",
       "      <td>No</td>\n",
       "      <td>Ch</td>\n",
       "      <td>Yes</td>\n",
       "      <td>3</td>\n",
       "    </tr>\n",
       "  </tbody>\n",
       "</table>\n",
       "<p>1 rows × 45 columns</p>\n",
       "</div>"
      ],
      "text/plain": [
       "   race  gender  age  admission_type_id  discharge_disposition_id  \\\n",
       "1     0       0    1                  1                         1   \n",
       "\n",
       "   admission_source_id  time_in_hospital  num_lab_procedures  num_procedures  \\\n",
       "1                    7                 3                  59               0   \n",
       "\n",
       "   num_medications  ...  citoglipton  insulin  glyburide-metformin  \\\n",
       "1               18  ...           No       Up                   No   \n",
       "\n",
       "  glipizide-metformin glimepiride-pioglitazone metformin-rosiglitazone  \\\n",
       "1                  No                       No                      No   \n",
       "\n",
       "   metformin-pioglitazone change diabetesMed readmitted  \n",
       "1                      No     Ch         Yes          3  \n",
       "\n",
       "[1 rows x 45 columns]"
      ]
     },
     "execution_count": 293,
     "metadata": {},
     "output_type": "execute_result"
    }
   ],
   "source": [
    "#per the profs recc we should drop wight since it is missing for more than half the dataset\n",
    "#drop weight, payer code and medical spec\n",
    "diabetes_df = diabetes_df.drop(columns=['weight','payer_code','medical_specialty'])\n",
    "#diabetes_df = diabetes_df.drop(columns=['encounter_id','patient_nbr'])\n",
    "diabetes_df = diabetes_df.drop(columns=['encounter_id'])\n",
    "#diabetes_df = diabetes_df.drop(columns=['diag_1','diag_2','diag_3'])\n",
    "diabetes_df = diabetes_df.loc[~diabetes_df.discharge_disposition_id.isin([11,13,14,19,20,21])]\n",
    "readmitted = {'<30':2,'NO':1,'>30':3}\n",
    "diabetes_df.readmitted = [readmitted[item] for item in diabetes_df.readmitted]\n",
    "#diabetes_df = diabetes_df.drop_duplicates(keep=\"last\",subset=\"patient_nbr\")\n",
    "diabetes_df = diabetes_df.dropna()\n",
    "#should we fill in the unknown race?\n",
    "diabetes_df['race'].fillna('Caucasian')\n",
    "final_df = diabetes_df.drop(columns = [\"patient_nbr\"])\n",
    "final_df.head(1)"
   ]
  },
  {
   "cell_type": "code",
   "execution_count": 294,
   "metadata": {},
   "outputs": [
    {
     "data": {
      "text/plain": [
       "race                        0\n",
       "gender                      0\n",
       "age                         0\n",
       "admission_type_id           0\n",
       "discharge_disposition_id    0\n",
       "admission_source_id         0\n",
       "time_in_hospital            0\n",
       "num_lab_procedures          0\n",
       "num_procedures              0\n",
       "num_medications             0\n",
       "number_outpatient           0\n",
       "number_emergency            0\n",
       "number_inpatient            0\n",
       "diag_1                      0\n",
       "diag_2                      0\n",
       "diag_3                      0\n",
       "number_diagnoses            0\n",
       "max_glu_serum               0\n",
       "A1Cresult                   0\n",
       "metformin                   0\n",
       "repaglinide                 0\n",
       "nateglinide                 0\n",
       "chlorpropamide              0\n",
       "glimepiride                 0\n",
       "acetohexamide               0\n",
       "glipizide                   0\n",
       "glyburide                   0\n",
       "tolbutamide                 0\n",
       "pioglitazone                0\n",
       "rosiglitazone               0\n",
       "acarbose                    0\n",
       "miglitol                    0\n",
       "troglitazone                0\n",
       "tolazamide                  0\n",
       "examide                     0\n",
       "citoglipton                 0\n",
       "insulin                     0\n",
       "glyburide-metformin         0\n",
       "glipizide-metformin         0\n",
       "glimepiride-pioglitazone    0\n",
       "metformin-rosiglitazone     0\n",
       "metformin-pioglitazone      0\n",
       "change                      0\n",
       "diabetesMed                 0\n",
       "readmitted                  0\n",
       "dtype: int64"
      ]
     },
     "execution_count": 294,
     "metadata": {},
     "output_type": "execute_result"
    }
   ],
   "source": [
    "\n",
    "final_df.isna().sum()\n"
   ]
  },
  {
   "cell_type": "code",
   "execution_count": 295,
   "metadata": {},
   "outputs": [],
   "source": [
    "#pd get dummies\n",
    "\n",
    "#number cols\n",
    "numeric_features = ['time_in_hospital','num_lab_procedures', 'num_procedures', 'num_medications',\n",
    "       'number_outpatient', 'number_emergency', 'number_inpatient','number_diagnoses']\n",
    "#categorical vars\n",
    "categorical_features = ['race', 'gender', \n",
    "       'max_glu_serum', 'A1Cresult',\n",
    "       'metformin', 'repaglinide', 'nateglinide', 'chlorpropamide',\n",
    "       'glimepiride', 'acetohexamide', 'glipizide', 'glyburide', 'tolbutamide',\n",
    "       'pioglitazone', 'rosiglitazone', 'acarbose', 'miglitol', 'troglitazone',\n",
    "       'tolazamide', 'insulin',\n",
    "       'glyburide-metformin', 'glipizide-metformin',\n",
    "       'glimepiride-pioglitazone', 'metformin-rosiglitazone',\n",
    "       'metformin-pioglitazone', 'change', 'diabetesMed']\n"
   ]
  },
  {
   "cell_type": "code",
   "execution_count": 296,
   "metadata": {},
   "outputs": [],
   "source": [
    "X = diabetes_df.drop(columns=['readmitted']).copy()\n",
    "y = diabetes_df['readmitted'].values.copy()\n",
    "#X_scaled = pd.get_dummies(X)"
   ]
  },
  {
   "cell_type": "code",
   "execution_count": 297,
   "metadata": {},
   "outputs": [],
   "source": [
    "from sklearn.preprocessing import OneHotEncoder, StandardScaler\n",
    "from sklearn.pipeline import Pipeline\n",
    "from sklearn.compose import ColumnTransformer\n",
    "\n",
    "numeric_transformer = Pipeline(steps=[('scaler', StandardScaler(with_mean=False))])\n",
    "categorical_transformer = Pipeline(steps=[('onehot', OneHotEncoder(drop=\"first\"))])\n",
    "preprocessor = ColumnTransformer(\n",
    "    transformers=[\n",
    "        ('num', numeric_transformer, numeric_features),\n",
    "        ('cat', categorical_transformer, categorical_features)])\n",
    "pipeline = Pipeline(steps=[('preprocessor', preprocessor)])\n",
    "X_scaled = pipeline.fit_transform(X)"
   ]
  },
  {
   "cell_type": "code",
   "execution_count": 298,
   "metadata": {},
   "outputs": [
    {
     "data": {
      "text/plain": [
       "array([    0, 51488, 11207, 35130], dtype=int64)"
      ]
     },
     "execution_count": 298,
     "metadata": {},
     "output_type": "execute_result"
    }
   ],
   "source": [
    "# X= X.values\n",
    "# y= y.values\n",
    "np.bincount(y)"
   ]
  },
  {
   "cell_type": "code",
   "execution_count": 299,
   "metadata": {},
   "outputs": [],
   "source": [
    "from sklearn.model_selection import StratifiedShuffleSplit \n",
    "sss_cv = StratifiedShuffleSplit(n_splits=5,test_size=0.20, random_state=42)"
   ]
  },
  {
   "cell_type": "code",
   "execution_count": 300,
   "metadata": {},
   "outputs": [
    {
     "name": "stdout",
     "output_type": "stream",
     "text": [
      "====Iteration 0  ====\n",
      "Accuracy: 0.5673907487860976\n",
      "====Iteration 1  ====\n",
      "Accuracy: 0.5642218246869409\n",
      "====Iteration 2  ====\n",
      "Accuracy: 0.5676974188602095\n",
      "====Iteration 3  ====\n",
      "Accuracy: 0.5602351137234858\n",
      "====Iteration 4  ====\n",
      "Accuracy: 0.565704063378482\n",
      "CPU times: total: 13min 54s\n",
      "Wall time: 5min 52s\n"
     ]
    }
   ],
   "source": [
    "%%time\n",
    "from sklearn.linear_model import LogisticRegression\n",
    "from sklearn import metrics as mt\n",
    "import time\n",
    "\n",
    "lr_clf = LogisticRegression(multi_class = \"multinomial\",max_iter=5000, random_state=1000)\n",
    "\n",
    "iter_num=0\n",
    "\n",
    "for train_indices, test_indices in sss_cv.split(X_scaled,y): \n",
    "    X_train = X_scaled[train_indices]\n",
    "    y_train = y[train_indices]\n",
    "    \n",
    "    X_test = X_scaled[test_indices]\n",
    "    y_test = y[test_indices]\n",
    "    lr_clf.fit(X_train,y_train)  # train object\n",
    "\n",
    "    y_hat = lr_clf.predict(X_test) # get test set predictions\n",
    "    print(\"====Iteration\",iter_num,\" ====\")\n",
    "    acc = mt.accuracy_score(y_test,y_hat)\n",
    "    print('Accuracy:', acc)\n",
    "    iter_num+=1"
   ]
  },
  {
   "cell_type": "code",
   "execution_count": 301,
   "metadata": {},
   "outputs": [],
   "source": [
    "# %%time\n",
    "# from sklearn.model_selection import GridSearchCV\n",
    "# regEstimator = LogisticRegression(multi_class = \"multinomial\")\n",
    "\n",
    "# parameters = { 'penalty':['l1','l2']\n",
    "#               ,'C': [0.001, 0.01, 0.1]\n",
    "#               ,'random_state': [42]\n",
    "#               ,'solver': ['saga']\n",
    "#               ,'max_iter':[5000]\n",
    "#              }\n",
    "\n",
    "\n",
    "# GridSearch = GridSearchCV(estimator=regEstimator\n",
    "#                    , verbose=3\n",
    "#                    , param_grid=parameters\n",
    "#                    , cv=sss_cv \n",
    "#                    , scoring='accuracy')\n",
    "\n",
    "# GridSearch.fit(X_scaled, y)"
   ]
  },
  {
   "cell_type": "code",
   "execution_count": 302,
   "metadata": {},
   "outputs": [
    {
     "name": "stdout",
     "output_type": "stream",
     "text": [
      "LogisticRegression(C=0.001, max_iter=5000, multi_class='multinomial',\n",
      "                   random_state=42, solver='saga')\n"
     ]
    }
   ],
   "source": [
    "#lr_best_est = GridSearch.best_estimator_\n",
    "lr_best_est = LogisticRegression(C=0.001, max_iter=5000, multi_class='multinomial',\n",
    "                   random_state=42, solver='saga',penalty='l2')\n",
    "#END C=0.01, max_iter=5000, penalty=l2, random_state=42, solver=saga;, score=0.745 total time= 3.2min\n",
    "#{'C': 0.001, 'max_iter': 5000, 'penalty': 'l2', 'random_state': 42, 'solver': 'saga'}\n",
    "#END C=0.1, max_iter=5000, penalty=l1, random_state=42, solver=saga;, score=0.745 total time= 5.0min\n",
    "print(lr_best_est)"
   ]
  },
  {
   "cell_type": "code",
   "execution_count": 303,
   "metadata": {},
   "outputs": [],
   "source": [
    "#print('Highest Accuracy', GridSearch.best_score_ )"
   ]
  },
  {
   "cell_type": "code",
   "execution_count": 304,
   "metadata": {},
   "outputs": [],
   "source": [
    "#best_params = GridSearch.best_params_\n",
    "#print(best_params)"
   ]
  },
  {
   "cell_type": "code",
   "execution_count": 305,
   "metadata": {},
   "outputs": [],
   "source": [
    "from sklearn.model_selection import cross_val_predict\n",
    "pred = cross_val_predict(lr_best_est,X_test,y_test, cv=5)"
   ]
  },
  {
   "cell_type": "code",
   "execution_count": 306,
   "metadata": {},
   "outputs": [
    {
     "data": {
      "text/plain": [
       "<function matplotlib.pyplot.show(close=None, block=None)>"
      ]
     },
     "execution_count": 306,
     "metadata": {},
     "output_type": "execute_result"
    },
    {
     "data": {
      "image/png": "[encoded data removed]",
      "text/plain": [
       "<Figure size 432x288 with 2 Axes>"
      ]
     },
     "metadata": {
      "needs_background": "light"
     },
     "output_type": "display_data"
    }
   ],
   "source": [
    "from sklearn.metrics import confusion_matrix\n",
    "cm = confusion_matrix(y_test,pred)\n",
    "x_axis_labels = ['NO','<30', '>30']\n",
    "y_axis_labels = ['NO','<30', '>30']\n",
    "ax = plt.axes()\n",
    "sns.heatmap(cm, cmap='Blues', annot=True, fmt='d',xticklabels=x_axis_labels,\n",
    "            yticklabels=y_axis_labels, ax=ax, cbar_kws={'label': 'Readmission Count',})\n",
    "ax.set_title('Hospital Readmission Confusion Matrix Heatmap')\n",
    "plt.xlabel(\"Predicted readmission\")\n",
    "plt.ylabel(\"True readmission\") \n",
    "plt.show"
   ]
  },
  {
   "cell_type": "code",
   "execution_count": 307,
   "metadata": {},
   "outputs": [
    {
     "data": {
      "text/plain": [
       "0.5651418349092767"
      ]
     },
     "execution_count": 307,
     "metadata": {},
     "output_type": "execute_result"
    }
   ],
   "source": [
    "#run final model for feature importance \n",
    "final_mod = lr_best_est.fit(X_train,y_train)\n",
    "final_mod.score(X_test,y_test)"
   ]
  },
  {
   "cell_type": "code",
   "execution_count": 308,
   "metadata": {},
   "outputs": [],
   "source": [
    "#get the best index for feature importance\n",
    "feature_names = pd.DataFrame(X_scaled)\n",
    "feature_names = feature_names.columns.values\n",
    "feature_importances = pd.DataFrame(final_mod.coef_[0],index = feature_names,columns=['importance']).sort_values('importance',ascending=False)"
   ]
  },
  {
   "cell_type": "code",
   "execution_count": 309,
   "metadata": {},
   "outputs": [
    {
     "data": {
      "text/plain": [
       "array([ 0,  1,  2,  3,  4,  5,  6,  7,  8,  9, 10, 11, 12, 13, 14, 15, 16,\n",
       "       17, 18, 19, 20, 21, 22, 23, 24, 25, 26, 27, 28, 29, 30, 31, 32, 33,\n",
       "       34, 35, 36, 37, 38, 39, 40, 41, 42, 43, 44, 45, 46, 47, 48, 49, 50,\n",
       "       51, 52, 53, 54, 55, 56, 57, 58, 59, 60, 61, 62, 63, 64, 65, 66, 67,\n",
       "       68, 69, 70], dtype=int64)"
      ]
     },
     "execution_count": 309,
     "metadata": {},
     "output_type": "execute_result"
    }
   ],
   "source": [
    "feature_names"
   ]
  },
  {
   "cell_type": "code",
   "execution_count": 310,
   "metadata": {},
   "outputs": [
    {
     "data": {
      "text/plain": [
       "array([-3.26175868e-02, -3.04827451e-02,  4.50099839e-02, -1.11108209e-02,\n",
       "       -5.79140509e-02, -1.27075731e-01, -3.29383708e-01, -1.04499927e-01,\n",
       "        2.03385689e-02,  3.88199642e-02,  4.67894107e-02,  3.25314909e-02,\n",
       "        1.02636489e-01,  2.08212384e-02,  5.89264789e-04, -4.22012786e-02,\n",
       "        3.77390552e-02,  2.66645992e-02, -4.48786874e-03, -5.80843517e-02,\n",
       "        4.75036955e-02, -6.45987472e-02,  4.06878584e-02,  2.76802833e-02,\n",
       "        2.48493728e-02, -2.56037452e-02,  3.09265945e-03,  5.72102992e-03,\n",
       "       -5.92489921e-03,  1.40133246e-03,  5.01050699e-03, -1.74178672e-03,\n",
       "       -1.97568759e-03, -7.01305155e-03,  2.90044025e-03,  7.76588158e-03,\n",
       "        0.00000000e+00,  2.44911896e-02, -1.11303160e-02, -3.47979031e-03,\n",
       "       -1.79063664e-03, -9.39118101e-03,  1.53126955e-02,  1.29629951e-03,\n",
       "        1.29265356e-02, -3.17412961e-03, -7.75336172e-03,  1.23718416e-02,\n",
       "       -2.74122762e-02,  6.33330015e-03,  1.68527381e-02, -1.41475023e-02,\n",
       "       -1.78269921e-03,  2.26583349e-03,  4.31534485e-04,  5.85392130e-05,\n",
       "       -5.44397908e-04,  1.99423208e-03, -4.90098793e-04,  3.30651416e-02,\n",
       "        6.53996711e-02, -1.13629964e-03,  1.20923257e-02, -1.37081309e-02,\n",
       "        2.06058376e-03, -1.44055146e-03,  0.00000000e+00,  4.62296327e-04,\n",
       "        3.32003526e-04,  1.32380088e-02, -1.31503188e-01])"
      ]
     },
     "execution_count": 310,
     "metadata": {},
     "output_type": "execute_result"
    }
   ],
   "source": [
    "final_mod.coef_[0]"
   ]
  },
  {
   "cell_type": "code",
   "execution_count": 311,
   "metadata": {},
   "outputs": [
    {
     "data": {
      "text/html": [
       "<div>\n",
       "<style scoped>\n",
       "    .dataframe tbody tr th:only-of-type {\n",
       "        vertical-align: middle;\n",
       "    }\n",
       "\n",
       "    .dataframe tbody tr th {\n",
       "        vertical-align: top;\n",
       "    }\n",
       "\n",
       "    .dataframe thead th {\n",
       "        text-align: right;\n",
       "    }\n",
       "</style>\n",
       "<table border=\"1\" class=\"dataframe\">\n",
       "  <thead>\n",
       "    <tr style=\"text-align: right;\">\n",
       "      <th></th>\n",
       "      <th>importance</th>\n",
       "    </tr>\n",
       "  </thead>\n",
       "  <tbody>\n",
       "    <tr>\n",
       "      <th>12</th>\n",
       "      <td>0.102636</td>\n",
       "    </tr>\n",
       "    <tr>\n",
       "      <th>60</th>\n",
       "      <td>0.065400</td>\n",
       "    </tr>\n",
       "    <tr>\n",
       "      <th>20</th>\n",
       "      <td>0.047504</td>\n",
       "    </tr>\n",
       "    <tr>\n",
       "      <th>10</th>\n",
       "      <td>0.046789</td>\n",
       "    </tr>\n",
       "    <tr>\n",
       "      <th>2</th>\n",
       "      <td>0.045010</td>\n",
       "    </tr>\n",
       "    <tr>\n",
       "      <th>...</th>\n",
       "      <td>...</td>\n",
       "    </tr>\n",
       "    <tr>\n",
       "      <th>21</th>\n",
       "      <td>-0.064599</td>\n",
       "    </tr>\n",
       "    <tr>\n",
       "      <th>7</th>\n",
       "      <td>-0.104500</td>\n",
       "    </tr>\n",
       "    <tr>\n",
       "      <th>5</th>\n",
       "      <td>-0.127076</td>\n",
       "    </tr>\n",
       "    <tr>\n",
       "      <th>70</th>\n",
       "      <td>-0.131503</td>\n",
       "    </tr>\n",
       "    <tr>\n",
       "      <th>6</th>\n",
       "      <td>-0.329384</td>\n",
       "    </tr>\n",
       "  </tbody>\n",
       "</table>\n",
       "<p>71 rows × 1 columns</p>\n",
       "</div>"
      ],
      "text/plain": [
       "    importance\n",
       "12    0.102636\n",
       "60    0.065400\n",
       "20    0.047504\n",
       "10    0.046789\n",
       "2     0.045010\n",
       "..         ...\n",
       "21   -0.064599\n",
       "7    -0.104500\n",
       "5    -0.127076\n",
       "70   -0.131503\n",
       "6    -0.329384\n",
       "\n",
       "[71 rows x 1 columns]"
      ]
     },
     "execution_count": 311,
     "metadata": {},
     "output_type": "execute_result"
    }
   ],
   "source": [
    "feature_importances"
   ]
  },
  {
   "cell_type": "code",
   "execution_count": 312,
   "metadata": {},
   "outputs": [],
   "source": [
    "\n",
    "numeric_features_new = ['time_in_hospital', 'num_lab_procedures', 'num_procedures',\n",
    "                    'num_medications','number_outpatient','number_emergency',\n",
    "                    'number_inpatient','number_diagnoses']\n",
    "\n",
    "X_columns = final_df.drop(\"readmitted\", axis = 1).copy()\n",
    "X_columns = pipeline.fit(X_columns)\n",
    "X_columns.named_steps[\"preprocessor\"].transformers_[1][1].named_steps[\"onehot\"]\n",
    "column_name = X_columns.named_steps['preprocessor'].transformers_[1][1]\\\n",
    "   .named_steps['onehot'].get_feature_names_out(categorical_features)\n",
    "\n",
    "column_name = list(column_name)\n",
    "column_name[:0] = numeric_features_new\n",
    "coefficients = pd.concat([pd.DataFrame(column_name),pd.DataFrame(np.transpose(lr_best_est.coef_),columns = ['NO','<30','>30'])], axis = 1)\n",
    "coefficients = coefficients.rename(columns={0:'Features'})\n",
    "#coefficients.head(10)"
   ]
  },
  {
   "cell_type": "code",
   "execution_count": 313,
   "metadata": {},
   "outputs": [
    {
     "ename": "KeyError",
     "evalue": "'Overall Importance'",
     "output_type": "error",
     "traceback": [
      "\u001b[1;31m---------------------------------------------------------------------------\u001b[0m",
      "\u001b[1;31mKeyError\u001b[0m                                  Traceback (most recent call last)",
      "File \u001b[1;32mc:\\Users\\drsco\\AppData\\Local\\Programs\\Python\\Python310\\lib\\site-packages\\pandas\\core\\indexes\\base.py:3621\u001b[0m, in \u001b[0;36mIndex.get_loc\u001b[1;34m(self, key, method, tolerance)\u001b[0m\n\u001b[0;32m   <a href='file:///c%3A/Users/drsco/AppData/Local/Programs/Python/Python310/lib/site-packages/pandas/core/indexes/base.py?line=3619'>3620</a>\u001b[0m \u001b[39mtry\u001b[39;00m:\n\u001b[1;32m-> <a href='file:///c%3A/Users/drsco/AppData/Local/Programs/Python/Python310/lib/site-packages/pandas/core/indexes/base.py?line=3620'>3621</a>\u001b[0m     \u001b[39mreturn\u001b[39;00m \u001b[39mself\u001b[39;49m\u001b[39m.\u001b[39;49m_engine\u001b[39m.\u001b[39;49mget_loc(casted_key)\n\u001b[0;32m   <a href='file:///c%3A/Users/drsco/AppData/Local/Programs/Python/Python310/lib/site-packages/pandas/core/indexes/base.py?line=3621'>3622</a>\u001b[0m \u001b[39mexcept\u001b[39;00m \u001b[39mKeyError\u001b[39;00m \u001b[39mas\u001b[39;00m err:\n",
      "File \u001b[1;32mc:\\Users\\drsco\\AppData\\Local\\Programs\\Python\\Python310\\lib\\site-packages\\pandas\\_libs\\index.pyx:136\u001b[0m, in \u001b[0;36mpandas._libs.index.IndexEngine.get_loc\u001b[1;34m()\u001b[0m\n",
      "File \u001b[1;32mc:\\Users\\drsco\\AppData\\Local\\Programs\\Python\\Python310\\lib\\site-packages\\pandas\\_libs\\index.pyx:163\u001b[0m, in \u001b[0;36mpandas._libs.index.IndexEngine.get_loc\u001b[1;34m()\u001b[0m\n",
      "File \u001b[1;32mpandas\\_libs\\hashtable_class_helper.pxi:5198\u001b[0m, in \u001b[0;36mpandas._libs.hashtable.PyObjectHashTable.get_item\u001b[1;34m()\u001b[0m\n",
      "File \u001b[1;32mpandas\\_libs\\hashtable_class_helper.pxi:5206\u001b[0m, in \u001b[0;36mpandas._libs.hashtable.PyObjectHashTable.get_item\u001b[1;34m()\u001b[0m\n",
      "\u001b[1;31mKeyError\u001b[0m: 'Overall Importance'",
      "\nThe above exception was the direct cause of the following exception:\n",
      "\u001b[1;31mKeyError\u001b[0m                                  Traceback (most recent call last)",
      "\u001b[1;32mc:\\Users\\drsco\\Documents\\GitHub\\QTW\\qtw\\case study 2\\Dylan\\CaseStudy2_D.ipynb Cell 30'\u001b[0m in \u001b[0;36m<module>\u001b[1;34m\u001b[0m\n\u001b[0;32m      <a href='vscode-notebook-cell:/c%3A/Users/drsco/Documents/GitHub/QTW/qtw/case%20study%202/Dylan/CaseStudy2_D.ipynb#ch0000035?line=0'>1</a>\u001b[0m \u001b[39m#coefficients = feature_importances.join(coefficients)\u001b[39;00m\n\u001b[0;32m      <a href='vscode-notebook-cell:/c%3A/Users/drsco/Documents/GitHub/QTW/qtw/case%20study%202/Dylan/CaseStudy2_D.ipynb#ch0000035?line=1'>2</a>\u001b[0m coefficients \u001b[39m=\u001b[39m coefficients\u001b[39m.\u001b[39mrename(columns\u001b[39m=\u001b[39m{\u001b[39m\"\u001b[39m\u001b[39mimportance\u001b[39m\u001b[39m\"\u001b[39m:\u001b[39m'\u001b[39m\u001b[39mNO\u001b[39m\u001b[39m'\u001b[39m})\n\u001b[1;32m----> <a href='vscode-notebook-cell:/c%3A/Users/drsco/Documents/GitHub/QTW/qtw/case%20study%202/Dylan/CaseStudy2_D.ipynb#ch0000035?line=2'>3</a>\u001b[0m coefficients[\u001b[39m'\u001b[39m\u001b[39mOverall Importance ABS\u001b[39m\u001b[39m'\u001b[39m] \u001b[39m=\u001b[39m coefficients[\u001b[39m'\u001b[39;49m\u001b[39mOverall Importance\u001b[39;49m\u001b[39m'\u001b[39;49m]\u001b[39m.\u001b[39mabs()\n",
      "File \u001b[1;32mc:\\Users\\drsco\\AppData\\Local\\Programs\\Python\\Python310\\lib\\site-packages\\pandas\\core\\frame.py:3505\u001b[0m, in \u001b[0;36mDataFrame.__getitem__\u001b[1;34m(self, key)\u001b[0m\n\u001b[0;32m   <a href='file:///c%3A/Users/drsco/AppData/Local/Programs/Python/Python310/lib/site-packages/pandas/core/frame.py?line=3502'>3503</a>\u001b[0m \u001b[39mif\u001b[39;00m \u001b[39mself\u001b[39m\u001b[39m.\u001b[39mcolumns\u001b[39m.\u001b[39mnlevels \u001b[39m>\u001b[39m \u001b[39m1\u001b[39m:\n\u001b[0;32m   <a href='file:///c%3A/Users/drsco/AppData/Local/Programs/Python/Python310/lib/site-packages/pandas/core/frame.py?line=3503'>3504</a>\u001b[0m     \u001b[39mreturn\u001b[39;00m \u001b[39mself\u001b[39m\u001b[39m.\u001b[39m_getitem_multilevel(key)\n\u001b[1;32m-> <a href='file:///c%3A/Users/drsco/AppData/Local/Programs/Python/Python310/lib/site-packages/pandas/core/frame.py?line=3504'>3505</a>\u001b[0m indexer \u001b[39m=\u001b[39m \u001b[39mself\u001b[39;49m\u001b[39m.\u001b[39;49mcolumns\u001b[39m.\u001b[39;49mget_loc(key)\n\u001b[0;32m   <a href='file:///c%3A/Users/drsco/AppData/Local/Programs/Python/Python310/lib/site-packages/pandas/core/frame.py?line=3505'>3506</a>\u001b[0m \u001b[39mif\u001b[39;00m is_integer(indexer):\n\u001b[0;32m   <a href='file:///c%3A/Users/drsco/AppData/Local/Programs/Python/Python310/lib/site-packages/pandas/core/frame.py?line=3506'>3507</a>\u001b[0m     indexer \u001b[39m=\u001b[39m [indexer]\n",
      "File \u001b[1;32mc:\\Users\\drsco\\AppData\\Local\\Programs\\Python\\Python310\\lib\\site-packages\\pandas\\core\\indexes\\base.py:3623\u001b[0m, in \u001b[0;36mIndex.get_loc\u001b[1;34m(self, key, method, tolerance)\u001b[0m\n\u001b[0;32m   <a href='file:///c%3A/Users/drsco/AppData/Local/Programs/Python/Python310/lib/site-packages/pandas/core/indexes/base.py?line=3620'>3621</a>\u001b[0m     \u001b[39mreturn\u001b[39;00m \u001b[39mself\u001b[39m\u001b[39m.\u001b[39m_engine\u001b[39m.\u001b[39mget_loc(casted_key)\n\u001b[0;32m   <a href='file:///c%3A/Users/drsco/AppData/Local/Programs/Python/Python310/lib/site-packages/pandas/core/indexes/base.py?line=3621'>3622</a>\u001b[0m \u001b[39mexcept\u001b[39;00m \u001b[39mKeyError\u001b[39;00m \u001b[39mas\u001b[39;00m err:\n\u001b[1;32m-> <a href='file:///c%3A/Users/drsco/AppData/Local/Programs/Python/Python310/lib/site-packages/pandas/core/indexes/base.py?line=3622'>3623</a>\u001b[0m     \u001b[39mraise\u001b[39;00m \u001b[39mKeyError\u001b[39;00m(key) \u001b[39mfrom\u001b[39;00m \u001b[39merr\u001b[39;00m\n\u001b[0;32m   <a href='file:///c%3A/Users/drsco/AppData/Local/Programs/Python/Python310/lib/site-packages/pandas/core/indexes/base.py?line=3623'>3624</a>\u001b[0m \u001b[39mexcept\u001b[39;00m \u001b[39mTypeError\u001b[39;00m:\n\u001b[0;32m   <a href='file:///c%3A/Users/drsco/AppData/Local/Programs/Python/Python310/lib/site-packages/pandas/core/indexes/base.py?line=3624'>3625</a>\u001b[0m     \u001b[39m# If we have a listlike key, _check_indexing_error will raise\u001b[39;00m\n\u001b[0;32m   <a href='file:///c%3A/Users/drsco/AppData/Local/Programs/Python/Python310/lib/site-packages/pandas/core/indexes/base.py?line=3625'>3626</a>\u001b[0m     \u001b[39m#  InvalidIndexError. Otherwise we fall through and re-raise\u001b[39;00m\n\u001b[0;32m   <a href='file:///c%3A/Users/drsco/AppData/Local/Programs/Python/Python310/lib/site-packages/pandas/core/indexes/base.py?line=3626'>3627</a>\u001b[0m     \u001b[39m#  the TypeError.\u001b[39;00m\n\u001b[0;32m   <a href='file:///c%3A/Users/drsco/AppData/Local/Programs/Python/Python310/lib/site-packages/pandas/core/indexes/base.py?line=3627'>3628</a>\u001b[0m     \u001b[39mself\u001b[39m\u001b[39m.\u001b[39m_check_indexing_error(key)\n",
      "\u001b[1;31mKeyError\u001b[0m: 'Overall Importance'"
     ]
    }
   ],
   "source": [
    "#coefficients = feature_importances.join(coefficients)\n",
    "# coefficients = coefficients.rename(columns={\"importance\":'NO'})\n",
    "# coefficients['Overall Importance ABS'] = coefficients['Overall Importance'].abs()\n"
   ]
  },
  {
   "cell_type": "code",
   "execution_count": null,
   "metadata": {},
   "outputs": [
    {
     "ename": "TypeError",
     "evalue": "'DataFrame' object is not callable",
     "output_type": "error",
     "traceback": [
      "\u001b[1;31m---------------------------------------------------------------------------\u001b[0m",
      "\u001b[1;31mTypeError\u001b[0m                                 Traceback (most recent call last)",
      "\u001b[1;32mc:\\Users\\drsco\\Documents\\GitHub\\QTW\\qtw\\case study 2\\Dylan\\CaseStudy2_D.ipynb Cell 31'\u001b[0m in \u001b[0;36m<module>\u001b[1;34m\u001b[0m\n\u001b[0;32m      <a href='vscode-notebook-cell:/c%3A/Users/drsco/Documents/GitHub/QTW/qtw/case%20study%202/Dylan/CaseStudy2_D.ipynb#ch0000036?line=1'>2</a>\u001b[0m coefficients \u001b[39m=\u001b[39m coefficients\u001b[39m.\u001b[39mrename(columns\u001b[39m=\u001b[39m{coefficients\u001b[39m.\u001b[39mcolumns[\u001b[39m1\u001b[39m]: \u001b[39m'\u001b[39m\u001b[39mMore_than_30\u001b[39m\u001b[39m'\u001b[39m})\n\u001b[0;32m      <a href='vscode-notebook-cell:/c%3A/Users/drsco/Documents/GitHub/QTW/qtw/case%20study%202/Dylan/CaseStudy2_D.ipynb#ch0000036?line=2'>3</a>\u001b[0m coefficients \u001b[39m=\u001b[39m coefficients\u001b[39m.\u001b[39mrename(columns\u001b[39m=\u001b[39m{coefficients\u001b[39m.\u001b[39mcolumns[\u001b[39m2\u001b[39m]: \u001b[39m'\u001b[39m\u001b[39mLess_than_30\u001b[39m\u001b[39m'\u001b[39m})\n\u001b[1;32m----> <a href='vscode-notebook-cell:/c%3A/Users/drsco/Documents/GitHub/QTW/qtw/case%20study%202/Dylan/CaseStudy2_D.ipynb#ch0000036?line=3'>4</a>\u001b[0m coefficients[\u001b[39m'\u001b[39m\u001b[39mSum_absolute\u001b[39m\u001b[39m'\u001b[39m] \u001b[39m=\u001b[39m \u001b[39mabs\u001b[39;49m(coefficients\u001b[39m.\u001b[39;49mNot_Readmitted) \u001b[39m+\u001b[39m \u001b[39mabs\u001b[39m(coefficients\u001b[39m.\u001b[39mMore_than_30) \u001b[39m+\u001b[39m \u001b[39mabs\u001b[39m(coefficients\u001b[39m.\u001b[39mLess_than_30)\n\u001b[0;32m      <a href='vscode-notebook-cell:/c%3A/Users/drsco/Documents/GitHub/QTW/qtw/case%20study%202/Dylan/CaseStudy2_D.ipynb#ch0000036?line=4'>5</a>\u001b[0m coefficients \u001b[39m=\u001b[39m coefficients\u001b[39m.\u001b[39msort_values(by\u001b[39m=\u001b[39m\u001b[39m'\u001b[39m\u001b[39mSum_absolute\u001b[39m\u001b[39m'\u001b[39m, key\u001b[39m=\u001b[39m\u001b[39mabs\u001b[39m, ascending\u001b[39m=\u001b[39m\u001b[39mFalse\u001b[39;00m)\n\u001b[0;32m      <a href='vscode-notebook-cell:/c%3A/Users/drsco/Documents/GitHub/QTW/qtw/case%20study%202/Dylan/CaseStudy2_D.ipynb#ch0000036?line=5'>6</a>\u001b[0m coefficients\u001b[39m.\u001b[39mreset_index(level\u001b[39m=\u001b[39m\u001b[39m0\u001b[39m, inplace\u001b[39m=\u001b[39m\u001b[39mTrue\u001b[39;00m)\n",
      "\u001b[1;31mTypeError\u001b[0m: 'DataFrame' object is not callable"
     ]
    }
   ],
   "source": [
    "# coefficients['Sum_absolute'] = abs(coefficients['Not_Readmitted']) + abs(coefficients['<30']) + abs(coefficients['>30'])\n",
    "# coefficients = coefficients.sort_values(by='Sum_absolute', key=abs, ascending=False)\n",
    "# coefficients.reset_index(level=0, inplace=True)\n",
    "\n",
    "# coefficients.head(10)"
   ]
  },
  {
   "cell_type": "code",
   "execution_count": null,
   "metadata": {},
   "outputs": [],
   "source": [
    "# coefficients.to_csv(r'C:\\Users\\drsco\\Documents\\GitHub\\QTW\\qtw\\case study 2\\MethodA_featureImp.csv')"
   ]
  },
  {
   "cell_type": "code",
   "execution_count": null,
   "metadata": {},
   "outputs": [
    {
     "data": {
      "text/html": [
       "<div>\n",
       "<style scoped>\n",
       "    .dataframe tbody tr th:only-of-type {\n",
       "        vertical-align: middle;\n",
       "    }\n",
       "\n",
       "    .dataframe tbody tr th {\n",
       "        vertical-align: top;\n",
       "    }\n",
       "\n",
       "    .dataframe thead th {\n",
       "        text-align: right;\n",
       "    }\n",
       "</style>\n",
       "<table border=\"1\" class=\"dataframe\">\n",
       "  <thead>\n",
       "    <tr style=\"text-align: right;\">\n",
       "      <th></th>\n",
       "      <th>Not_Readmitted</th>\n",
       "      <th>More_than_30</th>\n",
       "      <th>Less_than_30</th>\n",
       "      <th>&lt;30</th>\n",
       "      <th>&gt;30</th>\n",
       "      <th>Overall Importance ABS</th>\n",
       "    </tr>\n",
       "  </thead>\n",
       "  <tbody>\n",
       "    <tr>\n",
       "      <th>12</th>\n",
       "      <td>0.102636</td>\n",
       "      <td>race_5</td>\n",
       "      <td>0.102636</td>\n",
       "      <td>-0.018522</td>\n",
       "      <td>-0.084114</td>\n",
       "      <td>0.102636</td>\n",
       "    </tr>\n",
       "    <tr>\n",
       "      <th>60</th>\n",
       "      <td>0.065400</td>\n",
       "      <td>insulin_Steady</td>\n",
       "      <td>0.065400</td>\n",
       "      <td>-0.019592</td>\n",
       "      <td>-0.045808</td>\n",
       "      <td>0.065400</td>\n",
       "    </tr>\n",
       "    <tr>\n",
       "      <th>20</th>\n",
       "      <td>0.047504</td>\n",
       "      <td>A1Cresult_Norm</td>\n",
       "      <td>0.047504</td>\n",
       "      <td>-0.015071</td>\n",
       "      <td>-0.032432</td>\n",
       "      <td>0.047504</td>\n",
       "    </tr>\n",
       "    <tr>\n",
       "      <th>10</th>\n",
       "      <td>0.046789</td>\n",
       "      <td>race_3</td>\n",
       "      <td>0.046789</td>\n",
       "      <td>-0.007500</td>\n",
       "      <td>-0.039289</td>\n",
       "      <td>0.046789</td>\n",
       "    </tr>\n",
       "    <tr>\n",
       "      <th>2</th>\n",
       "      <td>0.045010</td>\n",
       "      <td>num_procedures</td>\n",
       "      <td>0.045010</td>\n",
       "      <td>-0.014828</td>\n",
       "      <td>-0.030182</td>\n",
       "      <td>0.045010</td>\n",
       "    </tr>\n",
       "    <tr>\n",
       "      <th>...</th>\n",
       "      <td>...</td>\n",
       "      <td>...</td>\n",
       "      <td>...</td>\n",
       "      <td>...</td>\n",
       "      <td>...</td>\n",
       "      <td>...</td>\n",
       "    </tr>\n",
       "    <tr>\n",
       "      <th>21</th>\n",
       "      <td>-0.064599</td>\n",
       "      <td>metformin_No</td>\n",
       "      <td>-0.064599</td>\n",
       "      <td>0.042383</td>\n",
       "      <td>0.022216</td>\n",
       "      <td>0.064599</td>\n",
       "    </tr>\n",
       "    <tr>\n",
       "      <th>7</th>\n",
       "      <td>-0.104500</td>\n",
       "      <td>number_diagnoses</td>\n",
       "      <td>-0.104500</td>\n",
       "      <td>0.043890</td>\n",
       "      <td>0.060610</td>\n",
       "      <td>0.104500</td>\n",
       "    </tr>\n",
       "    <tr>\n",
       "      <th>5</th>\n",
       "      <td>-0.127076</td>\n",
       "      <td>number_emergency</td>\n",
       "      <td>-0.127076</td>\n",
       "      <td>0.065869</td>\n",
       "      <td>0.061206</td>\n",
       "      <td>0.127076</td>\n",
       "    </tr>\n",
       "    <tr>\n",
       "      <th>70</th>\n",
       "      <td>-0.131503</td>\n",
       "      <td>diabetesMed_Yes</td>\n",
       "      <td>-0.131503</td>\n",
       "      <td>0.053487</td>\n",
       "      <td>0.078016</td>\n",
       "      <td>0.131503</td>\n",
       "    </tr>\n",
       "    <tr>\n",
       "      <th>6</th>\n",
       "      <td>-0.329384</td>\n",
       "      <td>number_inpatient</td>\n",
       "      <td>-0.329384</td>\n",
       "      <td>0.238472</td>\n",
       "      <td>0.090912</td>\n",
       "      <td>0.329384</td>\n",
       "    </tr>\n",
       "  </tbody>\n",
       "</table>\n",
       "<p>71 rows × 6 columns</p>\n",
       "</div>"
      ],
      "text/plain": [
       "    Not_Readmitted      More_than_30  Less_than_30       <30       >30  \\\n",
       "12        0.102636            race_5      0.102636 -0.018522 -0.084114   \n",
       "60        0.065400    insulin_Steady      0.065400 -0.019592 -0.045808   \n",
       "20        0.047504    A1Cresult_Norm      0.047504 -0.015071 -0.032432   \n",
       "10        0.046789            race_3      0.046789 -0.007500 -0.039289   \n",
       "2         0.045010    num_procedures      0.045010 -0.014828 -0.030182   \n",
       "..             ...               ...           ...       ...       ...   \n",
       "21       -0.064599      metformin_No     -0.064599  0.042383  0.022216   \n",
       "7        -0.104500  number_diagnoses     -0.104500  0.043890  0.060610   \n",
       "5        -0.127076  number_emergency     -0.127076  0.065869  0.061206   \n",
       "70       -0.131503   diabetesMed_Yes     -0.131503  0.053487  0.078016   \n",
       "6        -0.329384  number_inpatient     -0.329384  0.238472  0.090912   \n",
       "\n",
       "    Overall Importance ABS  \n",
       "12                0.102636  \n",
       "60                0.065400  \n",
       "20                0.047504  \n",
       "10                0.046789  \n",
       "2                 0.045010  \n",
       "..                     ...  \n",
       "21                0.064599  \n",
       "7                 0.104500  \n",
       "5                 0.127076  \n",
       "70                0.131503  \n",
       "6                 0.329384  \n",
       "\n",
       "[71 rows x 6 columns]"
      ]
     },
     "execution_count": 284,
     "metadata": {},
     "output_type": "execute_result"
    }
   ],
   "source": [
    "coefficients"
   ]
  }
 ],
 "metadata": {
  "interpreter": {
   "hash": "d5e22e80c5a5049300fcd1222e380e7a80cada809ed3c1dbd59a10e881ec2acb"
  },
  "kernelspec": {
   "display_name": "Python 3.10.1 64-bit",
   "language": "python",
   "name": "python3"
  },
  "language_info": {
   "codemirror_mode": {
    "name": "ipython",
    "version": 3
   },
   "file_extension": ".py",
   "mimetype": "text/x-python",
   "name": "python",
   "nbconvert_exporter": "python",
   "pygments_lexer": "ipython3",
   "version": "3.10.1"
  },
  "orig_nbformat": 4
 },
 "nbformat": 4,
 "nbformat_minor": 2
}
