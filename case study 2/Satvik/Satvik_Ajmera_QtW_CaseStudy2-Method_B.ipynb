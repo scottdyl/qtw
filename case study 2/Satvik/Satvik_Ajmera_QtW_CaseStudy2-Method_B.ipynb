{
 "cells": [
  {
   "cell_type": "markdown",
   "id": "a08a90fe",
   "metadata": {},
   "source": [
    "# Case Study 02 - Method B\n",
    "## Quantifying the World\n",
    "## Satvik Ajmera\n",
    "## Summer 2022"
   ]
  },
  {
   "cell_type": "markdown",
   "id": "bc34a1bb",
   "metadata": {},
   "source": [
    "Your case study is to build a classifier using logistic regression to predict hospital readmittance. There is missing data that must be imputed. Once again, discuss variable importances as part of your submission."
   ]
  },
  {
   "cell_type": "code",
   "execution_count": 1,
   "id": "8e250d79",
   "metadata": {},
   "outputs": [],
   "source": [
    "import pandas as pd\n",
    "import numpy as np\n",
    "from sklearn.preprocessing import OneHotEncoder, StandardScaler\n",
    "from sklearn.pipeline import Pipeline\n",
    "from sklearn.compose import ColumnTransformer"
   ]
  },
  {
   "cell_type": "code",
   "execution_count": 4,
   "id": "d5fe6f16",
   "metadata": {},
   "outputs": [],
   "source": [
    "diabetes_df = pd.read_csv(\"../dataset_diabetes/diabetic_data.csv\")"
   ]
  },
  {
   "cell_type": "code",
   "execution_count": 5,
   "id": "6d498610",
   "metadata": {},
   "outputs": [],
   "source": [
    "ids = pd.read_csv(\"../dataset_diabetes/IDs_mapping.csv\")"
   ]
  },
  {
   "cell_type": "code",
   "execution_count": 6,
   "id": "91a953ca",
   "metadata": {},
   "outputs": [],
   "source": [
    "ids = ids.dropna(subset=[\"admission_type_id\"])"
   ]
  },
  {
   "cell_type": "code",
   "execution_count": 8,
   "id": "22d8ee75",
   "metadata": {
    "scrolled": true
   },
   "outputs": [],
   "source": [
    "admission_type_id = ids[0:8]"
   ]
  },
  {
   "cell_type": "code",
   "execution_count": 9,
   "id": "9c9618b5",
   "metadata": {},
   "outputs": [],
   "source": [
    "admission_type_id = admission_type_id.reset_index(drop=True)"
   ]
  },
  {
   "cell_type": "code",
   "execution_count": null,
   "id": "280428c3",
   "metadata": {},
   "outputs": [],
   "source": [
    "admission_type_id.columns = [\"admission_type_id\",\"description\"]"
   ]
  },
  {
   "cell_type": "code",
   "execution_count": 12,
   "id": "e125e8bb",
   "metadata": {},
   "outputs": [],
   "source": [
    "discharge_disposition_id = ids[9:39]"
   ]
  },
  {
   "cell_type": "code",
   "execution_count": 13,
   "id": "5343da7c",
   "metadata": {},
   "outputs": [],
   "source": [
    "discharge_disposition_id.reset_index(inplace=True,drop=True)"
   ]
  },
  {
   "cell_type": "code",
   "execution_count": 14,
   "id": "f944d895",
   "metadata": {},
   "outputs": [],
   "source": [
    "discharge_disposition_id.columns = [\"discharge_disposition_id\",\"description\"]"
   ]
  },
  {
   "cell_type": "code",
   "execution_count": 15,
   "id": "721a8b4e",
   "metadata": {},
   "outputs": [],
   "source": [
    "discharge_disposition_id = discharge_disposition_id.reset_index(drop=True)"
   ]
  },
  {
   "cell_type": "code",
   "execution_count": 16,
   "id": "1b363fe7",
   "metadata": {},
   "outputs": [],
   "source": [
    "discharge_disposition_id[\"discharge_disposition_id\"] = discharge_disposition_id[\"discharge_disposition_id\"].astype(int)"
   ]
  },
  {
   "cell_type": "code",
   "execution_count": 17,
   "id": "59360bc8",
   "metadata": {},
   "outputs": [],
   "source": [
    "admission_source_id = ids[40:]"
   ]
  },
  {
   "cell_type": "code",
   "execution_count": 18,
   "id": "54db1829",
   "metadata": {},
   "outputs": [],
   "source": [
    "admission_source_id.reset_index(inplace=True, drop=True)"
   ]
  },
  {
   "cell_type": "code",
   "execution_count": 19,
   "id": "bf164df3",
   "metadata": {},
   "outputs": [],
   "source": [
    "admission_source_id.columns = [\"admission_source_id\", \"description\"]"
   ]
  },
  {
   "cell_type": "code",
   "execution_count": 20,
   "id": "aa373617",
   "metadata": {},
   "outputs": [
    {
     "name": "stderr",
     "output_type": "stream",
     "text": [
      "/var/folders/zl/4qqdwn7s6wv34lrr9sxt7tf40000gn/T/ipykernel_9267/1365254308.py:1: SettingWithCopyWarning: \n",
      "A value is trying to be set on a copy of a slice from a DataFrame.\n",
      "Try using .loc[row_indexer,col_indexer] = value instead\n",
      "\n",
      "See the caveats in the documentation: https://pandas.pydata.org/pandas-docs/stable/user_guide/indexing.html#returning-a-view-versus-a-copy\n",
      "  admission_source_id[\"admission_source_id\"] = admission_source_id[\"admission_source_id\"].astype(int)\n"
     ]
    }
   ],
   "source": [
    "admission_source_id[\"admission_source_id\"] = admission_source_id[\"admission_source_id\"].astype(int)"
   ]
  },
  {
   "cell_type": "code",
   "execution_count": 21,
   "id": "60138f3b",
   "metadata": {},
   "outputs": [],
   "source": [
    "df = diabetes_df.merge(admission_type_id, on= \"admission_type_id\", how = \"left\").merge(discharge_disposition_id, on= \"discharge_disposition_id\", how = \"left\").merge(admission_source_id, on= \"admission_source_id\", how = \"left\")"
   ]
  },
  {
   "cell_type": "code",
   "execution_count": 23,
   "id": "6af0b119",
   "metadata": {},
   "outputs": [],
   "source": [
    "df_replaced = df.rename({'description_x': 'admission_type_id_x', 'description_y': 'discharge_disposition_id_y','description':'admission_source_id_z'}, axis=1)"
   ]
  },
  {
   "cell_type": "markdown",
   "id": "53a8d15a",
   "metadata": {},
   "source": [
    "Drop the Subset of all NaN's in the columns of admission_type_id_x \tdischarge_disposition_id_y \tadmission_source_id_z"
   ]
  },
  {
   "cell_type": "code",
   "execution_count": 28,
   "id": "9de58bff",
   "metadata": {
    "scrolled": true
   },
   "outputs": [
    {
     "data": {
      "text/plain": [
       "88785891     40\n",
       "43140906     28\n",
       "1660293      23\n",
       "88227540     23\n",
       "23199021     23\n",
       "             ..\n",
       "11005362      1\n",
       "98252496      1\n",
       "1019673       1\n",
       "13396320      1\n",
       "175429310     1\n",
       "Name: patient_nbr, Length: 71518, dtype: int64"
      ]
     },
     "execution_count": 28,
     "metadata": {},
     "output_type": "execute_result"
    }
   ],
   "source": [
    "df_replaced[\"patient_nbr\"].value_counts()"
   ]
  },
  {
   "cell_type": "code",
   "execution_count": 30,
   "id": "ac0bc470",
   "metadata": {},
   "outputs": [],
   "source": [
    "pt = df_replaced[\"patient_nbr\"].value_counts().reset_index()"
   ]
  },
  {
   "cell_type": "code",
   "execution_count": 32,
   "id": "2230320b",
   "metadata": {},
   "outputs": [],
   "source": [
    "df_drop = df_replaced.drop_duplicates(keep=\"first\",subset=\"patient_nbr\")"
   ]
  },
  {
   "cell_type": "code",
   "execution_count": 34,
   "id": "3ccc12cf",
   "metadata": {},
   "outputs": [],
   "source": [
    "df_drop = df_drop.dropna(subset=[\"admission_type_id_x\",\"discharge_disposition_id_y\",\"admission_source_id_z\"])"
   ]
  },
  {
   "cell_type": "code",
   "execution_count": 39,
   "id": "b7857e55",
   "metadata": {},
   "outputs": [],
   "source": [
    "next_df = df_drop.drop(columns = [\"admission_type_id\",\"discharge_disposition_id\", \"admission_source_id\"])"
   ]
  },
  {
   "cell_type": "code",
   "execution_count": 40,
   "id": "e9083b34",
   "metadata": {},
   "outputs": [],
   "source": [
    "next_df = next_df.replace(\"?\",np.nan)"
   ]
  },
  {
   "cell_type": "markdown",
   "id": "f3f27fc8",
   "metadata": {},
   "source": [
    "Drop weight, and payer code for the reasons in the paper. However, replace medical specialty and race missing values to Missing."
   ]
  },
  {
   "cell_type": "code",
   "execution_count": 42,
   "id": "721b7196",
   "metadata": {},
   "outputs": [],
   "source": [
    "next_df = next_df.drop(columns = [\"weight\",\"payer_code\"])"
   ]
  },
  {
   "cell_type": "code",
   "execution_count": 45,
   "id": "030d787d",
   "metadata": {},
   "outputs": [],
   "source": [
    "new_df = next_df.replace(np.nan, \"Missing\")"
   ]
  },
  {
   "cell_type": "markdown",
   "id": "10b5cf8a",
   "metadata": {},
   "source": [
    "Removed hospice and expired for the id columns"
   ]
  },
  {
   "cell_type": "code",
   "execution_count": 51,
   "id": "95d77630",
   "metadata": {},
   "outputs": [],
   "source": [
    "removed_df = new_df[(new_df[\"discharge_disposition_id_y\"] != \"Hospice / home\") & (new_df[\"discharge_disposition_id_y\"] != \"Hospice / medical facility\") & (new_df[\"discharge_disposition_id_y\"] != \"Expired\") & (new_df[\"discharge_disposition_id_y\"] != \"Expired at home. Medicaid only, hospice.\")]"
   ]
  },
  {
   "cell_type": "code",
   "execution_count": 53,
   "id": "3ad56849",
   "metadata": {},
   "outputs": [],
   "source": [
    "removed_df.reset_index(inplace=True,drop=True)"
   ]
  },
  {
   "cell_type": "markdown",
   "id": "4e268cc1",
   "metadata": {},
   "source": [
    "Finally, we need to drop the encounter_id and patient_nbr"
   ]
  },
  {
   "cell_type": "code",
   "execution_count": 55,
   "id": "5f2184d4",
   "metadata": {},
   "outputs": [],
   "source": [
    "final_df = removed_df.drop(columns = [\"encounter_id\",\"patient_nbr\"])"
   ]
  },
  {
   "cell_type": "code",
   "execution_count": 56,
   "id": "f324a97f",
   "metadata": {
    "scrolled": true
   },
   "outputs": [
    {
     "data": {
      "text/html": [
       "<div>\n",
       "<style scoped>\n",
       "    .dataframe tbody tr th:only-of-type {\n",
       "        vertical-align: middle;\n",
       "    }\n",
       "\n",
       "    .dataframe tbody tr th {\n",
       "        vertical-align: top;\n",
       "    }\n",
       "\n",
       "    .dataframe thead th {\n",
       "        text-align: right;\n",
       "    }\n",
       "</style>\n",
       "<table border=\"1\" class=\"dataframe\">\n",
       "  <thead>\n",
       "    <tr style=\"text-align: right;\">\n",
       "      <th></th>\n",
       "      <th>race</th>\n",
       "      <th>gender</th>\n",
       "      <th>age</th>\n",
       "      <th>time_in_hospital</th>\n",
       "      <th>medical_specialty</th>\n",
       "      <th>num_lab_procedures</th>\n",
       "      <th>num_procedures</th>\n",
       "      <th>num_medications</th>\n",
       "      <th>number_outpatient</th>\n",
       "      <th>number_emergency</th>\n",
       "      <th>number_inpatient</th>\n",
       "      <th>diag_1</th>\n",
       "      <th>diag_2</th>\n",
       "      <th>diag_3</th>\n",
       "      <th>number_diagnoses</th>\n",
       "      <th>max_glu_serum</th>\n",
       "      <th>A1Cresult</th>\n",
       "      <th>metformin</th>\n",
       "      <th>repaglinide</th>\n",
       "      <th>nateglinide</th>\n",
       "      <th>chlorpropamide</th>\n",
       "      <th>glimepiride</th>\n",
       "      <th>acetohexamide</th>\n",
       "      <th>glipizide</th>\n",
       "      <th>glyburide</th>\n",
       "      <th>tolbutamide</th>\n",
       "      <th>pioglitazone</th>\n",
       "      <th>rosiglitazone</th>\n",
       "      <th>acarbose</th>\n",
       "      <th>miglitol</th>\n",
       "      <th>troglitazone</th>\n",
       "      <th>tolazamide</th>\n",
       "      <th>examide</th>\n",
       "      <th>citoglipton</th>\n",
       "      <th>insulin</th>\n",
       "      <th>glyburide-metformin</th>\n",
       "      <th>glipizide-metformin</th>\n",
       "      <th>glimepiride-pioglitazone</th>\n",
       "      <th>metformin-rosiglitazone</th>\n",
       "      <th>metformin-pioglitazone</th>\n",
       "      <th>change</th>\n",
       "      <th>diabetesMed</th>\n",
       "      <th>readmitted</th>\n",
       "      <th>admission_type_id_x</th>\n",
       "      <th>discharge_disposition_id_y</th>\n",
       "      <th>admission_source_id_z</th>\n",
       "    </tr>\n",
       "  </thead>\n",
       "  <tbody>\n",
       "    <tr>\n",
       "      <th>0</th>\n",
       "      <td>Caucasian</td>\n",
       "      <td>Female</td>\n",
       "      <td>[10-20)</td>\n",
       "      <td>3</td>\n",
       "      <td>Missing</td>\n",
       "      <td>59</td>\n",
       "      <td>0</td>\n",
       "      <td>18</td>\n",
       "      <td>0</td>\n",
       "      <td>0</td>\n",
       "      <td>0</td>\n",
       "      <td>276</td>\n",
       "      <td>250.01</td>\n",
       "      <td>255</td>\n",
       "      <td>9</td>\n",
       "      <td>None</td>\n",
       "      <td>None</td>\n",
       "      <td>No</td>\n",
       "      <td>No</td>\n",
       "      <td>No</td>\n",
       "      <td>No</td>\n",
       "      <td>No</td>\n",
       "      <td>No</td>\n",
       "      <td>No</td>\n",
       "      <td>No</td>\n",
       "      <td>No</td>\n",
       "      <td>No</td>\n",
       "      <td>No</td>\n",
       "      <td>No</td>\n",
       "      <td>No</td>\n",
       "      <td>No</td>\n",
       "      <td>No</td>\n",
       "      <td>No</td>\n",
       "      <td>No</td>\n",
       "      <td>Up</td>\n",
       "      <td>No</td>\n",
       "      <td>No</td>\n",
       "      <td>No</td>\n",
       "      <td>No</td>\n",
       "      <td>No</td>\n",
       "      <td>Ch</td>\n",
       "      <td>Yes</td>\n",
       "      <td>&gt;30</td>\n",
       "      <td>Emergency</td>\n",
       "      <td>Discharged to home</td>\n",
       "      <td>Emergency Room</td>\n",
       "    </tr>\n",
       "    <tr>\n",
       "      <th>1</th>\n",
       "      <td>AfricanAmerican</td>\n",
       "      <td>Female</td>\n",
       "      <td>[20-30)</td>\n",
       "      <td>2</td>\n",
       "      <td>Missing</td>\n",
       "      <td>11</td>\n",
       "      <td>5</td>\n",
       "      <td>13</td>\n",
       "      <td>2</td>\n",
       "      <td>0</td>\n",
       "      <td>1</td>\n",
       "      <td>648</td>\n",
       "      <td>250</td>\n",
       "      <td>V27</td>\n",
       "      <td>6</td>\n",
       "      <td>None</td>\n",
       "      <td>None</td>\n",
       "      <td>No</td>\n",
       "      <td>No</td>\n",
       "      <td>No</td>\n",
       "      <td>No</td>\n",
       "      <td>No</td>\n",
       "      <td>No</td>\n",
       "      <td>Steady</td>\n",
       "      <td>No</td>\n",
       "      <td>No</td>\n",
       "      <td>No</td>\n",
       "      <td>No</td>\n",
       "      <td>No</td>\n",
       "      <td>No</td>\n",
       "      <td>No</td>\n",
       "      <td>No</td>\n",
       "      <td>No</td>\n",
       "      <td>No</td>\n",
       "      <td>No</td>\n",
       "      <td>No</td>\n",
       "      <td>No</td>\n",
       "      <td>No</td>\n",
       "      <td>No</td>\n",
       "      <td>No</td>\n",
       "      <td>No</td>\n",
       "      <td>Yes</td>\n",
       "      <td>NO</td>\n",
       "      <td>Emergency</td>\n",
       "      <td>Discharged to home</td>\n",
       "      <td>Emergency Room</td>\n",
       "    </tr>\n",
       "    <tr>\n",
       "      <th>2</th>\n",
       "      <td>Caucasian</td>\n",
       "      <td>Male</td>\n",
       "      <td>[30-40)</td>\n",
       "      <td>2</td>\n",
       "      <td>Missing</td>\n",
       "      <td>44</td>\n",
       "      <td>1</td>\n",
       "      <td>16</td>\n",
       "      <td>0</td>\n",
       "      <td>0</td>\n",
       "      <td>0</td>\n",
       "      <td>8</td>\n",
       "      <td>250.43</td>\n",
       "      <td>403</td>\n",
       "      <td>7</td>\n",
       "      <td>None</td>\n",
       "      <td>None</td>\n",
       "      <td>No</td>\n",
       "      <td>No</td>\n",
       "      <td>No</td>\n",
       "      <td>No</td>\n",
       "      <td>No</td>\n",
       "      <td>No</td>\n",
       "      <td>No</td>\n",
       "      <td>No</td>\n",
       "      <td>No</td>\n",
       "      <td>No</td>\n",
       "      <td>No</td>\n",
       "      <td>No</td>\n",
       "      <td>No</td>\n",
       "      <td>No</td>\n",
       "      <td>No</td>\n",
       "      <td>No</td>\n",
       "      <td>No</td>\n",
       "      <td>Up</td>\n",
       "      <td>No</td>\n",
       "      <td>No</td>\n",
       "      <td>No</td>\n",
       "      <td>No</td>\n",
       "      <td>No</td>\n",
       "      <td>Ch</td>\n",
       "      <td>Yes</td>\n",
       "      <td>NO</td>\n",
       "      <td>Emergency</td>\n",
       "      <td>Discharged to home</td>\n",
       "      <td>Emergency Room</td>\n",
       "    </tr>\n",
       "    <tr>\n",
       "      <th>3</th>\n",
       "      <td>Caucasian</td>\n",
       "      <td>Male</td>\n",
       "      <td>[40-50)</td>\n",
       "      <td>1</td>\n",
       "      <td>Missing</td>\n",
       "      <td>51</td>\n",
       "      <td>0</td>\n",
       "      <td>8</td>\n",
       "      <td>0</td>\n",
       "      <td>0</td>\n",
       "      <td>0</td>\n",
       "      <td>197</td>\n",
       "      <td>157</td>\n",
       "      <td>250</td>\n",
       "      <td>5</td>\n",
       "      <td>None</td>\n",
       "      <td>None</td>\n",
       "      <td>No</td>\n",
       "      <td>No</td>\n",
       "      <td>No</td>\n",
       "      <td>No</td>\n",
       "      <td>No</td>\n",
       "      <td>No</td>\n",
       "      <td>Steady</td>\n",
       "      <td>No</td>\n",
       "      <td>No</td>\n",
       "      <td>No</td>\n",
       "      <td>No</td>\n",
       "      <td>No</td>\n",
       "      <td>No</td>\n",
       "      <td>No</td>\n",
       "      <td>No</td>\n",
       "      <td>No</td>\n",
       "      <td>No</td>\n",
       "      <td>Steady</td>\n",
       "      <td>No</td>\n",
       "      <td>No</td>\n",
       "      <td>No</td>\n",
       "      <td>No</td>\n",
       "      <td>No</td>\n",
       "      <td>Ch</td>\n",
       "      <td>Yes</td>\n",
       "      <td>NO</td>\n",
       "      <td>Emergency</td>\n",
       "      <td>Discharged to home</td>\n",
       "      <td>Emergency Room</td>\n",
       "    </tr>\n",
       "    <tr>\n",
       "      <th>4</th>\n",
       "      <td>Caucasian</td>\n",
       "      <td>Male</td>\n",
       "      <td>[50-60)</td>\n",
       "      <td>3</td>\n",
       "      <td>Missing</td>\n",
       "      <td>31</td>\n",
       "      <td>6</td>\n",
       "      <td>16</td>\n",
       "      <td>0</td>\n",
       "      <td>0</td>\n",
       "      <td>0</td>\n",
       "      <td>414</td>\n",
       "      <td>411</td>\n",
       "      <td>250</td>\n",
       "      <td>9</td>\n",
       "      <td>None</td>\n",
       "      <td>None</td>\n",
       "      <td>No</td>\n",
       "      <td>No</td>\n",
       "      <td>No</td>\n",
       "      <td>No</td>\n",
       "      <td>No</td>\n",
       "      <td>No</td>\n",
       "      <td>No</td>\n",
       "      <td>No</td>\n",
       "      <td>No</td>\n",
       "      <td>No</td>\n",
       "      <td>No</td>\n",
       "      <td>No</td>\n",
       "      <td>No</td>\n",
       "      <td>No</td>\n",
       "      <td>No</td>\n",
       "      <td>No</td>\n",
       "      <td>No</td>\n",
       "      <td>Steady</td>\n",
       "      <td>No</td>\n",
       "      <td>No</td>\n",
       "      <td>No</td>\n",
       "      <td>No</td>\n",
       "      <td>No</td>\n",
       "      <td>No</td>\n",
       "      <td>Yes</td>\n",
       "      <td>&gt;30</td>\n",
       "      <td>Urgent</td>\n",
       "      <td>Discharged to home</td>\n",
       "      <td>Clinic Referral</td>\n",
       "    </tr>\n",
       "  </tbody>\n",
       "</table>\n",
       "</div>"
      ],
      "text/plain": [
       "              race  gender      age  time_in_hospital medical_specialty  \\\n",
       "0        Caucasian  Female  [10-20)                 3           Missing   \n",
       "1  AfricanAmerican  Female  [20-30)                 2           Missing   \n",
       "2        Caucasian    Male  [30-40)                 2           Missing   \n",
       "3        Caucasian    Male  [40-50)                 1           Missing   \n",
       "4        Caucasian    Male  [50-60)                 3           Missing   \n",
       "\n",
       "   num_lab_procedures  num_procedures  num_medications  number_outpatient  \\\n",
       "0                  59               0               18                  0   \n",
       "1                  11               5               13                  2   \n",
       "2                  44               1               16                  0   \n",
       "3                  51               0                8                  0   \n",
       "4                  31               6               16                  0   \n",
       "\n",
       "   number_emergency  number_inpatient diag_1  diag_2 diag_3  number_diagnoses  \\\n",
       "0                 0                 0    276  250.01    255                 9   \n",
       "1                 0                 1    648     250    V27                 6   \n",
       "2                 0                 0      8  250.43    403                 7   \n",
       "3                 0                 0    197     157    250                 5   \n",
       "4                 0                 0    414     411    250                 9   \n",
       "\n",
       "  max_glu_serum A1Cresult metformin repaglinide nateglinide chlorpropamide  \\\n",
       "0          None      None        No          No          No             No   \n",
       "1          None      None        No          No          No             No   \n",
       "2          None      None        No          No          No             No   \n",
       "3          None      None        No          No          No             No   \n",
       "4          None      None        No          No          No             No   \n",
       "\n",
       "  glimepiride acetohexamide glipizide glyburide tolbutamide pioglitazone  \\\n",
       "0          No            No        No        No          No           No   \n",
       "1          No            No    Steady        No          No           No   \n",
       "2          No            No        No        No          No           No   \n",
       "3          No            No    Steady        No          No           No   \n",
       "4          No            No        No        No          No           No   \n",
       "\n",
       "  rosiglitazone acarbose miglitol troglitazone tolazamide examide citoglipton  \\\n",
       "0            No       No       No           No         No      No          No   \n",
       "1            No       No       No           No         No      No          No   \n",
       "2            No       No       No           No         No      No          No   \n",
       "3            No       No       No           No         No      No          No   \n",
       "4            No       No       No           No         No      No          No   \n",
       "\n",
       "  insulin glyburide-metformin glipizide-metformin glimepiride-pioglitazone  \\\n",
       "0      Up                  No                  No                       No   \n",
       "1      No                  No                  No                       No   \n",
       "2      Up                  No                  No                       No   \n",
       "3  Steady                  No                  No                       No   \n",
       "4  Steady                  No                  No                       No   \n",
       "\n",
       "  metformin-rosiglitazone metformin-pioglitazone change diabetesMed  \\\n",
       "0                      No                     No     Ch         Yes   \n",
       "1                      No                     No     No         Yes   \n",
       "2                      No                     No     Ch         Yes   \n",
       "3                      No                     No     Ch         Yes   \n",
       "4                      No                     No     No         Yes   \n",
       "\n",
       "  readmitted admission_type_id_x discharge_disposition_id_y  \\\n",
       "0        >30           Emergency         Discharged to home   \n",
       "1         NO           Emergency         Discharged to home   \n",
       "2         NO           Emergency         Discharged to home   \n",
       "3         NO           Emergency         Discharged to home   \n",
       "4        >30              Urgent         Discharged to home   \n",
       "\n",
       "  admission_source_id_z  \n",
       "0        Emergency Room  \n",
       "1        Emergency Room  \n",
       "2        Emergency Room  \n",
       "3        Emergency Room  \n",
       "4       Clinic Referral  "
      ]
     },
     "execution_count": 56,
     "metadata": {},
     "output_type": "execute_result"
    }
   ],
   "source": [
    "final_df.head()"
   ]
  },
  {
   "cell_type": "code",
   "execution_count": 58,
   "id": "d97de147",
   "metadata": {
    "scrolled": false
   },
   "outputs": [
    {
     "data": {
      "text/plain": [
       "NO     36176\n",
       ">30    19116\n",
       "<30     5380\n",
       "Name: readmitted, dtype: int64"
      ]
     },
     "execution_count": 58,
     "metadata": {},
     "output_type": "execute_result"
    }
   ],
   "source": [
    "final_df['readmitted'].value_counts()"
   ]
  },
  {
   "cell_type": "markdown",
   "id": "b487bca0",
   "metadata": {},
   "source": [
    "Convert NO to class 1, >30 to class 3, <30 to class 2"
   ]
  },
  {
   "cell_type": "code",
   "execution_count": 59,
   "id": "0ebce332",
   "metadata": {},
   "outputs": [],
   "source": [
    "final_df['readmitted'] = final_df['readmitted'].replace({\"NO\":1,\">30\":3,\"<30\":2})"
   ]
  },
  {
   "cell_type": "code",
   "execution_count": 61,
   "id": "1910c5cd",
   "metadata": {
    "scrolled": true
   },
   "outputs": [
    {
     "data": {
      "text/html": [
       "<div>\n",
       "<style scoped>\n",
       "    .dataframe tbody tr th:only-of-type {\n",
       "        vertical-align: middle;\n",
       "    }\n",
       "\n",
       "    .dataframe tbody tr th {\n",
       "        vertical-align: top;\n",
       "    }\n",
       "\n",
       "    .dataframe thead th {\n",
       "        text-align: right;\n",
       "    }\n",
       "</style>\n",
       "<table border=\"1\" class=\"dataframe\">\n",
       "  <thead>\n",
       "    <tr style=\"text-align: right;\">\n",
       "      <th></th>\n",
       "      <th>race</th>\n",
       "      <th>gender</th>\n",
       "      <th>age</th>\n",
       "      <th>time_in_hospital</th>\n",
       "      <th>medical_specialty</th>\n",
       "      <th>num_lab_procedures</th>\n",
       "      <th>num_procedures</th>\n",
       "      <th>num_medications</th>\n",
       "      <th>number_outpatient</th>\n",
       "      <th>number_emergency</th>\n",
       "      <th>number_inpatient</th>\n",
       "      <th>diag_1</th>\n",
       "      <th>diag_2</th>\n",
       "      <th>diag_3</th>\n",
       "      <th>number_diagnoses</th>\n",
       "      <th>max_glu_serum</th>\n",
       "      <th>A1Cresult</th>\n",
       "      <th>metformin</th>\n",
       "      <th>repaglinide</th>\n",
       "      <th>nateglinide</th>\n",
       "      <th>chlorpropamide</th>\n",
       "      <th>glimepiride</th>\n",
       "      <th>acetohexamide</th>\n",
       "      <th>glipizide</th>\n",
       "      <th>glyburide</th>\n",
       "      <th>tolbutamide</th>\n",
       "      <th>pioglitazone</th>\n",
       "      <th>rosiglitazone</th>\n",
       "      <th>acarbose</th>\n",
       "      <th>miglitol</th>\n",
       "      <th>troglitazone</th>\n",
       "      <th>tolazamide</th>\n",
       "      <th>examide</th>\n",
       "      <th>citoglipton</th>\n",
       "      <th>insulin</th>\n",
       "      <th>glyburide-metformin</th>\n",
       "      <th>glipizide-metformin</th>\n",
       "      <th>glimepiride-pioglitazone</th>\n",
       "      <th>metformin-rosiglitazone</th>\n",
       "      <th>metformin-pioglitazone</th>\n",
       "      <th>change</th>\n",
       "      <th>diabetesMed</th>\n",
       "      <th>readmitted</th>\n",
       "      <th>admission_type_id_x</th>\n",
       "      <th>discharge_disposition_id_y</th>\n",
       "      <th>admission_source_id_z</th>\n",
       "    </tr>\n",
       "  </thead>\n",
       "  <tbody>\n",
       "    <tr>\n",
       "      <th>0</th>\n",
       "      <td>Caucasian</td>\n",
       "      <td>Female</td>\n",
       "      <td>[10-20)</td>\n",
       "      <td>3</td>\n",
       "      <td>Missing</td>\n",
       "      <td>59</td>\n",
       "      <td>0</td>\n",
       "      <td>18</td>\n",
       "      <td>0</td>\n",
       "      <td>0</td>\n",
       "      <td>0</td>\n",
       "      <td>276</td>\n",
       "      <td>250.01</td>\n",
       "      <td>255</td>\n",
       "      <td>9</td>\n",
       "      <td>None</td>\n",
       "      <td>None</td>\n",
       "      <td>No</td>\n",
       "      <td>No</td>\n",
       "      <td>No</td>\n",
       "      <td>No</td>\n",
       "      <td>No</td>\n",
       "      <td>No</td>\n",
       "      <td>No</td>\n",
       "      <td>No</td>\n",
       "      <td>No</td>\n",
       "      <td>No</td>\n",
       "      <td>No</td>\n",
       "      <td>No</td>\n",
       "      <td>No</td>\n",
       "      <td>No</td>\n",
       "      <td>No</td>\n",
       "      <td>No</td>\n",
       "      <td>No</td>\n",
       "      <td>Up</td>\n",
       "      <td>No</td>\n",
       "      <td>No</td>\n",
       "      <td>No</td>\n",
       "      <td>No</td>\n",
       "      <td>No</td>\n",
       "      <td>Ch</td>\n",
       "      <td>Yes</td>\n",
       "      <td>3</td>\n",
       "      <td>Emergency</td>\n",
       "      <td>Discharged to home</td>\n",
       "      <td>Emergency Room</td>\n",
       "    </tr>\n",
       "    <tr>\n",
       "      <th>1</th>\n",
       "      <td>AfricanAmerican</td>\n",
       "      <td>Female</td>\n",
       "      <td>[20-30)</td>\n",
       "      <td>2</td>\n",
       "      <td>Missing</td>\n",
       "      <td>11</td>\n",
       "      <td>5</td>\n",
       "      <td>13</td>\n",
       "      <td>2</td>\n",
       "      <td>0</td>\n",
       "      <td>1</td>\n",
       "      <td>648</td>\n",
       "      <td>250</td>\n",
       "      <td>V27</td>\n",
       "      <td>6</td>\n",
       "      <td>None</td>\n",
       "      <td>None</td>\n",
       "      <td>No</td>\n",
       "      <td>No</td>\n",
       "      <td>No</td>\n",
       "      <td>No</td>\n",
       "      <td>No</td>\n",
       "      <td>No</td>\n",
       "      <td>Steady</td>\n",
       "      <td>No</td>\n",
       "      <td>No</td>\n",
       "      <td>No</td>\n",
       "      <td>No</td>\n",
       "      <td>No</td>\n",
       "      <td>No</td>\n",
       "      <td>No</td>\n",
       "      <td>No</td>\n",
       "      <td>No</td>\n",
       "      <td>No</td>\n",
       "      <td>No</td>\n",
       "      <td>No</td>\n",
       "      <td>No</td>\n",
       "      <td>No</td>\n",
       "      <td>No</td>\n",
       "      <td>No</td>\n",
       "      <td>No</td>\n",
       "      <td>Yes</td>\n",
       "      <td>1</td>\n",
       "      <td>Emergency</td>\n",
       "      <td>Discharged to home</td>\n",
       "      <td>Emergency Room</td>\n",
       "    </tr>\n",
       "    <tr>\n",
       "      <th>2</th>\n",
       "      <td>Caucasian</td>\n",
       "      <td>Male</td>\n",
       "      <td>[30-40)</td>\n",
       "      <td>2</td>\n",
       "      <td>Missing</td>\n",
       "      <td>44</td>\n",
       "      <td>1</td>\n",
       "      <td>16</td>\n",
       "      <td>0</td>\n",
       "      <td>0</td>\n",
       "      <td>0</td>\n",
       "      <td>8</td>\n",
       "      <td>250.43</td>\n",
       "      <td>403</td>\n",
       "      <td>7</td>\n",
       "      <td>None</td>\n",
       "      <td>None</td>\n",
       "      <td>No</td>\n",
       "      <td>No</td>\n",
       "      <td>No</td>\n",
       "      <td>No</td>\n",
       "      <td>No</td>\n",
       "      <td>No</td>\n",
       "      <td>No</td>\n",
       "      <td>No</td>\n",
       "      <td>No</td>\n",
       "      <td>No</td>\n",
       "      <td>No</td>\n",
       "      <td>No</td>\n",
       "      <td>No</td>\n",
       "      <td>No</td>\n",
       "      <td>No</td>\n",
       "      <td>No</td>\n",
       "      <td>No</td>\n",
       "      <td>Up</td>\n",
       "      <td>No</td>\n",
       "      <td>No</td>\n",
       "      <td>No</td>\n",
       "      <td>No</td>\n",
       "      <td>No</td>\n",
       "      <td>Ch</td>\n",
       "      <td>Yes</td>\n",
       "      <td>1</td>\n",
       "      <td>Emergency</td>\n",
       "      <td>Discharged to home</td>\n",
       "      <td>Emergency Room</td>\n",
       "    </tr>\n",
       "    <tr>\n",
       "      <th>3</th>\n",
       "      <td>Caucasian</td>\n",
       "      <td>Male</td>\n",
       "      <td>[40-50)</td>\n",
       "      <td>1</td>\n",
       "      <td>Missing</td>\n",
       "      <td>51</td>\n",
       "      <td>0</td>\n",
       "      <td>8</td>\n",
       "      <td>0</td>\n",
       "      <td>0</td>\n",
       "      <td>0</td>\n",
       "      <td>197</td>\n",
       "      <td>157</td>\n",
       "      <td>250</td>\n",
       "      <td>5</td>\n",
       "      <td>None</td>\n",
       "      <td>None</td>\n",
       "      <td>No</td>\n",
       "      <td>No</td>\n",
       "      <td>No</td>\n",
       "      <td>No</td>\n",
       "      <td>No</td>\n",
       "      <td>No</td>\n",
       "      <td>Steady</td>\n",
       "      <td>No</td>\n",
       "      <td>No</td>\n",
       "      <td>No</td>\n",
       "      <td>No</td>\n",
       "      <td>No</td>\n",
       "      <td>No</td>\n",
       "      <td>No</td>\n",
       "      <td>No</td>\n",
       "      <td>No</td>\n",
       "      <td>No</td>\n",
       "      <td>Steady</td>\n",
       "      <td>No</td>\n",
       "      <td>No</td>\n",
       "      <td>No</td>\n",
       "      <td>No</td>\n",
       "      <td>No</td>\n",
       "      <td>Ch</td>\n",
       "      <td>Yes</td>\n",
       "      <td>1</td>\n",
       "      <td>Emergency</td>\n",
       "      <td>Discharged to home</td>\n",
       "      <td>Emergency Room</td>\n",
       "    </tr>\n",
       "    <tr>\n",
       "      <th>4</th>\n",
       "      <td>Caucasian</td>\n",
       "      <td>Male</td>\n",
       "      <td>[50-60)</td>\n",
       "      <td>3</td>\n",
       "      <td>Missing</td>\n",
       "      <td>31</td>\n",
       "      <td>6</td>\n",
       "      <td>16</td>\n",
       "      <td>0</td>\n",
       "      <td>0</td>\n",
       "      <td>0</td>\n",
       "      <td>414</td>\n",
       "      <td>411</td>\n",
       "      <td>250</td>\n",
       "      <td>9</td>\n",
       "      <td>None</td>\n",
       "      <td>None</td>\n",
       "      <td>No</td>\n",
       "      <td>No</td>\n",
       "      <td>No</td>\n",
       "      <td>No</td>\n",
       "      <td>No</td>\n",
       "      <td>No</td>\n",
       "      <td>No</td>\n",
       "      <td>No</td>\n",
       "      <td>No</td>\n",
       "      <td>No</td>\n",
       "      <td>No</td>\n",
       "      <td>No</td>\n",
       "      <td>No</td>\n",
       "      <td>No</td>\n",
       "      <td>No</td>\n",
       "      <td>No</td>\n",
       "      <td>No</td>\n",
       "      <td>Steady</td>\n",
       "      <td>No</td>\n",
       "      <td>No</td>\n",
       "      <td>No</td>\n",
       "      <td>No</td>\n",
       "      <td>No</td>\n",
       "      <td>No</td>\n",
       "      <td>Yes</td>\n",
       "      <td>3</td>\n",
       "      <td>Urgent</td>\n",
       "      <td>Discharged to home</td>\n",
       "      <td>Clinic Referral</td>\n",
       "    </tr>\n",
       "  </tbody>\n",
       "</table>\n",
       "</div>"
      ],
      "text/plain": [
       "              race  gender      age  time_in_hospital medical_specialty  \\\n",
       "0        Caucasian  Female  [10-20)                 3           Missing   \n",
       "1  AfricanAmerican  Female  [20-30)                 2           Missing   \n",
       "2        Caucasian    Male  [30-40)                 2           Missing   \n",
       "3        Caucasian    Male  [40-50)                 1           Missing   \n",
       "4        Caucasian    Male  [50-60)                 3           Missing   \n",
       "\n",
       "   num_lab_procedures  num_procedures  num_medications  number_outpatient  \\\n",
       "0                  59               0               18                  0   \n",
       "1                  11               5               13                  2   \n",
       "2                  44               1               16                  0   \n",
       "3                  51               0                8                  0   \n",
       "4                  31               6               16                  0   \n",
       "\n",
       "   number_emergency  number_inpatient diag_1  diag_2 diag_3  number_diagnoses  \\\n",
       "0                 0                 0    276  250.01    255                 9   \n",
       "1                 0                 1    648     250    V27                 6   \n",
       "2                 0                 0      8  250.43    403                 7   \n",
       "3                 0                 0    197     157    250                 5   \n",
       "4                 0                 0    414     411    250                 9   \n",
       "\n",
       "  max_glu_serum A1Cresult metformin repaglinide nateglinide chlorpropamide  \\\n",
       "0          None      None        No          No          No             No   \n",
       "1          None      None        No          No          No             No   \n",
       "2          None      None        No          No          No             No   \n",
       "3          None      None        No          No          No             No   \n",
       "4          None      None        No          No          No             No   \n",
       "\n",
       "  glimepiride acetohexamide glipizide glyburide tolbutamide pioglitazone  \\\n",
       "0          No            No        No        No          No           No   \n",
       "1          No            No    Steady        No          No           No   \n",
       "2          No            No        No        No          No           No   \n",
       "3          No            No    Steady        No          No           No   \n",
       "4          No            No        No        No          No           No   \n",
       "\n",
       "  rosiglitazone acarbose miglitol troglitazone tolazamide examide citoglipton  \\\n",
       "0            No       No       No           No         No      No          No   \n",
       "1            No       No       No           No         No      No          No   \n",
       "2            No       No       No           No         No      No          No   \n",
       "3            No       No       No           No         No      No          No   \n",
       "4            No       No       No           No         No      No          No   \n",
       "\n",
       "  insulin glyburide-metformin glipizide-metformin glimepiride-pioglitazone  \\\n",
       "0      Up                  No                  No                       No   \n",
       "1      No                  No                  No                       No   \n",
       "2      Up                  No                  No                       No   \n",
       "3  Steady                  No                  No                       No   \n",
       "4  Steady                  No                  No                       No   \n",
       "\n",
       "  metformin-rosiglitazone metformin-pioglitazone change diabetesMed  \\\n",
       "0                      No                     No     Ch         Yes   \n",
       "1                      No                     No     No         Yes   \n",
       "2                      No                     No     Ch         Yes   \n",
       "3                      No                     No     Ch         Yes   \n",
       "4                      No                     No     No         Yes   \n",
       "\n",
       "   readmitted admission_type_id_x discharge_disposition_id_y  \\\n",
       "0           3           Emergency         Discharged to home   \n",
       "1           1           Emergency         Discharged to home   \n",
       "2           1           Emergency         Discharged to home   \n",
       "3           1           Emergency         Discharged to home   \n",
       "4           3              Urgent         Discharged to home   \n",
       "\n",
       "  admission_source_id_z  \n",
       "0        Emergency Room  \n",
       "1        Emergency Room  \n",
       "2        Emergency Room  \n",
       "3        Emergency Room  \n",
       "4       Clinic Referral  "
      ]
     },
     "execution_count": 61,
     "metadata": {},
     "output_type": "execute_result"
    }
   ],
   "source": [
    "final_df.head()"
   ]
  },
  {
   "cell_type": "code",
   "execution_count": 62,
   "id": "0bb3b480",
   "metadata": {},
   "outputs": [],
   "source": [
    "X = final_df.drop(\"readmitted\", axis = 1).copy()\n",
    "y = final_df[\"readmitted\"].values.copy()"
   ]
  },
  {
   "cell_type": "code",
   "execution_count": 63,
   "id": "a62024a1",
   "metadata": {},
   "outputs": [],
   "source": [
    "numeric_features = ['time_in_hospital', 'num_lab_procedures', 'num_procedures',\n",
    "                    'num_medications','number_outpatient','number_emergency',\n",
    "                    'number_inpatient','number_diagnoses']"
   ]
  },
  {
   "cell_type": "code",
   "execution_count": 64,
   "id": "eb2fc243",
   "metadata": {},
   "outputs": [],
   "source": [
    "categorical_features = [i for i in X.columns if i not in numeric_features]"
   ]
  },
  {
   "cell_type": "markdown",
   "id": "246c4f45",
   "metadata": {},
   "source": [
    "## Preprocessing and Standard Scaling use sklearn's pipeline."
   ]
  },
  {
   "cell_type": "code",
   "execution_count": 65,
   "id": "bf3ef575",
   "metadata": {},
   "outputs": [],
   "source": [
    "numeric_transformer = Pipeline(steps=[('scaler', StandardScaler(with_mean=False))])\n",
    "\n",
    "\n",
    "categorical_transformer = Pipeline(steps=[('onehot', OneHotEncoder(drop=\"first\"))])\n",
    "\n",
    "\n",
    "preprocessor = ColumnTransformer(\n",
    "    transformers=[\n",
    "        ('num', numeric_transformer, numeric_features),\n",
    "        ('cat', categorical_transformer, categorical_features)])\n",
    "\n",
    "pipeline = Pipeline(steps=[('preprocessor', preprocessor)])"
   ]
  },
  {
   "cell_type": "code",
   "execution_count": 66,
   "id": "89eb7e14",
   "metadata": {},
   "outputs": [],
   "source": [
    "X_scaled = pipeline.fit_transform(X)"
   ]
  },
  {
   "cell_type": "code",
   "execution_count": 67,
   "id": "4e8cf535",
   "metadata": {},
   "outputs": [
    {
     "data": {
      "text/plain": [
       "<60672x2310 sparse matrix of type '<class 'numpy.float64'>'\n",
       "\twith 1764138 stored elements in Compressed Sparse Row format>"
      ]
     },
     "execution_count": 67,
     "metadata": {},
     "output_type": "execute_result"
    }
   ],
   "source": [
    "X_scaled"
   ]
  },
  {
   "cell_type": "markdown",
   "id": "a1fa935d",
   "metadata": {},
   "source": [
    "# Logistic Regression with no regularization"
   ]
  },
  {
   "cell_type": "code",
   "execution_count": 71,
   "id": "4680e4d5",
   "metadata": {},
   "outputs": [],
   "source": [
    "from sklearn.model_selection import StratifiedShuffleSplit \n",
    "sss_cv = StratifiedShuffleSplit(n_splits=5,test_size=0.10, random_state=42)"
   ]
  },
  {
   "cell_type": "code",
   "execution_count": 72,
   "id": "27e881ea",
   "metadata": {
    "scrolled": true
   },
   "outputs": [
    {
     "name": "stdout",
     "output_type": "stream",
     "text": [
      "====Iteration 0  ====\n",
      "Accuracy: 0.6143704680290046\n",
      "====Iteration 1  ====\n",
      "Accuracy: 0.6058009228740936\n",
      "====Iteration 2  ====\n",
      "Accuracy: 0.6092617007251153\n",
      "====Iteration 3  ====\n",
      "Accuracy: 0.6086025049439684\n",
      "====Iteration 4  ====\n",
      "Accuracy: 0.6072841133816743\n",
      "CPU times: user 2min 4s, sys: 4.37 s, total: 2min 8s\n",
      "Wall time: 2min 8s\n"
     ]
    }
   ],
   "source": [
    "%%time\n",
    "from sklearn.linear_model import LogisticRegression\n",
    "from sklearn import metrics as mt\n",
    "import time\n",
    "\n",
    "lr_clf = LogisticRegression(multi_class = \"multinomial\",max_iter=5000, random_state=42)\n",
    "acc_scores = []\n",
    "iter_num=0\n",
    "\n",
    "for train_indices, test_indices in sss_cv.split(X_scaled,y): \n",
    "    X_train = X_scaled[train_indices]\n",
    "    y_train = y[train_indices]\n",
    "    \n",
    "    X_test = X_scaled[test_indices]\n",
    "    y_test = y[test_indices]\n",
    "    lr_clf.fit(X_train,y_train)  # train object\n",
    "\n",
    "    y_hat = lr_clf.predict(X_test) # get test set predictions\n",
    "    print(\"====Iteration\",iter_num,\" ====\")\n",
    "    acc = mt.accuracy_score(y_test,y_hat)\n",
    "    acc_scores.append(acc)\n",
    "    print('Accuracy:', acc)\n",
    "    iter_num+=1"
   ]
  },
  {
   "cell_type": "code",
   "execution_count": 73,
   "id": "0f792bc0",
   "metadata": {},
   "outputs": [
    {
     "name": "stdout",
     "output_type": "stream",
     "text": [
      "Mean Accuracy is: 0.6072841133816743\n"
     ]
    }
   ],
   "source": [
    "print(\"Mean Accuracy is:\",np.mean(acc))"
   ]
  },
  {
   "cell_type": "markdown",
   "id": "916fb45a",
   "metadata": {},
   "source": [
    "# L1 Regularization Grid Search"
   ]
  },
  {
   "cell_type": "code",
   "execution_count": 74,
   "id": "03b7c7ee",
   "metadata": {},
   "outputs": [],
   "source": [
    "from sklearn.model_selection import StratifiedShuffleSplit \n",
    "sss_cv = StratifiedShuffleSplit(n_splits=5,test_size=0.10, random_state=42)"
   ]
  },
  {
   "cell_type": "code",
   "execution_count": 75,
   "id": "2055e7f3",
   "metadata": {},
   "outputs": [
    {
     "name": "stdout",
     "output_type": "stream",
     "text": [
      "Fitting 5 folds for each of 3 candidates, totalling 15 fits\n",
      "[CV 1/5] END C=0.001, max_iter=5000, penalty=l1, random_state=42, solver=saga;, score=0.602 total time=  46.0s\n",
      "[CV 2/5] END C=0.001, max_iter=5000, penalty=l1, random_state=42, solver=saga;, score=0.603 total time=  45.8s\n",
      "[CV 3/5] END C=0.001, max_iter=5000, penalty=l1, random_state=42, solver=saga;, score=0.602 total time=  45.0s\n",
      "[CV 4/5] END C=0.001, max_iter=5000, penalty=l1, random_state=42, solver=saga;, score=0.601 total time=  45.7s\n",
      "[CV 5/5] END C=0.001, max_iter=5000, penalty=l1, random_state=42, solver=saga;, score=0.602 total time=  47.1s\n",
      "[CV 1/5] END C=0.01, max_iter=5000, penalty=l1, random_state=42, solver=saga;, score=0.608 total time= 2.6min\n",
      "[CV 2/5] END C=0.01, max_iter=5000, penalty=l1, random_state=42, solver=saga;, score=0.608 total time= 2.4min\n",
      "[CV 3/5] END C=0.01, max_iter=5000, penalty=l1, random_state=42, solver=saga;, score=0.610 total time= 2.7min\n",
      "[CV 4/5] END C=0.01, max_iter=5000, penalty=l1, random_state=42, solver=saga;, score=0.608 total time= 2.6min\n",
      "[CV 5/5] END C=0.01, max_iter=5000, penalty=l1, random_state=42, solver=saga;, score=0.605 total time= 2.8min\n",
      "[CV 1/5] END C=0.1, max_iter=5000, penalty=l1, random_state=42, solver=saga;, score=0.614 total time= 1.6min\n",
      "[CV 2/5] END C=0.1, max_iter=5000, penalty=l1, random_state=42, solver=saga;, score=0.610 total time= 1.8min\n",
      "[CV 3/5] END C=0.1, max_iter=5000, penalty=l1, random_state=42, solver=saga;, score=0.615 total time= 1.6min\n",
      "[CV 4/5] END C=0.1, max_iter=5000, penalty=l1, random_state=42, solver=saga;, score=0.615 total time= 2.0min\n",
      "[CV 5/5] END C=0.1, max_iter=5000, penalty=l1, random_state=42, solver=saga;, score=0.612 total time= 1.6min\n",
      "CPU times: user 27min 26s, sys: 6.22 s, total: 27min 32s\n",
      "Wall time: 27min 33s\n"
     ]
    },
    {
     "data": {
      "text/plain": [
       "GridSearchCV(cv=StratifiedShuffleSplit(n_splits=5, random_state=42, test_size=0.1,\n",
       "            train_size=None),\n",
       "             estimator=LogisticRegression(multi_class='multinomial'),\n",
       "             param_grid={'C': [0.001, 0.01, 0.1], 'max_iter': [5000],\n",
       "                         'penalty': ['l1'], 'random_state': [42],\n",
       "                         'solver': ['saga']},\n",
       "             scoring='accuracy', verbose=3)"
      ]
     },
     "execution_count": 75,
     "metadata": {},
     "output_type": "execute_result"
    }
   ],
   "source": [
    "%%time\n",
    "from sklearn.linear_model import LogisticRegression\n",
    "from sklearn.model_selection import GridSearchCV\n",
    "\n",
    "\n",
    "regEstimator = LogisticRegression(multi_class = \"multinomial\")\n",
    "\n",
    "parameters = { 'penalty':['l1']\n",
    "              ,'C': [0.001, 0.01, 0.1]\n",
    "              ,'random_state': [42]\n",
    "              ,'solver': ['saga']\n",
    "              ,'max_iter':[5000]\n",
    "             }\n",
    "\n",
    "\n",
    "GridSearch = GridSearchCV(estimator=regEstimator\n",
    "                   , verbose=3\n",
    "                   , param_grid=parameters\n",
    "                   , cv=sss_cv \n",
    "                   , scoring='accuracy')\n",
    "\n",
    "GridSearch.fit(X_scaled, y)"
   ]
  },
  {
   "cell_type": "code",
   "execution_count": 76,
   "id": "48675d37",
   "metadata": {
    "scrolled": true
   },
   "outputs": [],
   "source": [
    "l1_best_est = GridSearch.best_estimator_"
   ]
  },
  {
   "cell_type": "code",
   "execution_count": 77,
   "id": "19f542d3",
   "metadata": {},
   "outputs": [
    {
     "name": "stdout",
     "output_type": "stream",
     "text": [
      "LogisticRegression(C=0.1, max_iter=5000, multi_class='multinomial',\n",
      "                   penalty='l1', random_state=42, solver='saga')\n"
     ]
    }
   ],
   "source": [
    "print(l1_best_est)"
   ]
  },
  {
   "cell_type": "code",
   "execution_count": 78,
   "id": "7f2e2b1d",
   "metadata": {},
   "outputs": [],
   "source": [
    "l1_best_params = GridSearch.best_params_"
   ]
  },
  {
   "cell_type": "code",
   "execution_count": 79,
   "id": "77accd10",
   "metadata": {},
   "outputs": [
    {
     "name": "stdout",
     "output_type": "stream",
     "text": [
      "{'C': 0.1, 'max_iter': 5000, 'penalty': 'l1', 'random_state': 42, 'solver': 'saga'}\n"
     ]
    }
   ],
   "source": [
    "print(l1_best_params)"
   ]
  },
  {
   "cell_type": "code",
   "execution_count": 80,
   "id": "e237c329",
   "metadata": {},
   "outputs": [],
   "source": [
    "l1_best_score = GridSearch.best_score_"
   ]
  },
  {
   "cell_type": "code",
   "execution_count": 81,
   "id": "6d4860ca",
   "metadata": {},
   "outputs": [
    {
     "name": "stdout",
     "output_type": "stream",
     "text": [
      "Highest Accuracy 0.6132498352010547\n"
     ]
    }
   ],
   "source": [
    "print('Highest Accuracy', l1_best_score )"
   ]
  },
  {
   "cell_type": "markdown",
   "id": "ec440f30",
   "metadata": {},
   "source": [
    "# L2 Regularization Gridsearch"
   ]
  },
  {
   "cell_type": "code",
   "execution_count": 82,
   "id": "64cb8f40",
   "metadata": {},
   "outputs": [],
   "source": [
    "from sklearn.model_selection import StratifiedShuffleSplit \n",
    "sss_cv = StratifiedShuffleSplit(n_splits=5,test_size=0.10, random_state=42)"
   ]
  },
  {
   "cell_type": "code",
   "execution_count": 83,
   "id": "a87d89b2",
   "metadata": {},
   "outputs": [
    {
     "name": "stdout",
     "output_type": "stream",
     "text": [
      "Fitting 5 folds for each of 3 candidates, totalling 15 fits\n",
      "[CV 1/5] END C=0.001, max_iter=5000, penalty=l2, random_state=42, solver=saga;, score=0.609 total time=   0.7s\n",
      "[CV 2/5] END C=0.001, max_iter=5000, penalty=l2, random_state=42, solver=saga;, score=0.609 total time=   0.7s\n",
      "[CV 3/5] END C=0.001, max_iter=5000, penalty=l2, random_state=42, solver=saga;, score=0.612 total time=   0.7s\n",
      "[CV 4/5] END C=0.001, max_iter=5000, penalty=l2, random_state=42, solver=saga;, score=0.611 total time=   0.7s\n",
      "[CV 5/5] END C=0.001, max_iter=5000, penalty=l2, random_state=42, solver=saga;, score=0.606 total time=   0.7s\n",
      "[CV 1/5] END C=0.01, max_iter=5000, penalty=l2, random_state=42, solver=saga;, score=0.615 total time=   3.9s\n",
      "[CV 2/5] END C=0.01, max_iter=5000, penalty=l2, random_state=42, solver=saga;, score=0.609 total time=   3.9s\n",
      "[CV 3/5] END C=0.01, max_iter=5000, penalty=l2, random_state=42, solver=saga;, score=0.613 total time=   4.3s\n",
      "[CV 4/5] END C=0.01, max_iter=5000, penalty=l2, random_state=42, solver=saga;, score=0.614 total time=   4.2s\n",
      "[CV 5/5] END C=0.01, max_iter=5000, penalty=l2, random_state=42, solver=saga;, score=0.611 total time=   4.1s\n",
      "[CV 1/5] END C=0.1, max_iter=5000, penalty=l2, random_state=42, solver=saga;, score=0.620 total time=  18.2s\n",
      "[CV 2/5] END C=0.1, max_iter=5000, penalty=l2, random_state=42, solver=saga;, score=0.607 total time=  19.6s\n",
      "[CV 3/5] END C=0.1, max_iter=5000, penalty=l2, random_state=42, solver=saga;, score=0.617 total time=  17.8s\n",
      "[CV 4/5] END C=0.1, max_iter=5000, penalty=l2, random_state=42, solver=saga;, score=0.614 total time=  18.4s\n",
      "[CV 5/5] END C=0.1, max_iter=5000, penalty=l2, random_state=42, solver=saga;, score=0.613 total time=  18.3s\n",
      "CPU times: user 2min 15s, sys: 690 ms, total: 2min 16s\n",
      "Wall time: 2min 16s\n"
     ]
    },
    {
     "data": {
      "text/plain": [
       "GridSearchCV(cv=StratifiedShuffleSplit(n_splits=5, random_state=42, test_size=0.1,\n",
       "            train_size=None),\n",
       "             estimator=LogisticRegression(multi_class='multinomial'),\n",
       "             param_grid={'C': [0.001, 0.01, 0.1], 'max_iter': [5000],\n",
       "                         'penalty': ['l2'], 'random_state': [42],\n",
       "                         'solver': ['saga']},\n",
       "             scoring='accuracy', verbose=3)"
      ]
     },
     "execution_count": 83,
     "metadata": {},
     "output_type": "execute_result"
    }
   ],
   "source": [
    "%%time\n",
    "from sklearn.linear_model import LogisticRegression\n",
    "from sklearn.model_selection import GridSearchCV\n",
    "\n",
    "\n",
    "regEstimator = LogisticRegression(multi_class = \"multinomial\")\n",
    "\n",
    "parameters = { 'penalty':['l2']\n",
    "              ,'C': [0.001, 0.01, 0.1]\n",
    "              ,'random_state': [42]\n",
    "              ,'solver': ['saga']\n",
    "              ,'max_iter':[5000]\n",
    "             }\n",
    "\n",
    "\n",
    "l2_GridSearch = GridSearchCV(estimator=regEstimator\n",
    "                   , verbose=3\n",
    "                   , param_grid=parameters\n",
    "                   , cv=sss_cv \n",
    "                   , scoring='accuracy')\n",
    "\n",
    "l2_GridSearch.fit(X_scaled, y)"
   ]
  },
  {
   "cell_type": "code",
   "execution_count": 84,
   "id": "ce63afea",
   "metadata": {
    "scrolled": true
   },
   "outputs": [],
   "source": [
    "l2_best_est = l2_GridSearch.best_estimator_"
   ]
  },
  {
   "cell_type": "code",
   "execution_count": 85,
   "id": "754fd8bb",
   "metadata": {},
   "outputs": [
    {
     "name": "stdout",
     "output_type": "stream",
     "text": [
      "LogisticRegression(C=0.1, max_iter=5000, multi_class='multinomial',\n",
      "                   random_state=42, solver='saga')\n"
     ]
    }
   ],
   "source": [
    "print(l2_best_est)"
   ]
  },
  {
   "cell_type": "code",
   "execution_count": 86,
   "id": "eb962fee",
   "metadata": {},
   "outputs": [],
   "source": [
    "l2_best_params = l2_GridSearch.best_params_"
   ]
  },
  {
   "cell_type": "code",
   "execution_count": 87,
   "id": "783c564e",
   "metadata": {},
   "outputs": [
    {
     "name": "stdout",
     "output_type": "stream",
     "text": [
      "{'C': 0.1, 'max_iter': 5000, 'penalty': 'l2', 'random_state': 42, 'solver': 'saga'}\n"
     ]
    }
   ],
   "source": [
    "print(l2_best_params)"
   ]
  },
  {
   "cell_type": "code",
   "execution_count": 88,
   "id": "320e48d3",
   "metadata": {},
   "outputs": [],
   "source": [
    "l2_best_score = l2_GridSearch.best_score_"
   ]
  },
  {
   "cell_type": "code",
   "execution_count": 89,
   "id": "7250e928",
   "metadata": {},
   "outputs": [
    {
     "name": "stdout",
     "output_type": "stream",
     "text": [
      "Highest Accuracy 0.6141067897165458\n"
     ]
    }
   ],
   "source": [
    "print('Highest Accuracy', l2_best_score )"
   ]
  },
  {
   "cell_type": "markdown",
   "id": "02c4342f",
   "metadata": {},
   "source": [
    "# Variable Importance - L2 Regularization"
   ]
  },
  {
   "cell_type": "code",
   "execution_count": 90,
   "id": "4c035deb",
   "metadata": {},
   "outputs": [],
   "source": [
    "numeric_features_new = ['time_in_hospital', 'num_lab_procedures', 'num_procedures',\n",
    "                    'num_medications','number_outpatient','number_emergency',\n",
    "                    'number_inpatient','number_diagnoses']\n",
    "\n",
    "X_columns = final_df.drop(\"readmitted\", axis = 1).copy()\n",
    "X_columns = pipeline.fit(X_columns)\n",
    "X_columns.named_steps[\"preprocessor\"].transformers_[1][1].named_steps[\"onehot\"]\n",
    "\n",
    "column_name = X_columns.named_steps['preprocessor'].transformers_[1][1]\\\n",
    "   .named_steps['onehot'].get_feature_names_out(categorical_features)\n",
    "\n",
    "column_name = list(column_name)\n",
    "column_name[:0] = numeric_features_new"
   ]
  },
  {
   "cell_type": "code",
   "execution_count": 91,
   "id": "fab37230",
   "metadata": {},
   "outputs": [],
   "source": [
    "l2_coefficients = pd.concat([pd.DataFrame(column_name),pd.DataFrame(np.transpose(l2_best_est.coef_))], axis = 1)"
   ]
  },
  {
   "cell_type": "code",
   "execution_count": 92,
   "id": "a31e7805",
   "metadata": {},
   "outputs": [],
   "source": [
    "l2_coefficients.columns = [\"Features\", \"NO\", \"<30\", \">30\"]"
   ]
  },
  {
   "cell_type": "code",
   "execution_count": 93,
   "id": "602e9687",
   "metadata": {},
   "outputs": [],
   "source": [
    "l2_coefficients['Absolute_Sum'] = abs(l2_coefficients[\"NO\"]) + abs(l2_coefficients[\"<30\"]) + abs(l2_coefficients[\">30\"])"
   ]
  },
  {
   "cell_type": "code",
   "execution_count": 95,
   "id": "946aa0cc",
   "metadata": {},
   "outputs": [],
   "source": [
    " sort_coef_l2 = l2_coefficients.sort_values(by=\"Absolute_Sum\", ascending=False)"
   ]
  },
  {
   "cell_type": "code",
   "execution_count": 97,
   "id": "7250105e",
   "metadata": {
    "scrolled": true
   },
   "outputs": [
    {
     "data": {
      "text/html": [
       "<div>\n",
       "<style scoped>\n",
       "    .dataframe tbody tr th:only-of-type {\n",
       "        vertical-align: middle;\n",
       "    }\n",
       "\n",
       "    .dataframe tbody tr th {\n",
       "        vertical-align: top;\n",
       "    }\n",
       "\n",
       "    .dataframe thead th {\n",
       "        text-align: right;\n",
       "    }\n",
       "</style>\n",
       "<table border=\"1\" class=\"dataframe\">\n",
       "  <thead>\n",
       "    <tr style=\"text-align: right;\">\n",
       "      <th></th>\n",
       "      <th>Features</th>\n",
       "      <th>NO</th>\n",
       "      <th>&lt;30</th>\n",
       "      <th>&gt;30</th>\n",
       "      <th>Absolute_Sum</th>\n",
       "    </tr>\n",
       "  </thead>\n",
       "  <tbody>\n",
       "    <tr>\n",
       "      <th>772</th>\n",
       "      <td>diag_1_V58</td>\n",
       "      <td>-0.546077</td>\n",
       "      <td>0.828365</td>\n",
       "      <td>-0.282288</td>\n",
       "      <td>1.656730</td>\n",
       "    </tr>\n",
       "    <tr>\n",
       "      <th>2283</th>\n",
       "      <td>discharge_disposition_id_y_Discharged/transfer...</td>\n",
       "      <td>0.419779</td>\n",
       "      <td>-0.643759</td>\n",
       "      <td>0.223980</td>\n",
       "      <td>1.287519</td>\n",
       "    </tr>\n",
       "    <tr>\n",
       "      <th>2291</th>\n",
       "      <td>discharge_disposition_id_y_Discharged/transfer...</td>\n",
       "      <td>-0.270346</td>\n",
       "      <td>0.619027</td>\n",
       "      <td>-0.348680</td>\n",
       "      <td>1.238054</td>\n",
       "    </tr>\n",
       "    <tr>\n",
       "      <th>2290</th>\n",
       "      <td>discharge_disposition_id_y_Discharged/transfer...</td>\n",
       "      <td>-0.477164</td>\n",
       "      <td>0.553386</td>\n",
       "      <td>-0.076222</td>\n",
       "      <td>1.106772</td>\n",
       "    </tr>\n",
       "    <tr>\n",
       "      <th>2285</th>\n",
       "      <td>discharge_disposition_id_y_Discharged/transfer...</td>\n",
       "      <td>-0.315836</td>\n",
       "      <td>0.525705</td>\n",
       "      <td>-0.209869</td>\n",
       "      <td>1.051410</td>\n",
       "    </tr>\n",
       "    <tr>\n",
       "      <th>853</th>\n",
       "      <td>diag_2_250.03</td>\n",
       "      <td>-0.517599</td>\n",
       "      <td>0.359076</td>\n",
       "      <td>0.158523</td>\n",
       "      <td>1.035199</td>\n",
       "    </tr>\n",
       "    <tr>\n",
       "      <th>371</th>\n",
       "      <td>diag_1_443</td>\n",
       "      <td>-0.490329</td>\n",
       "      <td>0.408563</td>\n",
       "      <td>0.081766</td>\n",
       "      <td>0.980658</td>\n",
       "    </tr>\n",
       "    <tr>\n",
       "      <th>1818</th>\n",
       "      <td>diag_3_536</td>\n",
       "      <td>-0.479923</td>\n",
       "      <td>0.343131</td>\n",
       "      <td>0.136792</td>\n",
       "      <td>0.959846</td>\n",
       "    </tr>\n",
       "    <tr>\n",
       "      <th>2279</th>\n",
       "      <td>discharge_disposition_id_y_Discharged to home</td>\n",
       "      <td>0.156270</td>\n",
       "      <td>-0.470239</td>\n",
       "      <td>0.313969</td>\n",
       "      <td>0.940478</td>\n",
       "    </tr>\n",
       "    <tr>\n",
       "      <th>864</th>\n",
       "      <td>diag_2_250.41</td>\n",
       "      <td>-0.438645</td>\n",
       "      <td>0.241545</td>\n",
       "      <td>0.197100</td>\n",
       "      <td>0.877290</td>\n",
       "    </tr>\n",
       "    <tr>\n",
       "      <th>1189</th>\n",
       "      <td>diag_2_648</td>\n",
       "      <td>0.428044</td>\n",
       "      <td>-0.067196</td>\n",
       "      <td>-0.360848</td>\n",
       "      <td>0.856088</td>\n",
       "    </tr>\n",
       "    <tr>\n",
       "      <th>668</th>\n",
       "      <td>diag_1_850</td>\n",
       "      <td>0.426569</td>\n",
       "      <td>-0.160840</td>\n",
       "      <td>-0.265730</td>\n",
       "      <td>0.853139</td>\n",
       "    </tr>\n",
       "    <tr>\n",
       "      <th>60</th>\n",
       "      <td>medical_specialty_Pediatrics-Endocrinology</td>\n",
       "      <td>0.423875</td>\n",
       "      <td>-0.267247</td>\n",
       "      <td>-0.156628</td>\n",
       "      <td>0.847750</td>\n",
       "    </tr>\n",
       "    <tr>\n",
       "      <th>2298</th>\n",
       "      <td>admission_source_id_z_ Not Mapped</td>\n",
       "      <td>-0.422258</td>\n",
       "      <td>0.089702</td>\n",
       "      <td>0.332556</td>\n",
       "      <td>0.844515</td>\n",
       "    </tr>\n",
       "    <tr>\n",
       "      <th>115</th>\n",
       "      <td>diag_1_157</td>\n",
       "      <td>0.221825</td>\n",
       "      <td>0.198889</td>\n",
       "      <td>-0.420713</td>\n",
       "      <td>0.841427</td>\n",
       "    </tr>\n",
       "    <tr>\n",
       "      <th>81</th>\n",
       "      <td>medical_specialty_Surgery-Cardiovascular/Thoracic</td>\n",
       "      <td>0.403847</td>\n",
       "      <td>-0.133663</td>\n",
       "      <td>-0.270184</td>\n",
       "      <td>0.807693</td>\n",
       "    </tr>\n",
       "    <tr>\n",
       "      <th>412</th>\n",
       "      <td>diag_1_493</td>\n",
       "      <td>-0.161798</td>\n",
       "      <td>-0.233031</td>\n",
       "      <td>0.394829</td>\n",
       "      <td>0.789658</td>\n",
       "    </tr>\n",
       "    <tr>\n",
       "      <th>448</th>\n",
       "      <td>diag_1_540</td>\n",
       "      <td>0.382848</td>\n",
       "      <td>-0.185719</td>\n",
       "      <td>-0.197129</td>\n",
       "      <td>0.765695</td>\n",
       "    </tr>\n",
       "    <tr>\n",
       "      <th>922</th>\n",
       "      <td>diag_2_296</td>\n",
       "      <td>0.290768</td>\n",
       "      <td>0.092061</td>\n",
       "      <td>-0.382828</td>\n",
       "      <td>0.765657</td>\n",
       "    </tr>\n",
       "    <tr>\n",
       "      <th>534</th>\n",
       "      <td>diag_1_654</td>\n",
       "      <td>0.381196</td>\n",
       "      <td>-0.123246</td>\n",
       "      <td>-0.257950</td>\n",
       "      <td>0.762393</td>\n",
       "    </tr>\n",
       "  </tbody>\n",
       "</table>\n",
       "</div>"
      ],
      "text/plain": [
       "                                               Features        NO       <30  \\\n",
       "772                                          diag_1_V58 -0.546077  0.828365   \n",
       "2283  discharge_disposition_id_y_Discharged/transfer...  0.419779 -0.643759   \n",
       "2291  discharge_disposition_id_y_Discharged/transfer... -0.270346  0.619027   \n",
       "2290  discharge_disposition_id_y_Discharged/transfer... -0.477164  0.553386   \n",
       "2285  discharge_disposition_id_y_Discharged/transfer... -0.315836  0.525705   \n",
       "853                                       diag_2_250.03 -0.517599  0.359076   \n",
       "371                                          diag_1_443 -0.490329  0.408563   \n",
       "1818                                         diag_3_536 -0.479923  0.343131   \n",
       "2279      discharge_disposition_id_y_Discharged to home  0.156270 -0.470239   \n",
       "864                                       diag_2_250.41 -0.438645  0.241545   \n",
       "1189                                         diag_2_648  0.428044 -0.067196   \n",
       "668                                          diag_1_850  0.426569 -0.160840   \n",
       "60           medical_specialty_Pediatrics-Endocrinology  0.423875 -0.267247   \n",
       "2298                  admission_source_id_z_ Not Mapped -0.422258  0.089702   \n",
       "115                                          diag_1_157  0.221825  0.198889   \n",
       "81    medical_specialty_Surgery-Cardiovascular/Thoracic  0.403847 -0.133663   \n",
       "412                                          diag_1_493 -0.161798 -0.233031   \n",
       "448                                          diag_1_540  0.382848 -0.185719   \n",
       "922                                          diag_2_296  0.290768  0.092061   \n",
       "534                                          diag_1_654  0.381196 -0.123246   \n",
       "\n",
       "           >30  Absolute_Sum  \n",
       "772  -0.282288      1.656730  \n",
       "2283  0.223980      1.287519  \n",
       "2291 -0.348680      1.238054  \n",
       "2290 -0.076222      1.106772  \n",
       "2285 -0.209869      1.051410  \n",
       "853   0.158523      1.035199  \n",
       "371   0.081766      0.980658  \n",
       "1818  0.136792      0.959846  \n",
       "2279  0.313969      0.940478  \n",
       "864   0.197100      0.877290  \n",
       "1189 -0.360848      0.856088  \n",
       "668  -0.265730      0.853139  \n",
       "60   -0.156628      0.847750  \n",
       "2298  0.332556      0.844515  \n",
       "115  -0.420713      0.841427  \n",
       "81   -0.270184      0.807693  \n",
       "412   0.394829      0.789658  \n",
       "448  -0.197129      0.765695  \n",
       "922  -0.382828      0.765657  \n",
       "534  -0.257950      0.762393  "
      ]
     },
     "execution_count": 97,
     "metadata": {},
     "output_type": "execute_result"
    }
   ],
   "source": [
    "sort_coef_l2.head(20)"
   ]
  },
  {
   "cell_type": "code",
   "execution_count": 98,
   "id": "a24885d6",
   "metadata": {},
   "outputs": [],
   "source": [
    "sort_coef_l2.reset_index(inplace=True,drop=True)"
   ]
  },
  {
   "cell_type": "code",
   "execution_count": 100,
   "id": "24c448d3",
   "metadata": {},
   "outputs": [],
   "source": [
    "sort_coef_l2.to_csv(\"method_2_variable_imp.csv\",index=False)"
   ]
  }
 ],
 "metadata": {
  "kernelspec": {
   "display_name": "Python 3.9 (tensorflow)",
   "language": "python",
   "name": "tensorflow"
  },
  "language_info": {
   "codemirror_mode": {
    "name": "ipython",
    "version": 3
   },
   "file_extension": ".py",
   "mimetype": "text/x-python",
   "name": "python",
   "nbconvert_exporter": "python",
   "pygments_lexer": "ipython3",
   "version": "3.9.7"
  }
 },
 "nbformat": 4,
 "nbformat_minor": 5
}
