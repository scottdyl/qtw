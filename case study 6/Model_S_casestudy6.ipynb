{
 "cells": [
  {
   "cell_type": "code",
   "execution_count": 4,
   "id": "f0b42fa7",
   "metadata": {},
   "outputs": [],
   "source": [
    "import matplotlib.pyplot as plt\n",
    "import seaborn as sns\n",
    "import numpy as np\n",
    "import pandas as pd\n",
    "from datetime import date\n",
    "import sklearn"
   ]
  },
  {
   "cell_type": "code",
   "execution_count": 5,
   "id": "110b6be1",
   "metadata": {},
   "outputs": [],
   "source": [
    "df = pd.read_csv(\"all_train.csv\")"
   ]
  },
  {
   "cell_type": "code",
   "execution_count": 6,
   "id": "a1476343",
   "metadata": {},
   "outputs": [
    {
     "data": {
      "text/html": [
       "<div>\n",
       "<style scoped>\n",
       "    .dataframe tbody tr th:only-of-type {\n",
       "        vertical-align: middle;\n",
       "    }\n",
       "\n",
       "    .dataframe tbody tr th {\n",
       "        vertical-align: top;\n",
       "    }\n",
       "\n",
       "    .dataframe thead th {\n",
       "        text-align: right;\n",
       "    }\n",
       "</style>\n",
       "<table border=\"1\" class=\"dataframe\">\n",
       "  <thead>\n",
       "    <tr style=\"text-align: right;\">\n",
       "      <th></th>\n",
       "      <th># label</th>\n",
       "      <th>f0</th>\n",
       "      <th>f1</th>\n",
       "      <th>f2</th>\n",
       "      <th>f3</th>\n",
       "      <th>f4</th>\n",
       "      <th>f5</th>\n",
       "      <th>f6</th>\n",
       "      <th>f7</th>\n",
       "      <th>f8</th>\n",
       "      <th>...</th>\n",
       "      <th>f18</th>\n",
       "      <th>f19</th>\n",
       "      <th>f20</th>\n",
       "      <th>f21</th>\n",
       "      <th>f22</th>\n",
       "      <th>f23</th>\n",
       "      <th>f24</th>\n",
       "      <th>f25</th>\n",
       "      <th>f26</th>\n",
       "      <th>mass</th>\n",
       "    </tr>\n",
       "  </thead>\n",
       "  <tbody>\n",
       "    <tr>\n",
       "      <th>0</th>\n",
       "      <td>1.0</td>\n",
       "      <td>-0.346368</td>\n",
       "      <td>0.416306</td>\n",
       "      <td>0.999236</td>\n",
       "      <td>0.475342</td>\n",
       "      <td>0.427493</td>\n",
       "      <td>-0.005984</td>\n",
       "      <td>1.989833</td>\n",
       "      <td>0.344530</td>\n",
       "      <td>1.566297</td>\n",
       "      <td>...</td>\n",
       "      <td>4.105282</td>\n",
       "      <td>0.267826</td>\n",
       "      <td>0.378718</td>\n",
       "      <td>1.743123</td>\n",
       "      <td>3.406367</td>\n",
       "      <td>4.350537</td>\n",
       "      <td>-0.352571</td>\n",
       "      <td>1.130032</td>\n",
       "      <td>2.227706</td>\n",
       "      <td>1000.000000</td>\n",
       "    </tr>\n",
       "    <tr>\n",
       "      <th>1</th>\n",
       "      <td>1.0</td>\n",
       "      <td>1.708236</td>\n",
       "      <td>-0.319394</td>\n",
       "      <td>-1.241873</td>\n",
       "      <td>-0.887231</td>\n",
       "      <td>-0.871906</td>\n",
       "      <td>-0.005984</td>\n",
       "      <td>-0.001047</td>\n",
       "      <td>-1.038225</td>\n",
       "      <td>0.655748</td>\n",
       "      <td>...</td>\n",
       "      <td>-1.178141</td>\n",
       "      <td>-0.877361</td>\n",
       "      <td>-1.483769</td>\n",
       "      <td>-0.573682</td>\n",
       "      <td>-1.693781</td>\n",
       "      <td>-0.545062</td>\n",
       "      <td>-0.299118</td>\n",
       "      <td>-0.662942</td>\n",
       "      <td>-0.193019</td>\n",
       "      <td>750.000000</td>\n",
       "    </tr>\n",
       "    <tr>\n",
       "      <th>2</th>\n",
       "      <td>0.0</td>\n",
       "      <td>-0.360693</td>\n",
       "      <td>1.794174</td>\n",
       "      <td>0.264738</td>\n",
       "      <td>-0.472273</td>\n",
       "      <td>-0.292344</td>\n",
       "      <td>-1.054221</td>\n",
       "      <td>-1.150495</td>\n",
       "      <td>1.423404</td>\n",
       "      <td>1.270098</td>\n",
       "      <td>...</td>\n",
       "      <td>-1.199511</td>\n",
       "      <td>0.539020</td>\n",
       "      <td>-1.590629</td>\n",
       "      <td>-0.573682</td>\n",
       "      <td>-0.543636</td>\n",
       "      <td>-0.937456</td>\n",
       "      <td>-0.300344</td>\n",
       "      <td>-0.523262</td>\n",
       "      <td>-1.506304</td>\n",
       "      <td>750.000000</td>\n",
       "    </tr>\n",
       "    <tr>\n",
       "      <th>3</th>\n",
       "      <td>1.0</td>\n",
       "      <td>-0.377914</td>\n",
       "      <td>-0.103932</td>\n",
       "      <td>-0.649434</td>\n",
       "      <td>-2.125015</td>\n",
       "      <td>-1.643797</td>\n",
       "      <td>-0.005984</td>\n",
       "      <td>1.011112</td>\n",
       "      <td>-1.040340</td>\n",
       "      <td>-0.541991</td>\n",
       "      <td>...</td>\n",
       "      <td>0.463763</td>\n",
       "      <td>-0.006583</td>\n",
       "      <td>1.089122</td>\n",
       "      <td>-0.573682</td>\n",
       "      <td>-0.276348</td>\n",
       "      <td>-0.409272</td>\n",
       "      <td>-0.349926</td>\n",
       "      <td>-0.307123</td>\n",
       "      <td>0.529698</td>\n",
       "      <td>1250.000000</td>\n",
       "    </tr>\n",
       "    <tr>\n",
       "      <th>4</th>\n",
       "      <td>0.0</td>\n",
       "      <td>-0.067436</td>\n",
       "      <td>-0.636762</td>\n",
       "      <td>-0.620166</td>\n",
       "      <td>-0.062551</td>\n",
       "      <td>1.588715</td>\n",
       "      <td>-0.005984</td>\n",
       "      <td>-0.595304</td>\n",
       "      <td>-1.238987</td>\n",
       "      <td>0.336844</td>\n",
       "      <td>...</td>\n",
       "      <td>-0.552837</td>\n",
       "      <td>-1.418494</td>\n",
       "      <td>-0.562982</td>\n",
       "      <td>1.743123</td>\n",
       "      <td>0.881802</td>\n",
       "      <td>0.002516</td>\n",
       "      <td>1.560950</td>\n",
       "      <td>-0.150760</td>\n",
       "      <td>-1.023889</td>\n",
       "      <td>750.000000</td>\n",
       "    </tr>\n",
       "    <tr>\n",
       "      <th>...</th>\n",
       "      <td>...</td>\n",
       "      <td>...</td>\n",
       "      <td>...</td>\n",
       "      <td>...</td>\n",
       "      <td>...</td>\n",
       "      <td>...</td>\n",
       "      <td>...</td>\n",
       "      <td>...</td>\n",
       "      <td>...</td>\n",
       "      <td>...</td>\n",
       "      <td>...</td>\n",
       "      <td>...</td>\n",
       "      <td>...</td>\n",
       "      <td>...</td>\n",
       "      <td>...</td>\n",
       "      <td>...</td>\n",
       "      <td>...</td>\n",
       "      <td>...</td>\n",
       "      <td>...</td>\n",
       "      <td>...</td>\n",
       "      <td>...</td>\n",
       "    </tr>\n",
       "    <tr>\n",
       "      <th>6999995</th>\n",
       "      <td>0.0</td>\n",
       "      <td>1.617264</td>\n",
       "      <td>-0.537084</td>\n",
       "      <td>-1.275867</td>\n",
       "      <td>0.650799</td>\n",
       "      <td>-1.511621</td>\n",
       "      <td>0.850488</td>\n",
       "      <td>0.596391</td>\n",
       "      <td>-0.054678</td>\n",
       "      <td>0.728849</td>\n",
       "      <td>...</td>\n",
       "      <td>0.664328</td>\n",
       "      <td>-0.960709</td>\n",
       "      <td>-0.894011</td>\n",
       "      <td>1.743123</td>\n",
       "      <td>-0.426198</td>\n",
       "      <td>-0.324286</td>\n",
       "      <td>-0.432739</td>\n",
       "      <td>1.340297</td>\n",
       "      <td>0.267774</td>\n",
       "      <td>750.000000</td>\n",
       "    </tr>\n",
       "    <tr>\n",
       "      <th>6999996</th>\n",
       "      <td>0.0</td>\n",
       "      <td>-0.511357</td>\n",
       "      <td>0.270927</td>\n",
       "      <td>0.085989</td>\n",
       "      <td>-0.243802</td>\n",
       "      <td>-1.035668</td>\n",
       "      <td>-0.005984</td>\n",
       "      <td>-0.127219</td>\n",
       "      <td>0.721426</td>\n",
       "      <td>1.404479</td>\n",
       "      <td>...</td>\n",
       "      <td>-1.015462</td>\n",
       "      <td>1.367217</td>\n",
       "      <td>-1.053815</td>\n",
       "      <td>-0.573682</td>\n",
       "      <td>-1.907798</td>\n",
       "      <td>0.194661</td>\n",
       "      <td>-0.190621</td>\n",
       "      <td>0.027776</td>\n",
       "      <td>-0.316018</td>\n",
       "      <td>1250.000000</td>\n",
       "    </tr>\n",
       "    <tr>\n",
       "      <th>6999997</th>\n",
       "      <td>1.0</td>\n",
       "      <td>0.062408</td>\n",
       "      <td>-0.987203</td>\n",
       "      <td>0.570667</td>\n",
       "      <td>1.517195</td>\n",
       "      <td>0.639548</td>\n",
       "      <td>-1.054221</td>\n",
       "      <td>1.115239</td>\n",
       "      <td>1.261928</td>\n",
       "      <td>-1.009308</td>\n",
       "      <td>...</td>\n",
       "      <td>0.790842</td>\n",
       "      <td>0.892545</td>\n",
       "      <td>-0.192816</td>\n",
       "      <td>-0.573682</td>\n",
       "      <td>0.973622</td>\n",
       "      <td>1.034964</td>\n",
       "      <td>-0.340661</td>\n",
       "      <td>-0.181193</td>\n",
       "      <td>1.877042</td>\n",
       "      <td>1500.000000</td>\n",
       "    </tr>\n",
       "    <tr>\n",
       "      <th>6999998</th>\n",
       "      <td>1.0</td>\n",
       "      <td>1.659131</td>\n",
       "      <td>1.096223</td>\n",
       "      <td>0.562821</td>\n",
       "      <td>1.627193</td>\n",
       "      <td>0.767236</td>\n",
       "      <td>-1.054221</td>\n",
       "      <td>1.079999</td>\n",
       "      <td>0.155488</td>\n",
       "      <td>-1.412207</td>\n",
       "      <td>...</td>\n",
       "      <td>-0.671423</td>\n",
       "      <td>-0.308908</td>\n",
       "      <td>-0.568336</td>\n",
       "      <td>-0.573682</td>\n",
       "      <td>1.043119</td>\n",
       "      <td>1.270350</td>\n",
       "      <td>0.217405</td>\n",
       "      <td>0.120213</td>\n",
       "      <td>1.073020</td>\n",
       "      <td>1500.000000</td>\n",
       "    </tr>\n",
       "    <tr>\n",
       "      <th>6999999</th>\n",
       "      <td>1.0</td>\n",
       "      <td>0.002034</td>\n",
       "      <td>0.744152</td>\n",
       "      <td>-0.908839</td>\n",
       "      <td>-0.770454</td>\n",
       "      <td>1.008405</td>\n",
       "      <td>-1.054221</td>\n",
       "      <td>-0.370155</td>\n",
       "      <td>0.296837</td>\n",
       "      <td>-1.492524</td>\n",
       "      <td>...</td>\n",
       "      <td>0.352893</td>\n",
       "      <td>0.671047</td>\n",
       "      <td>0.176512</td>\n",
       "      <td>-0.573682</td>\n",
       "      <td>0.314739</td>\n",
       "      <td>0.304983</td>\n",
       "      <td>0.425471</td>\n",
       "      <td>-0.612085</td>\n",
       "      <td>-0.925097</td>\n",
       "      <td>499.999969</td>\n",
       "    </tr>\n",
       "  </tbody>\n",
       "</table>\n",
       "<p>7000000 rows × 29 columns</p>\n",
       "</div>"
      ],
      "text/plain": [
       "         # label        f0        f1        f2        f3        f4        f5  \\\n",
       "0            1.0 -0.346368  0.416306  0.999236  0.475342  0.427493 -0.005984   \n",
       "1            1.0  1.708236 -0.319394 -1.241873 -0.887231 -0.871906 -0.005984   \n",
       "2            0.0 -0.360693  1.794174  0.264738 -0.472273 -0.292344 -1.054221   \n",
       "3            1.0 -0.377914 -0.103932 -0.649434 -2.125015 -1.643797 -0.005984   \n",
       "4            0.0 -0.067436 -0.636762 -0.620166 -0.062551  1.588715 -0.005984   \n",
       "...          ...       ...       ...       ...       ...       ...       ...   \n",
       "6999995      0.0  1.617264 -0.537084 -1.275867  0.650799 -1.511621  0.850488   \n",
       "6999996      0.0 -0.511357  0.270927  0.085989 -0.243802 -1.035668 -0.005984   \n",
       "6999997      1.0  0.062408 -0.987203  0.570667  1.517195  0.639548 -1.054221   \n",
       "6999998      1.0  1.659131  1.096223  0.562821  1.627193  0.767236 -1.054221   \n",
       "6999999      1.0  0.002034  0.744152 -0.908839 -0.770454  1.008405 -1.054221   \n",
       "\n",
       "               f6        f7        f8  ...       f18       f19       f20  \\\n",
       "0        1.989833  0.344530  1.566297  ...  4.105282  0.267826  0.378718   \n",
       "1       -0.001047 -1.038225  0.655748  ... -1.178141 -0.877361 -1.483769   \n",
       "2       -1.150495  1.423404  1.270098  ... -1.199511  0.539020 -1.590629   \n",
       "3        1.011112 -1.040340 -0.541991  ...  0.463763 -0.006583  1.089122   \n",
       "4       -0.595304 -1.238987  0.336844  ... -0.552837 -1.418494 -0.562982   \n",
       "...           ...       ...       ...  ...       ...       ...       ...   \n",
       "6999995  0.596391 -0.054678  0.728849  ...  0.664328 -0.960709 -0.894011   \n",
       "6999996 -0.127219  0.721426  1.404479  ... -1.015462  1.367217 -1.053815   \n",
       "6999997  1.115239  1.261928 -1.009308  ...  0.790842  0.892545 -0.192816   \n",
       "6999998  1.079999  0.155488 -1.412207  ... -0.671423 -0.308908 -0.568336   \n",
       "6999999 -0.370155  0.296837 -1.492524  ...  0.352893  0.671047  0.176512   \n",
       "\n",
       "              f21       f22       f23       f24       f25       f26  \\\n",
       "0        1.743123  3.406367  4.350537 -0.352571  1.130032  2.227706   \n",
       "1       -0.573682 -1.693781 -0.545062 -0.299118 -0.662942 -0.193019   \n",
       "2       -0.573682 -0.543636 -0.937456 -0.300344 -0.523262 -1.506304   \n",
       "3       -0.573682 -0.276348 -0.409272 -0.349926 -0.307123  0.529698   \n",
       "4        1.743123  0.881802  0.002516  1.560950 -0.150760 -1.023889   \n",
       "...           ...       ...       ...       ...       ...       ...   \n",
       "6999995  1.743123 -0.426198 -0.324286 -0.432739  1.340297  0.267774   \n",
       "6999996 -0.573682 -1.907798  0.194661 -0.190621  0.027776 -0.316018   \n",
       "6999997 -0.573682  0.973622  1.034964 -0.340661 -0.181193  1.877042   \n",
       "6999998 -0.573682  1.043119  1.270350  0.217405  0.120213  1.073020   \n",
       "6999999 -0.573682  0.314739  0.304983  0.425471 -0.612085 -0.925097   \n",
       "\n",
       "                mass  \n",
       "0        1000.000000  \n",
       "1         750.000000  \n",
       "2         750.000000  \n",
       "3        1250.000000  \n",
       "4         750.000000  \n",
       "...              ...  \n",
       "6999995   750.000000  \n",
       "6999996  1250.000000  \n",
       "6999997  1500.000000  \n",
       "6999998  1500.000000  \n",
       "6999999   499.999969  \n",
       "\n",
       "[7000000 rows x 29 columns]"
      ]
     },
     "execution_count": 6,
     "metadata": {},
     "output_type": "execute_result"
    }
   ],
   "source": [
    "df"
   ]
  },
  {
   "cell_type": "code",
   "execution_count": 7,
   "id": "5b577891",
   "metadata": {},
   "outputs": [
    {
     "data": {
      "image/png": "[encoded data removed]",
      "text/plain": [
       "<Figure size 432x288 with 1 Axes>"
      ]
     },
     "metadata": {
      "needs_background": "light"
     },
     "output_type": "display_data"
    },
    {
     "data": {
      "image/png": "[encoded data removed]",
      "text/plain": [
       "<Figure size 432x288 with 1 Axes>"
      ]
     },
     "metadata": {
      "needs_background": "light"
     },
     "output_type": "display_data"
    },
    {
     "data": {
      "image/png": "[encoded data removed]",
      "text/plain": [
       "<Figure size 432x288 with 1 Axes>"
      ]
     },
     "metadata": {
      "needs_background": "light"
     },
     "output_type": "display_data"
    },
    {
     "data": {
      "image/png": "[encoded data removed]",
      "text/plain": [
       "<Figure size 432x288 with 1 Axes>"
      ]
     },
     "metadata": {
      "needs_background": "light"
     },
     "output_type": "display_data"
    },
    {
     "data": {
      "image/png": "[encoded data removed]",
      "text/plain": [
       "<Figure size 432x288 with 1 Axes>"
      ]
     },
     "metadata": {
      "needs_background": "light"
     },
     "output_type": "display_data"
    },
    {
     "data": {
      "image/png": "[encoded data removed]",
      "text/plain": [
       "<Figure size 432x288 with 1 Axes>"
      ]
     },
     "metadata": {
      "needs_background": "light"
     },
     "output_type": "display_data"
    },
    {
     "data": {
      "image/png": "[encoded data removed]",
      "text/plain": [
       "<Figure size 432x288 with 1 Axes>"
      ]
     },
     "metadata": {
      "needs_background": "light"
     },
     "output_type": "display_data"
    },
    {
     "data": {
      "image/png": "[encoded data removed]",
      "text/plain": [
       "<Figure size 432x288 with 1 Axes>"
      ]
     },
     "metadata": {
      "needs_background": "light"
     },
     "output_type": "display_data"
    },
    {
     "data": {
      "image/png": "[encoded data removed]",
      "text/plain": [
       "<Figure size 432x288 with 1 Axes>"
      ]
     },
     "metadata": {
      "needs_background": "light"
     },
     "output_type": "display_data"
    },
    {
     "data": {
      "image/png": "[encoded data removed]",
      "text/plain": [
       "<Figure size 432x288 with 1 Axes>"
      ]
     },
     "metadata": {
      "needs_background": "light"
     },
     "output_type": "display_data"
    },
    {
     "data": {
      "image/png": "[encoded data removed]",
      "text/plain": [
       "<Figure size 432x288 with 1 Axes>"
      ]
     },
     "metadata": {
      "needs_background": "light"
     },
     "output_type": "display_data"
    },
    {
     "data": {
      "image/png": "[encoded data removed]",
      "text/plain": [
       "<Figure size 432x288 with 1 Axes>"
      ]
     },
     "metadata": {
      "needs_background": "light"
     },
     "output_type": "display_data"
    },
    {
     "data": {
      "image/png": "[encoded data removed]",
      "text/plain": [
       "<Figure size 432x288 with 1 Axes>"
      ]
     },
     "metadata": {
      "needs_background": "light"
     },
     "output_type": "display_data"
    },
    {
     "data": {
      "image/png": "[encoded data removed]",
      "text/plain": [
       "<Figure size 432x288 with 1 Axes>"
      ]
     },
     "metadata": {
      "needs_background": "light"
     },
     "output_type": "display_data"
    },
    {
     "data": {
      "image/png": "[encoded data removed]",
      "text/plain": [
       "<Figure size 432x288 with 1 Axes>"
      ]
     },
     "metadata": {
      "needs_background": "light"
     },
     "output_type": "display_data"
    },
    {
     "data": {
      "image/png": "[encoded data removed]",
      "text/plain": [
       "<Figure size 432x288 with 1 Axes>"
      ]
     },
     "metadata": {
      "needs_background": "light"
     },
     "output_type": "display_data"
    },
    {
     "data": {
      "image/png": "[encoded data removed]",
      "text/plain": [
       "<Figure size 432x288 with 1 Axes>"
      ]
     },
     "metadata": {
      "needs_background": "light"
     },
     "output_type": "display_data"
    },
    {
     "data": {
      "image/png": "[encoded data removed]",
      "text/plain": [
       "<Figure size 432x288 with 1 Axes>"
      ]
     },
     "metadata": {
      "needs_background": "light"
     },
     "output_type": "display_data"
    },
    {
     "data": {
      "image/png": "[encoded data removed]",
      "text/plain": [
       "<Figure size 432x288 with 1 Axes>"
      ]
     },
     "metadata": {
      "needs_background": "light"
     },
     "output_type": "display_data"
    },
    {
     "data": {
      "image/png": "[encoded data removed]",
      "text/plain": [
       "<Figure size 432x288 with 1 Axes>"
      ]
     },
     "metadata": {
      "needs_background": "light"
     },
     "output_type": "display_data"
    },
    {
     "data": {
      "image/png": "[encoded data removed]",
      "text/plain": [
       "<Figure size 432x288 with 1 Axes>"
      ]
     },
     "metadata": {
      "needs_background": "light"
     },
     "output_type": "display_data"
    },
    {
     "data": {
      "image/png": "[encoded data removed]",
      "text/plain": [
       "<Figure size 432x288 with 1 Axes>"
      ]
     },
     "metadata": {
      "needs_background": "light"
     },
     "output_type": "display_data"
    },
    {
     "data": {
      "image/png": "[encoded data removed]",
      "text/plain": [
       "<Figure size 432x288 with 1 Axes>"
      ]
     },
     "metadata": {
      "needs_background": "light"
     },
     "output_type": "display_data"
    },
    {
     "data": {
      "image/png": "[encoded data removed]",
      "text/plain": [
       "<Figure size 432x288 with 1 Axes>"
      ]
     },
     "metadata": {
      "needs_background": "light"
     },
     "output_type": "display_data"
    },
    {
     "data": {
      "image/png": "[encoded data removed]",
      "text/plain": [
       "<Figure size 432x288 with 1 Axes>"
      ]
     },
     "metadata": {
      "needs_background": "light"
     },
     "output_type": "display_data"
    },
    {
     "data": {
      "image/png": "[encoded data removed]",
      "text/plain": [
       "<Figure size 432x288 with 1 Axes>"
      ]
     },
     "metadata": {
      "needs_background": "light"
     },
     "output_type": "display_data"
    },
    {
     "data": {
      "image/png": "[encoded data removed]",
      "text/plain": [
       "<Figure size 432x288 with 1 Axes>"
      ]
     },
     "metadata": {
      "needs_background": "light"
     },
     "output_type": "display_data"
    },
    {
     "data": {
      "image/png": "[encoded data removed]",
      "text/plain": [
       "<Figure size 432x288 with 1 Axes>"
      ]
     },
     "metadata": {
      "needs_background": "light"
     },
     "output_type": "display_data"
    },
    {
     "data": {
      "image/png": "[encoded data removed]",
      "text/plain": [
       "<Figure size 432x288 with 1 Axes>"
      ]
     },
     "metadata": {
      "needs_background": "light"
     },
     "output_type": "display_data"
    }
   ],
   "source": [
    "for i in df:\n",
    "    df[i].hist()\n",
    "    plt.title(i)\n",
    "    plt.show()"
   ]
  },
  {
   "cell_type": "code",
   "execution_count": 8,
   "id": "4ad7203a",
   "metadata": {},
   "outputs": [
    {
     "data": {
      "text/html": [
       "<div>\n",
       "<style scoped>\n",
       "    .dataframe tbody tr th:only-of-type {\n",
       "        vertical-align: middle;\n",
       "    }\n",
       "\n",
       "    .dataframe tbody tr th {\n",
       "        vertical-align: top;\n",
       "    }\n",
       "\n",
       "    .dataframe thead th {\n",
       "        text-align: right;\n",
       "    }\n",
       "</style>\n",
       "<table border=\"1\" class=\"dataframe\">\n",
       "  <thead>\n",
       "    <tr style=\"text-align: right;\">\n",
       "      <th></th>\n",
       "      <th>label</th>\n",
       "      <th>f0</th>\n",
       "      <th>f1</th>\n",
       "      <th>f2</th>\n",
       "      <th>f3</th>\n",
       "      <th>f4</th>\n",
       "      <th>f5</th>\n",
       "      <th>f6</th>\n",
       "      <th>f7</th>\n",
       "      <th>f8</th>\n",
       "      <th>...</th>\n",
       "      <th>f18</th>\n",
       "      <th>f19</th>\n",
       "      <th>f20</th>\n",
       "      <th>f21</th>\n",
       "      <th>f22</th>\n",
       "      <th>f23</th>\n",
       "      <th>f24</th>\n",
       "      <th>f25</th>\n",
       "      <th>f26</th>\n",
       "      <th>mass</th>\n",
       "    </tr>\n",
       "  </thead>\n",
       "  <tbody>\n",
       "    <tr>\n",
       "      <th>0</th>\n",
       "      <td>1.0</td>\n",
       "      <td>-0.346368</td>\n",
       "      <td>0.416306</td>\n",
       "      <td>0.999236</td>\n",
       "      <td>0.475342</td>\n",
       "      <td>0.427493</td>\n",
       "      <td>-0.005984</td>\n",
       "      <td>1.989833</td>\n",
       "      <td>0.344530</td>\n",
       "      <td>1.566297</td>\n",
       "      <td>...</td>\n",
       "      <td>4.105282</td>\n",
       "      <td>0.267826</td>\n",
       "      <td>0.378718</td>\n",
       "      <td>1.743123</td>\n",
       "      <td>3.406367</td>\n",
       "      <td>4.350537</td>\n",
       "      <td>-0.352571</td>\n",
       "      <td>1.130032</td>\n",
       "      <td>2.227706</td>\n",
       "      <td>1000.0</td>\n",
       "    </tr>\n",
       "    <tr>\n",
       "      <th>1</th>\n",
       "      <td>1.0</td>\n",
       "      <td>1.708236</td>\n",
       "      <td>-0.319394</td>\n",
       "      <td>-1.241873</td>\n",
       "      <td>-0.887231</td>\n",
       "      <td>-0.871906</td>\n",
       "      <td>-0.005984</td>\n",
       "      <td>-0.001047</td>\n",
       "      <td>-1.038225</td>\n",
       "      <td>0.655748</td>\n",
       "      <td>...</td>\n",
       "      <td>-1.178141</td>\n",
       "      <td>-0.877361</td>\n",
       "      <td>-1.483769</td>\n",
       "      <td>-0.573682</td>\n",
       "      <td>-1.693781</td>\n",
       "      <td>-0.545062</td>\n",
       "      <td>-0.299118</td>\n",
       "      <td>-0.662942</td>\n",
       "      <td>-0.193019</td>\n",
       "      <td>750.0</td>\n",
       "    </tr>\n",
       "    <tr>\n",
       "      <th>2</th>\n",
       "      <td>0.0</td>\n",
       "      <td>-0.360693</td>\n",
       "      <td>1.794174</td>\n",
       "      <td>0.264738</td>\n",
       "      <td>-0.472273</td>\n",
       "      <td>-0.292344</td>\n",
       "      <td>-1.054221</td>\n",
       "      <td>-1.150495</td>\n",
       "      <td>1.423404</td>\n",
       "      <td>1.270098</td>\n",
       "      <td>...</td>\n",
       "      <td>-1.199511</td>\n",
       "      <td>0.539020</td>\n",
       "      <td>-1.590629</td>\n",
       "      <td>-0.573682</td>\n",
       "      <td>-0.543636</td>\n",
       "      <td>-0.937456</td>\n",
       "      <td>-0.300344</td>\n",
       "      <td>-0.523262</td>\n",
       "      <td>-1.506304</td>\n",
       "      <td>750.0</td>\n",
       "    </tr>\n",
       "    <tr>\n",
       "      <th>3</th>\n",
       "      <td>1.0</td>\n",
       "      <td>-0.377914</td>\n",
       "      <td>-0.103932</td>\n",
       "      <td>-0.649434</td>\n",
       "      <td>-2.125015</td>\n",
       "      <td>-1.643797</td>\n",
       "      <td>-0.005984</td>\n",
       "      <td>1.011112</td>\n",
       "      <td>-1.040340</td>\n",
       "      <td>-0.541991</td>\n",
       "      <td>...</td>\n",
       "      <td>0.463763</td>\n",
       "      <td>-0.006583</td>\n",
       "      <td>1.089122</td>\n",
       "      <td>-0.573682</td>\n",
       "      <td>-0.276348</td>\n",
       "      <td>-0.409272</td>\n",
       "      <td>-0.349926</td>\n",
       "      <td>-0.307123</td>\n",
       "      <td>0.529698</td>\n",
       "      <td>1250.0</td>\n",
       "    </tr>\n",
       "    <tr>\n",
       "      <th>4</th>\n",
       "      <td>0.0</td>\n",
       "      <td>-0.067436</td>\n",
       "      <td>-0.636762</td>\n",
       "      <td>-0.620166</td>\n",
       "      <td>-0.062551</td>\n",
       "      <td>1.588715</td>\n",
       "      <td>-0.005984</td>\n",
       "      <td>-0.595304</td>\n",
       "      <td>-1.238987</td>\n",
       "      <td>0.336844</td>\n",
       "      <td>...</td>\n",
       "      <td>-0.552837</td>\n",
       "      <td>-1.418494</td>\n",
       "      <td>-0.562982</td>\n",
       "      <td>1.743123</td>\n",
       "      <td>0.881802</td>\n",
       "      <td>0.002516</td>\n",
       "      <td>1.560950</td>\n",
       "      <td>-0.150760</td>\n",
       "      <td>-1.023889</td>\n",
       "      <td>750.0</td>\n",
       "    </tr>\n",
       "  </tbody>\n",
       "</table>\n",
       "<p>5 rows × 29 columns</p>\n",
       "</div>"
      ],
      "text/plain": [
       "   label        f0        f1        f2        f3        f4        f5  \\\n",
       "0    1.0 -0.346368  0.416306  0.999236  0.475342  0.427493 -0.005984   \n",
       "1    1.0  1.708236 -0.319394 -1.241873 -0.887231 -0.871906 -0.005984   \n",
       "2    0.0 -0.360693  1.794174  0.264738 -0.472273 -0.292344 -1.054221   \n",
       "3    1.0 -0.377914 -0.103932 -0.649434 -2.125015 -1.643797 -0.005984   \n",
       "4    0.0 -0.067436 -0.636762 -0.620166 -0.062551  1.588715 -0.005984   \n",
       "\n",
       "         f6        f7        f8  ...       f18       f19       f20       f21  \\\n",
       "0  1.989833  0.344530  1.566297  ...  4.105282  0.267826  0.378718  1.743123   \n",
       "1 -0.001047 -1.038225  0.655748  ... -1.178141 -0.877361 -1.483769 -0.573682   \n",
       "2 -1.150495  1.423404  1.270098  ... -1.199511  0.539020 -1.590629 -0.573682   \n",
       "3  1.011112 -1.040340 -0.541991  ...  0.463763 -0.006583  1.089122 -0.573682   \n",
       "4 -0.595304 -1.238987  0.336844  ... -0.552837 -1.418494 -0.562982  1.743123   \n",
       "\n",
       "        f22       f23       f24       f25       f26    mass  \n",
       "0  3.406367  4.350537 -0.352571  1.130032  2.227706  1000.0  \n",
       "1 -1.693781 -0.545062 -0.299118 -0.662942 -0.193019   750.0  \n",
       "2 -0.543636 -0.937456 -0.300344 -0.523262 -1.506304   750.0  \n",
       "3 -0.276348 -0.409272 -0.349926 -0.307123  0.529698  1250.0  \n",
       "4  0.881802  0.002516  1.560950 -0.150760 -1.023889   750.0  \n",
       "\n",
       "[5 rows x 29 columns]"
      ]
     },
     "execution_count": 8,
     "metadata": {},
     "output_type": "execute_result"
    }
   ],
   "source": [
    "df.rename(columns={ df.columns[0]: \"label\" }, inplace = True)\n",
    "df.head()"
   ]
  },
  {
   "cell_type": "code",
   "execution_count": 9,
   "id": "c8ad34bd",
   "metadata": {},
   "outputs": [],
   "source": [
    "X = df.drop([\"label\"], axis=1)\n",
    "y = df[\"label\"].values"
   ]
  },
  {
   "cell_type": "code",
   "execution_count": 22,
   "id": "db774898",
   "metadata": {},
   "outputs": [],
   "source": [
    "from sklearn.model_selection import train_test_split\n",
    "X_train, X_test, y_train, y_test = train_test_split(X, y, test_size=0.20,random_state=4)"
   ]
  },
  {
   "cell_type": "code",
   "execution_count": 27,
   "id": "6131f371",
   "metadata": {},
   "outputs": [],
   "source": [
    "import tensorflow as tf\n",
    "from tensorflow.keras import regularizers\n",
    "\n",
    "model = tf.keras.Sequential([\n",
    "    tf.keras.layers.Dense(64, activation='tanh', input_shape=(28,),kernel_regularizer=regularizers.l2(0.00001)),\n",
    "    tf.keras.layers.Dense(128, activation='relu',kernel_regularizer=regularizers.l2(0.00001)),\n",
    "    tf.keras.layers.Dense(256, activation='elu',kernel_regularizer=regularizers.l2(0.00001)),\n",
    "    tf.keras.layers.Dense(128, activation='tanh',kernel_regularizer=regularizers.l2(0.00001)),\n",
    "    tf.keras.layers.Dense(64, activation='relu',kernel_regularizer=regularizers.l2(0.00001)),\n",
    "    tf.keras.layers.Dense(1, activation='sigmoid')   \n",
    "])\n",
    "\n"
   ]
  },
  {
   "cell_type": "code",
   "execution_count": 28,
   "id": "44109387",
   "metadata": {},
   "outputs": [],
   "source": [
    "model.compile(optimizer='adam',\n",
    "              loss=\"binary_crossentropy\",\n",
    "              metrics=['accuracy'])"
   ]
  },
  {
   "cell_type": "code",
   "execution_count": 29,
   "id": "3d5a2d01",
   "metadata": {},
   "outputs": [],
   "source": [
    "from tensorflow.keras.callbacks import EarlyStopping\n",
    "es = EarlyStopping(patience=7)"
   ]
  },
  {
   "cell_type": "code",
   "execution_count": 30,
   "id": "99dc39c5",
   "metadata": {
    "scrolled": true
   },
   "outputs": [
    {
     "name": "stdout",
     "output_type": "stream",
     "text": [
      "Epoch 1/10\n"
     ]
    },
    {
     "name": "stderr",
     "output_type": "stream",
     "text": [
      "2022-07-23 15:25:17.994084: I tensorflow/core/grappler/optimizers/custom_graph_optimizer_registry.cc:112] Plugin optimizer for device_type GPU is enabled.\n"
     ]
    },
    {
     "name": "stdout",
     "output_type": "stream",
     "text": [
      "1118/1120 [============================>.] - ETA: 0s - loss: 0.3494 - accuracy: 0.8330"
     ]
    },
    {
     "name": "stderr",
     "output_type": "stream",
     "text": [
      "2022-07-23 15:25:35.006693: I tensorflow/core/grappler/optimizers/custom_graph_optimizer_registry.cc:112] Plugin optimizer for device_type GPU is enabled.\n"
     ]
    },
    {
     "name": "stdout",
     "output_type": "stream",
     "text": [
      "1120/1120 [==============================] - 19s 16ms/step - loss: 0.3494 - accuracy: 0.8330 - val_loss: 0.3069 - val_accuracy: 0.8573\n",
      "Epoch 2/10\n",
      "1120/1120 [==============================] - 19s 17ms/step - loss: 0.2990 - accuracy: 0.8632 - val_loss: 0.2924 - val_accuracy: 0.8664\n",
      "Epoch 3/10\n",
      "1120/1120 [==============================] - 19s 17ms/step - loss: 0.2947 - accuracy: 0.8657 - val_loss: 0.3117 - val_accuracy: 0.8564\n",
      "Epoch 4/10\n",
      "1120/1120 [==============================] - 19s 17ms/step - loss: 0.2930 - accuracy: 0.8666 - val_loss: 0.2906 - val_accuracy: 0.8677\n",
      "Epoch 5/10\n",
      "1120/1120 [==============================] - 19s 17ms/step - loss: 0.2915 - accuracy: 0.8675 - val_loss: 0.2881 - val_accuracy: 0.8692\n",
      "Epoch 6/10\n",
      "1120/1120 [==============================] - 19s 17ms/step - loss: 0.2911 - accuracy: 0.8676 - val_loss: 0.2937 - val_accuracy: 0.8655\n",
      "Epoch 7/10\n",
      "1120/1120 [==============================] - 19s 17ms/step - loss: 0.2903 - accuracy: 0.8681 - val_loss: 0.2883 - val_accuracy: 0.8690\n",
      "Epoch 8/10\n",
      "1120/1120 [==============================] - 19s 17ms/step - loss: 0.2893 - accuracy: 0.8688 - val_loss: 0.2905 - val_accuracy: 0.8673\n",
      "Epoch 9/10\n",
      "1120/1120 [==============================] - 19s 17ms/step - loss: 0.2882 - accuracy: 0.8693 - val_loss: 0.2863 - val_accuracy: 0.8708\n",
      "Epoch 10/10\n",
      "1120/1120 [==============================] - 19s 17ms/step - loss: 0.2871 - accuracy: 0.8699 - val_loss: 0.2836 - val_accuracy: 0.8720\n"
     ]
    },
    {
     "data": {
      "text/plain": [
       "<tensorflow.python.keras.callbacks.History at 0x42c2c4670>"
      ]
     },
     "execution_count": 30,
     "metadata": {},
     "output_type": "execute_result"
    }
   ],
   "source": [
    "model.fit(X_train, y_train, epochs=10, validation_data=(X_test,y_test), batch_size=5000, callbacks=[es])"
   ]
  },
  {
   "cell_type": "code",
   "execution_count": null,
   "id": "dc3248f6",
   "metadata": {},
   "outputs": [],
   "source": []
  },
  {
   "cell_type": "code",
   "execution_count": 22,
   "id": "c49c0d8c",
   "metadata": {},
   "outputs": [],
   "source": [
    "from sklearn.model_selection import train_test_split\n",
    "X_train, X_test, y_train, y_test = train_test_split(X, y, test_size=0.20,random_state=4)"
   ]
  },
  {
   "cell_type": "code",
   "execution_count": 31,
   "id": "6f329d98",
   "metadata": {},
   "outputs": [],
   "source": [
    "import tensorflow as tf\n",
    "from tensorflow.keras import regularizers\n",
    "\n",
    "model = tf.keras.Sequential([\n",
    "    tf.keras.layers.Dense(64, activation='tanh', input_shape=(28,),kernel_regularizer=regularizers.l2(0.00001)),\n",
    "    tf.keras.layers.Dense(128, activation='relu',kernel_regularizer=regularizers.l2(0.00001)),\n",
    "    tf.keras.layers.Dense(256, activation='tanh',kernel_regularizer=regularizers.l2(0.00001)),\n",
    "    tf.keras.layers.Dense(256, activation='tanh',kernel_regularizer=regularizers.l2(0.00001)),\n",
    "    tf.keras.layers.Dense(64, activation='relu',kernel_regularizer=regularizers.l2(0.00001)),\n",
    "    tf.keras.layers.Dense(1, activation='sigmoid')   \n",
    "])\n",
    "\n"
   ]
  },
  {
   "cell_type": "code",
   "execution_count": 32,
   "id": "9c566bbe",
   "metadata": {},
   "outputs": [],
   "source": [
    "model.compile(optimizer='adam',\n",
    "              loss=\"binary_crossentropy\",\n",
    "              metrics=['accuracy'])"
   ]
  },
  {
   "cell_type": "code",
   "execution_count": 33,
   "id": "db601a5f",
   "metadata": {},
   "outputs": [],
   "source": [
    "from tensorflow.keras.callbacks import EarlyStopping\n",
    "es = EarlyStopping(patience=7)"
   ]
  },
  {
   "cell_type": "code",
   "execution_count": 34,
   "id": "7f8c5459",
   "metadata": {
    "scrolled": false
   },
   "outputs": [
    {
     "name": "stdout",
     "output_type": "stream",
     "text": [
      "Epoch 1/10\n"
     ]
    },
    {
     "name": "stderr",
     "output_type": "stream",
     "text": [
      "2022-07-23 15:30:28.348705: I tensorflow/core/grappler/optimizers/custom_graph_optimizer_registry.cc:112] Plugin optimizer for device_type GPU is enabled.\n"
     ]
    },
    {
     "name": "stdout",
     "output_type": "stream",
     "text": [
      "2800/2800 [==============================] - ETA: 0s - loss: 0.3275 - accuracy: 0.8468"
     ]
    },
    {
     "name": "stderr",
     "output_type": "stream",
     "text": [
      "2022-07-23 15:30:50.892474: I tensorflow/core/grappler/optimizers/custom_graph_optimizer_registry.cc:112] Plugin optimizer for device_type GPU is enabled.\n"
     ]
    },
    {
     "name": "stdout",
     "output_type": "stream",
     "text": [
      "2800/2800 [==============================] - 25s 9ms/step - loss: 0.3275 - accuracy: 0.8468 - val_loss: 0.2988 - val_accuracy: 0.8626\n",
      "Epoch 2/10\n",
      "2800/2800 [==============================] - 24s 9ms/step - loss: 0.2996 - accuracy: 0.8630 - val_loss: 0.2991 - val_accuracy: 0.8640\n",
      "Epoch 3/10\n",
      "2800/2800 [==============================] - 24s 8ms/step - loss: 0.2948 - accuracy: 0.8658 - val_loss: 0.2954 - val_accuracy: 0.8659\n",
      "Epoch 4/10\n",
      "2800/2800 [==============================] - 24s 8ms/step - loss: 0.2930 - accuracy: 0.8665 - val_loss: 0.2924 - val_accuracy: 0.8671\n",
      "Epoch 5/10\n",
      "2800/2800 [==============================] - 24s 9ms/step - loss: 0.2911 - accuracy: 0.8678 - val_loss: 0.2934 - val_accuracy: 0.8665\n",
      "Epoch 6/10\n",
      "2800/2800 [==============================] - 24s 9ms/step - loss: 0.2907 - accuracy: 0.8681 - val_loss: 0.3027 - val_accuracy: 0.8632\n",
      "Epoch 7/10\n",
      "2800/2800 [==============================] - 24s 9ms/step - loss: 0.2899 - accuracy: 0.8683 - val_loss: 0.2865 - val_accuracy: 0.8703\n",
      "Epoch 8/10\n",
      "2800/2800 [==============================] - 24s 9ms/step - loss: 0.2890 - accuracy: 0.8689 - val_loss: 0.2856 - val_accuracy: 0.8705\n",
      "Epoch 9/10\n",
      "2800/2800 [==============================] - 24s 9ms/step - loss: 0.2888 - accuracy: 0.8690 - val_loss: 0.2962 - val_accuracy: 0.8649\n",
      "Epoch 10/10\n",
      "2800/2800 [==============================] - 24s 9ms/step - loss: 0.2885 - accuracy: 0.8692 - val_loss: 0.2871 - val_accuracy: 0.8698\n"
     ]
    },
    {
     "data": {
      "text/plain": [
       "<tensorflow.python.keras.callbacks.History at 0x43c791ee0>"
      ]
     },
     "execution_count": 34,
     "metadata": {},
     "output_type": "execute_result"
    }
   ],
   "source": [
    "model.fit(X_train, y_train, epochs=10, validation_data=(X_test,y_test), batch_size=2000, callbacks=[es])"
   ]
  },
  {
   "cell_type": "code",
   "execution_count": null,
   "id": "f91038ee",
   "metadata": {},
   "outputs": [],
   "source": []
  },
  {
   "cell_type": "code",
   "execution_count": null,
   "id": "7f315f52",
   "metadata": {},
   "outputs": [],
   "source": []
  },
  {
   "cell_type": "code",
   "execution_count": 47,
   "id": "926dffdd",
   "metadata": {},
   "outputs": [],
   "source": [
    "import tensorflow as tf\n",
    "from tensorflow.keras import regularizers\n",
    "\n",
    "model = tf.keras.Sequential([\n",
    "    tf.keras.layers.Dense(64, activation='tanh', input_shape=(28,),kernel_regularizer=regularizers.l2(0.00001)),\n",
    "    tf.keras.layers.Dense(128, activation='relu'),\n",
    "    tf.keras.layers.Dense(256, activation='relu'),\n",
    "    tf.keras.layers.Dense(256, activation='relu'),\n",
    "    tf.keras.layers.Dense(64, activation='relu'),\n",
    "    tf.keras.layers.Dense(1, activation='sigmoid')   \n",
    "])\n",
    "\n"
   ]
  },
  {
   "cell_type": "code",
   "execution_count": 48,
   "id": "041dcad9",
   "metadata": {},
   "outputs": [],
   "source": [
    "model.compile(optimizer='adam',\n",
    "              loss=\"binary_crossentropy\",\n",
    "              metrics=['accuracy'])"
   ]
  },
  {
   "cell_type": "code",
   "execution_count": 49,
   "id": "07d7bbb4",
   "metadata": {},
   "outputs": [],
   "source": [
    "from tensorflow.keras.callbacks import EarlyStopping\n",
    "es = EarlyStopping(patience=7)"
   ]
  },
  {
   "cell_type": "code",
   "execution_count": 50,
   "id": "62ee4bc0",
   "metadata": {
    "scrolled": false
   },
   "outputs": [
    {
     "name": "stdout",
     "output_type": "stream",
     "text": [
      "Epoch 1/10\n"
     ]
    },
    {
     "name": "stderr",
     "output_type": "stream",
     "text": [
      "2022-07-23 15:52:45.065252: I tensorflow/core/grappler/optimizers/custom_graph_optimizer_registry.cc:112] Plugin optimizer for device_type GPU is enabled.\n"
     ]
    },
    {
     "name": "stdout",
     "output_type": "stream",
     "text": [
      "2233/2240 [============================>.] - ETA: 0s - loss: 0.3288 - accuracy: 0.8410"
     ]
    },
    {
     "name": "stderr",
     "output_type": "stream",
     "text": [
      "2022-07-23 15:53:00.099458: I tensorflow/core/grappler/optimizers/custom_graph_optimizer_registry.cc:112] Plugin optimizer for device_type GPU is enabled.\n"
     ]
    },
    {
     "name": "stdout",
     "output_type": "stream",
     "text": [
      "2240/2240 [==============================] - 17s 7ms/step - loss: 0.3287 - accuracy: 0.8410 - val_loss: 0.3049 - val_accuracy: 0.8586\n",
      "Epoch 2/10\n",
      "2240/2240 [==============================] - 16s 7ms/step - loss: 0.2962 - accuracy: 0.8627 - val_loss: 0.2905 - val_accuracy: 0.8656\n",
      "Epoch 3/10\n",
      "2240/2240 [==============================] - 16s 7ms/step - loss: 0.2927 - accuracy: 0.8649 - val_loss: 0.2905 - val_accuracy: 0.8660\n",
      "Epoch 4/10\n",
      "2240/2240 [==============================] - 16s 7ms/step - loss: 0.2907 - accuracy: 0.8663 - val_loss: 0.2876 - val_accuracy: 0.8677\n",
      "Epoch 5/10\n",
      "2240/2240 [==============================] - 16s 7ms/step - loss: 0.2894 - accuracy: 0.8671 - val_loss: 0.3001 - val_accuracy: 0.8626\n",
      "Epoch 6/10\n",
      "2240/2240 [==============================] - 16s 7ms/step - loss: 0.2887 - accuracy: 0.8676 - val_loss: 0.2872 - val_accuracy: 0.8672\n",
      "Epoch 7/10\n",
      "2240/2240 [==============================] - 16s 7ms/step - loss: 0.2885 - accuracy: 0.8676 - val_loss: 0.2927 - val_accuracy: 0.8656\n",
      "Epoch 8/10\n",
      "2240/2240 [==============================] - 16s 7ms/step - loss: 0.2878 - accuracy: 0.8680 - val_loss: 0.2829 - val_accuracy: 0.8704\n",
      "Epoch 9/10\n",
      "2240/2240 [==============================] - 16s 7ms/step - loss: 0.2874 - accuracy: 0.8684 - val_loss: 0.2899 - val_accuracy: 0.8671\n",
      "Epoch 10/10\n",
      "2240/2240 [==============================] - 16s 7ms/step - loss: 0.2874 - accuracy: 0.8684 - val_loss: 0.2855 - val_accuracy: 0.8695\n"
     ]
    },
    {
     "data": {
      "text/plain": [
       "<tensorflow.python.keras.callbacks.History at 0x4526cf250>"
      ]
     },
     "execution_count": 50,
     "metadata": {},
     "output_type": "execute_result"
    }
   ],
   "source": [
    "model.fit(X_train, y_train, epochs=10, validation_data=(X_test,y_test), batch_size=2500, callbacks=[es])"
   ]
  },
  {
   "cell_type": "code",
   "execution_count": null,
   "id": "fbb89bb9",
   "metadata": {},
   "outputs": [],
   "source": []
  },
  {
   "cell_type": "code",
   "execution_count": null,
   "id": "c60ec7a0",
   "metadata": {},
   "outputs": [],
   "source": []
  },
  {
   "cell_type": "code",
   "execution_count": null,
   "id": "e515a530",
   "metadata": {},
   "outputs": [],
   "source": []
  }
 ],
 "metadata": {
  "kernelspec": {
   "display_name": "Python [conda env:tensorflow] *",
   "language": "python",
   "name": "conda-env-tensorflow-py"
  },
  "language_info": {
   "codemirror_mode": {
    "name": "ipython",
    "version": 3
   },
   "file_extension": ".py",
   "mimetype": "text/x-python",
   "name": "python",
   "nbconvert_exporter": "python",
   "pygments_lexer": "ipython3",
   "version": "3.9.7"
  }
 },
 "nbformat": 4,
 "nbformat_minor": 5
}
