{
 "cells": [
  {
   "cell_type": "code",
   "execution_count": 1,
   "id": "f0b42fa7",
   "metadata": {},
   "outputs": [],
   "source": [
    "import matplotlib.pyplot as plt\n",
    "import seaborn as sns\n",
    "import numpy as np\n",
    "import pandas as pd\n",
    "from datetime import date\n",
    "import sklearn"
   ]
  },
  {
   "cell_type": "code",
   "execution_count": 2,
   "id": "110b6be1",
   "metadata": {},
   "outputs": [],
   "source": [
    "df = pd.read_csv(r\"C:\\Users\\drsco\\Documents\\GitHub\\QTW\\qtw\\case study 6\\all_train.csv.gz\", compression='gzip', \n",
    "                                 header=0, sep=',', quotechar='\"')"
   ]
  },
  {
   "cell_type": "code",
   "execution_count": 3,
   "id": "a1476343",
   "metadata": {},
   "outputs": [
    {
     "data": {
      "text/html": [
       "<div>\n",
       "<style scoped>\n",
       "    .dataframe tbody tr th:only-of-type {\n",
       "        vertical-align: middle;\n",
       "    }\n",
       "\n",
       "    .dataframe tbody tr th {\n",
       "        vertical-align: top;\n",
       "    }\n",
       "\n",
       "    .dataframe thead th {\n",
       "        text-align: right;\n",
       "    }\n",
       "</style>\n",
       "<table border=\"1\" class=\"dataframe\">\n",
       "  <thead>\n",
       "    <tr style=\"text-align: right;\">\n",
       "      <th></th>\n",
       "      <th># label</th>\n",
       "      <th>f0</th>\n",
       "      <th>f1</th>\n",
       "      <th>f2</th>\n",
       "      <th>f3</th>\n",
       "      <th>f4</th>\n",
       "      <th>f5</th>\n",
       "      <th>f6</th>\n",
       "      <th>f7</th>\n",
       "      <th>f8</th>\n",
       "      <th>...</th>\n",
       "      <th>f18</th>\n",
       "      <th>f19</th>\n",
       "      <th>f20</th>\n",
       "      <th>f21</th>\n",
       "      <th>f22</th>\n",
       "      <th>f23</th>\n",
       "      <th>f24</th>\n",
       "      <th>f25</th>\n",
       "      <th>f26</th>\n",
       "      <th>mass</th>\n",
       "    </tr>\n",
       "  </thead>\n",
       "  <tbody>\n",
       "    <tr>\n",
       "      <th>0</th>\n",
       "      <td>1.0</td>\n",
       "      <td>-0.346368</td>\n",
       "      <td>0.416306</td>\n",
       "      <td>0.999236</td>\n",
       "      <td>0.475342</td>\n",
       "      <td>0.427493</td>\n",
       "      <td>-0.005984</td>\n",
       "      <td>1.989833</td>\n",
       "      <td>0.344530</td>\n",
       "      <td>1.566297</td>\n",
       "      <td>...</td>\n",
       "      <td>4.105282</td>\n",
       "      <td>0.267826</td>\n",
       "      <td>0.378718</td>\n",
       "      <td>1.743123</td>\n",
       "      <td>3.406367</td>\n",
       "      <td>4.350537</td>\n",
       "      <td>-0.352571</td>\n",
       "      <td>1.130032</td>\n",
       "      <td>2.227706</td>\n",
       "      <td>1000.000000</td>\n",
       "    </tr>\n",
       "    <tr>\n",
       "      <th>1</th>\n",
       "      <td>1.0</td>\n",
       "      <td>1.708236</td>\n",
       "      <td>-0.319394</td>\n",
       "      <td>-1.241873</td>\n",
       "      <td>-0.887231</td>\n",
       "      <td>-0.871906</td>\n",
       "      <td>-0.005984</td>\n",
       "      <td>-0.001047</td>\n",
       "      <td>-1.038225</td>\n",
       "      <td>0.655748</td>\n",
       "      <td>...</td>\n",
       "      <td>-1.178141</td>\n",
       "      <td>-0.877361</td>\n",
       "      <td>-1.483769</td>\n",
       "      <td>-0.573682</td>\n",
       "      <td>-1.693781</td>\n",
       "      <td>-0.545062</td>\n",
       "      <td>-0.299118</td>\n",
       "      <td>-0.662942</td>\n",
       "      <td>-0.193019</td>\n",
       "      <td>750.000000</td>\n",
       "    </tr>\n",
       "    <tr>\n",
       "      <th>2</th>\n",
       "      <td>0.0</td>\n",
       "      <td>-0.360693</td>\n",
       "      <td>1.794174</td>\n",
       "      <td>0.264738</td>\n",
       "      <td>-0.472273</td>\n",
       "      <td>-0.292344</td>\n",
       "      <td>-1.054221</td>\n",
       "      <td>-1.150495</td>\n",
       "      <td>1.423404</td>\n",
       "      <td>1.270098</td>\n",
       "      <td>...</td>\n",
       "      <td>-1.199511</td>\n",
       "      <td>0.539020</td>\n",
       "      <td>-1.590629</td>\n",
       "      <td>-0.573682</td>\n",
       "      <td>-0.543636</td>\n",
       "      <td>-0.937456</td>\n",
       "      <td>-0.300344</td>\n",
       "      <td>-0.523262</td>\n",
       "      <td>-1.506304</td>\n",
       "      <td>750.000000</td>\n",
       "    </tr>\n",
       "    <tr>\n",
       "      <th>3</th>\n",
       "      <td>1.0</td>\n",
       "      <td>-0.377914</td>\n",
       "      <td>-0.103932</td>\n",
       "      <td>-0.649434</td>\n",
       "      <td>-2.125015</td>\n",
       "      <td>-1.643797</td>\n",
       "      <td>-0.005984</td>\n",
       "      <td>1.011112</td>\n",
       "      <td>-1.040340</td>\n",
       "      <td>-0.541991</td>\n",
       "      <td>...</td>\n",
       "      <td>0.463763</td>\n",
       "      <td>-0.006583</td>\n",
       "      <td>1.089122</td>\n",
       "      <td>-0.573682</td>\n",
       "      <td>-0.276348</td>\n",
       "      <td>-0.409272</td>\n",
       "      <td>-0.349926</td>\n",
       "      <td>-0.307123</td>\n",
       "      <td>0.529698</td>\n",
       "      <td>1250.000000</td>\n",
       "    </tr>\n",
       "    <tr>\n",
       "      <th>4</th>\n",
       "      <td>0.0</td>\n",
       "      <td>-0.067436</td>\n",
       "      <td>-0.636762</td>\n",
       "      <td>-0.620166</td>\n",
       "      <td>-0.062551</td>\n",
       "      <td>1.588715</td>\n",
       "      <td>-0.005984</td>\n",
       "      <td>-0.595304</td>\n",
       "      <td>-1.238987</td>\n",
       "      <td>0.336844</td>\n",
       "      <td>...</td>\n",
       "      <td>-0.552837</td>\n",
       "      <td>-1.418494</td>\n",
       "      <td>-0.562982</td>\n",
       "      <td>1.743123</td>\n",
       "      <td>0.881802</td>\n",
       "      <td>0.002516</td>\n",
       "      <td>1.560950</td>\n",
       "      <td>-0.150760</td>\n",
       "      <td>-1.023889</td>\n",
       "      <td>750.000000</td>\n",
       "    </tr>\n",
       "    <tr>\n",
       "      <th>...</th>\n",
       "      <td>...</td>\n",
       "      <td>...</td>\n",
       "      <td>...</td>\n",
       "      <td>...</td>\n",
       "      <td>...</td>\n",
       "      <td>...</td>\n",
       "      <td>...</td>\n",
       "      <td>...</td>\n",
       "      <td>...</td>\n",
       "      <td>...</td>\n",
       "      <td>...</td>\n",
       "      <td>...</td>\n",
       "      <td>...</td>\n",
       "      <td>...</td>\n",
       "      <td>...</td>\n",
       "      <td>...</td>\n",
       "      <td>...</td>\n",
       "      <td>...</td>\n",
       "      <td>...</td>\n",
       "      <td>...</td>\n",
       "      <td>...</td>\n",
       "    </tr>\n",
       "    <tr>\n",
       "      <th>6999995</th>\n",
       "      <td>0.0</td>\n",
       "      <td>1.617264</td>\n",
       "      <td>-0.537084</td>\n",
       "      <td>-1.275867</td>\n",
       "      <td>0.650799</td>\n",
       "      <td>-1.511621</td>\n",
       "      <td>0.850488</td>\n",
       "      <td>0.596391</td>\n",
       "      <td>-0.054678</td>\n",
       "      <td>0.728849</td>\n",
       "      <td>...</td>\n",
       "      <td>0.664328</td>\n",
       "      <td>-0.960709</td>\n",
       "      <td>-0.894011</td>\n",
       "      <td>1.743123</td>\n",
       "      <td>-0.426198</td>\n",
       "      <td>-0.324286</td>\n",
       "      <td>-0.432739</td>\n",
       "      <td>1.340297</td>\n",
       "      <td>0.267774</td>\n",
       "      <td>750.000000</td>\n",
       "    </tr>\n",
       "    <tr>\n",
       "      <th>6999996</th>\n",
       "      <td>0.0</td>\n",
       "      <td>-0.511357</td>\n",
       "      <td>0.270927</td>\n",
       "      <td>0.085989</td>\n",
       "      <td>-0.243802</td>\n",
       "      <td>-1.035668</td>\n",
       "      <td>-0.005984</td>\n",
       "      <td>-0.127219</td>\n",
       "      <td>0.721426</td>\n",
       "      <td>1.404479</td>\n",
       "      <td>...</td>\n",
       "      <td>-1.015462</td>\n",
       "      <td>1.367217</td>\n",
       "      <td>-1.053815</td>\n",
       "      <td>-0.573682</td>\n",
       "      <td>-1.907798</td>\n",
       "      <td>0.194661</td>\n",
       "      <td>-0.190621</td>\n",
       "      <td>0.027776</td>\n",
       "      <td>-0.316018</td>\n",
       "      <td>1250.000000</td>\n",
       "    </tr>\n",
       "    <tr>\n",
       "      <th>6999997</th>\n",
       "      <td>1.0</td>\n",
       "      <td>0.062408</td>\n",
       "      <td>-0.987203</td>\n",
       "      <td>0.570667</td>\n",
       "      <td>1.517195</td>\n",
       "      <td>0.639548</td>\n",
       "      <td>-1.054221</td>\n",
       "      <td>1.115239</td>\n",
       "      <td>1.261928</td>\n",
       "      <td>-1.009308</td>\n",
       "      <td>...</td>\n",
       "      <td>0.790842</td>\n",
       "      <td>0.892545</td>\n",
       "      <td>-0.192816</td>\n",
       "      <td>-0.573682</td>\n",
       "      <td>0.973622</td>\n",
       "      <td>1.034964</td>\n",
       "      <td>-0.340661</td>\n",
       "      <td>-0.181193</td>\n",
       "      <td>1.877042</td>\n",
       "      <td>1500.000000</td>\n",
       "    </tr>\n",
       "    <tr>\n",
       "      <th>6999998</th>\n",
       "      <td>1.0</td>\n",
       "      <td>1.659131</td>\n",
       "      <td>1.096223</td>\n",
       "      <td>0.562821</td>\n",
       "      <td>1.627193</td>\n",
       "      <td>0.767236</td>\n",
       "      <td>-1.054221</td>\n",
       "      <td>1.079999</td>\n",
       "      <td>0.155488</td>\n",
       "      <td>-1.412207</td>\n",
       "      <td>...</td>\n",
       "      <td>-0.671423</td>\n",
       "      <td>-0.308908</td>\n",
       "      <td>-0.568336</td>\n",
       "      <td>-0.573682</td>\n",
       "      <td>1.043119</td>\n",
       "      <td>1.270350</td>\n",
       "      <td>0.217405</td>\n",
       "      <td>0.120213</td>\n",
       "      <td>1.073020</td>\n",
       "      <td>1500.000000</td>\n",
       "    </tr>\n",
       "    <tr>\n",
       "      <th>6999999</th>\n",
       "      <td>1.0</td>\n",
       "      <td>0.002034</td>\n",
       "      <td>0.744152</td>\n",
       "      <td>-0.908839</td>\n",
       "      <td>-0.770454</td>\n",
       "      <td>1.008405</td>\n",
       "      <td>-1.054221</td>\n",
       "      <td>-0.370155</td>\n",
       "      <td>0.296837</td>\n",
       "      <td>-1.492524</td>\n",
       "      <td>...</td>\n",
       "      <td>0.352893</td>\n",
       "      <td>0.671047</td>\n",
       "      <td>0.176512</td>\n",
       "      <td>-0.573682</td>\n",
       "      <td>0.314739</td>\n",
       "      <td>0.304983</td>\n",
       "      <td>0.425471</td>\n",
       "      <td>-0.612085</td>\n",
       "      <td>-0.925097</td>\n",
       "      <td>499.999969</td>\n",
       "    </tr>\n",
       "  </tbody>\n",
       "</table>\n",
       "<p>7000000 rows × 29 columns</p>\n",
       "</div>"
      ],
      "text/plain": [
       "         # label        f0        f1        f2        f3        f4        f5  \\\n",
       "0            1.0 -0.346368  0.416306  0.999236  0.475342  0.427493 -0.005984   \n",
       "1            1.0  1.708236 -0.319394 -1.241873 -0.887231 -0.871906 -0.005984   \n",
       "2            0.0 -0.360693  1.794174  0.264738 -0.472273 -0.292344 -1.054221   \n",
       "3            1.0 -0.377914 -0.103932 -0.649434 -2.125015 -1.643797 -0.005984   \n",
       "4            0.0 -0.067436 -0.636762 -0.620166 -0.062551  1.588715 -0.005984   \n",
       "...          ...       ...       ...       ...       ...       ...       ...   \n",
       "6999995      0.0  1.617264 -0.537084 -1.275867  0.650799 -1.511621  0.850488   \n",
       "6999996      0.0 -0.511357  0.270927  0.085989 -0.243802 -1.035668 -0.005984   \n",
       "6999997      1.0  0.062408 -0.987203  0.570667  1.517195  0.639548 -1.054221   \n",
       "6999998      1.0  1.659131  1.096223  0.562821  1.627193  0.767236 -1.054221   \n",
       "6999999      1.0  0.002034  0.744152 -0.908839 -0.770454  1.008405 -1.054221   \n",
       "\n",
       "               f6        f7        f8  ...       f18       f19       f20  \\\n",
       "0        1.989833  0.344530  1.566297  ...  4.105282  0.267826  0.378718   \n",
       "1       -0.001047 -1.038225  0.655748  ... -1.178141 -0.877361 -1.483769   \n",
       "2       -1.150495  1.423404  1.270098  ... -1.199511  0.539020 -1.590629   \n",
       "3        1.011112 -1.040340 -0.541991  ...  0.463763 -0.006583  1.089122   \n",
       "4       -0.595304 -1.238987  0.336844  ... -0.552837 -1.418494 -0.562982   \n",
       "...           ...       ...       ...  ...       ...       ...       ...   \n",
       "6999995  0.596391 -0.054678  0.728849  ...  0.664328 -0.960709 -0.894011   \n",
       "6999996 -0.127219  0.721426  1.404479  ... -1.015462  1.367217 -1.053815   \n",
       "6999997  1.115239  1.261928 -1.009308  ...  0.790842  0.892545 -0.192816   \n",
       "6999998  1.079999  0.155488 -1.412207  ... -0.671423 -0.308908 -0.568336   \n",
       "6999999 -0.370155  0.296837 -1.492524  ...  0.352893  0.671047  0.176512   \n",
       "\n",
       "              f21       f22       f23       f24       f25       f26  \\\n",
       "0        1.743123  3.406367  4.350537 -0.352571  1.130032  2.227706   \n",
       "1       -0.573682 -1.693781 -0.545062 -0.299118 -0.662942 -0.193019   \n",
       "2       -0.573682 -0.543636 -0.937456 -0.300344 -0.523262 -1.506304   \n",
       "3       -0.573682 -0.276348 -0.409272 -0.349926 -0.307123  0.529698   \n",
       "4        1.743123  0.881802  0.002516  1.560950 -0.150760 -1.023889   \n",
       "...           ...       ...       ...       ...       ...       ...   \n",
       "6999995  1.743123 -0.426198 -0.324286 -0.432739  1.340297  0.267774   \n",
       "6999996 -0.573682 -1.907798  0.194661 -0.190621  0.027776 -0.316018   \n",
       "6999997 -0.573682  0.973622  1.034964 -0.340661 -0.181193  1.877042   \n",
       "6999998 -0.573682  1.043119  1.270350  0.217405  0.120213  1.073020   \n",
       "6999999 -0.573682  0.314739  0.304983  0.425471 -0.612085 -0.925097   \n",
       "\n",
       "                mass  \n",
       "0        1000.000000  \n",
       "1         750.000000  \n",
       "2         750.000000  \n",
       "3        1250.000000  \n",
       "4         750.000000  \n",
       "...              ...  \n",
       "6999995   750.000000  \n",
       "6999996  1250.000000  \n",
       "6999997  1500.000000  \n",
       "6999998  1500.000000  \n",
       "6999999   499.999969  \n",
       "\n",
       "[7000000 rows x 29 columns]"
      ]
     },
     "execution_count": 3,
     "metadata": {},
     "output_type": "execute_result"
    }
   ],
   "source": [
    "df"
   ]
  },
  {
   "cell_type": "code",
   "execution_count": 4,
   "id": "5b577891",
   "metadata": {},
   "outputs": [
    {
     "data": {
      "image/png": "[encoded data removed]",
      "text/plain": [
       "<Figure size 432x288 with 1 Axes>"
      ]
     },
     "metadata": {
      "needs_background": "light"
     },
     "output_type": "display_data"
    },
    {
     "data": {
      "image/png": "[encoded data removed]",
      "text/plain": [
       "<Figure size 432x288 with 1 Axes>"
      ]
     },
     "metadata": {
      "needs_background": "light"
     },
     "output_type": "display_data"
    },
    {
     "data": {
      "image/png": "[encoded data removed]",
      "text/plain": [
       "<Figure size 432x288 with 1 Axes>"
      ]
     },
     "metadata": {
      "needs_background": "light"
     },
     "output_type": "display_data"
    },
    {
     "data": {
      "image/png": "[encoded data removed]",
      "text/plain": [
       "<Figure size 432x288 with 1 Axes>"
      ]
     },
     "metadata": {
      "needs_background": "light"
     },
     "output_type": "display_data"
    },
    {
     "data": {
      "image/png": "[encoded data removed]",
      "text/plain": [
       "<Figure size 432x288 with 1 Axes>"
      ]
     },
     "metadata": {
      "needs_background": "light"
     },
     "output_type": "display_data"
    },
    {
     "data": {
      "image/png": "[encoded data removed]",
      "text/plain": [
       "<Figure size 432x288 with 1 Axes>"
      ]
     },
     "metadata": {
      "needs_background": "light"
     },
     "output_type": "display_data"
    },
    {
     "data": {
      "image/png": "[encoded data removed]",
      "text/plain": [
       "<Figure size 432x288 with 1 Axes>"
      ]
     },
     "metadata": {
      "needs_background": "light"
     },
     "output_type": "display_data"
    },
    {
     "data": {
      "image/png": "[encoded data removed]",
      "text/plain": [
       "<Figure size 432x288 with 1 Axes>"
      ]
     },
     "metadata": {
      "needs_background": "light"
     },
     "output_type": "display_data"
    },
    {
     "data": {
      "image/png": "[encoded data removed]",
      "text/plain": [
       "<Figure size 432x288 with 1 Axes>"
      ]
     },
     "metadata": {
      "needs_background": "light"
     },
     "output_type": "display_data"
    },
    {
     "data": {
      "image/png": "[encoded data removed]",
      "text/plain": [
       "<Figure size 432x288 with 1 Axes>"
      ]
     },
     "metadata": {
      "needs_background": "light"
     },
     "output_type": "display_data"
    },
    {
     "data": {
      "image/png": "[encoded data removed]",
      "text/plain": [
       "<Figure size 432x288 with 1 Axes>"
      ]
     },
     "metadata": {
      "needs_background": "light"
     },
     "output_type": "display_data"
    },
    {
     "data": {
      "image/png": "[encoded data removed]",
      "text/plain": [
       "<Figure size 432x288 with 1 Axes>"
      ]
     },
     "metadata": {
      "needs_background": "light"
     },
     "output_type": "display_data"
    },
    {
     "data": {
      "image/png": "[encoded data removed]",
      "text/plain": [
       "<Figure size 432x288 with 1 Axes>"
      ]
     },
     "metadata": {
      "needs_background": "light"
     },
     "output_type": "display_data"
    },
    {
     "data": {
      "image/png": "[encoded data removed]",
      "text/plain": [
       "<Figure size 432x288 with 1 Axes>"
      ]
     },
     "metadata": {
      "needs_background": "light"
     },
     "output_type": "display_data"
    },
    {
     "data": {
      "image/png": "[encoded data removed]",
      "text/plain": [
       "<Figure size 432x288 with 1 Axes>"
      ]
     },
     "metadata": {
      "needs_background": "light"
     },
     "output_type": "display_data"
    },
    {
     "data": {
      "image/png": "[encoded data removed]",
      "text/plain": [
       "<Figure size 432x288 with 1 Axes>"
      ]
     },
     "metadata": {
      "needs_background": "light"
     },
     "output_type": "display_data"
    },
    {
     "data": {
      "image/png": "[encoded data removed]",
      "text/plain": [
       "<Figure size 432x288 with 1 Axes>"
      ]
     },
     "metadata": {
      "needs_background": "light"
     },
     "output_type": "display_data"
    },
    {
     "data": {
      "image/png": "[encoded data removed]",
      "text/plain": [
       "<Figure size 432x288 with 1 Axes>"
      ]
     },
     "metadata": {
      "needs_background": "light"
     },
     "output_type": "display_data"
    },
    {
     "data": {
      "image/png": "[encoded data removed]",
      "text/plain": [
       "<Figure size 432x288 with 1 Axes>"
      ]
     },
     "metadata": {
      "needs_background": "light"
     },
     "output_type": "display_data"
    },
    {
     "data": {
      "image/png": "[encoded data removed]",
      "text/plain": [
       "<Figure size 432x288 with 1 Axes>"
      ]
     },
     "metadata": {
      "needs_background": "light"
     },
     "output_type": "display_data"
    },
    {
     "data": {
      "image/png": "[encoded data removed]",
      "text/plain": [
       "<Figure size 432x288 with 1 Axes>"
      ]
     },
     "metadata": {
      "needs_background": "light"
     },
     "output_type": "display_data"
    },
    {
     "data": {
      "image/png": "[encoded data removed]",
      "text/plain": [
       "<Figure size 432x288 with 1 Axes>"
      ]
     },
     "metadata": {
      "needs_background": "light"
     },
     "output_type": "display_data"
    },
    {
     "data": {
      "image/png": "[encoded data removed]",
      "text/plain": [
       "<Figure size 432x288 with 1 Axes>"
      ]
     },
     "metadata": {
      "needs_background": "light"
     },
     "output_type": "display_data"
    },
    {
     "data": {
      "image/png": "[encoded data removed]",
      "text/plain": [
       "<Figure size 432x288 with 1 Axes>"
      ]
     },
     "metadata": {
      "needs_background": "light"
     },
     "output_type": "display_data"
    },
    {
     "data": {
      "image/png": "[encoded data removed]",
      "text/plain": [
       "<Figure size 432x288 with 1 Axes>"
      ]
     },
     "metadata": {
      "needs_background": "light"
     },
     "output_type": "display_data"
    },
    {
     "data": {
      "image/png": "[encoded data removed]",
      "text/plain": [
       "<Figure size 432x288 with 1 Axes>"
      ]
     },
     "metadata": {
      "needs_background": "light"
     },
     "output_type": "display_data"
    },
    {
     "data": {
      "image/png": "[encoded data removed]",
      "text/plain": [
       "<Figure size 432x288 with 1 Axes>"
      ]
     },
     "metadata": {
      "needs_background": "light"
     },
     "output_type": "display_data"
    },
    {
     "data": {
      "image/png": "[encoded data removed]",
      "text/plain": [
       "<Figure size 432x288 with 1 Axes>"
      ]
     },
     "metadata": {
      "needs_background": "light"
     },
     "output_type": "display_data"
    },
    {
     "data": {
      "image/png": "[encoded data removed]",
      "text/plain": [
       "<Figure size 432x288 with 1 Axes>"
      ]
     },
     "metadata": {
      "needs_background": "light"
     },
     "output_type": "display_data"
    }
   ],
   "source": [
    "for i in df:\n",
    "    df[i].hist()\n",
    "    plt.title(i)\n",
    "    plt.show()"
   ]
  },
  {
   "cell_type": "code",
   "execution_count": 5,
   "id": "4ad7203a",
   "metadata": {},
   "outputs": [
    {
     "data": {
      "text/html": [
       "<div>\n",
       "<style scoped>\n",
       "    .dataframe tbody tr th:only-of-type {\n",
       "        vertical-align: middle;\n",
       "    }\n",
       "\n",
       "    .dataframe tbody tr th {\n",
       "        vertical-align: top;\n",
       "    }\n",
       "\n",
       "    .dataframe thead th {\n",
       "        text-align: right;\n",
       "    }\n",
       "</style>\n",
       "<table border=\"1\" class=\"dataframe\">\n",
       "  <thead>\n",
       "    <tr style=\"text-align: right;\">\n",
       "      <th></th>\n",
       "      <th>label</th>\n",
       "      <th>f0</th>\n",
       "      <th>f1</th>\n",
       "      <th>f2</th>\n",
       "      <th>f3</th>\n",
       "      <th>f4</th>\n",
       "      <th>f5</th>\n",
       "      <th>f6</th>\n",
       "      <th>f7</th>\n",
       "      <th>f8</th>\n",
       "      <th>...</th>\n",
       "      <th>f18</th>\n",
       "      <th>f19</th>\n",
       "      <th>f20</th>\n",
       "      <th>f21</th>\n",
       "      <th>f22</th>\n",
       "      <th>f23</th>\n",
       "      <th>f24</th>\n",
       "      <th>f25</th>\n",
       "      <th>f26</th>\n",
       "      <th>mass</th>\n",
       "    </tr>\n",
       "  </thead>\n",
       "  <tbody>\n",
       "    <tr>\n",
       "      <th>0</th>\n",
       "      <td>1.0</td>\n",
       "      <td>-0.346368</td>\n",
       "      <td>0.416306</td>\n",
       "      <td>0.999236</td>\n",
       "      <td>0.475342</td>\n",
       "      <td>0.427493</td>\n",
       "      <td>-0.005984</td>\n",
       "      <td>1.989833</td>\n",
       "      <td>0.344530</td>\n",
       "      <td>1.566297</td>\n",
       "      <td>...</td>\n",
       "      <td>4.105282</td>\n",
       "      <td>0.267826</td>\n",
       "      <td>0.378718</td>\n",
       "      <td>1.743123</td>\n",
       "      <td>3.406367</td>\n",
       "      <td>4.350537</td>\n",
       "      <td>-0.352571</td>\n",
       "      <td>1.130032</td>\n",
       "      <td>2.227706</td>\n",
       "      <td>1000.0</td>\n",
       "    </tr>\n",
       "    <tr>\n",
       "      <th>1</th>\n",
       "      <td>1.0</td>\n",
       "      <td>1.708236</td>\n",
       "      <td>-0.319394</td>\n",
       "      <td>-1.241873</td>\n",
       "      <td>-0.887231</td>\n",
       "      <td>-0.871906</td>\n",
       "      <td>-0.005984</td>\n",
       "      <td>-0.001047</td>\n",
       "      <td>-1.038225</td>\n",
       "      <td>0.655748</td>\n",
       "      <td>...</td>\n",
       "      <td>-1.178141</td>\n",
       "      <td>-0.877361</td>\n",
       "      <td>-1.483769</td>\n",
       "      <td>-0.573682</td>\n",
       "      <td>-1.693781</td>\n",
       "      <td>-0.545062</td>\n",
       "      <td>-0.299118</td>\n",
       "      <td>-0.662942</td>\n",
       "      <td>-0.193019</td>\n",
       "      <td>750.0</td>\n",
       "    </tr>\n",
       "    <tr>\n",
       "      <th>2</th>\n",
       "      <td>0.0</td>\n",
       "      <td>-0.360693</td>\n",
       "      <td>1.794174</td>\n",
       "      <td>0.264738</td>\n",
       "      <td>-0.472273</td>\n",
       "      <td>-0.292344</td>\n",
       "      <td>-1.054221</td>\n",
       "      <td>-1.150495</td>\n",
       "      <td>1.423404</td>\n",
       "      <td>1.270098</td>\n",
       "      <td>...</td>\n",
       "      <td>-1.199511</td>\n",
       "      <td>0.539020</td>\n",
       "      <td>-1.590629</td>\n",
       "      <td>-0.573682</td>\n",
       "      <td>-0.543636</td>\n",
       "      <td>-0.937456</td>\n",
       "      <td>-0.300344</td>\n",
       "      <td>-0.523262</td>\n",
       "      <td>-1.506304</td>\n",
       "      <td>750.0</td>\n",
       "    </tr>\n",
       "    <tr>\n",
       "      <th>3</th>\n",
       "      <td>1.0</td>\n",
       "      <td>-0.377914</td>\n",
       "      <td>-0.103932</td>\n",
       "      <td>-0.649434</td>\n",
       "      <td>-2.125015</td>\n",
       "      <td>-1.643797</td>\n",
       "      <td>-0.005984</td>\n",
       "      <td>1.011112</td>\n",
       "      <td>-1.040340</td>\n",
       "      <td>-0.541991</td>\n",
       "      <td>...</td>\n",
       "      <td>0.463763</td>\n",
       "      <td>-0.006583</td>\n",
       "      <td>1.089122</td>\n",
       "      <td>-0.573682</td>\n",
       "      <td>-0.276348</td>\n",
       "      <td>-0.409272</td>\n",
       "      <td>-0.349926</td>\n",
       "      <td>-0.307123</td>\n",
       "      <td>0.529698</td>\n",
       "      <td>1250.0</td>\n",
       "    </tr>\n",
       "    <tr>\n",
       "      <th>4</th>\n",
       "      <td>0.0</td>\n",
       "      <td>-0.067436</td>\n",
       "      <td>-0.636762</td>\n",
       "      <td>-0.620166</td>\n",
       "      <td>-0.062551</td>\n",
       "      <td>1.588715</td>\n",
       "      <td>-0.005984</td>\n",
       "      <td>-0.595304</td>\n",
       "      <td>-1.238987</td>\n",
       "      <td>0.336844</td>\n",
       "      <td>...</td>\n",
       "      <td>-0.552837</td>\n",
       "      <td>-1.418494</td>\n",
       "      <td>-0.562982</td>\n",
       "      <td>1.743123</td>\n",
       "      <td>0.881802</td>\n",
       "      <td>0.002516</td>\n",
       "      <td>1.560950</td>\n",
       "      <td>-0.150760</td>\n",
       "      <td>-1.023889</td>\n",
       "      <td>750.0</td>\n",
       "    </tr>\n",
       "  </tbody>\n",
       "</table>\n",
       "<p>5 rows × 29 columns</p>\n",
       "</div>"
      ],
      "text/plain": [
       "   label        f0        f1        f2        f3        f4        f5  \\\n",
       "0    1.0 -0.346368  0.416306  0.999236  0.475342  0.427493 -0.005984   \n",
       "1    1.0  1.708236 -0.319394 -1.241873 -0.887231 -0.871906 -0.005984   \n",
       "2    0.0 -0.360693  1.794174  0.264738 -0.472273 -0.292344 -1.054221   \n",
       "3    1.0 -0.377914 -0.103932 -0.649434 -2.125015 -1.643797 -0.005984   \n",
       "4    0.0 -0.067436 -0.636762 -0.620166 -0.062551  1.588715 -0.005984   \n",
       "\n",
       "         f6        f7        f8  ...       f18       f19       f20       f21  \\\n",
       "0  1.989833  0.344530  1.566297  ...  4.105282  0.267826  0.378718  1.743123   \n",
       "1 -0.001047 -1.038225  0.655748  ... -1.178141 -0.877361 -1.483769 -0.573682   \n",
       "2 -1.150495  1.423404  1.270098  ... -1.199511  0.539020 -1.590629 -0.573682   \n",
       "3  1.011112 -1.040340 -0.541991  ...  0.463763 -0.006583  1.089122 -0.573682   \n",
       "4 -0.595304 -1.238987  0.336844  ... -0.552837 -1.418494 -0.562982  1.743123   \n",
       "\n",
       "        f22       f23       f24       f25       f26    mass  \n",
       "0  3.406367  4.350537 -0.352571  1.130032  2.227706  1000.0  \n",
       "1 -1.693781 -0.545062 -0.299118 -0.662942 -0.193019   750.0  \n",
       "2 -0.543636 -0.937456 -0.300344 -0.523262 -1.506304   750.0  \n",
       "3 -0.276348 -0.409272 -0.349926 -0.307123  0.529698  1250.0  \n",
       "4  0.881802  0.002516  1.560950 -0.150760 -1.023889   750.0  \n",
       "\n",
       "[5 rows x 29 columns]"
      ]
     },
     "execution_count": 5,
     "metadata": {},
     "output_type": "execute_result"
    }
   ],
   "source": [
    "df.rename(columns={ df.columns[0]: \"label\" }, inplace = True)\n",
    "df.head()"
   ]
  },
  {
   "cell_type": "code",
   "execution_count": 6,
   "id": "c8ad34bd",
   "metadata": {},
   "outputs": [],
   "source": [
    "X = df.drop([\"label\"], axis=1)\n",
    "y = df[\"label\"].values"
   ]
  },
  {
   "cell_type": "code",
   "execution_count": 7,
   "id": "db774898",
   "metadata": {},
   "outputs": [],
   "source": [
    "from sklearn.model_selection import train_test_split\n",
    "X_train, X_test, y_train, y_test = train_test_split(X, y, test_size=0.20,random_state=4)"
   ]
  },
  {
   "cell_type": "code",
   "execution_count": 8,
   "id": "6131f371",
   "metadata": {},
   "outputs": [],
   "source": [
    "import tensorflow as tf\n",
    "from tensorflow.keras import regularizers\n",
    "\n",
    "model = tf.keras.Sequential([\n",
    "    tf.keras.layers.Dense(64, activation='tanh', input_shape=(28,),kernel_regularizer=regularizers.l2(0.00001)),\n",
    "    tf.keras.layers.Dense(128, activation='relu',kernel_regularizer=regularizers.l2(0.00001)),\n",
    "    tf.keras.layers.Dense(256, activation='elu',kernel_regularizer=regularizers.l2(0.00001)),\n",
    "    tf.keras.layers.Dense(128, activation='tanh',kernel_regularizer=regularizers.l2(0.00001)),\n",
    "    tf.keras.layers.Dense(64, activation='relu',kernel_regularizer=regularizers.l2(0.00001)),\n",
    "    tf.keras.layers.Dense(1, activation='sigmoid')   \n",
    "])\n",
    "\n"
   ]
  },
  {
   "cell_type": "code",
   "execution_count": 9,
   "id": "44109387",
   "metadata": {},
   "outputs": [],
   "source": [
    "model.compile(optimizer='adam',\n",
    "              loss=\"binary_crossentropy\",\n",
    "              metrics=['accuracy'])"
   ]
  },
  {
   "cell_type": "code",
   "execution_count": 10,
   "id": "3d5a2d01",
   "metadata": {},
   "outputs": [],
   "source": [
    "from tensorflow.keras.callbacks import EarlyStopping\n",
    "es = EarlyStopping(patience=7)"
   ]
  },
  {
   "cell_type": "code",
   "execution_count": 11,
   "id": "99dc39c5",
   "metadata": {
    "scrolled": true
   },
   "outputs": [
    {
     "name": "stdout",
     "output_type": "stream",
     "text": [
      "Epoch 1/10\n",
      "1120/1120 [==============================] - 152s 132ms/step - loss: 0.3503 - accuracy: 0.8316 - val_loss: 0.3055 - val_accuracy: 0.8588\n",
      "Epoch 2/10\n",
      "1120/1120 [==============================] - 145s 129ms/step - loss: 0.3114 - accuracy: 0.8552 - val_loss: 0.3130 - val_accuracy: 0.8541\n",
      "Epoch 3/10\n",
      "1120/1120 [==============================] - 142s 127ms/step - loss: 0.3029 - accuracy: 0.8601 - val_loss: 0.2948 - val_accuracy: 0.8650\n",
      "Epoch 4/10\n",
      "1120/1120 [==============================] - 132s 118ms/step - loss: 0.2983 - accuracy: 0.8633 - val_loss: 0.2910 - val_accuracy: 0.8672\n",
      "Epoch 5/10\n",
      "1120/1120 [==============================] - 140s 125ms/step - loss: 0.2968 - accuracy: 0.8641 - val_loss: 0.2934 - val_accuracy: 0.8655\n",
      "Epoch 6/10\n",
      "1120/1120 [==============================] - 138s 123ms/step - loss: 0.2943 - accuracy: 0.8655 - val_loss: 0.2936 - val_accuracy: 0.8664\n",
      "Epoch 7/10\n",
      "1120/1120 [==============================] - 143s 128ms/step - loss: 0.2938 - accuracy: 0.8657 - val_loss: 0.2895 - val_accuracy: 0.8676\n",
      "Epoch 8/10\n",
      "1120/1120 [==============================] - 134s 120ms/step - loss: 0.2929 - accuracy: 0.8662 - val_loss: 0.2941 - val_accuracy: 0.8659\n",
      "Epoch 9/10\n",
      "1120/1120 [==============================] - 140s 125ms/step - loss: 0.2919 - accuracy: 0.8667 - val_loss: 0.2946 - val_accuracy: 0.8643\n",
      "Epoch 10/10\n",
      "1120/1120 [==============================] - 133s 118ms/step - loss: 0.2919 - accuracy: 0.8667 - val_loss: 0.2883 - val_accuracy: 0.8682\n"
     ]
    },
    {
     "data": {
      "text/plain": [
       "<keras.callbacks.History at 0x1be10f1be80>"
      ]
     },
     "execution_count": 11,
     "metadata": {},
     "output_type": "execute_result"
    }
   ],
   "source": [
    "model.fit(X_train, y_train, epochs=10, validation_data=(X_test,y_test), batch_size=5000, callbacks=[es])"
   ]
  },
  {
   "cell_type": "code",
   "execution_count": null,
   "id": "dc3248f6",
   "metadata": {},
   "outputs": [],
   "source": []
  },
  {
   "cell_type": "code",
   "execution_count": 12,
   "id": "c49c0d8c",
   "metadata": {},
   "outputs": [],
   "source": [
    "from sklearn.model_selection import train_test_split\n",
    "X_train, X_test, y_train, y_test = train_test_split(X, y, test_size=0.20,random_state=4)"
   ]
  },
  {
   "cell_type": "code",
   "execution_count": 13,
   "id": "6f329d98",
   "metadata": {},
   "outputs": [],
   "source": [
    "import tensorflow as tf\n",
    "from tensorflow.keras import regularizers\n",
    "\n",
    "model = tf.keras.Sequential([\n",
    "    tf.keras.layers.Dense(64, activation='tanh', input_shape=(28,),kernel_regularizer=regularizers.l2(0.00001)),\n",
    "    tf.keras.layers.Dense(128, activation='relu',kernel_regularizer=regularizers.l2(0.00001)),\n",
    "    tf.keras.layers.Dense(256, activation='tanh',kernel_regularizer=regularizers.l2(0.00001)),\n",
    "    tf.keras.layers.Dense(256, activation='tanh',kernel_regularizer=regularizers.l2(0.00001)),\n",
    "    tf.keras.layers.Dense(64, activation='relu',kernel_regularizer=regularizers.l2(0.00001)),\n",
    "    tf.keras.layers.Dense(1, activation='sigmoid')   \n",
    "])\n",
    "\n"
   ]
  },
  {
   "cell_type": "code",
   "execution_count": 14,
   "id": "9c566bbe",
   "metadata": {},
   "outputs": [],
   "source": [
    "model.compile(optimizer='adam',\n",
    "              loss=\"binary_crossentropy\",\n",
    "              metrics=['accuracy'])"
   ]
  },
  {
   "cell_type": "code",
   "execution_count": 15,
   "id": "db601a5f",
   "metadata": {},
   "outputs": [],
   "source": [
    "from tensorflow.keras.callbacks import EarlyStopping\n",
    "es = EarlyStopping(patience=7)"
   ]
  },
  {
   "cell_type": "code",
   "execution_count": 16,
   "id": "7f8c5459",
   "metadata": {
    "scrolled": false
   },
   "outputs": [
    {
     "name": "stdout",
     "output_type": "stream",
     "text": [
      "Epoch 1/10\n",
      "2800/2800 [==============================] - 200s 70ms/step - loss: 0.3206 - accuracy: 0.8511 - val_loss: 0.3022 - val_accuracy: 0.8616\n",
      "Epoch 2/10\n",
      "2800/2800 [==============================] - 211s 75ms/step - loss: 0.2978 - accuracy: 0.8641 - val_loss: 0.2912 - val_accuracy: 0.8673\n",
      "Epoch 3/10\n",
      "2800/2800 [==============================] - 189s 67ms/step - loss: 0.2936 - accuracy: 0.8664 - val_loss: 0.2871 - val_accuracy: 0.8700\n",
      "Epoch 4/10\n",
      "2800/2800 [==============================] - 181s 65ms/step - loss: 0.2912 - accuracy: 0.8676 - val_loss: 0.2949 - val_accuracy: 0.8652\n",
      "Epoch 5/10\n",
      "2800/2800 [==============================] - 181s 65ms/step - loss: 0.2893 - accuracy: 0.8687 - val_loss: 0.2855 - val_accuracy: 0.8702\n",
      "Epoch 6/10\n",
      "2800/2800 [==============================] - 178s 64ms/step - loss: 0.2885 - accuracy: 0.8691 - val_loss: 0.2930 - val_accuracy: 0.8679\n",
      "Epoch 7/10\n",
      "2800/2800 [==============================] - 183s 65ms/step - loss: 0.2876 - accuracy: 0.8696 - val_loss: 0.2863 - val_accuracy: 0.8706\n",
      "Epoch 8/10\n",
      "2800/2800 [==============================] - 130s 46ms/step - loss: 0.2871 - accuracy: 0.8700 - val_loss: 0.2858 - val_accuracy: 0.8711\n",
      "Epoch 9/10\n",
      "2800/2800 [==============================] - 141s 50ms/step - loss: 0.2863 - accuracy: 0.8704 - val_loss: 0.2859 - val_accuracy: 0.8709\n",
      "Epoch 10/10\n",
      "2800/2800 [==============================] - 126s 45ms/step - loss: 0.2853 - accuracy: 0.8711 - val_loss: 0.2867 - val_accuracy: 0.8695\n"
     ]
    },
    {
     "data": {
      "text/plain": [
       "<keras.callbacks.History at 0x1be112c4e50>"
      ]
     },
     "execution_count": 16,
     "metadata": {},
     "output_type": "execute_result"
    }
   ],
   "source": [
    "es = EarlyStopping(patience=7)\n",
    "model.fit(X_train, y_train, epochs=10, validation_data=(X_test,y_test), batch_size=2000, callbacks=[es])"
   ]
  },
  {
   "cell_type": "code",
   "execution_count": null,
   "id": "f91038ee",
   "metadata": {},
   "outputs": [],
   "source": []
  },
  {
   "cell_type": "code",
   "execution_count": null,
   "id": "7f315f52",
   "metadata": {},
   "outputs": [],
   "source": []
  },
  {
   "cell_type": "code",
   "execution_count": 17,
   "id": "926dffdd",
   "metadata": {},
   "outputs": [],
   "source": [
    "import tensorflow as tf\n",
    "from tensorflow.keras import regularizers\n",
    "\n",
    "model = tf.keras.Sequential([\n",
    "    tf.keras.layers.Dense(64, activation='tanh', input_shape=(28,),kernel_regularizer=regularizers.l2(0.00001)),\n",
    "    tf.keras.layers.Dense(128, activation='relu'),\n",
    "    tf.keras.layers.Dense(256, activation='relu'),\n",
    "    tf.keras.layers.Dense(256, activation='relu'),\n",
    "    tf.keras.layers.Dense(64, activation='relu'),\n",
    "    tf.keras.layers.Dense(1, activation='sigmoid')   \n",
    "])\n",
    "\n"
   ]
  },
  {
   "cell_type": "code",
   "execution_count": 18,
   "id": "041dcad9",
   "metadata": {},
   "outputs": [],
   "source": [
    "model.compile(optimizer='adam',\n",
    "              loss=\"binary_crossentropy\",\n",
    "              metrics=['accuracy'])"
   ]
  },
  {
   "cell_type": "code",
   "execution_count": 19,
   "id": "07d7bbb4",
   "metadata": {},
   "outputs": [],
   "source": [
    "from tensorflow.keras.callbacks import EarlyStopping\n",
    "es = EarlyStopping(patience=7)"
   ]
  },
  {
   "cell_type": "code",
   "execution_count": 20,
   "id": "62ee4bc0",
   "metadata": {
    "scrolled": false
   },
   "outputs": [
    {
     "name": "stdout",
     "output_type": "stream",
     "text": [
      "Epoch 1/10\n",
      "2240/2240 [==============================] - 120s 53ms/step - loss: 0.3165 - accuracy: 0.8512 - val_loss: 0.3093 - val_accuracy: 0.8552\n",
      "Epoch 2/10\n",
      "2240/2240 [==============================] - 123s 55ms/step - loss: 0.2917 - accuracy: 0.8659 - val_loss: 0.2854 - val_accuracy: 0.8698\n",
      "Epoch 3/10\n",
      "2240/2240 [==============================] - 121s 54ms/step - loss: 0.2870 - accuracy: 0.8689 - val_loss: 0.2827 - val_accuracy: 0.8712\n",
      "Epoch 4/10\n",
      "2240/2240 [==============================] - 124s 55ms/step - loss: 0.2844 - accuracy: 0.8704 - val_loss: 0.2829 - val_accuracy: 0.8717\n",
      "Epoch 5/10\n",
      "2240/2240 [==============================] - 127s 57ms/step - loss: 0.2829 - accuracy: 0.8713 - val_loss: 0.2803 - val_accuracy: 0.8726\n",
      "Epoch 6/10\n",
      "2240/2240 [==============================] - 136s 61ms/step - loss: 0.2812 - accuracy: 0.8724 - val_loss: 0.2782 - val_accuracy: 0.8741\n",
      "Epoch 7/10\n",
      "2240/2240 [==============================] - 128s 57ms/step - loss: 0.2805 - accuracy: 0.8728 - val_loss: 0.2783 - val_accuracy: 0.8743\n",
      "Epoch 8/10\n",
      "2240/2240 [==============================] - 125s 56ms/step - loss: 0.2798 - accuracy: 0.8732 - val_loss: 0.2781 - val_accuracy: 0.8739\n",
      "Epoch 9/10\n",
      "2240/2240 [==============================] - 126s 56ms/step - loss: 0.2796 - accuracy: 0.8734 - val_loss: 0.2763 - val_accuracy: 0.8756\n",
      "Epoch 10/10\n",
      "2240/2240 [==============================] - 127s 57ms/step - loss: 0.2788 - accuracy: 0.8738 - val_loss: 0.2752 - val_accuracy: 0.8758\n"
     ]
    },
    {
     "data": {
      "text/plain": [
       "<keras.callbacks.History at 0x1bdac30ebc0>"
      ]
     },
     "execution_count": 20,
     "metadata": {},
     "output_type": "execute_result"
    }
   ],
   "source": [
    "model.fit(X_train, y_train, epochs=10, validation_data=(X_test,y_test), batch_size=2500, callbacks=[es])"
   ]
  },
  {
   "cell_type": "markdown",
   "id": "8b5430a8",
   "metadata": {},
   "source": [
    "# hypertune"
   ]
  },
  {
   "cell_type": "code",
   "execution_count": 28,
   "id": "fbb89bb9",
   "metadata": {},
   "outputs": [],
   "source": [
    "#https://www.tensorflow.org/tensorboard/hyperparameter_tuning_with_hparams\n",
    "import tensorflow as tf\n",
    "from tensorboard.plugins.hparams import api as hp\n",
    "\n",
    "HP_NUM_UNITS = hp.HParam('num_units', hp.Discrete([64,256]))\n",
    "HP_DROPOUT = hp.HParam('dropout', hp.Discrete([0.0, 0.2]))\n",
    "HP_OPTIMIZER = hp.HParam('optimizer', hp.Discrete(['adam', 'sgd']))\n",
    "HP_ACTIVATION = hp.HParam('activation', hp.Discrete(['gelu', 'selu', 'swish', 'relu', 'tanh']))\n",
    "\n",
    "METRIC_ACCURACY = 'accuracy'\n",
    "\n",
    "with tf.summary.create_file_writer('logs/hparam_tuning').as_default():\n",
    "  hp.hparams_config(\n",
    "    hparams=[HP_NUM_UNITS, HP_DROPOUT, HP_OPTIMIZER,HP_ACTIVATION],\n",
    "    metrics=[hp.Metric(METRIC_ACCURACY, display_name='Accuracy')],\n",
    "  )"
   ]
  },
  {
   "cell_type": "code",
   "execution_count": 34,
   "id": "c60ec7a0",
   "metadata": {},
   "outputs": [],
   "source": [
    "def train_test_model(hparams):\n",
    "  model = tf.keras.models.Sequential([\n",
    "    tf.keras.layers.Flatten(),\n",
    "    tf.keras.layers.Dense(hparams[HP_NUM_UNITS], activation=hparams[HP_ACTIVATION]),\n",
    "    tf.keras.layers.Dropout(hparams[HP_DROPOUT]),\n",
    "    tf.keras.layers.Dense(10, activation=tf.nn.softmax),\n",
    "  ])\n",
    "  model.compile(\n",
    "      optimizer=hparams[HP_OPTIMIZER],\n",
    "      loss='sparse_categorical_crossentropy',\n",
    "      metrics=['accuracy'],\n",
    "  )\n",
    "\n",
    "  model.fit(X_train, y_train, epochs=1) # Run with 1 epoch to speed things up for demo purposes\n",
    "  _, accuracy = model.evaluate(X_test, y_test)\n",
    "  return accuracy"
   ]
  },
  {
   "cell_type": "code",
   "execution_count": 30,
   "id": "e515a530",
   "metadata": {},
   "outputs": [],
   "source": [
    "def run(run_dir, hparams):\n",
    "  with tf.summary.create_file_writer(run_dir).as_default():\n",
    "    hp.hparams(hparams)  # record the values used in this trial\n",
    "    accuracy = train_test_model(hparams)\n",
    "    tf.summary.scalar(METRIC_ACCURACY, accuracy, step=1)"
   ]
  },
  {
   "cell_type": "code",
   "execution_count": 25,
   "id": "a7d7140f",
   "metadata": {},
   "outputs": [
    {
     "ename": "NameError",
     "evalue": "name 'logdir' is not defined",
     "output_type": "error",
     "traceback": [
      "\u001b[1;31m---------------------------------------------------------------------------\u001b[0m",
      "\u001b[1;31mNameError\u001b[0m                                 Traceback (most recent call last)",
      "\u001b[1;32mc:\\Users\\drsco\\Documents\\GitHub\\QTW\\qtw\\case study 6\\Model_D_casestudy6.ipynb Cell 27\u001b[0m in \u001b[0;36m<module>\u001b[1;34m\u001b[0m\n\u001b[0;32m      <a href='vscode-notebook-cell:/c%3A/Users/drsco/Documents/GitHub/QTW/qtw/case%20study%206/Model_D_casestudy6.ipynb#ch0000026?line=0'>1</a>\u001b[0m model\u001b[39m.\u001b[39mfit(\n\u001b[0;32m      <a href='vscode-notebook-cell:/c%3A/Users/drsco/Documents/GitHub/QTW/qtw/case%20study%206/Model_D_casestudy6.ipynb#ch0000026?line=1'>2</a>\u001b[0m     \u001b[39m.\u001b[39m\u001b[39m.\u001b[39m\u001b[39m.\u001b[39m,\n\u001b[0;32m      <a href='vscode-notebook-cell:/c%3A/Users/drsco/Documents/GitHub/QTW/qtw/case%20study%206/Model_D_casestudy6.ipynb#ch0000026?line=2'>3</a>\u001b[0m     callbacks\u001b[39m=\u001b[39m[\n\u001b[1;32m----> <a href='vscode-notebook-cell:/c%3A/Users/drsco/Documents/GitHub/QTW/qtw/case%20study%206/Model_D_casestudy6.ipynb#ch0000026?line=3'>4</a>\u001b[0m         tf\u001b[39m.\u001b[39mkeras\u001b[39m.\u001b[39mcallbacks\u001b[39m.\u001b[39mTensorBoard(logdir),  \u001b[39m# log metrics\u001b[39;00m\n\u001b[0;32m      <a href='vscode-notebook-cell:/c%3A/Users/drsco/Documents/GitHub/QTW/qtw/case%20study%206/Model_D_casestudy6.ipynb#ch0000026?line=4'>5</a>\u001b[0m         hp\u001b[39m.\u001b[39mKerasCallback(logdir, hparams),  \u001b[39m# log hparams\u001b[39;00m\n\u001b[0;32m      <a href='vscode-notebook-cell:/c%3A/Users/drsco/Documents/GitHub/QTW/qtw/case%20study%206/Model_D_casestudy6.ipynb#ch0000026?line=5'>6</a>\u001b[0m     ],\n\u001b[0;32m      <a href='vscode-notebook-cell:/c%3A/Users/drsco/Documents/GitHub/QTW/qtw/case%20study%206/Model_D_casestudy6.ipynb#ch0000026?line=6'>7</a>\u001b[0m )\n",
      "\u001b[1;31mNameError\u001b[0m: name 'logdir' is not defined"
     ]
    }
   ],
   "source": [
    "# model.fit(\n",
    "#     ...,\n",
    "#     callbacks=[\n",
    "#         tf.keras.callbacks.TensorBoard(logdir),  # log metrics\n",
    "#         hp.KerasCallback(logdir, hparams),  # log hparams\n",
    "#     ],\n",
    "# )"
   ]
  },
  {
   "cell_type": "code",
   "execution_count": 35,
   "id": "50435984",
   "metadata": {},
   "outputs": [
    {
     "name": "stdout",
     "output_type": "stream",
     "text": [
      "--- Starting trial: run-0\n",
      "{'activation': 'gelu', 'dropout': 0.0, 'optimizer': 'adam', 'num_units': 256}\n",
      "175000/175000 [==============================] - 586s 3ms/step - loss: 0.3591 - accuracy: 0.8370\n",
      "43750/43750 [==============================] - 124s 3ms/step - loss: 0.3165 - accuracy: 0.8523\n",
      "--- Starting trial: run-1\n",
      "{'activation': 'gelu', 'dropout': 0.0, 'optimizer': 'sgd', 'num_units': 256}\n",
      "175000/175000 [==============================] - 461s 3ms/step - loss: 1.9192 - accuracy: 0.4999\n",
      "43750/43750 [==============================] - 91s 2ms/step - loss: 0.6940 - accuracy: 0.5002\n",
      "--- Starting trial: run-2\n",
      "{'activation': 'gelu', 'dropout': 0.2, 'optimizer': 'adam', 'num_units': 256}\n",
      "175000/175000 [==============================] - 521s 3ms/step - loss: 0.4024 - accuracy: 0.8233\n",
      "43750/43750 [==============================] - 88s 2ms/step - loss: 0.3317 - accuracy: 0.8315\n",
      "--- Starting trial: run-3\n",
      "{'activation': 'gelu', 'dropout': 0.2, 'optimizer': 'sgd', 'num_units': 256}\n",
      "175000/175000 [==============================] - 473s 3ms/step - loss: 1.0254 - accuracy: 0.5001\n",
      "43750/43750 [==============================] - 81s 2ms/step - loss: 0.6941 - accuracy: 0.5002\n",
      "--- Starting trial: run-4\n",
      "{'activation': 'relu', 'dropout': 0.0, 'optimizer': 'adam', 'num_units': 256}\n",
      "175000/175000 [==============================] - 399s 2ms/step - loss: 0.3659 - accuracy: 0.8353\n",
      "43750/43750 [==============================] - 82s 2ms/step - loss: 0.3176 - accuracy: 0.8430\n",
      "--- Starting trial: run-5\n",
      "{'activation': 'relu', 'dropout': 0.0, 'optimizer': 'sgd', 'num_units': 256}\n",
      "175000/175000 [==============================] - 361s 2ms/step - loss: 0.9264 - accuracy: 0.4999\n",
      "43750/43750 [==============================] - 64s 1ms/step - loss: 0.6938 - accuracy: 0.5002\n",
      "--- Starting trial: run-6\n",
      "{'activation': 'relu', 'dropout': 0.2, 'optimizer': 'adam', 'num_units': 256}\n",
      "175000/175000 [==============================] - 426s 2ms/step - loss: 0.3794 - accuracy: 0.8319\n",
      "43750/43750 [==============================] - 80s 2ms/step - loss: 0.3244 - accuracy: 0.8469\n",
      "--- Starting trial: run-7\n",
      "{'activation': 'relu', 'dropout': 0.2, 'optimizer': 'sgd', 'num_units': 256}\n",
      "175000/175000 [==============================] - 449s 3ms/step - loss: 1.2488 - accuracy: 0.5003\n",
      "43750/43750 [==============================] - 70s 2ms/step - loss: 0.6941 - accuracy: 0.5002\n",
      "--- Starting trial: run-8\n",
      "{'activation': 'selu', 'dropout': 0.0, 'optimizer': 'adam', 'num_units': 256}\n",
      "175000/175000 [==============================] - 390s 2ms/step - loss: 0.3585 - accuracy: 0.8376\n",
      "43750/43750 [==============================] - 78s 2ms/step - loss: 0.3124 - accuracy: 0.8527\n",
      "--- Starting trial: run-9\n",
      "{'activation': 'selu', 'dropout': 0.0, 'optimizer': 'sgd', 'num_units': 256}\n",
      "175000/175000 [==============================] - 400s 2ms/step - loss: 2.1074 - accuracy: 0.5005\n",
      "43750/43750 [==============================] - 70s 2ms/step - loss: 1.8857 - accuracy: 0.5002\n",
      "--- Starting trial: run-10\n",
      "{'activation': 'selu', 'dropout': 0.2, 'optimizer': 'adam', 'num_units': 256}\n",
      "175000/175000 [==============================] - 449s 3ms/step - loss: 0.3947 - accuracy: 0.8326\n",
      "43750/43750 [==============================] - 90s 2ms/step - loss: 0.3123 - accuracy: 0.8539\n",
      "--- Starting trial: run-11\n",
      "{'activation': 'selu', 'dropout': 0.2, 'optimizer': 'sgd', 'num_units': 256}\n",
      "175000/175000 [==============================] - 390s 2ms/step - loss: 2.6104 - accuracy: 0.4995\n",
      "43750/43750 [==============================] - 72s 2ms/step - loss: 2.1906 - accuracy: 0.4998\n",
      "--- Starting trial: run-12\n",
      "{'activation': 'swish', 'dropout': 0.0, 'optimizer': 'adam', 'num_units': 256}\n",
      "175000/175000 [==============================] - 425s 2ms/step - loss: 0.3766 - accuracy: 0.8324\n",
      "43750/43750 [==============================] - 76s 2ms/step - loss: 0.3155 - accuracy: 0.8521\n",
      "--- Starting trial: run-13\n",
      "{'activation': 'swish', 'dropout': 0.0, 'optimizer': 'sgd', 'num_units': 256}\n",
      "175000/175000 [==============================] - 364s 2ms/step - loss: 1.5426 - accuracy: 0.5000\n",
      "43750/43750 [==============================] - 79s 2ms/step - loss: 0.6941 - accuracy: 0.4998\n",
      "--- Starting trial: run-14\n",
      "{'activation': 'swish', 'dropout': 0.2, 'optimizer': 'adam', 'num_units': 256}\n",
      "175000/175000 [==============================] - 504s 3ms/step - loss: 0.3952 - accuracy: 0.8267\n",
      "43750/43750 [==============================] - 87s 2ms/step - loss: 0.3298 - accuracy: 0.8316\n",
      "--- Starting trial: run-15\n",
      "{'activation': 'swish', 'dropout': 0.2, 'optimizer': 'sgd', 'num_units': 256}\n",
      "175000/175000 [==============================] - 445s 3ms/step - loss: 1.5347 - accuracy: 0.4997\n",
      "43750/43750 [==============================] - 81s 2ms/step - loss: 0.6941 - accuracy: 0.4998\n",
      "--- Starting trial: run-16\n",
      "{'activation': 'tanh', 'dropout': 0.0, 'optimizer': 'adam', 'num_units': 256}\n",
      "175000/175000 [==============================] - 401s 2ms/step - loss: 0.3710 - accuracy: 0.8219\n",
      "43750/43750 [==============================] - 78s 2ms/step - loss: 0.3578 - accuracy: 0.8195\n",
      "--- Starting trial: run-17\n",
      "{'activation': 'tanh', 'dropout': 0.0, 'optimizer': 'sgd', 'num_units': 256}\n",
      "175000/175000 [==============================] - 356s 2ms/step - loss: 0.7201 - accuracy: 0.4996\n",
      "43750/43750 [==============================] - 87s 2ms/step - loss: 0.6940 - accuracy: 0.4998\n",
      "--- Starting trial: run-18\n",
      "{'activation': 'tanh', 'dropout': 0.2, 'optimizer': 'adam', 'num_units': 256}\n",
      "175000/175000 [==============================] - 459s 3ms/step - loss: 0.4685 - accuracy: 0.7631\n",
      "43750/43750 [==============================] - 75s 2ms/step - loss: 0.4080 - accuracy: 0.8380\n",
      "--- Starting trial: run-19\n",
      "{'activation': 'tanh', 'dropout': 0.2, 'optimizer': 'sgd', 'num_units': 256}\n",
      "175000/175000 [==============================] - 465s 3ms/step - loss: 0.7229 - accuracy: 0.4995\n",
      "43750/43750 [==============================] - 80s 2ms/step - loss: 0.7343 - accuracy: 0.4998\n"
     ]
    }
   ],
   "source": [
    "session_num = 0\n",
    "\n",
    "for activation in HP_ACTIVATION.domain.values: \n",
    "  for dropout_rate in HP_DROPOUT.domain.values:\n",
    "    for optimizer in HP_OPTIMIZER.domain.values:\n",
    "      for num_units in HP_NUM_UNITS.domain.values:\n",
    "        hparams = {\n",
    "          HP_ACTIVATION: activation,\n",
    "          HP_DROPOUT: dropout_rate,\n",
    "          HP_OPTIMIZER: optimizer,\n",
    "          HP_NUM_UNITS: num_units\n",
    "      }\n",
    "      run_name = \"run-%d\" % session_num\n",
    "      print('--- Starting trial: %s' % run_name)\n",
    "      print({h.name: hparams[h] for h in hparams})\n",
    "      run('logs/hparam_tuning/' + run_name, hparams)\n",
    "      session_num += 1"
   ]
  },
  {
   "cell_type": "code",
   "execution_count": 36,
   "id": "eef0ac86",
   "metadata": {},
   "outputs": [
    {
     "name": "stderr",
     "output_type": "stream",
     "text": [
      "UsageError: Line magic function `%tensorboard` not found.\n"
     ]
    }
   ],
   "source": [
    "%tensorboard --logdir logs/hparam_tuning"
   ]
  },
  {
   "cell_type": "code",
   "execution_count": 40,
   "id": "d1e0bec8",
   "metadata": {},
   "outputs": [
    {
     "name": "stdout",
     "output_type": "stream",
     "text": [
      "Epoch 1/10\n",
      "2800/2800 [==============================] - 256s 91ms/step - loss: 0.3934 - accuracy: 0.8273 - val_loss: 0.3148 - val_accuracy: 0.8571\n",
      "Epoch 2/10\n",
      "2800/2800 [==============================] - 349s 125ms/step - loss: 0.3079 - accuracy: 0.8600 - val_loss: 0.3023 - val_accuracy: 0.8621\n",
      "Epoch 3/10\n",
      "2800/2800 [==============================] - 348s 124ms/step - loss: 0.3014 - accuracy: 0.8634 - val_loss: 0.2965 - val_accuracy: 0.8658\n",
      "Epoch 4/10\n",
      "2800/2800 [==============================] - 380s 136ms/step - loss: 0.2974 - accuracy: 0.8656 - val_loss: 0.3011 - val_accuracy: 0.8622\n",
      "Epoch 5/10\n",
      "2800/2800 [==============================] - 366s 131ms/step - loss: 0.2922 - accuracy: 0.8685 - val_loss: 0.2852 - val_accuracy: 0.8722\n",
      "Epoch 6/10\n",
      "2800/2800 [==============================] - 374s 134ms/step - loss: 0.2868 - accuracy: 0.8716 - val_loss: 0.2814 - val_accuracy: 0.8747\n",
      "Epoch 7/10\n",
      "2800/2800 [==============================] - 388s 139ms/step - loss: 0.2824 - accuracy: 0.8740 - val_loss: 0.2817 - val_accuracy: 0.8737\n",
      "Epoch 8/10\n",
      "2800/2800 [==============================] - 369s 132ms/step - loss: 0.2804 - accuracy: 0.8750 - val_loss: 0.2814 - val_accuracy: 0.8739\n",
      "Epoch 9/10\n",
      "2800/2800 [==============================] - 370s 132ms/step - loss: 0.2792 - accuracy: 0.8756 - val_loss: 0.2769 - val_accuracy: 0.8765\n",
      "Epoch 10/10\n",
      "2800/2800 [==============================] - 364s 130ms/step - loss: 0.2779 - accuracy: 0.8763 - val_loss: 0.2780 - val_accuracy: 0.8769\n"
     ]
    },
    {
     "data": {
      "text/plain": [
       "<keras.callbacks.History at 0x1be66756bc0>"
      ]
     },
     "execution_count": 40,
     "metadata": {},
     "output_type": "execute_result"
    }
   ],
   "source": [
    "#{'activation': 'gelu', 'dropout': 0.0, 'optimizer': 'adam', 'num_units': 256}\n",
    "model = tf.keras.Sequential([\n",
    "    tf.keras.layers.Dense(256, activation='gelu', input_shape=(28,),kernel_regularizer=regularizers.l2(0.00001)),\n",
    "    tf.keras.layers.Dense(256, activation='gelu',kernel_regularizer=regularizers.l2(0.00001)),\n",
    "    tf.keras.layers.Dense(256, activation='gelu',kernel_regularizer=regularizers.l2(0.00001)),\n",
    "    tf.keras.layers.Dense(256, activation='gelu',kernel_regularizer=regularizers.l2(0.00001)),\n",
    "    tf.keras.layers.Dense(256, activation='gelu',kernel_regularizer=regularizers.l2(0.00001)),\n",
    "    tf.keras.layers.Dense(1, activation='sigmoid')   \n",
    "])\n",
    "model.compile(optimizer='adam',\n",
    "              loss=\"binary_crossentropy\",\n",
    "              metrics=['accuracy'])\n",
    "es = EarlyStopping(patience=7)\n",
    "model.fit(X_train, y_train, epochs=10, validation_data=(X_test,y_test), batch_size=2000, callbacks=[es])\n"
   ]
  },
  {
   "cell_type": "code",
   "execution_count": 41,
   "id": "effed571",
   "metadata": {},
   "outputs": [
    {
     "data": {
      "text/plain": [
       "<matplotlib.legend.Legend at 0x1be1a8e6f50>"
      ]
     },
     "execution_count": 41,
     "metadata": {},
     "output_type": "execute_result"
    },
    {
     "data": {
      "image/png": "[encoded data removed]",
      "text/plain": [
       "<Figure size 432x288 with 1 Axes>"
      ]
     },
     "metadata": {
      "needs_background": "light"
     },
     "output_type": "display_data"
    }
   ],
   "source": [
    "import matplotlib.pyplot as plt\n",
    "plt.plot(np.linspace(1,10,10),model.history.history['val_loss'],label='test')\n",
    "plt.plot(np.linspace(1,10,10),model.history.history['loss'], label='train')\n",
    "plt.xlabel('epoch')\n",
    "plt.ylabel('loss')\n",
    "plt.legend()"
   ]
  },
  {
   "cell_type": "code",
   "execution_count": 42,
   "id": "7b0804bf",
   "metadata": {},
   "outputs": [
    {
     "name": "stdout",
     "output_type": "stream",
     "text": [
      "Epoch 1/5\n",
      "87500/87500 [==============================] - 1055s 12ms/step - loss: 0.3255 - accuracy: 0.8473 - val_loss: 0.3083 - val_accuracy: 0.8556\n",
      "Epoch 2/5\n",
      "87500/87500 [==============================] - 1111s 13ms/step - loss: 0.3052 - accuracy: 0.8584 - val_loss: 0.3082 - val_accuracy: 0.8583\n",
      "Epoch 3/5\n",
      "87500/87500 [==============================] - 1183s 14ms/step - loss: 0.3028 - accuracy: 0.8602 - val_loss: 0.2990 - val_accuracy: 0.8617\n",
      "Epoch 4/5\n",
      "87500/87500 [==============================] - 1088s 12ms/step - loss: 0.3021 - accuracy: 0.8610 - val_loss: 0.3055 - val_accuracy: 0.8598\n",
      "Epoch 5/5\n",
      "87500/87500 [==============================] - 1041s 12ms/step - loss: 0.3018 - accuracy: 0.8613 - val_loss: 0.2965 - val_accuracy: 0.8641\n"
     ]
    },
    {
     "data": {
      "text/plain": [
       "<keras.callbacks.History at 0x1be667c8f10>"
      ]
     },
     "execution_count": 42,
     "metadata": {},
     "output_type": "execute_result"
    }
   ],
   "source": [
    "model = tf.keras.Sequential([\n",
    "    tf.keras.layers.Dense(256, activation='gelu', input_shape=(28,),kernel_regularizer=regularizers.l2(0.00001)),\n",
    "    tf.keras.layers.Dense(256, activation='gelu',kernel_regularizer=regularizers.l2(0.00001)),\n",
    "    tf.keras.layers.Dense(256, activation='gelu',kernel_regularizer=regularizers.l2(0.00001)),\n",
    "    tf.keras.layers.Dense(256, activation='gelu',kernel_regularizer=regularizers.l2(0.00001)),\n",
    "    tf.keras.layers.Dense(256, activation='gelu',kernel_regularizer=regularizers.l2(0.00001)),\n",
    "    tf.keras.layers.Dense(1, activation='sigmoid')   \n",
    "])\n",
    "model.compile(optimizer='adam',\n",
    "              loss=\"binary_crossentropy\",\n",
    "              metrics=['accuracy'])\n",
    "es = EarlyStopping(patience=7)\n",
    "model.fit(X_train, y_train, epochs=5, validation_data=(X_test,y_test), batch_size=64, callbacks=[es])"
   ]
  },
  {
   "cell_type": "code",
   "execution_count": 43,
   "id": "e12aae45",
   "metadata": {},
   "outputs": [
    {
     "name": "stdout",
     "output_type": "stream",
     "text": [
      "Epoch 1/5\n",
      "1400/1400 [==============================] - 347s 246ms/step - loss: 0.4651 - accuracy: 0.8068 - val_loss: 0.3160 - val_accuracy: 0.8553\n",
      "Epoch 2/5\n",
      "1400/1400 [==============================] - 354s 253ms/step - loss: 0.3115 - accuracy: 0.8588 - val_loss: 0.3068 - val_accuracy: 0.8629\n",
      "Epoch 3/5\n",
      "1400/1400 [==============================] - 346s 247ms/step - loss: 0.3044 - accuracy: 0.8629 - val_loss: 0.2973 - val_accuracy: 0.8665\n",
      "Epoch 4/5\n",
      "1400/1400 [==============================] - 340s 243ms/step - loss: 0.3001 - accuracy: 0.8652 - val_loss: 0.3000 - val_accuracy: 0.8640\n",
      "Epoch 5/5\n",
      "1400/1400 [==============================] - 349s 250ms/step - loss: 0.2987 - accuracy: 0.8659 - val_loss: 0.3073 - val_accuracy: 0.8620\n"
     ]
    },
    {
     "data": {
      "text/plain": [
       "<keras.callbacks.History at 0x1be11235870>"
      ]
     },
     "execution_count": 43,
     "metadata": {},
     "output_type": "execute_result"
    }
   ],
   "source": [
    "model = tf.keras.Sequential([\n",
    "    tf.keras.layers.Dense(256, activation='gelu', input_shape=(28,),kernel_regularizer=regularizers.l2(0.00001)),\n",
    "    tf.keras.layers.Dense(256, activation='gelu',kernel_regularizer=regularizers.l2(0.00001)),\n",
    "    tf.keras.layers.Dense(256, activation='gelu',kernel_regularizer=regularizers.l2(0.00001)),\n",
    "    tf.keras.layers.Dense(256, activation='gelu',kernel_regularizer=regularizers.l2(0.00001)),\n",
    "    tf.keras.layers.Dense(256, activation='gelu',kernel_regularizer=regularizers.l2(0.00001)),\n",
    "    tf.keras.layers.Dense(1, activation='sigmoid')   \n",
    "])\n",
    "model.compile(optimizer='adam',\n",
    "              loss=\"binary_crossentropy\",\n",
    "              metrics=['accuracy'])\n",
    "es = EarlyStopping(patience=7)\n",
    "model.fit(X_train, y_train, epochs=5, validation_data=(X_test,y_test), batch_size=4000, callbacks=[es])"
   ]
  },
  {
   "cell_type": "code",
   "execution_count": null,
   "id": "2eb52e2b",
   "metadata": {},
   "outputs": [],
   "source": []
  }
 ],
 "metadata": {
  "kernelspec": {
   "display_name": "Python 3.10.1 64-bit",
   "language": "python",
   "name": "python3"
  },
  "language_info": {
   "codemirror_mode": {
    "name": "ipython",
    "version": 3
   },
   "file_extension": ".py",
   "mimetype": "text/x-python",
   "name": "python",
   "nbconvert_exporter": "python",
   "pygments_lexer": "ipython3",
   "version": "3.10.1"
  },
  "vscode": {
   "interpreter": {
    "hash": "d5e22e80c5a5049300fcd1222e380e7a80cada809ed3c1dbd59a10e881ec2acb"
   }
  }
 },
 "nbformat": 4,
 "nbformat_minor": 5
}
