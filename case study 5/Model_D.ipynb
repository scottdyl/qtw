{
 "cells": [
  {
   "cell_type": "code",
   "execution_count": 110,
   "metadata": {},
   "outputs": [],
   "source": [
    "import os\n",
    "import pandas as pd\n",
    "import re\n",
    "import datetime as dt\n",
    "import numpy as np\n",
    "\n",
    "from IPython.display import display\n",
    "\n",
    "from sklearn.model_selection import train_test_split\n",
    "import io\n",
    "import requests\n",
    "import warnings\n",
    "import seaborn as sns\n",
    "from sklearn.preprocessing import StandardScaler\n",
    "from sklearn import metrics as mt\n",
    "from sklearn.metrics import f1_score\n",
    "import matplotlib.pyplot as plt\n",
    "from sklearn.linear_model import SGDClassifier\n",
    "warnings.filterwarnings('ignore')"
   ]
  },
  {
   "cell_type": "code",
   "execution_count": 111,
   "metadata": {},
   "outputs": [
    {
     "name": "stdout",
     "output_type": "stream",
     "text": [
      "<class 'pandas.core.frame.DataFrame'>\n",
      "RangeIndex: 65532 entries, 0 to 65531\n",
      "Data columns (total 12 columns):\n",
      " #   Column                Non-Null Count  Dtype \n",
      "---  ------                --------------  ----- \n",
      " 0   Source Port           65532 non-null  int64 \n",
      " 1   Destination Port      65532 non-null  int64 \n",
      " 2   NAT Source Port       65532 non-null  int64 \n",
      " 3   NAT Destination Port  65532 non-null  int64 \n",
      " 4   Action                65532 non-null  object\n",
      " 5   Bytes                 65532 non-null  int64 \n",
      " 6   Bytes Sent            65532 non-null  int64 \n",
      " 7   Bytes Received        65532 non-null  int64 \n",
      " 8   Packets               65532 non-null  int64 \n",
      " 9   Elapsed Time (sec)    65532 non-null  int64 \n",
      " 10  pkts_sent             65532 non-null  int64 \n",
      " 11  pkts_received         65532 non-null  int64 \n",
      "dtypes: int64(11), object(1)\n",
      "memory usage: 6.0+ MB\n"
     ]
    },
    {
     "data": {
      "text/html": [
       "<div>\n",
       "<style scoped>\n",
       "    .dataframe tbody tr th:only-of-type {\n",
       "        vertical-align: middle;\n",
       "    }\n",
       "\n",
       "    .dataframe tbody tr th {\n",
       "        vertical-align: top;\n",
       "    }\n",
       "\n",
       "    .dataframe thead th {\n",
       "        text-align: right;\n",
       "    }\n",
       "</style>\n",
       "<table border=\"1\" class=\"dataframe\">\n",
       "  <thead>\n",
       "    <tr style=\"text-align: right;\">\n",
       "      <th></th>\n",
       "      <th>Source Port</th>\n",
       "      <th>Destination Port</th>\n",
       "      <th>NAT Source Port</th>\n",
       "      <th>NAT Destination Port</th>\n",
       "      <th>Bytes</th>\n",
       "      <th>Bytes Sent</th>\n",
       "      <th>Bytes Received</th>\n",
       "      <th>Packets</th>\n",
       "      <th>Elapsed Time (sec)</th>\n",
       "      <th>pkts_sent</th>\n",
       "      <th>pkts_received</th>\n",
       "    </tr>\n",
       "  </thead>\n",
       "  <tbody>\n",
       "    <tr>\n",
       "      <th>count</th>\n",
       "      <td>65532.00000</td>\n",
       "      <td>65532.00000</td>\n",
       "      <td>65532.00000</td>\n",
       "      <td>65532.00000</td>\n",
       "      <td>65532.00000</td>\n",
       "      <td>65532.00000</td>\n",
       "      <td>65532.00000</td>\n",
       "      <td>65532.00000</td>\n",
       "      <td>65532.00000</td>\n",
       "      <td>65532.00000</td>\n",
       "      <td>65532.00000</td>\n",
       "    </tr>\n",
       "    <tr>\n",
       "      <th>mean</th>\n",
       "      <td>49391.96934</td>\n",
       "      <td>10577.38581</td>\n",
       "      <td>19282.97276</td>\n",
       "      <td>2671.04993</td>\n",
       "      <td>97123.95009</td>\n",
       "      <td>22385.79691</td>\n",
       "      <td>74738.15318</td>\n",
       "      <td>102.86603</td>\n",
       "      <td>65.83358</td>\n",
       "      <td>41.39953</td>\n",
       "      <td>61.46650</td>\n",
       "    </tr>\n",
       "    <tr>\n",
       "      <th>std</th>\n",
       "      <td>15255.71254</td>\n",
       "      <td>18466.02704</td>\n",
       "      <td>21970.68967</td>\n",
       "      <td>9739.16228</td>\n",
       "      <td>5618438.90905</td>\n",
       "      <td>3828138.64979</td>\n",
       "      <td>2463207.71188</td>\n",
       "      <td>5133.00235</td>\n",
       "      <td>302.46176</td>\n",
       "      <td>3218.87129</td>\n",
       "      <td>2223.33227</td>\n",
       "    </tr>\n",
       "    <tr>\n",
       "      <th>min</th>\n",
       "      <td>0.00000</td>\n",
       "      <td>0.00000</td>\n",
       "      <td>0.00000</td>\n",
       "      <td>0.00000</td>\n",
       "      <td>60.00000</td>\n",
       "      <td>60.00000</td>\n",
       "      <td>0.00000</td>\n",
       "      <td>1.00000</td>\n",
       "      <td>0.00000</td>\n",
       "      <td>1.00000</td>\n",
       "      <td>0.00000</td>\n",
       "    </tr>\n",
       "    <tr>\n",
       "      <th>25%</th>\n",
       "      <td>49183.00000</td>\n",
       "      <td>80.00000</td>\n",
       "      <td>0.00000</td>\n",
       "      <td>0.00000</td>\n",
       "      <td>66.00000</td>\n",
       "      <td>66.00000</td>\n",
       "      <td>0.00000</td>\n",
       "      <td>1.00000</td>\n",
       "      <td>0.00000</td>\n",
       "      <td>1.00000</td>\n",
       "      <td>0.00000</td>\n",
       "    </tr>\n",
       "    <tr>\n",
       "      <th>50%</th>\n",
       "      <td>53776.50000</td>\n",
       "      <td>445.00000</td>\n",
       "      <td>8820.50000</td>\n",
       "      <td>53.00000</td>\n",
       "      <td>168.00000</td>\n",
       "      <td>90.00000</td>\n",
       "      <td>79.00000</td>\n",
       "      <td>2.00000</td>\n",
       "      <td>15.00000</td>\n",
       "      <td>1.00000</td>\n",
       "      <td>1.00000</td>\n",
       "    </tr>\n",
       "    <tr>\n",
       "      <th>75%</th>\n",
       "      <td>58638.00000</td>\n",
       "      <td>15000.00000</td>\n",
       "      <td>38366.25000</td>\n",
       "      <td>443.00000</td>\n",
       "      <td>752.25000</td>\n",
       "      <td>210.00000</td>\n",
       "      <td>449.00000</td>\n",
       "      <td>6.00000</td>\n",
       "      <td>30.00000</td>\n",
       "      <td>3.00000</td>\n",
       "      <td>2.00000</td>\n",
       "    </tr>\n",
       "    <tr>\n",
       "      <th>max</th>\n",
       "      <td>65534.00000</td>\n",
       "      <td>65535.00000</td>\n",
       "      <td>65535.00000</td>\n",
       "      <td>65535.00000</td>\n",
       "      <td>1269359015.00000</td>\n",
       "      <td>948477220.00000</td>\n",
       "      <td>320881795.00000</td>\n",
       "      <td>1036116.00000</td>\n",
       "      <td>10824.00000</td>\n",
       "      <td>747520.00000</td>\n",
       "      <td>327208.00000</td>\n",
       "    </tr>\n",
       "  </tbody>\n",
       "</table>\n",
       "</div>"
      ],
      "text/plain": [
       "       Source Port Destination Port NAT Source Port NAT Destination Port  \\\n",
       "count  65532.00000      65532.00000     65532.00000          65532.00000   \n",
       "mean   49391.96934      10577.38581     19282.97276           2671.04993   \n",
       "std    15255.71254      18466.02704     21970.68967           9739.16228   \n",
       "min        0.00000          0.00000         0.00000              0.00000   \n",
       "25%    49183.00000         80.00000         0.00000              0.00000   \n",
       "50%    53776.50000        445.00000      8820.50000             53.00000   \n",
       "75%    58638.00000      15000.00000     38366.25000            443.00000   \n",
       "max    65534.00000      65535.00000     65535.00000          65535.00000   \n",
       "\n",
       "                  Bytes       Bytes Sent   Bytes Received        Packets  \\\n",
       "count       65532.00000      65532.00000      65532.00000    65532.00000   \n",
       "mean        97123.95009      22385.79691      74738.15318      102.86603   \n",
       "std       5618438.90905    3828138.64979    2463207.71188     5133.00235   \n",
       "min            60.00000         60.00000          0.00000        1.00000   \n",
       "25%            66.00000         66.00000          0.00000        1.00000   \n",
       "50%           168.00000         90.00000         79.00000        2.00000   \n",
       "75%           752.25000        210.00000        449.00000        6.00000   \n",
       "max    1269359015.00000  948477220.00000  320881795.00000  1036116.00000   \n",
       "\n",
       "      Elapsed Time (sec)     pkts_sent pkts_received  \n",
       "count        65532.00000   65532.00000   65532.00000  \n",
       "mean            65.83358      41.39953      61.46650  \n",
       "std            302.46176    3218.87129    2223.33227  \n",
       "min              0.00000       1.00000       0.00000  \n",
       "25%              0.00000       1.00000       0.00000  \n",
       "50%             15.00000       1.00000       1.00000  \n",
       "75%             30.00000       3.00000       2.00000  \n",
       "max          10824.00000  747520.00000  327208.00000  "
      ]
     },
     "execution_count": 111,
     "metadata": {},
     "output_type": "execute_result"
    }
   ],
   "source": [
    "df = pd.read_csv(r'C:\\Users\\drsco\\Documents\\GitHub\\QTW\\qtw\\case study 5\\log2.csv')\n",
    "df = df.round(5)\n",
    "df.info()\n",
    "df.describe().apply(lambda s: s.apply('{0:.5f}'.format))"
   ]
  },
  {
   "cell_type": "code",
   "execution_count": 112,
   "metadata": {},
   "outputs": [
    {
     "data": {
      "text/html": [
       "<div>\n",
       "<style scoped>\n",
       "    .dataframe tbody tr th:only-of-type {\n",
       "        vertical-align: middle;\n",
       "    }\n",
       "\n",
       "    .dataframe tbody tr th {\n",
       "        vertical-align: top;\n",
       "    }\n",
       "\n",
       "    .dataframe thead th {\n",
       "        text-align: right;\n",
       "    }\n",
       "</style>\n",
       "<table border=\"1\" class=\"dataframe\">\n",
       "  <thead>\n",
       "    <tr style=\"text-align: right;\">\n",
       "      <th></th>\n",
       "      <th>column_name</th>\n",
       "      <th>percent_missing</th>\n",
       "    </tr>\n",
       "  </thead>\n",
       "  <tbody>\n",
       "    <tr>\n",
       "      <th>Source Port</th>\n",
       "      <td>Source Port</td>\n",
       "      <td>0.0</td>\n",
       "    </tr>\n",
       "    <tr>\n",
       "      <th>Destination Port</th>\n",
       "      <td>Destination Port</td>\n",
       "      <td>0.0</td>\n",
       "    </tr>\n",
       "    <tr>\n",
       "      <th>NAT Source Port</th>\n",
       "      <td>NAT Source Port</td>\n",
       "      <td>0.0</td>\n",
       "    </tr>\n",
       "    <tr>\n",
       "      <th>NAT Destination Port</th>\n",
       "      <td>NAT Destination Port</td>\n",
       "      <td>0.0</td>\n",
       "    </tr>\n",
       "    <tr>\n",
       "      <th>Action</th>\n",
       "      <td>Action</td>\n",
       "      <td>0.0</td>\n",
       "    </tr>\n",
       "    <tr>\n",
       "      <th>Bytes</th>\n",
       "      <td>Bytes</td>\n",
       "      <td>0.0</td>\n",
       "    </tr>\n",
       "    <tr>\n",
       "      <th>Bytes Sent</th>\n",
       "      <td>Bytes Sent</td>\n",
       "      <td>0.0</td>\n",
       "    </tr>\n",
       "    <tr>\n",
       "      <th>Bytes Received</th>\n",
       "      <td>Bytes Received</td>\n",
       "      <td>0.0</td>\n",
       "    </tr>\n",
       "    <tr>\n",
       "      <th>Packets</th>\n",
       "      <td>Packets</td>\n",
       "      <td>0.0</td>\n",
       "    </tr>\n",
       "    <tr>\n",
       "      <th>Elapsed Time (sec)</th>\n",
       "      <td>Elapsed Time (sec)</td>\n",
       "      <td>0.0</td>\n",
       "    </tr>\n",
       "    <tr>\n",
       "      <th>pkts_sent</th>\n",
       "      <td>pkts_sent</td>\n",
       "      <td>0.0</td>\n",
       "    </tr>\n",
       "    <tr>\n",
       "      <th>pkts_received</th>\n",
       "      <td>pkts_received</td>\n",
       "      <td>0.0</td>\n",
       "    </tr>\n",
       "  </tbody>\n",
       "</table>\n",
       "</div>"
      ],
      "text/plain": [
       "                               column_name  percent_missing\n",
       "Source Port                    Source Port              0.0\n",
       "Destination Port          Destination Port              0.0\n",
       "NAT Source Port            NAT Source Port              0.0\n",
       "NAT Destination Port  NAT Destination Port              0.0\n",
       "Action                              Action              0.0\n",
       "Bytes                                Bytes              0.0\n",
       "Bytes Sent                      Bytes Sent              0.0\n",
       "Bytes Received              Bytes Received              0.0\n",
       "Packets                            Packets              0.0\n",
       "Elapsed Time (sec)      Elapsed Time (sec)              0.0\n",
       "pkts_sent                        pkts_sent              0.0\n",
       "pkts_received                pkts_received              0.0"
      ]
     },
     "execution_count": 112,
     "metadata": {},
     "output_type": "execute_result"
    }
   ],
   "source": [
    "percent_missing = df.isnull().sum() * 100 / len(df)\n",
    "#Put percents into df \n",
    "missing_value_df = pd.DataFrame({'column_name': df.columns,\n",
    "                                 'percent_missing': percent_missing})\n",
    "#Sort it and show the results\n",
    "missing_value_df.sort_values('percent_missing', inplace=True)\n",
    "missing_value_df"
   ]
  },
  {
   "cell_type": "code",
   "execution_count": 113,
   "metadata": {},
   "outputs": [
    {
     "data": {
      "text/plain": [
       "allow         37640\n",
       "deny          14987\n",
       "drop          12851\n",
       "reset-both       54\n",
       "Name: Action, dtype: int64"
      ]
     },
     "execution_count": 113,
     "metadata": {},
     "output_type": "execute_result"
    }
   ],
   "source": [
    "df['Action'].value_counts()"
   ]
  },
  {
   "cell_type": "code",
   "execution_count": 114,
   "metadata": {},
   "outputs": [
    {
     "data": {
      "text/plain": [
       "Text(0.5, 1.0, 'Value Counts for Action Taken by System')"
      ]
     },
     "execution_count": 114,
     "metadata": {},
     "output_type": "execute_result"
    },
    {
     "data": {
      "image/png": "[encoded data removed]",
      "text/plain": [
       "<Figure size 1080x576 with 1 Axes>"
      ]
     },
     "metadata": {},
     "output_type": "display_data"
    }
   ],
   "source": [
    "df.drop(df[df['Action'] == 'reset-both'].index, inplace = True)\n",
    "\n",
    "import seaborn as sns\n",
    "sns.set()\n",
    "sns.set(rc = {'figure.figsize':(15,8)})\n",
    "p = sns.histplot(df['Action'], kde=False)\n",
    "p.set_xlabel(\"Action Taken\", fontsize = 20)\n",
    "p.set_ylabel(\"Value Count\", fontsize = 20)\n",
    "p.set_title(\"Value Counts for Action Taken by System\", fontsize = 20)"
   ]
  },
  {
   "cell_type": "code",
   "execution_count": 115,
   "metadata": {},
   "outputs": [
    {
     "name": "stdout",
     "output_type": "stream",
     "text": [
      "       Source Port  Destination Port  NAT Source Port  NAT Destination Port  \\\n",
      "0         0.873165          0.000809         0.832944              0.000809   \n",
      "1         0.858455          0.051713         0.858442              0.051713   \n",
      "2         0.104999          0.767849         0.660182              0.767849   \n",
      "3         0.771401          0.051713         0.771389              0.051713   \n",
      "4         0.762993          0.006760         0.699596              0.006760   \n",
      "...            ...               ...              ...                   ...   \n",
      "65527     0.971877          0.001221         0.201984              0.001221   \n",
      "65528     0.777673          0.001221         0.205768              0.001221   \n",
      "65529     0.837291          0.006790         0.000000              0.000000   \n",
      "65530     0.837275          0.006790         0.000000              0.000000   \n",
      "65531     0.837230          0.006790         0.000000              0.000000   \n",
      "\n",
      "      Action         Bytes    Bytes Sent  Bytes Received       Packets  \\\n",
      "0      allow  9.217251e-08  3.584694e-08    2.586622e-07  9.651438e-07   \n",
      "1      allow  3.708959e-06  1.623655e-06    9.872794e-06  1.737259e-05   \n",
      "2      allow  1.402283e-07  6.115066e-08    3.739695e-07  9.651438e-07   \n",
      "3      allow  2.573740e-06  1.452855e-06    5.886903e-06  1.351201e-05   \n",
      "4      allow  1.992974e-05  7.082933e-06    5.790294e-05  2.895431e-05   \n",
      "...      ...           ...           ...             ...           ...   \n",
      "65527  allow  2.001010e-07  1.391705e-07    3.802023e-07  4.825719e-06   \n",
      "65528  allow  3.687436e-03  7.090524e-05    1.437734e-02  4.511082e-03   \n",
      "65529   drop  7.877992e-09  1.054322e-08    0.000000e+00  0.000000e+00   \n",
      "65530   drop  7.877992e-09  1.054322e-08    0.000000e+00  0.000000e+00   \n",
      "65531   drop  7.877992e-09  1.054322e-08    0.000000e+00  0.000000e+00   \n",
      "\n",
      "       Elapsed Time (sec)  pkts_sent  pkts_received  \n",
      "0                0.002772   0.000000       0.000003  \n",
      "1                0.001571   0.000012       0.000028  \n",
      "2                0.110772   0.000000       0.000003  \n",
      "3                0.001571   0.000009       0.000021  \n",
      "4                0.001478   0.000016       0.000055  \n",
      "...                   ...        ...            ...  \n",
      "65527            0.001386   0.000004       0.000006  \n",
      "65528            0.007114   0.001316       0.011277  \n",
      "65529            0.000000   0.000000       0.000000  \n",
      "65530            0.000000   0.000000       0.000000  \n",
      "65531            0.000000   0.000000       0.000000  \n",
      "\n",
      "[65478 rows x 12 columns]\n"
     ]
    }
   ],
   "source": [
    "from sklearn.preprocessing import MinMaxScaler\n",
    "\n",
    "mms = MinMaxScaler()\n",
    "dfScaled=df\n",
    "dfScaled[['Source Port','Destination Port','NAT Source Port',\n",
    "    'NAT Destination Port','Bytes','Bytes Sent','Bytes Received','Packets',\n",
    "    'Elapsed Time (sec)','pkts_sent','pkts_received']]=mms.fit_transform(dfScaled[['Source Port',\n",
    "    'Destination Port','NAT Source Port','NAT Destination Port','Bytes','Bytes Sent','Bytes Received',\n",
    "    'Packets','Elapsed Time (sec)','pkts_sent','pkts_received']])\n",
    "print(dfScaled)\n",
    "SVMDat = dfScaled.copy()"
   ]
  },
  {
   "cell_type": "code",
   "execution_count": 116,
   "metadata": {},
   "outputs": [
    {
     "data": {
      "text/plain": [
       "allow    37640\n",
       "deny     27838\n",
       "Name: Action2, dtype: int64"
      ]
     },
     "execution_count": 116,
     "metadata": {},
     "output_type": "execute_result"
    }
   ],
   "source": [
    "target_mod = {\n",
    "    'allow':'allow',\n",
    "    'deny':'deny',\n",
    "    'drop':'deny',\n",
    "    'reset-both':'deny'\n",
    "}\n",
    "df['Action2'] = df['Action'].map(target_mod)\n",
    "del df['Action']\n",
    "df['Action2'] = df['Action2'].astype('category')\n",
    "df['Action2'].value_counts(normalize=False)"
   ]
  },
  {
   "cell_type": "code",
   "execution_count": 117,
   "metadata": {},
   "outputs": [],
   "source": [
    "X = dfScaled.drop('Action2', axis=1)\n",
    "y = dfScaled['Action2']\n",
    "\n",
    "#Direct train/test split\n",
    "X_train, X_test, y_train, y_test = train_test_split(X, y, test_size=0.20, random_state=42)"
   ]
  },
  {
   "cell_type": "code",
   "execution_count": 118,
   "metadata": {},
   "outputs": [
    {
     "name": "stdout",
     "output_type": "stream",
     "text": [
      "ShuffleSplit(n_splits=5, random_state=58, test_size=0.2, train_size=None)\n"
     ]
    }
   ],
   "source": [
    "from sklearn.model_selection import ShuffleSplit\n",
    "cv_object = ShuffleSplit(n_splits=5,random_state=58,test_size  = 0.2)\n",
    "print(cv_object)"
   ]
  },
  {
   "cell_type": "code",
   "execution_count": 119,
   "metadata": {},
   "outputs": [],
   "source": [
    "from sklearn.datasets import make_classification\n",
    "from sklearn.svm import SVC\n",
    "from sklearn.experimental import enable_halving_search_cv  # noqa\n",
    "from sklearn.model_selection import HalvingGridSearchCV\n",
    "import pandas as pd\n",
    "param_grid= {'kernel': ('linear', 'rbf'),\n",
    "             'C': [.5, 10, 100]}\n",
    "base_estimator = SVC(gamma='scale')\n",
    "X, y = make_classification(n_samples=1000)\n",
    "sh = HalvingGridSearchCV(base_estimator, param_grid, cv=5,\n",
    "                         factor=2, min_resources=20).fit(X_train,y_train)\n",
    "sh.best_estimator_\n",
    "model = sh.best_estimator_"
   ]
  },
  {
   "cell_type": "code",
   "execution_count": 120,
   "metadata": {},
   "outputs": [
    {
     "data": {
      "text/plain": [
       "0.9935858277336591"
      ]
     },
     "execution_count": 120,
     "metadata": {},
     "output_type": "execute_result"
    }
   ],
   "source": [
    "from sklearn.metrics import accuracy_score\n",
    "svm = model.predict(X_test)\n",
    "accuracy_score(svm, y_test)"
   ]
  },
  {
   "cell_type": "code",
   "execution_count": 121,
   "metadata": {},
   "outputs": [
    {
     "name": "stdout",
     "output_type": "stream",
     "text": [
      "SVC(C=100)\n"
     ]
    }
   ],
   "source": [
    "print(sh.best_estimator_)"
   ]
  }
 ],
 "metadata": {
  "kernelspec": {
   "display_name": "Python 3.10.1 64-bit",
   "language": "python",
   "name": "python3"
  },
  "language_info": {
   "codemirror_mode": {
    "name": "ipython",
    "version": 3
   },
   "file_extension": ".py",
   "mimetype": "text/x-python",
   "name": "python",
   "nbconvert_exporter": "python",
   "pygments_lexer": "ipython3",
   "version": "3.10.1"
  },
  "orig_nbformat": 4,
  "vscode": {
   "interpreter": {
    "hash": "d5e22e80c5a5049300fcd1222e380e7a80cada809ed3c1dbd59a10e881ec2acb"
   }
  }
 },
 "nbformat": 4,
 "nbformat_minor": 2
}
