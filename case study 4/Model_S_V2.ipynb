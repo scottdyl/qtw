{
 "cells": [
  {
   "cell_type": "code",
   "execution_count": 15,
   "metadata": {},
   "outputs": [
    {
     "data": {
      "text/plain": [
       "['2year.arff', '3year.arff', '5year.arff', '4year.arff', '1year.arff']"
      ]
     },
     "execution_count": 15,
     "metadata": {},
     "output_type": "execute_result"
    }
   ],
   "source": [
    "import os\n",
    "from os import listdir\n",
    "from os.path import isfile, join\n",
    "dir_files = [i for i in os.listdir(os.getcwd() + '/data') if os.path.isfile(join(os.getcwd() + '/data', i))]\n",
    "dir_files"
   ]
  },
  {
   "cell_type": "code",
   "execution_count": 16,
   "metadata": {},
   "outputs": [],
   "source": [
    "from scipy.io import arff\n",
    "import pandas as pd\n",
    "import numpy as np\n",
    "\n",
    "from sklearn.decomposition import PCA\n",
    "from sklearn.preprocessing import StandardScaler\n",
    "from sklearn.model_selection import GridSearchCV\n",
    "from sklearn.metrics import accuracy_score, classification_report, confusion_matrix\n",
    "from sklearn.model_selection import train_test_split\n",
    "import matplotlib.pyplot as plt\n",
    "from xgboost import XGBClassifier\n",
    "from sklearn.ensemble import RandomForestClassifier"
   ]
  },
  {
   "cell_type": "code",
   "execution_count": 17,
   "metadata": {},
   "outputs": [
    {
     "name": "stdout",
     "output_type": "stream",
     "text": [
      "(10173, 65)\n",
      "(10503, 65)\n",
      "(5910, 65)\n",
      "(9792, 65)\n",
      "(7027, 65)\n",
      "43405\n"
     ]
    }
   ],
   "source": [
    "#combine all the files\n",
    "data_dict = {}\n",
    "full_df = pd.DataFrame()\n",
    "\n",
    "records = 0\n",
    "\n",
    "for f in dir_files:\n",
    "    temp_data = arff.loadarff(os.getcwd() + '/data/' +f)\n",
    "    temp_df = pd.DataFrame(temp_data[0])\n",
    "    print(temp_df.shape)\n",
    "    data_dict.update({f:temp_df})\n",
    "    full_df = pd.concat([full_df, temp_df])\n",
    "    records += temp_df.shape[0]\n",
    "\n",
    "print(records)"
   ]
  },
  {
   "cell_type": "code",
   "execution_count": 18,
   "metadata": {},
   "outputs": [],
   "source": [
    "full_df.reset_index(inplace=True,drop=True)"
   ]
  },
  {
   "cell_type": "code",
   "execution_count": 19,
   "metadata": {},
   "outputs": [
    {
     "data": {
      "text/html": [
       "<div>\n",
       "<style scoped>\n",
       "    .dataframe tbody tr th:only-of-type {\n",
       "        vertical-align: middle;\n",
       "    }\n",
       "\n",
       "    .dataframe tbody tr th {\n",
       "        vertical-align: top;\n",
       "    }\n",
       "\n",
       "    .dataframe thead th {\n",
       "        text-align: right;\n",
       "    }\n",
       "</style>\n",
       "<table border=\"1\" class=\"dataframe\">\n",
       "  <thead>\n",
       "    <tr style=\"text-align: right;\">\n",
       "      <th></th>\n",
       "      <th>index</th>\n",
       "      <th>missing</th>\n",
       "    </tr>\n",
       "  </thead>\n",
       "  <tbody>\n",
       "    <tr>\n",
       "      <th>0</th>\n",
       "      <td>Attr37</td>\n",
       "      <td>18984</td>\n",
       "    </tr>\n",
       "    <tr>\n",
       "      <th>1</th>\n",
       "      <td>Attr21</td>\n",
       "      <td>5854</td>\n",
       "    </tr>\n",
       "    <tr>\n",
       "      <th>2</th>\n",
       "      <td>Attr27</td>\n",
       "      <td>2764</td>\n",
       "    </tr>\n",
       "    <tr>\n",
       "      <th>3</th>\n",
       "      <td>Attr60</td>\n",
       "      <td>2152</td>\n",
       "    </tr>\n",
       "    <tr>\n",
       "      <th>4</th>\n",
       "      <td>Attr45</td>\n",
       "      <td>2147</td>\n",
       "    </tr>\n",
       "    <tr>\n",
       "      <th>...</th>\n",
       "      <td>...</td>\n",
       "      <td>...</td>\n",
       "    </tr>\n",
       "    <tr>\n",
       "      <th>60</th>\n",
       "      <td>Attr10</td>\n",
       "      <td>8</td>\n",
       "    </tr>\n",
       "    <tr>\n",
       "      <th>61</th>\n",
       "      <td>Attr57</td>\n",
       "      <td>7</td>\n",
       "    </tr>\n",
       "    <tr>\n",
       "      <th>62</th>\n",
       "      <td>Attr59</td>\n",
       "      <td>7</td>\n",
       "    </tr>\n",
       "    <tr>\n",
       "      <th>63</th>\n",
       "      <td>Attr55</td>\n",
       "      <td>1</td>\n",
       "    </tr>\n",
       "    <tr>\n",
       "      <th>64</th>\n",
       "      <td>class</td>\n",
       "      <td>0</td>\n",
       "    </tr>\n",
       "  </tbody>\n",
       "</table>\n",
       "<p>65 rows × 2 columns</p>\n",
       "</div>"
      ],
      "text/plain": [
       "     index  missing\n",
       "0   Attr37    18984\n",
       "1   Attr21     5854\n",
       "2   Attr27     2764\n",
       "3   Attr60     2152\n",
       "4   Attr45     2147\n",
       "..     ...      ...\n",
       "60  Attr10        8\n",
       "61  Attr57        7\n",
       "62  Attr59        7\n",
       "63  Attr55        1\n",
       "64   class        0\n",
       "\n",
       "[65 rows x 2 columns]"
      ]
     },
     "execution_count": 19,
     "metadata": {},
     "output_type": "execute_result"
    }
   ],
   "source": [
    "missing_vals = full_df.isna().sum()\n",
    "missing_vals = pd.DataFrame(missing_vals,columns=['missing'])\n",
    "missing_vals = missing_vals.sort_values(by = ['missing'],ascending=False)\n",
    "missing_vals.reset_index()"
   ]
  },
  {
   "cell_type": "code",
   "execution_count": 20,
   "metadata": {},
   "outputs": [
    {
     "data": {
      "text/plain": [
       "Text(0, 0.5, 'Attributes')"
      ]
     },
     "execution_count": 20,
     "metadata": {},
     "output_type": "execute_result"
    },
    {
     "data": {
      "image/png": "[encoded data removed]",
      "text/plain": [
       "<Figure size 1440x720 with 1 Axes>"
      ]
     },
     "metadata": {
      "needs_background": "light"
     },
     "output_type": "display_data"
    }
   ],
   "source": [
    "top_five_missing  = missing_vals.head(5)\n",
    "ax = top_five_missing.plot.barh(title = 'Top 5 Missing Value Attributes for All Years'\n",
    ",figsize = (20,10),fontsize=24)\n",
    "ax.title.set_size(40)\n",
    "ax.set_xlabel('Number of Missing Values',fontsize = 24)\n",
    "ax.set_ylabel('Attributes',fontsize = 24)\n"
   ]
  },
  {
   "cell_type": "code",
   "execution_count": 21,
   "metadata": {},
   "outputs": [
    {
     "data": {
      "text/plain": [
       "b'0'    41314\n",
       "b'1'     2091\n",
       "Name: class, dtype: int64"
      ]
     },
     "execution_count": 21,
     "metadata": {},
     "output_type": "execute_result"
    }
   ],
   "source": [
    "full_df['class'].value_counts()"
   ]
  },
  {
   "cell_type": "code",
   "execution_count": 22,
   "metadata": {},
   "outputs": [
    {
     "data": {
      "text/plain": [
       "0.9518258265176823"
      ]
     },
     "execution_count": 22,
     "metadata": {},
     "output_type": "execute_result"
    }
   ],
   "source": [
    "41314/43405"
   ]
  },
  {
   "cell_type": "code",
   "execution_count": 23,
   "metadata": {},
   "outputs": [
    {
     "data": {
      "text/plain": [
       "[b'0', b'1']"
      ]
     },
     "execution_count": 23,
     "metadata": {},
     "output_type": "execute_result"
    }
   ],
   "source": [
    "classes = []\n",
    "uniqueClass = full_df['class'].unique()\n",
    "classes.append(uniqueClass[0])\n",
    "classes.append(uniqueClass[1])\n",
    "classes"
   ]
  },
  {
   "cell_type": "code",
   "execution_count": 24,
   "metadata": {},
   "outputs": [
    {
     "data": {
      "text/plain": [
       "{b'0': 0, b'1': 1}"
      ]
     },
     "execution_count": 24,
     "metadata": {},
     "output_type": "execute_result"
    }
   ],
   "source": [
    "class_dict = {}\n",
    "\n",
    "for index, i in enumerate(classes):\n",
    "    class_dict.update({i:index})\n",
    "\n",
    "class_dict"
   ]
  },
  {
   "cell_type": "code",
   "execution_count": 25,
   "metadata": {},
   "outputs": [],
   "source": [
    "full_df['class'] = full_df['class'].map(class_dict)"
   ]
  },
  {
   "cell_type": "markdown",
   "metadata": {},
   "source": [
    "# Random Forest base model no cv to get feature importance"
   ]
  },
  {
   "cell_type": "code",
   "execution_count": 26,
   "metadata": {
    "scrolled": true
   },
   "outputs": [
    {
     "data": {
      "text/plain": [
       "0    41314\n",
       "1     2091\n",
       "Name: class, dtype: int64"
      ]
     },
     "execution_count": 26,
     "metadata": {},
     "output_type": "execute_result"
    }
   ],
   "source": [
    "full_df['class'].value_counts()"
   ]
  },
  {
   "cell_type": "code",
   "execution_count": 27,
   "metadata": {},
   "outputs": [
    {
     "data": {
      "text/plain": [
       "Attr1       8\n",
       "Attr2       8\n",
       "Attr3       8\n",
       "Attr4     134\n",
       "Attr5      89\n",
       "         ... \n",
       "Attr61    102\n",
       "Attr62    127\n",
       "Attr63    134\n",
       "Attr64    812\n",
       "class       0\n",
       "Length: 65, dtype: int64"
      ]
     },
     "execution_count": 27,
     "metadata": {},
     "output_type": "execute_result"
    }
   ],
   "source": [
    "full_df.isna().sum()"
   ]
  },
  {
   "cell_type": "code",
   "execution_count": 28,
   "metadata": {},
   "outputs": [],
   "source": [
    "# X = full_df.loc[:, full_df.columns != 'class'].values\n",
    "# y = full_df['class'].values\n",
    "\n",
    "# # X_train, X_test, y_train, y_test = train_test_split(X, y, test_size = 0.25, random_state = 58)"
   ]
  },
  {
   "cell_type": "code",
   "execution_count": 29,
   "metadata": {},
   "outputs": [],
   "source": [
    "X = full_df.drop(\"class\", axis=1).copy()\n",
    "y = full_df['class'].values"
   ]
  },
  {
   "cell_type": "code",
   "execution_count": 30,
   "metadata": {},
   "outputs": [
    {
     "data": {
      "text/plain": [
       "Index(['Attr1', 'Attr2', 'Attr3', 'Attr4', 'Attr5', 'Attr6', 'Attr7', 'Attr8',\n",
       "       'Attr9', 'Attr10', 'Attr11', 'Attr12', 'Attr13', 'Attr14', 'Attr15',\n",
       "       'Attr16', 'Attr17', 'Attr18', 'Attr19', 'Attr20', 'Attr21', 'Attr22',\n",
       "       'Attr23', 'Attr24', 'Attr25', 'Attr26', 'Attr27', 'Attr28', 'Attr29',\n",
       "       'Attr30', 'Attr31', 'Attr32', 'Attr33', 'Attr34', 'Attr35', 'Attr36',\n",
       "       'Attr37', 'Attr38', 'Attr39', 'Attr40', 'Attr41', 'Attr42', 'Attr43',\n",
       "       'Attr44', 'Attr45', 'Attr46', 'Attr47', 'Attr48', 'Attr49', 'Attr50',\n",
       "       'Attr51', 'Attr52', 'Attr53', 'Attr54', 'Attr55', 'Attr56', 'Attr57',\n",
       "       'Attr58', 'Attr59', 'Attr60', 'Attr61', 'Attr62', 'Attr63', 'Attr64'],\n",
       "      dtype='object')"
      ]
     },
     "execution_count": 30,
     "metadata": {},
     "output_type": "execute_result"
    }
   ],
   "source": [
    "X.columns"
   ]
  },
  {
   "cell_type": "code",
   "execution_count": 31,
   "metadata": {},
   "outputs": [],
   "source": [
    "from sklearn.impute import SimpleImputer\n",
    "\n",
    "imp_mean = SimpleImputer(missing_values = np.nan, strategy = 'mean')\n",
    "X_imp = imp_mean.fit_transform(X)\n",
    "\n",
    "\n"
   ]
  },
  {
   "cell_type": "code",
   "execution_count": 33,
   "metadata": {},
   "outputs": [],
   "source": [
    "X_imp_df = pd.DataFrame(X_imp, columns=imp_mean.feature_names_in_)"
   ]
  },
  {
   "cell_type": "code",
   "execution_count": 38,
   "metadata": {},
   "outputs": [],
   "source": [
    "X_imp_df.reset_index(inplace=True,drop=True)"
   ]
  },
  {
   "cell_type": "code",
   "execution_count": 39,
   "metadata": {},
   "outputs": [],
   "source": [
    "from sklearn.preprocessing import StandardScaler\n",
    "stdsclr = StandardScaler()\n",
    "X_imp_scaled  = stdsclr.fit_transform(X_imp_df)"
   ]
  },
  {
   "cell_type": "code",
   "execution_count": 41,
   "metadata": {},
   "outputs": [],
   "source": [
    "X_imp_scaled_df = pd.DataFrame(X_imp_scaled, columns=stdsclr.feature_names_in_)"
   ]
  },
  {
   "cell_type": "code",
   "execution_count": 18,
   "metadata": {
    "scrolled": true
   },
   "outputs": [
    {
     "data": {
      "text/plain": [
       "{'bootstrap': True,\n",
       " 'ccp_alpha': 0.0,\n",
       " 'class_weight': None,\n",
       " 'criterion': 'gini',\n",
       " 'max_depth': None,\n",
       " 'max_features': 'auto',\n",
       " 'max_leaf_nodes': None,\n",
       " 'max_samples': None,\n",
       " 'min_impurity_decrease': 0.0,\n",
       " 'min_samples_leaf': 1,\n",
       " 'min_samples_split': 2,\n",
       " 'min_weight_fraction_leaf': 0.0,\n",
       " 'n_estimators': 100,\n",
       " 'n_jobs': None,\n",
       " 'oob_score': False,\n",
       " 'random_state': 58,\n",
       " 'verbose': 0,\n",
       " 'warm_start': False}"
      ]
     },
     "execution_count": 18,
     "metadata": {},
     "output_type": "execute_result"
    }
   ],
   "source": [
    "rf_clf1 = RandomForestClassifier(random_state = 58)\n",
    "rf_clf1.fit(X_train, y_train)\n",
    "rf_clf1.get_params()"
   ]
  },
  {
   "cell_type": "code",
   "execution_count": 19,
   "metadata": {
    "scrolled": true
   },
   "outputs": [
    {
     "name": "stdout",
     "output_type": "stream",
     "text": [
      "Confusion Matrix \n",
      " [[10301    30]\n",
      " [  358   163]]\n",
      "\n",
      " Classification Report \n",
      "               precision    recall  f1-score   support\n",
      "\n",
      "           0   0.966413  0.997096  0.981515     10331\n",
      "           1   0.844560  0.312860  0.456583       521\n",
      "\n",
      "    accuracy                       0.964246     10852\n",
      "   macro avg   0.905486  0.654978  0.719049     10852\n",
      "weighted avg   0.960563  0.964246  0.956313     10852\n",
      "\n"
     ]
    }
   ],
   "source": [
    "y_hat_rf_test1 = rf_clf1.predict(X_test)\n",
    "print(\"Confusion Matrix \\n\",confusion_matrix(y_test, y_hat_rf_test1))\n",
    "print(\"\\n Classification Report \\n\",classification_report(y_test, y_hat_rf_test1, digits=6))"
   ]
  },
  {
   "cell_type": "markdown",
   "metadata": {},
   "source": [
    "# Feature Importance"
   ]
  },
  {
   "cell_type": "code",
   "execution_count": 20,
   "metadata": {},
   "outputs": [
    {
     "data": {
      "image/png": "[encoded data removed]",
      "text/plain": [
       "<Figure size 1440x288 with 1 Axes>"
      ]
     },
     "metadata": {
      "needs_background": "light"
     },
     "output_type": "display_data"
    }
   ],
   "source": [
    "feature_importances = rf_clf1.feature_importances_\n",
    "sorted_indices = np.argsort(feature_importances)[::-1]\n",
    "plt.figure(figsize=(20,4))\n",
    "plt.title('Feature Importance')\n",
    "plt.bar(range(X_train.shape[1]), feature_importances[sorted_indices], align='center')\n",
    "plt.xticks(range(X_train.shape[1]), X_train.columns[sorted_indices], rotation=90)\n",
    "plt.tight_layout()\n",
    "plt.show()"
   ]
  },
  {
   "cell_type": "markdown",
   "metadata": {},
   "source": [
    "# Random Forest Gridsearch\n"
   ]
  },
  {
   "cell_type": "code",
   "execution_count": 43,
   "metadata": {},
   "outputs": [],
   "source": [
    "from sklearn.model_selection import StratifiedShuffleSplit\n",
    "from sklearn.model_selection import StratifiedKFold\n",
    "cv_grid = StratifiedKFold(n_splits=10,random_state=58, shuffle=True)"
   ]
  },
  {
   "cell_type": "code",
   "execution_count": null,
   "metadata": {},
   "outputs": [],
   "source": []
  },
  {
   "cell_type": "code",
   "execution_count": 75,
   "metadata": {},
   "outputs": [],
   "source": [
    "from sklearn.metrics import make_scorer, log_loss\n",
    "logloss_scorer = make_scorer(log_loss, greater_is_better=False, needs_proba=True)"
   ]
  },
  {
   "cell_type": "code",
   "execution_count": 86,
   "metadata": {
    "scrolled": true
   },
   "outputs": [
    {
     "data": {
      "text/plain": [
       "GridSearchCV(cv=StratifiedKFold(n_splits=10, random_state=58, shuffle=True),\n",
       "             estimator=RandomForestClassifier(random_state=58), n_jobs=2,\n",
       "             param_grid={'class_weight': [None], 'max_depth': [20],\n",
       "                         'max_features': ['auto'],\n",
       "                         'n_estimators': [35, 40, 45]},\n",
       "             scoring=make_scorer(log_loss, greater_is_better=False, needs_proba=True))"
      ]
     },
     "execution_count": 86,
     "metadata": {},
     "output_type": "execute_result"
    }
   ],
   "source": [
    "rf_clf2 = RandomForestClassifier(random_state=58)\n",
    "param_grid = { \n",
    "    'n_estimators': [35,40,45],\n",
    "    'max_features': ['auto'],\n",
    "    'max_depth' : [20],\n",
    "    'class_weight' : [None]\n",
    "}\n",
    "CV_rfc = GridSearchCV(estimator=rf_clf2, param_grid=param_grid, cv=cv_grid, n_jobs=2,scoring=logloss_scorer)\n",
    "CV_rfc.fit(X_imp_scaled, y)"
   ]
  },
  {
   "cell_type": "code",
   "execution_count": 87,
   "metadata": {},
   "outputs": [
    {
     "data": {
      "text/plain": [
       "{'class_weight': None,\n",
       " 'max_depth': 20,\n",
       " 'max_features': 'auto',\n",
       " 'n_estimators': 45}"
      ]
     },
     "execution_count": 87,
     "metadata": {},
     "output_type": "execute_result"
    }
   ],
   "source": [
    "best_model = CV_rfc.best_params_\n",
    "CV_rfc.best_params_"
   ]
  },
  {
   "cell_type": "code",
   "execution_count": 88,
   "metadata": {},
   "outputs": [
    {
     "data": {
      "text/plain": [
       "RandomForestClassifier(max_depth=20, n_estimators=45, random_state=58)"
      ]
     },
     "execution_count": 88,
     "metadata": {},
     "output_type": "execute_result"
    }
   ],
   "source": [
    "CV_rfc.best_estimator_"
   ]
  },
  {
   "cell_type": "code",
   "execution_count": 89,
   "metadata": {},
   "outputs": [],
   "source": [
    "from sklearn.model_selection import cross_val_predict\n",
    "from sklearn.metrics import confusion_matrix\n",
    "y_pred = cross_val_predict(CV_rfc.best_estimator_, X_imp_scaled, y, cv=cv_grid, n_jobs=2)"
   ]
  },
  {
   "cell_type": "code",
   "execution_count": 90,
   "metadata": {},
   "outputs": [],
   "source": [
    "conf_mat = confusion_matrix(y, y_pred)\n",
    "cl_report = classification_report(y, y_pred, digits=6)"
   ]
  },
  {
   "cell_type": "code",
   "execution_count": 91,
   "metadata": {},
   "outputs": [
    {
     "data": {
      "text/plain": [
       "array([[41202,   112],\n",
       "       [ 1355,   736]])"
      ]
     },
     "execution_count": 91,
     "metadata": {},
     "output_type": "execute_result"
    }
   ],
   "source": [
    "conf_mat"
   ]
  },
  {
   "cell_type": "code",
   "execution_count": 92,
   "metadata": {
    "scrolled": false
   },
   "outputs": [
    {
     "name": "stdout",
     "output_type": "stream",
     "text": [
      "\n",
      " Classification Report \n",
      "               precision    recall  f1-score   support\n",
      "\n",
      "           0   0.968160  0.997289  0.982509     41314\n",
      "           1   0.867925  0.351985  0.500851      2091\n",
      "\n",
      "    accuracy                       0.966202     43405\n",
      "   macro avg   0.918042  0.674637  0.741680     43405\n",
      "weighted avg   0.963332  0.966202  0.959305     43405\n",
      "\n"
     ]
    }
   ],
   "source": [
    "print(\"\\n Classification Report \\n\",cl_report)"
   ]
  },
  {
   "cell_type": "markdown",
   "metadata": {},
   "source": [
    "# XGBoost"
   ]
  },
  {
   "cell_type": "code",
   "execution_count": 94,
   "metadata": {},
   "outputs": [
    {
     "name": "stdout",
     "output_type": "stream",
     "text": [
      "Fitting 10 folds for each of 1 candidates, totalling 10 fits\n",
      "[0]\tvalidation_0-logloss:0.64836\n",
      "[0]\tvalidation_0-logloss:0.64840\n",
      "[1]\tvalidation_0-logloss:0.60789\n",
      "[1]\tvalidation_0-logloss:0.60780\n",
      "[2]\tvalidation_0-logloss:0.57085\n",
      "[2]\tvalidation_0-logloss:0.57089\n",
      "[3]\tvalidation_0-logloss:0.53699\n",
      "[3]\tvalidation_0-logloss:0.53692\n",
      "[4]\tvalidation_0-logloss:0.50606\n",
      "[4]\tvalidation_0-logloss:0.50586\n",
      "[5]\tvalidation_0-logloss:0.47741\n",
      "[5]\tvalidation_0-logloss:0.47731\n",
      "[6]\tvalidation_0-logloss:0.45116\n",
      "[6]\tvalidation_0-logloss:0.45089\n",
      "[7]\tvalidation_0-logloss:0.42679\n",
      "[7]\tvalidation_0-logloss:0.42654\n",
      "[8]\tvalidation_0-logloss:0.40411\n",
      "[8]\tvalidation_0-logloss:0.40369\n",
      "[9]\tvalidation_0-logloss:0.38301\n",
      "[9]\tvalidation_0-logloss:0.38265\n",
      "[10]\tvalidation_0-logloss:0.36327\n",
      "[10]\tvalidation_0-logloss:0.36301\n",
      "[11]\tvalidation_0-logloss:0.34492\n",
      "[11]\tvalidation_0-logloss:0.34476\n",
      "[12]\tvalidation_0-logloss:0.32776\n",
      "[12]\tvalidation_0-logloss:0.32773\n",
      "[13]\tvalidation_0-logloss:0.31174\n",
      "[13]\tvalidation_0-logloss:0.31160\n",
      "[14]\tvalidation_0-logloss:0.29673\n",
      "[14]\tvalidation_0-logloss:0.29645\n",
      "[15]\tvalidation_0-logloss:0.28265\n",
      "[15]\tvalidation_0-logloss:0.28228\n",
      "[16]\tvalidation_0-logloss:0.26938\n",
      "[16]\tvalidation_0-logloss:0.26902\n",
      "[17]\tvalidation_0-logloss:0.25708\n",
      "[17]\tvalidation_0-logloss:0.25666\n",
      "[18]\tvalidation_0-logloss:0.24534\n",
      "[18]\tvalidation_0-logloss:0.24505\n",
      "[19]\tvalidation_0-logloss:0.23432\n",
      "[19]\tvalidation_0-logloss:0.23412\n",
      "[20]\tvalidation_0-logloss:0.22390\n",
      "[20]\tvalidation_0-logloss:0.22377\n",
      "[21]\tvalidation_0-logloss:0.21412\n",
      "[21]\tvalidation_0-logloss:0.21379\n",
      "[22]\tvalidation_0-logloss:0.20490\n",
      "[22]\tvalidation_0-logloss:0.20448\n",
      "[23]\tvalidation_0-logloss:0.19608\n",
      "[23]\tvalidation_0-logloss:0.19565\n",
      "[24]\tvalidation_0-logloss:0.18769\n",
      "[24]\tvalidation_0-logloss:0.18735\n",
      "[25]\tvalidation_0-logloss:0.17974\n",
      "[25]\tvalidation_0-logloss:0.17939\n",
      "[26]\tvalidation_0-logloss:0.17224\n",
      "[26]\tvalidation_0-logloss:0.17200\n",
      "[27]\tvalidation_0-logloss:0.16516\n",
      "[27]\tvalidation_0-logloss:0.16490\n",
      "[28]\tvalidation_0-logloss:0.15841\n",
      "[28]\tvalidation_0-logloss:0.15822\n",
      "[29]\tvalidation_0-logloss:0.15200\n",
      "[29]\tvalidation_0-logloss:0.15188\n",
      "[30]\tvalidation_0-logloss:0.14590\n",
      "[30]\tvalidation_0-logloss:0.14594\n",
      "[31]\tvalidation_0-logloss:0.14008\n",
      "[31]\tvalidation_0-logloss:0.14030\n",
      "[32]\tvalidation_0-logloss:0.13461\n",
      "[32]\tvalidation_0-logloss:0.13486\n",
      "[33]\tvalidation_0-logloss:0.12939\n",
      "[33]\tvalidation_0-logloss:0.12976\n",
      "[34]\tvalidation_0-logloss:0.12449\n",
      "[34]\tvalidation_0-logloss:0.12490\n",
      "[35]\tvalidation_0-logloss:0.11982\n",
      "[35]\tvalidation_0-logloss:0.12013\n",
      "[36]\tvalidation_0-logloss:0.11537\n",
      "[36]\tvalidation_0-logloss:0.11559\n",
      "[37]\tvalidation_0-logloss:0.11107\n",
      "[37]\tvalidation_0-logloss:0.11131\n",
      "[38]\tvalidation_0-logloss:0.10712\n",
      "[38]\tvalidation_0-logloss:0.10726\n",
      "[39]\tvalidation_0-logloss:0.10329\n",
      "[39]\tvalidation_0-logloss:0.10339\n",
      "[40]\tvalidation_0-logloss:0.09960\n",
      "[40]\tvalidation_0-logloss:0.09969\n",
      "[41]\tvalidation_0-logloss:0.09621\n",
      "[41]\tvalidation_0-logloss:0.09612\n",
      "[42]\tvalidation_0-logloss:0.09284\n",
      "[42]\tvalidation_0-logloss:0.09275\n",
      "[43]\tvalidation_0-logloss:0.08969\n",
      "[43]\tvalidation_0-logloss:0.08952\n",
      "[44]\tvalidation_0-logloss:0.08664\n",
      "[44]\tvalidation_0-logloss:0.08651\n",
      "[45]\tvalidation_0-logloss:0.08367\n",
      "[45]\tvalidation_0-logloss:0.08358\n",
      "[46]\tvalidation_0-logloss:0.08090\n",
      "[46]\tvalidation_0-logloss:0.08083\n",
      "[47]\tvalidation_0-logloss:0.07829\n",
      "[47]\tvalidation_0-logloss:0.07818\n",
      "[48]\tvalidation_0-logloss:0.07573\n",
      "[48]\tvalidation_0-logloss:0.07567\n",
      "[49]\tvalidation_0-logloss:0.07331\n",
      "[49]\tvalidation_0-logloss:0.07328\n",
      "[50]\tvalidation_0-logloss:0.07094\n",
      "[50]\tvalidation_0-logloss:0.07100\n",
      "[51]\tvalidation_0-logloss:0.06871\n",
      "[51]\tvalidation_0-logloss:0.06879\n",
      "[52]\tvalidation_0-logloss:0.06659\n",
      "[52]\tvalidation_0-logloss:0.06674\n",
      "[53]\tvalidation_0-logloss:0.06458\n",
      "[53]\tvalidation_0-logloss:0.06480\n",
      "[54]\tvalidation_0-logloss:0.06270\n",
      "[54]\tvalidation_0-logloss:0.06286\n",
      "[55]\tvalidation_0-logloss:0.06089\n",
      "[55]\tvalidation_0-logloss:0.06101\n",
      "[56]\tvalidation_0-logloss:0.05912\n",
      "[56]\tvalidation_0-logloss:0.05923\n",
      "[57]\tvalidation_0-logloss:0.05744\n",
      "[57]\tvalidation_0-logloss:0.05754\n",
      "[58]\tvalidation_0-logloss:0.05586\n",
      "[58]\tvalidation_0-logloss:0.05595\n",
      "[59]\tvalidation_0-logloss:0.05432\n",
      "[59]\tvalidation_0-logloss:0.05438\n",
      "[0]\tvalidation_0-logloss:0.64831\n",
      "[0]\tvalidation_0-logloss:0.64844\n",
      "[1]\tvalidation_0-logloss:0.60774\n",
      "[1]\tvalidation_0-logloss:0.60798\n",
      "[2]\tvalidation_0-logloss:0.57075\n",
      "[2]\tvalidation_0-logloss:0.57113\n",
      "[3]\tvalidation_0-logloss:0.53698\n",
      "[3]\tvalidation_0-logloss:0.53743\n",
      "[4]\tvalidation_0-logloss:0.50613\n",
      "[4]\tvalidation_0-logloss:0.50645\n",
      "[5]\tvalidation_0-logloss:0.47741\n",
      "[5]\tvalidation_0-logloss:0.47799\n",
      "[6]\tvalidation_0-logloss:0.45100\n",
      "[6]\tvalidation_0-logloss:0.45158\n",
      "[7]\tvalidation_0-logloss:0.42652\n",
      "[7]\tvalidation_0-logloss:0.42715\n",
      "[8]\tvalidation_0-logloss:0.40392\n",
      "[8]\tvalidation_0-logloss:0.40445\n",
      "[9]\tvalidation_0-logloss:0.38274\n",
      "[9]\tvalidation_0-logloss:0.38341\n",
      "[10]\tvalidation_0-logloss:0.36300\n",
      "[10]\tvalidation_0-logloss:0.36373\n",
      "[11]\tvalidation_0-logloss:0.34457\n",
      "[11]\tvalidation_0-logloss:0.34545\n",
      "[12]\tvalidation_0-logloss:0.32739\n",
      "[12]\tvalidation_0-logloss:0.32813\n",
      "[13]\tvalidation_0-logloss:0.31135\n",
      "[13]\tvalidation_0-logloss:0.31220\n",
      "[14]\tvalidation_0-logloss:0.29624\n",
      "[14]\tvalidation_0-logloss:0.29708\n",
      "[15]\tvalidation_0-logloss:0.28204\n",
      "[15]\tvalidation_0-logloss:0.28302\n",
      "[16]\tvalidation_0-logloss:0.26884\n",
      "[16]\tvalidation_0-logloss:0.26974\n",
      "[17]\tvalidation_0-logloss:0.25631\n",
      "[17]\tvalidation_0-logloss:0.25713\n",
      "[18]\tvalidation_0-logloss:0.24463\n",
      "[18]\tvalidation_0-logloss:0.24542\n",
      "[19]\tvalidation_0-logloss:0.23352\n",
      "[19]\tvalidation_0-logloss:0.23428\n",
      "[20]\tvalidation_0-logloss:0.22310\n",
      "[20]\tvalidation_0-logloss:0.22395\n",
      "[21]\tvalidation_0-logloss:0.21319\n",
      "[21]\tvalidation_0-logloss:0.21407\n",
      "[22]\tvalidation_0-logloss:0.20381\n",
      "[22]\tvalidation_0-logloss:0.20480\n",
      "[23]\tvalidation_0-logloss:0.19496\n",
      "[23]\tvalidation_0-logloss:0.19595\n",
      "[24]\tvalidation_0-logloss:0.18666\n",
      "[24]\tvalidation_0-logloss:0.18763\n",
      "[25]\tvalidation_0-logloss:0.17878\n",
      "[25]\tvalidation_0-logloss:0.17972\n",
      "[26]\tvalidation_0-logloss:0.17125\n",
      "[26]\tvalidation_0-logloss:0.17230\n",
      "[27]\tvalidation_0-logloss:0.16418\n",
      "[27]\tvalidation_0-logloss:0.16511\n",
      "[28]\tvalidation_0-logloss:0.15743\n",
      "[28]\tvalidation_0-logloss:0.15831\n",
      "[29]\tvalidation_0-logloss:0.15105\n",
      "[29]\tvalidation_0-logloss:0.15195\n",
      "[30]\tvalidation_0-logloss:0.14500\n",
      "[30]\tvalidation_0-logloss:0.14595\n",
      "[31]\tvalidation_0-logloss:0.13930\n",
      "[31]\tvalidation_0-logloss:0.14028\n",
      "[32]\tvalidation_0-logloss:0.13382\n",
      "[32]\tvalidation_0-logloss:0.13482\n",
      "[33]\tvalidation_0-logloss:0.12865\n",
      "[33]\tvalidation_0-logloss:0.12959\n",
      "[34]\tvalidation_0-logloss:0.12370\n",
      "[34]\tvalidation_0-logloss:0.12459\n",
      "[35]\tvalidation_0-logloss:0.11901\n",
      "[35]\tvalidation_0-logloss:0.11991\n",
      "[36]\tvalidation_0-logloss:0.11450\n",
      "[36]\tvalidation_0-logloss:0.11546\n",
      "[37]\tvalidation_0-logloss:0.11029\n",
      "[37]\tvalidation_0-logloss:0.11110\n",
      "[38]\tvalidation_0-logloss:0.10622\n",
      "[38]\tvalidation_0-logloss:0.10706\n",
      "[39]\tvalidation_0-logloss:0.10233\n",
      "[39]\tvalidation_0-logloss:0.10323\n",
      "[40]\tvalidation_0-logloss:0.09861\n",
      "[40]\tvalidation_0-logloss:0.09960\n",
      "[41]\tvalidation_0-logloss:0.09511\n",
      "[41]\tvalidation_0-logloss:0.09608\n",
      "[42]\tvalidation_0-logloss:0.09178\n",
      "[42]\tvalidation_0-logloss:0.09274\n",
      "[43]\tvalidation_0-logloss:0.08866\n",
      "[43]\tvalidation_0-logloss:0.08946\n",
      "[44]\tvalidation_0-logloss:0.08557\n",
      "[44]\tvalidation_0-logloss:0.08646\n",
      "[45]\tvalidation_0-logloss:0.08277\n",
      "[45]\tvalidation_0-logloss:0.08354\n",
      "[46]\tvalidation_0-logloss:0.08005\n",
      "[46]\tvalidation_0-logloss:0.08081\n",
      "[47]\tvalidation_0-logloss:0.07734\n",
      "[47]\tvalidation_0-logloss:0.07822\n",
      "[48]\tvalidation_0-logloss:0.07483\n",
      "[48]\tvalidation_0-logloss:0.07569\n",
      "[49]\tvalidation_0-logloss:0.07247\n",
      "[49]\tvalidation_0-logloss:0.07329\n",
      "[50]\tvalidation_0-logloss:0.07014\n",
      "[50]\tvalidation_0-logloss:0.07102\n",
      "[51]\tvalidation_0-logloss:0.06795\n",
      "[51]\tvalidation_0-logloss:0.06881\n",
      "[52]\tvalidation_0-logloss:0.06587\n",
      "[52]\tvalidation_0-logloss:0.06672\n",
      "[53]\tvalidation_0-logloss:0.06388\n",
      "[53]\tvalidation_0-logloss:0.06474\n",
      "[54]\tvalidation_0-logloss:0.06195\n",
      "[54]\tvalidation_0-logloss:0.06283\n",
      "[55]\tvalidation_0-logloss:0.06012\n",
      "[55]\tvalidation_0-logloss:0.06106\n",
      "[56]\tvalidation_0-logloss:0.05836\n",
      "[56]\tvalidation_0-logloss:0.05936\n",
      "[57]\tvalidation_0-logloss:0.05670\n",
      "[57]\tvalidation_0-logloss:0.05762\n",
      "[58]\tvalidation_0-logloss:0.05503\n",
      "[58]\tvalidation_0-logloss:0.05604\n",
      "[59]\tvalidation_0-logloss:0.05355\n",
      "[59]\tvalidation_0-logloss:0.05446\n",
      "[0]\tvalidation_0-logloss:0.64859\n",
      "[0]\tvalidation_0-logloss:0.64866\n",
      "[1]\tvalidation_0-logloss:0.60813\n"
     ]
    },
    {
     "name": "stdout",
     "output_type": "stream",
     "text": [
      "[1]\tvalidation_0-logloss:0.60830\n",
      "[2]\tvalidation_0-logloss:0.57122\n",
      "[2]\tvalidation_0-logloss:0.57159\n",
      "[3]\tvalidation_0-logloss:0.53763\n",
      "[3]\tvalidation_0-logloss:0.53770\n",
      "[4]\tvalidation_0-logloss:0.50653\n",
      "[4]\tvalidation_0-logloss:0.50668\n",
      "[5]\tvalidation_0-logloss:0.47812\n",
      "[5]\tvalidation_0-logloss:0.47805\n",
      "[6]\tvalidation_0-logloss:0.45161\n",
      "[6]\tvalidation_0-logloss:0.45164\n",
      "[7]\tvalidation_0-logloss:0.42689\n",
      "[7]\tvalidation_0-logloss:0.42721\n",
      "[8]\tvalidation_0-logloss:0.40435\n",
      "[8]\tvalidation_0-logloss:0.40456\n",
      "[9]\tvalidation_0-logloss:0.38298\n",
      "[9]\tvalidation_0-logloss:0.38350\n",
      "[10]\tvalidation_0-logloss:0.36312\n",
      "[10]\tvalidation_0-logloss:0.36384\n",
      "[11]\tvalidation_0-logloss:0.34477\n",
      "[11]\tvalidation_0-logloss:0.34543\n",
      "[12]\tvalidation_0-logloss:0.32748\n",
      "[12]\tvalidation_0-logloss:0.32819\n",
      "[13]\tvalidation_0-logloss:0.31129\n",
      "[13]\tvalidation_0-logloss:0.31207\n",
      "[14]\tvalidation_0-logloss:0.29636\n",
      "[14]\tvalidation_0-logloss:0.29690\n",
      "[15]\tvalidation_0-logloss:0.28214\n",
      "[15]\tvalidation_0-logloss:0.28284\n",
      "[16]\tvalidation_0-logloss:0.26898\n",
      "[16]\tvalidation_0-logloss:0.26948\n",
      "[17]\tvalidation_0-logloss:0.25655\n",
      "[17]\tvalidation_0-logloss:0.25705\n",
      "[18]\tvalidation_0-logloss:0.24472\n",
      "[18]\tvalidation_0-logloss:0.24536\n",
      "[19]\tvalidation_0-logloss:0.23368\n",
      "[19]\tvalidation_0-logloss:0.23422\n",
      "[20]\tvalidation_0-logloss:0.22328\n",
      "[20]\tvalidation_0-logloss:0.22381\n",
      "[21]\tvalidation_0-logloss:0.21346\n",
      "[21]\tvalidation_0-logloss:0.21389\n",
      "[22]\tvalidation_0-logloss:0.20417\n",
      "[22]\tvalidation_0-logloss:0.20459\n",
      "[23]\tvalidation_0-logloss:0.19539\n",
      "[23]\tvalidation_0-logloss:0.19578\n",
      "[24]\tvalidation_0-logloss:0.18709\n",
      "[24]\tvalidation_0-logloss:0.18744\n",
      "[25]\tvalidation_0-logloss:0.17921\n",
      "[25]\tvalidation_0-logloss:0.17959\n",
      "[26]\tvalidation_0-logloss:0.17164\n",
      "[26]\tvalidation_0-logloss:0.17199\n",
      "[27]\tvalidation_0-logloss:0.16452\n",
      "[27]\tvalidation_0-logloss:0.16486\n",
      "[28]\tvalidation_0-logloss:0.15775\n",
      "[28]\tvalidation_0-logloss:0.15822\n",
      "[29]\tvalidation_0-logloss:0.15128\n",
      "[29]\tvalidation_0-logloss:0.15188\n",
      "[30]\tvalidation_0-logloss:0.14518\n",
      "[30]\tvalidation_0-logloss:0.14574\n",
      "[31]\tvalidation_0-logloss:0.13938\n",
      "[31]\tvalidation_0-logloss:0.14003\n",
      "[32]\tvalidation_0-logloss:0.13395\n",
      "[32]\tvalidation_0-logloss:0.13455\n",
      "[33]\tvalidation_0-logloss:0.12882\n",
      "[33]\tvalidation_0-logloss:0.12928\n",
      "[34]\tvalidation_0-logloss:0.12393\n",
      "[34]\tvalidation_0-logloss:0.12437\n",
      "[35]\tvalidation_0-logloss:0.11926\n",
      "[35]\tvalidation_0-logloss:0.11968\n",
      "[36]\tvalidation_0-logloss:0.11477\n",
      "[36]\tvalidation_0-logloss:0.11525\n",
      "[37]\tvalidation_0-logloss:0.11053\n",
      "[37]\tvalidation_0-logloss:0.11100\n",
      "[38]\tvalidation_0-logloss:0.10648\n",
      "[38]\tvalidation_0-logloss:0.10700\n",
      "[39]\tvalidation_0-logloss:0.10258\n",
      "[39]\tvalidation_0-logloss:0.10317\n",
      "[40]\tvalidation_0-logloss:0.09896\n",
      "[40]\tvalidation_0-logloss:0.09950\n",
      "[41]\tvalidation_0-logloss:0.09549\n",
      "[41]\tvalidation_0-logloss:0.09606\n",
      "[42]\tvalidation_0-logloss:0.09214\n",
      "[42]\tvalidation_0-logloss:0.09276\n",
      "[43]\tvalidation_0-logloss:0.08902\n",
      "[43]\tvalidation_0-logloss:0.08967\n",
      "[44]\tvalidation_0-logloss:0.08599\n",
      "[44]\tvalidation_0-logloss:0.08667\n",
      "[45]\tvalidation_0-logloss:0.08308\n",
      "[45]\tvalidation_0-logloss:0.08381\n",
      "[46]\tvalidation_0-logloss:0.08031\n",
      "[46]\tvalidation_0-logloss:0.08107\n",
      "[47]\tvalidation_0-logloss:0.07765\n",
      "[47]\tvalidation_0-logloss:0.07850\n",
      "[48]\tvalidation_0-logloss:0.07516\n",
      "[48]\tvalidation_0-logloss:0.07598\n",
      "[49]\tvalidation_0-logloss:0.07279\n",
      "[49]\tvalidation_0-logloss:0.07354\n",
      "[50]\tvalidation_0-logloss:0.07054\n",
      "[50]\tvalidation_0-logloss:0.07125\n",
      "[51]\tvalidation_0-logloss:0.06837\n",
      "[51]\tvalidation_0-logloss:0.06905\n",
      "[52]\tvalidation_0-logloss:0.06632\n",
      "[52]\tvalidation_0-logloss:0.06696\n",
      "[53]\tvalidation_0-logloss:0.06436\n",
      "[53]\tvalidation_0-logloss:0.06494\n",
      "[54]\tvalidation_0-logloss:0.06246\n",
      "[54]\tvalidation_0-logloss:0.06294\n",
      "[55]\tvalidation_0-logloss:0.06067\n",
      "[55]\tvalidation_0-logloss:0.06109\n",
      "[56]\tvalidation_0-logloss:0.05894\n",
      "[56]\tvalidation_0-logloss:0.05929\n",
      "[57]\tvalidation_0-logloss:0.05730\n",
      "[57]\tvalidation_0-logloss:0.05760\n",
      "[58]\tvalidation_0-logloss:0.05567\n",
      "[58]\tvalidation_0-logloss:0.05594\n",
      "[59]\tvalidation_0-logloss:0.05409\n",
      "[59]\tvalidation_0-logloss:0.05433\n",
      "[0]\tvalidation_0-logloss:0.64853\n",
      "[0]\tvalidation_0-logloss:0.64824\n",
      "[1]\tvalidation_0-logloss:0.60814\n",
      "[1]\tvalidation_0-logloss:0.60761\n",
      "[2]\tvalidation_0-logloss:0.57141\n",
      "[2]\tvalidation_0-logloss:0.57068\n",
      "[3]\tvalidation_0-logloss:0.53773\n",
      "[3]\tvalidation_0-logloss:0.53690\n",
      "[4]\tvalidation_0-logloss:0.50677\n",
      "[4]\tvalidation_0-logloss:0.50594\n",
      "[5]\tvalidation_0-logloss:0.47804\n",
      "[5]\tvalidation_0-logloss:0.47722\n",
      "[6]\tvalidation_0-logloss:0.45184\n",
      "[6]\tvalidation_0-logloss:0.45093\n",
      "[7]\tvalidation_0-logloss:0.42732\n",
      "[7]\tvalidation_0-logloss:0.42650\n",
      "[8]\tvalidation_0-logloss:0.40466\n",
      "[8]\tvalidation_0-logloss:0.40395\n",
      "[9]\tvalidation_0-logloss:0.38348\n",
      "[9]\tvalidation_0-logloss:0.38290\n",
      "[10]\tvalidation_0-logloss:0.36386\n",
      "[10]\tvalidation_0-logloss:0.36335\n",
      "[11]\tvalidation_0-logloss:0.34547\n",
      "[11]\tvalidation_0-logloss:0.34482\n",
      "[12]\tvalidation_0-logloss:0.32833\n",
      "[12]\tvalidation_0-logloss:0.32760\n",
      "[13]\tvalidation_0-logloss:0.31225\n",
      "[13]\tvalidation_0-logloss:0.31170\n",
      "[14]\tvalidation_0-logloss:0.29720\n",
      "[14]\tvalidation_0-logloss:0.29656\n",
      "[15]\tvalidation_0-logloss:0.28300\n",
      "[15]\tvalidation_0-logloss:0.28247\n",
      "[16]\tvalidation_0-logloss:0.26983\n",
      "[16]\tvalidation_0-logloss:0.26917\n",
      "[17]\tvalidation_0-logloss:0.25737\n",
      "[17]\tvalidation_0-logloss:0.25661\n",
      "[18]\tvalidation_0-logloss:0.24560\n",
      "[18]\tvalidation_0-logloss:0.24475\n",
      "[19]\tvalidation_0-logloss:0.23460\n",
      "[19]\tvalidation_0-logloss:0.23367\n",
      "[20]\tvalidation_0-logloss:0.22426\n",
      "[20]\tvalidation_0-logloss:0.22329\n",
      "[21]\tvalidation_0-logloss:0.21452\n",
      "[21]\tvalidation_0-logloss:0.21341\n",
      "[22]\tvalidation_0-logloss:0.20520\n",
      "[22]\tvalidation_0-logloss:0.20415\n",
      "[23]\tvalidation_0-logloss:0.19634\n",
      "[23]\tvalidation_0-logloss:0.19534\n",
      "[24]\tvalidation_0-logloss:0.18797\n",
      "[24]\tvalidation_0-logloss:0.18700\n",
      "[25]\tvalidation_0-logloss:0.17996\n",
      "[25]\tvalidation_0-logloss:0.17904\n",
      "[26]\tvalidation_0-logloss:0.17253\n",
      "[26]\tvalidation_0-logloss:0.17144\n",
      "[27]\tvalidation_0-logloss:0.16529\n",
      "[27]\tvalidation_0-logloss:0.16437\n",
      "[28]\tvalidation_0-logloss:0.15862\n",
      "[28]\tvalidation_0-logloss:0.15769\n",
      "[29]\tvalidation_0-logloss:0.15222\n",
      "[29]\tvalidation_0-logloss:0.15120\n",
      "[30]\tvalidation_0-logloss:0.14625\n",
      "[30]\tvalidation_0-logloss:0.14503\n",
      "[31]\tvalidation_0-logloss:0.14045\n",
      "[31]\tvalidation_0-logloss:0.13933\n",
      "[32]\tvalidation_0-logloss:0.13489\n",
      "[32]\tvalidation_0-logloss:0.13395\n",
      "[33]\tvalidation_0-logloss:0.12970\n",
      "[33]\tvalidation_0-logloss:0.12873\n",
      "[34]\tvalidation_0-logloss:0.12477\n",
      "[34]\tvalidation_0-logloss:0.12374\n",
      "[35]\tvalidation_0-logloss:0.12011\n",
      "[35]\tvalidation_0-logloss:0.11902\n",
      "[36]\tvalidation_0-logloss:0.11461\n",
      "[36]\tvalidation_0-logloss:0.11569\n",
      "[37]\tvalidation_0-logloss:0.11143\n",
      "[37]\tvalidation_0-logloss:0.11037\n",
      "[38]\tvalidation_0-logloss:0.10637\n",
      "[38]\tvalidation_0-logloss:0.10737\n",
      "[39]\tvalidation_0-logloss:0.10250\n",
      "[39]\tvalidation_0-logloss:0.10346\n",
      "[40]\tvalidation_0-logloss:0.09879\n",
      "[40]\tvalidation_0-logloss:0.09977\n",
      "[41]\tvalidation_0-logloss:0.09626\n",
      "[41]\tvalidation_0-logloss:0.09528\n",
      "[42]\tvalidation_0-logloss:0.09194\n",
      "[42]\tvalidation_0-logloss:0.09291\n",
      "[43]\tvalidation_0-logloss:0.08874\n",
      "[43]\tvalidation_0-logloss:0.08970\n",
      "[44]\tvalidation_0-logloss:0.08670\n",
      "[44]\tvalidation_0-logloss:0.08568\n",
      "[45]\tvalidation_0-logloss:0.08373\n",
      "[45]\tvalidation_0-logloss:0.08274\n",
      "[46]\tvalidation_0-logloss:0.08093\n",
      "[46]\tvalidation_0-logloss:0.08000\n",
      "[47]\tvalidation_0-logloss:0.07830\n",
      "[47]\tvalidation_0-logloss:0.07743\n",
      "[48]\tvalidation_0-logloss:0.07574\n",
      "[48]\tvalidation_0-logloss:0.07501\n",
      "[49]\tvalidation_0-logloss:0.07336\n",
      "[49]\tvalidation_0-logloss:0.07269\n",
      "[50]\tvalidation_0-logloss:0.07104\n",
      "[50]\tvalidation_0-logloss:0.07042\n",
      "[51]\tvalidation_0-logloss:0.06889\n",
      "[51]\tvalidation_0-logloss:0.06820\n",
      "[52]\tvalidation_0-logloss:0.06673\n",
      "[52]\tvalidation_0-logloss:0.06600\n",
      "[53]\tvalidation_0-logloss:0.06473\n",
      "[53]\tvalidation_0-logloss:0.06409\n",
      "[54]\tvalidation_0-logloss:0.06273\n",
      "[54]\tvalidation_0-logloss:0.06220\n",
      "[55]\tvalidation_0-logloss:0.06095\n",
      "[55]\tvalidation_0-logloss:0.06042\n",
      "[56]\tvalidation_0-logloss:0.05913\n",
      "[56]\tvalidation_0-logloss:0.05870\n",
      "[57]\tvalidation_0-logloss:0.05739\n",
      "[57]\tvalidation_0-logloss:0.05705\n",
      "[58]\tvalidation_0-logloss:0.05573\n",
      "[58]\tvalidation_0-logloss:0.05544\n",
      "[59]\tvalidation_0-logloss:0.05425\n",
      "[59]\tvalidation_0-logloss:0.05387\n",
      "[0]\tvalidation_0-logloss:0.64845\n",
      "[0]\tvalidation_0-logloss:0.64846\n",
      "[1]\tvalidation_0-logloss:0.60794\n",
      "[1]\tvalidation_0-logloss:0.60804\n",
      "[2]\tvalidation_0-logloss:0.57117\n",
      "[2]\tvalidation_0-logloss:0.57116\n",
      "[3]\tvalidation_0-logloss:0.53741\n",
      "[3]\tvalidation_0-logloss:0.53749\n"
     ]
    },
    {
     "name": "stdout",
     "output_type": "stream",
     "text": [
      "[4]\tvalidation_0-logloss:0.50654\n",
      "[4]\tvalidation_0-logloss:0.50671\n",
      "[5]\tvalidation_0-logloss:0.47788\n",
      "[5]\tvalidation_0-logloss:0.47828\n",
      "[6]\tvalidation_0-logloss:0.45157\n",
      "[6]\tvalidation_0-logloss:0.45200\n",
      "[7]\tvalidation_0-logloss:0.42704\n",
      "[7]\tvalidation_0-logloss:0.42758\n",
      "[8]\tvalidation_0-logloss:0.40427\n",
      "[8]\tvalidation_0-logloss:0.40488\n",
      "[9]\tvalidation_0-logloss:0.38316\n",
      "[9]\tvalidation_0-logloss:0.38378\n",
      "[10]\tvalidation_0-logloss:0.36374\n",
      "[10]\tvalidation_0-logloss:0.36419\n",
      "[11]\tvalidation_0-logloss:0.34540\n",
      "[11]\tvalidation_0-logloss:0.34576\n",
      "[12]\tvalidation_0-logloss:0.32820\n",
      "[12]\tvalidation_0-logloss:0.32865\n",
      "[13]\tvalidation_0-logloss:0.31221\n",
      "[13]\tvalidation_0-logloss:0.31253\n",
      "[14]\tvalidation_0-logloss:0.29708\n",
      "[14]\tvalidation_0-logloss:0.29747\n",
      "[15]\tvalidation_0-logloss:0.28279\n",
      "[15]\tvalidation_0-logloss:0.28329\n",
      "[16]\tvalidation_0-logloss:0.26951\n",
      "[16]\tvalidation_0-logloss:0.27006\n",
      "[17]\tvalidation_0-logloss:0.25703\n",
      "[17]\tvalidation_0-logloss:0.25758\n",
      "[18]\tvalidation_0-logloss:0.24587\n",
      "[18]\tvalidation_0-logloss:0.24525\n",
      "[19]\tvalidation_0-logloss:0.23473\n",
      "[19]\tvalidation_0-logloss:0.23425\n",
      "[20]\tvalidation_0-logloss:0.22421\n",
      "[20]\tvalidation_0-logloss:0.22366\n",
      "[21]\tvalidation_0-logloss:0.21384\n",
      "[21]\tvalidation_0-logloss:0.21429\n",
      "[22]\tvalidation_0-logloss:0.20449\n",
      "[22]\tvalidation_0-logloss:0.20493\n",
      "[23]\tvalidation_0-logloss:0.19601\n",
      "[23]\tvalidation_0-logloss:0.19570\n",
      "[24]\tvalidation_0-logloss:0.18771\n",
      "[24]\tvalidation_0-logloss:0.18731\n",
      "[25]\tvalidation_0-logloss:0.17962\n",
      "[25]\tvalidation_0-logloss:0.17945\n",
      "[26]\tvalidation_0-logloss:0.17186\n",
      "[26]\tvalidation_0-logloss:0.17227\n",
      "[27]\tvalidation_0-logloss:0.16480\n",
      "[27]\tvalidation_0-logloss:0.16496\n",
      "[28]\tvalidation_0-logloss:0.15829\n",
      "[28]\tvalidation_0-logloss:0.15814\n",
      "[29]\tvalidation_0-logloss:0.15174\n",
      "[29]\tvalidation_0-logloss:0.15182\n",
      "[30]\tvalidation_0-logloss:0.14563\n",
      "[30]\tvalidation_0-logloss:0.14583\n",
      "[31]\tvalidation_0-logloss:0.13989\n",
      "[31]\tvalidation_0-logloss:0.14007\n",
      "[32]\tvalidation_0-logloss:0.13441\n",
      "[32]\tvalidation_0-logloss:0.13459\n",
      "[33]\tvalidation_0-logloss:0.12911\n",
      "[33]\tvalidation_0-logloss:0.12935\n",
      "[34]\tvalidation_0-logloss:0.12419\n",
      "[34]\tvalidation_0-logloss:0.12446\n",
      "[35]\tvalidation_0-logloss:0.11953\n",
      "[35]\tvalidation_0-logloss:0.11977\n",
      "[36]\tvalidation_0-logloss:0.11507\n",
      "[36]\tvalidation_0-logloss:0.11530\n",
      "[37]\tvalidation_0-logloss:0.11090\n",
      "[37]\tvalidation_0-logloss:0.11109\n",
      "[38]\tvalidation_0-logloss:0.10687\n",
      "[38]\tvalidation_0-logloss:0.10706\n",
      "[39]\tvalidation_0-logloss:0.10311\n",
      "[39]\tvalidation_0-logloss:0.10317\n",
      "[40]\tvalidation_0-logloss:0.09943\n",
      "[40]\tvalidation_0-logloss:0.09957\n",
      "[41]\tvalidation_0-logloss:0.09586\n",
      "[41]\tvalidation_0-logloss:0.09606\n",
      "[42]\tvalidation_0-logloss:0.09246\n",
      "[42]\tvalidation_0-logloss:0.09273\n",
      "[43]\tvalidation_0-logloss:0.08929\n",
      "[43]\tvalidation_0-logloss:0.08956\n",
      "[44]\tvalidation_0-logloss:0.08626\n",
      "[44]\tvalidation_0-logloss:0.08653\n",
      "[45]\tvalidation_0-logloss:0.08330\n",
      "[45]\tvalidation_0-logloss:0.08363\n",
      "[46]\tvalidation_0-logloss:0.08057\n",
      "[46]\tvalidation_0-logloss:0.08085\n",
      "[47]\tvalidation_0-logloss:0.07787\n",
      "[47]\tvalidation_0-logloss:0.07828\n",
      "[48]\tvalidation_0-logloss:0.07544\n",
      "[48]\tvalidation_0-logloss:0.07583\n",
      "[49]\tvalidation_0-logloss:0.07343\n",
      "[49]\tvalidation_0-logloss:0.07297\n",
      "[50]\tvalidation_0-logloss:0.07122\n",
      "[50]\tvalidation_0-logloss:0.07067\n",
      "[51]\tvalidation_0-logloss:0.06907\n",
      "[51]\tvalidation_0-logloss:0.06849\n",
      "[52]\tvalidation_0-logloss:0.06700\n",
      "[52]\tvalidation_0-logloss:0.06635\n",
      "[53]\tvalidation_0-logloss:0.06501\n",
      "[53]\tvalidation_0-logloss:0.06432\n",
      "[54]\tvalidation_0-logloss:0.06237\n",
      "[54]\tvalidation_0-logloss:0.06310\n",
      "[55]\tvalidation_0-logloss:0.06054\n",
      "[55]\tvalidation_0-logloss:0.06119\n",
      "[56]\tvalidation_0-logloss:0.05879\n",
      "[56]\tvalidation_0-logloss:0.05946\n",
      "[57]\tvalidation_0-logloss:0.05707\n",
      "[57]\tvalidation_0-logloss:0.05775\n",
      "[58]\tvalidation_0-logloss:0.05545\n",
      "[58]\tvalidation_0-logloss:0.05611\n",
      "[59]\tvalidation_0-logloss:0.05391\n",
      "[59]\tvalidation_0-logloss:0.05463\n",
      "[0]\tvalidation_0-logloss:0.64834\n",
      "[1]\tvalidation_0-logloss:0.60762\n",
      "[2]\tvalidation_0-logloss:0.57068\n",
      "[3]\tvalidation_0-logloss:0.53679\n",
      "[4]\tvalidation_0-logloss:0.50557\n",
      "[5]\tvalidation_0-logloss:0.47695\n",
      "[6]\tvalidation_0-logloss:0.45058\n",
      "[7]\tvalidation_0-logloss:0.42597\n",
      "[8]\tvalidation_0-logloss:0.40334\n",
      "[9]\tvalidation_0-logloss:0.38220\n",
      "[10]\tvalidation_0-logloss:0.36242\n",
      "[11]\tvalidation_0-logloss:0.34386\n",
      "[12]\tvalidation_0-logloss:0.32661\n",
      "[13]\tvalidation_0-logloss:0.31051\n",
      "[14]\tvalidation_0-logloss:0.29532\n",
      "[15]\tvalidation_0-logloss:0.28119\n",
      "[16]\tvalidation_0-logloss:0.26776\n",
      "[17]\tvalidation_0-logloss:0.25532\n",
      "[18]\tvalidation_0-logloss:0.24349\n",
      "[19]\tvalidation_0-logloss:0.23236\n",
      "[20]\tvalidation_0-logloss:0.22187\n",
      "[21]\tvalidation_0-logloss:0.21192\n",
      "[22]\tvalidation_0-logloss:0.20252\n",
      "[23]\tvalidation_0-logloss:0.19344\n",
      "[24]\tvalidation_0-logloss:0.18509\n",
      "[25]\tvalidation_0-logloss:0.17708\n",
      "[26]\tvalidation_0-logloss:0.16959\n",
      "[27]\tvalidation_0-logloss:0.16244\n",
      "[28]\tvalidation_0-logloss:0.15547\n",
      "[29]\tvalidation_0-logloss:0.14905\n",
      "[30]\tvalidation_0-logloss:0.14293\n",
      "[31]\tvalidation_0-logloss:0.13714\n",
      "[32]\tvalidation_0-logloss:0.13156\n",
      "[33]\tvalidation_0-logloss:0.12631\n",
      "[34]\tvalidation_0-logloss:0.12138\n",
      "[35]\tvalidation_0-logloss:0.11664\n",
      "[36]\tvalidation_0-logloss:0.11217\n",
      "[37]\tvalidation_0-logloss:0.10788\n",
      "[38]\tvalidation_0-logloss:0.10375\n",
      "[39]\tvalidation_0-logloss:0.09988\n",
      "[40]\tvalidation_0-logloss:0.09612\n",
      "[41]\tvalidation_0-logloss:0.09248\n",
      "[42]\tvalidation_0-logloss:0.08907\n",
      "[43]\tvalidation_0-logloss:0.08575\n",
      "[44]\tvalidation_0-logloss:0.08266\n",
      "[45]\tvalidation_0-logloss:0.07964\n",
      "[46]\tvalidation_0-logloss:0.07688\n",
      "[47]\tvalidation_0-logloss:0.07426\n",
      "[48]\tvalidation_0-logloss:0.07175\n",
      "[49]\tvalidation_0-logloss:0.06927\n",
      "[50]\tvalidation_0-logloss:0.06697\n",
      "[51]\tvalidation_0-logloss:0.06470\n",
      "[52]\tvalidation_0-logloss:0.06265\n",
      "[53]\tvalidation_0-logloss:0.06054\n",
      "[54]\tvalidation_0-logloss:0.05858\n",
      "[55]\tvalidation_0-logloss:0.05669\n",
      "[56]\tvalidation_0-logloss:0.05484\n",
      "[57]\tvalidation_0-logloss:0.05310\n",
      "[58]\tvalidation_0-logloss:0.05143\n",
      "[59]\tvalidation_0-logloss:0.04988\n"
     ]
    },
    {
     "data": {
      "text/plain": [
       "GridSearchCV(cv=StratifiedKFold(n_splits=10, random_state=58, shuffle=True),\n",
       "             estimator=XGBClassifier(base_score=None, booster=None,\n",
       "                                     colsample_bylevel=None,\n",
       "                                     colsample_bynode=None,\n",
       "                                     colsample_bytree=None,\n",
       "                                     enable_categorical=False,\n",
       "                                     eval_metric='logloss', gamma=None,\n",
       "                                     gpu_id=None, importance_type=None,\n",
       "                                     interaction_constraints=None,\n",
       "                                     learning_rate=None, max_delta_step=No...\n",
       "                                     missing=nan, monotone_constraints=None,\n",
       "                                     n_estimators=100, n_jobs=None, nthread=4,\n",
       "                                     num_parallel_tree=None, predictor=None,\n",
       "                                     random_state=None, reg_alpha=None,\n",
       "                                     reg_lambda=None, scale_pos_weight=None,\n",
       "                                     seed=42, subsample=None, tree_method=None,\n",
       "                                     use_label_encoder=False, ...),\n",
       "             n_jobs=2,\n",
       "             param_grid={'learning_rate': [0.05], 'max_depth': [15],\n",
       "                         'n_estimators': [60]},\n",
       "             verbose=True)"
      ]
     },
     "execution_count": 94,
     "metadata": {},
     "output_type": "execute_result"
    }
   ],
   "source": [
    "from xgboost import XGBClassifier\n",
    "from sklearn.model_selection import GridSearchCV\n",
    "estimator = XGBClassifier(\n",
    "    nthread=4,\n",
    "    seed=42,\n",
    "    use_label_encoder = False,\n",
    "    eval_metric='logloss'\n",
    ")\n",
    "parameters = {\n",
    "   'max_depth': [15],\n",
    "    'n_estimators': [60],\n",
    "    'learning_rate': [0.05],\n",
    "    \n",
    "    \n",
    "}\n",
    "fit_params = {\n",
    "'eval_set': [(X_imp_scaled,y)]\n",
    "}\n",
    "grid_search = GridSearchCV(\n",
    "    estimator=estimator,\n",
    "    param_grid=parameters,\n",
    "    n_jobs = 2,\n",
    "    cv = cv_grid,\n",
    "    verbose=True,\n",
    "    \n",
    ")\n",
    "grid_search.fit(X_imp_scaled, y, **fit_params, early_stopping_rounds = 50)"
   ]
  },
  {
   "cell_type": "code",
   "execution_count": 95,
   "metadata": {},
   "outputs": [
    {
     "data": {
      "text/plain": [
       "XGBClassifier(base_score=0.5, booster='gbtree', colsample_bylevel=1,\n",
       "              colsample_bynode=1, colsample_bytree=1, enable_categorical=False,\n",
       "              eval_metric='logloss', gamma=0, gpu_id=-1, importance_type=None,\n",
       "              interaction_constraints='', learning_rate=0.05, max_delta_step=0,\n",
       "              max_depth=15, min_child_weight=1, missing=nan,\n",
       "              monotone_constraints='()', n_estimators=60, n_jobs=4, nthread=4,\n",
       "              num_parallel_tree=1, predictor='auto', random_state=42,\n",
       "              reg_alpha=0, reg_lambda=1, scale_pos_weight=1, seed=42,\n",
       "              subsample=1, tree_method='exact', use_label_encoder=False, ...)"
      ]
     },
     "execution_count": 95,
     "metadata": {},
     "output_type": "execute_result"
    }
   ],
   "source": [
    "grid_search.best_estimator_"
   ]
  },
  {
   "cell_type": "code",
   "execution_count": 96,
   "metadata": {},
   "outputs": [],
   "source": [
    "from sklearn.model_selection import cross_val_predict\n",
    "from sklearn.metrics import confusion_matrix\n",
    "y_pred_xgb = cross_val_predict(grid_search.best_estimator_, X_imp_scaled, y, cv=cv_grid, n_jobs=2)"
   ]
  },
  {
   "cell_type": "code",
   "execution_count": null,
   "metadata": {},
   "outputs": [],
   "source": [
    "grid_search.best_estimator_"
   ]
  },
  {
   "cell_type": "code",
   "execution_count": 100,
   "metadata": {},
   "outputs": [
    {
     "data": {
      "text/plain": [
       "array([[41238,    76],\n",
       "       [ 1073,  1018]])"
      ]
     },
     "execution_count": 100,
     "metadata": {},
     "output_type": "execute_result"
    }
   ],
   "source": [
    "conf_mat_xgb"
   ]
  },
  {
   "cell_type": "code",
   "execution_count": 98,
   "metadata": {},
   "outputs": [
    {
     "name": "stdout",
     "output_type": "stream",
     "text": [
      "              precision    recall  f1-score   support\n",
      "\n",
      "           0   0.974640  0.998160  0.986260     41314\n",
      "           1   0.930530  0.486848  0.639246      2091\n",
      "\n",
      "    accuracy                       0.973528     43405\n",
      "   macro avg   0.952585  0.742504  0.812753     43405\n",
      "weighted avg   0.972515  0.973528  0.969543     43405\n",
      "\n"
     ]
    }
   ],
   "source": [
    "print(cl_report_xgb)"
   ]
  },
  {
   "cell_type": "code",
   "execution_count": 97,
   "metadata": {},
   "outputs": [],
   "source": [
    "conf_mat_xgb = confusion_matrix(y, y_pred_xgb)\n",
    "cl_report_xgb = classification_report(y, y_pred_xgb, digits=6)"
   ]
  },
  {
   "cell_type": "code",
   "execution_count": 101,
   "metadata": {},
   "outputs": [],
   "source": [
    "best_xgb = grid_search.best_estimator_"
   ]
  },
  {
   "cell_type": "code",
   "execution_count": 104,
   "metadata": {},
   "outputs": [
    {
     "data": {
      "text/plain": [
       "['Attr1',\n",
       " 'Attr2',\n",
       " 'Attr3',\n",
       " 'Attr4',\n",
       " 'Attr5',\n",
       " 'Attr6',\n",
       " 'Attr7',\n",
       " 'Attr8',\n",
       " 'Attr9',\n",
       " 'Attr10',\n",
       " 'Attr11',\n",
       " 'Attr12',\n",
       " 'Attr13',\n",
       " 'Attr14',\n",
       " 'Attr15',\n",
       " 'Attr16',\n",
       " 'Attr17',\n",
       " 'Attr18',\n",
       " 'Attr19',\n",
       " 'Attr20',\n",
       " 'Attr21',\n",
       " 'Attr22',\n",
       " 'Attr23',\n",
       " 'Attr24',\n",
       " 'Attr25',\n",
       " 'Attr26',\n",
       " 'Attr27',\n",
       " 'Attr28',\n",
       " 'Attr29',\n",
       " 'Attr30',\n",
       " 'Attr31',\n",
       " 'Attr32',\n",
       " 'Attr33',\n",
       " 'Attr34',\n",
       " 'Attr35',\n",
       " 'Attr36',\n",
       " 'Attr37',\n",
       " 'Attr38',\n",
       " 'Attr39',\n",
       " 'Attr40',\n",
       " 'Attr41',\n",
       " 'Attr42',\n",
       " 'Attr43',\n",
       " 'Attr44',\n",
       " 'Attr45',\n",
       " 'Attr46',\n",
       " 'Attr47',\n",
       " 'Attr48',\n",
       " 'Attr49',\n",
       " 'Attr50',\n",
       " 'Attr51',\n",
       " 'Attr52',\n",
       " 'Attr53',\n",
       " 'Attr54',\n",
       " 'Attr55',\n",
       " 'Attr56',\n",
       " 'Attr57',\n",
       " 'Attr58',\n",
       " 'Attr59',\n",
       " 'Attr60',\n",
       " 'Attr61',\n",
       " 'Attr62',\n",
       " 'Attr63',\n",
       " 'Attr64']"
      ]
     },
     "execution_count": 104,
     "metadata": {},
     "output_type": "execute_result"
    }
   ],
   "source": [
    "X_imp_scaled_df.columns.tolist()"
   ]
  },
  {
   "cell_type": "code",
   "execution_count": 106,
   "metadata": {},
   "outputs": [
    {
     "name": "stdout",
     "output_type": "stream",
     "text": [
      "Features sorted by their score for estimator 0:\n",
      "        importance\n",
      "Attr34    0.102720\n",
      "Attr56    0.076445\n",
      "Attr27    0.042672\n",
      "Attr26    0.038749\n",
      "Attr5     0.030192\n",
      "...            ...\n",
      "Attr57    0.007119\n",
      "Attr15    0.007006\n",
      "Attr59    0.006467\n",
      "Attr8     0.005911\n",
      "Attr18    0.000000\n",
      "\n",
      "[64 rows x 1 columns]\n",
      "Features sorted by their score for estimator 1:\n",
      "        importance\n",
      "Attr34    0.108840\n",
      "Attr56    0.084191\n",
      "Attr27    0.046536\n",
      "Attr26    0.038279\n",
      "Attr5     0.032844\n",
      "...            ...\n",
      "Attr57    0.006847\n",
      "Attr59    0.006166\n",
      "Attr8     0.005185\n",
      "Attr14    0.003900\n",
      "Attr18    0.000000\n",
      "\n",
      "[64 rows x 1 columns]\n",
      "Features sorted by their score for estimator 2:\n",
      "        importance\n",
      "Attr34    0.105388\n",
      "Attr56    0.052822\n",
      "Attr27    0.044831\n",
      "Attr26    0.037038\n",
      "Attr58    0.031304\n",
      "...            ...\n",
      "Attr57    0.006282\n",
      "Attr8     0.005949\n",
      "Attr59    0.005698\n",
      "Attr18    0.004621\n",
      "Attr14    0.000000\n",
      "\n",
      "[64 rows x 1 columns]\n",
      "Features sorted by their score for estimator 3:\n",
      "        importance\n",
      "Attr34    0.112220\n",
      "Attr27    0.044998\n",
      "Attr35    0.039527\n",
      "Attr56    0.037472\n",
      "Attr58    0.036255\n",
      "...            ...\n",
      "Attr15    0.007284\n",
      "Attr17    0.007095\n",
      "Attr59    0.006293\n",
      "Attr18    0.000886\n",
      "Attr14    0.000000\n",
      "\n",
      "[64 rows x 1 columns]\n",
      "Features sorted by their score for estimator 4:\n",
      "        importance\n",
      "Attr34    0.104832\n",
      "Attr56    0.057728\n",
      "Attr27    0.045522\n",
      "Attr26    0.037833\n",
      "Attr5     0.033201\n",
      "...            ...\n",
      "Attr57    0.007201\n",
      "Attr8     0.007078\n",
      "Attr59    0.005781\n",
      "Attr18    0.000000\n",
      "Attr14    0.000000\n",
      "\n",
      "[64 rows x 1 columns]\n",
      "Features sorted by their score for estimator 5:\n",
      "        importance\n",
      "Attr34    0.110202\n",
      "Attr56    0.049459\n",
      "Attr27    0.046449\n",
      "Attr26    0.038854\n",
      "Attr58    0.032544\n",
      "...            ...\n",
      "Attr57    0.006734\n",
      "Attr59    0.006504\n",
      "Attr8     0.006452\n",
      "Attr18    0.000000\n",
      "Attr14    0.000000\n",
      "\n",
      "[64 rows x 1 columns]\n",
      "Features sorted by their score for estimator 6:\n",
      "        importance\n",
      "Attr34    0.107856\n",
      "Attr56    0.072617\n",
      "Attr27    0.046390\n",
      "Attr5     0.030841\n",
      "Attr26    0.029646\n",
      "...            ...\n",
      "Attr15    0.006851\n",
      "Attr63    0.006614\n",
      "Attr37    0.006188\n",
      "Attr8     0.004999\n",
      "Attr18    0.000000\n",
      "\n",
      "[64 rows x 1 columns]\n",
      "Features sorted by their score for estimator 7:\n",
      "        importance\n",
      "Attr34    0.112785\n",
      "Attr56    0.054890\n",
      "Attr27    0.049904\n",
      "Attr39    0.035252\n",
      "Attr5     0.031362\n",
      "...            ...\n",
      "Attr57    0.007225\n",
      "Attr59    0.005757\n",
      "Attr8     0.005146\n",
      "Attr18    0.000000\n",
      "Attr14    0.000000\n",
      "\n",
      "[64 rows x 1 columns]\n",
      "Features sorted by their score for estimator 8:\n",
      "        importance\n",
      "Attr34    0.104560\n",
      "Attr56    0.045896\n",
      "Attr27    0.041746\n",
      "Attr26    0.031785\n",
      "Attr19    0.031319\n",
      "...            ...\n",
      "Attr59    0.007049\n",
      "Attr52    0.005848\n",
      "Attr8     0.004381\n",
      "Attr14    0.000000\n",
      "Attr18    0.000000\n",
      "\n",
      "[64 rows x 1 columns]\n",
      "Features sorted by their score for estimator 9:\n",
      "        importance\n",
      "Attr34    0.109162\n",
      "Attr56    0.059389\n",
      "Attr27    0.047966\n",
      "Attr35    0.038602\n",
      "Attr5     0.032744\n",
      "...            ...\n",
      "Attr15    0.007201\n",
      "Attr59    0.007040\n",
      "Attr57    0.007013\n",
      "Attr8     0.004785\n",
      "Attr14    0.000356\n",
      "\n",
      "[64 rows x 1 columns]\n"
     ]
    }
   ],
   "source": [
    "from sklearn.model_selection import cross_validate\n",
    "output = cross_validate(best_xgb, X_imp_scaled, y, cv=cv_grid, return_estimator =True)\n",
    "\n",
    "for idx,estimator in enumerate(output['estimator']):\n",
    "    print(\"Features sorted by their score for estimator {}:\".format(idx))\n",
    "    feature_importances = pd.DataFrame(estimator.feature_importances_,\n",
    "                                       index = X_imp_scaled_df.columns.tolist(),\n",
    "                                        columns=['importance']).sort_values('importance', ascending=False)\n",
    "    print(feature_importances)\n"
   ]
  },
  {
   "cell_type": "code",
   "execution_count": 107,
   "metadata": {},
   "outputs": [
    {
     "data": {
      "text/html": [
       "<div>\n",
       "<style scoped>\n",
       "    .dataframe tbody tr th:only-of-type {\n",
       "        vertical-align: middle;\n",
       "    }\n",
       "\n",
       "    .dataframe tbody tr th {\n",
       "        vertical-align: top;\n",
       "    }\n",
       "\n",
       "    .dataframe thead th {\n",
       "        text-align: right;\n",
       "    }\n",
       "</style>\n",
       "<table border=\"1\" class=\"dataframe\">\n",
       "  <thead>\n",
       "    <tr style=\"text-align: right;\">\n",
       "      <th></th>\n",
       "      <th>importance</th>\n",
       "    </tr>\n",
       "  </thead>\n",
       "  <tbody>\n",
       "    <tr>\n",
       "      <th>Attr34</th>\n",
       "      <td>0.109162</td>\n",
       "    </tr>\n",
       "    <tr>\n",
       "      <th>Attr56</th>\n",
       "      <td>0.059389</td>\n",
       "    </tr>\n",
       "    <tr>\n",
       "      <th>Attr27</th>\n",
       "      <td>0.047966</td>\n",
       "    </tr>\n",
       "    <tr>\n",
       "      <th>Attr35</th>\n",
       "      <td>0.038602</td>\n",
       "    </tr>\n",
       "    <tr>\n",
       "      <th>Attr5</th>\n",
       "      <td>0.032744</td>\n",
       "    </tr>\n",
       "    <tr>\n",
       "      <th>...</th>\n",
       "      <td>...</td>\n",
       "    </tr>\n",
       "    <tr>\n",
       "      <th>Attr15</th>\n",
       "      <td>0.007201</td>\n",
       "    </tr>\n",
       "    <tr>\n",
       "      <th>Attr59</th>\n",
       "      <td>0.007040</td>\n",
       "    </tr>\n",
       "    <tr>\n",
       "      <th>Attr57</th>\n",
       "      <td>0.007013</td>\n",
       "    </tr>\n",
       "    <tr>\n",
       "      <th>Attr8</th>\n",
       "      <td>0.004785</td>\n",
       "    </tr>\n",
       "    <tr>\n",
       "      <th>Attr14</th>\n",
       "      <td>0.000356</td>\n",
       "    </tr>\n",
       "  </tbody>\n",
       "</table>\n",
       "<p>64 rows × 1 columns</p>\n",
       "</div>"
      ],
      "text/plain": [
       "        importance\n",
       "Attr34    0.109162\n",
       "Attr56    0.059389\n",
       "Attr27    0.047966\n",
       "Attr35    0.038602\n",
       "Attr5     0.032744\n",
       "...            ...\n",
       "Attr15    0.007201\n",
       "Attr59    0.007040\n",
       "Attr57    0.007013\n",
       "Attr8     0.004785\n",
       "Attr14    0.000356\n",
       "\n",
       "[64 rows x 1 columns]"
      ]
     },
     "execution_count": 107,
     "metadata": {},
     "output_type": "execute_result"
    }
   ],
   "source": [
    "feature_importances"
   ]
  },
  {
   "cell_type": "code",
   "execution_count": null,
   "metadata": {},
   "outputs": [],
   "source": []
  }
 ],
 "metadata": {
  "kernelspec": {
   "display_name": "Python 3 (ipykernel)",
   "language": "python",
   "name": "python3"
  },
  "language_info": {
   "codemirror_mode": {
    "name": "ipython",
    "version": 3
   },
   "file_extension": ".py",
   "mimetype": "text/x-python",
   "name": "python",
   "nbconvert_exporter": "python",
   "pygments_lexer": "ipython3",
   "version": "3.9.7"
  },
  "vscode": {
   "interpreter": {
    "hash": "d5e22e80c5a5049300fcd1222e380e7a80cada809ed3c1dbd59a10e881ec2acb"
   }
  }
 },
 "nbformat": 4,
 "nbformat_minor": 2
}
